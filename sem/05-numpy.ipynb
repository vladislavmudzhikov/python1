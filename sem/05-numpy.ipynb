{
  "cells": [
    {
      "cell_type": "markdown",
      "metadata": {
        "id": "mZOzGHuPwr4v"
      },
      "source": [
        "# `Практикум по программированию на языке Python`\n",
        "<br>\n",
        "\n",
        "## `Numpy и матрично-векторные вычисления`\n",
        "\n",
        "## `Роман Ищенко (roman.ischenko@gmail.com)`\n",
        "\n",
        "#### `Москва, 2023`"
      ]
    },
    {
      "cell_type": "markdown",
      "metadata": {
        "id": "GaGh9SZ_wr4w"
      },
      "source": [
        "О чём можно узнать из этого ноутбука:\n",
        "\n",
        "* операции при работе с массивами\n",
        "* многомерные массивы\n",
        "* изменение размеров массивов\n",
        "* broadcasting\n",
        "* продвинутая индексация\n",
        "* view и копирование\n",
        "* свёртка\n",
        "* разные прикладные задачи"
      ]
    },
    {
      "cell_type": "code",
      "execution_count": 1,
      "metadata": {
        "ExecuteTime": {
          "end_time": "2022-09-22T08:00:48.254252Z",
          "start_time": "2022-09-22T08:00:48.244253Z"
        },
        "id": "Uw8BOvbawr4x"
      },
      "outputs": [],
      "source": [
        "import warnings\n",
        "warnings.filterwarnings('ignore')"
      ]
    },
    {
      "cell_type": "markdown",
      "metadata": {
        "id": "_vWCVV6Swr4x"
      },
      "source": [
        "### `Представление матрицы в Python`\n",
        "\n",
        "Простейший вариант - список списков:"
      ]
    },
    {
      "cell_type": "code",
      "execution_count": 2,
      "metadata": {
        "ExecuteTime": {
          "end_time": "2022-09-22T08:00:48.538438Z",
          "start_time": "2022-09-22T08:00:48.524440Z"
        },
        "colab": {
          "base_uri": "https://localhost:8080/"
        },
        "id": "GVZ23sY-wr4x",
        "outputId": "522cc700-cf56-4efb-b4a4-55ba021694fa"
      },
      "outputs": [
        {
          "name": "stdout",
          "output_type": "stream",
          "text": [
            "[1, 2, 3]\n",
            "[4, 5, 6]\n",
            "[7, 8, 9]\n",
            "\n",
            "[1, 0, 0]\n",
            "[0, 2, 0]\n",
            "[0, 0, 3]\n",
            "\n"
          ]
        }
      ],
      "source": [
        "A = [\n",
        "    [1, 2, 3],\n",
        "    [4, 5, 6],\n",
        "    [7, 8, 9],\n",
        "]\n",
        "\n",
        "B = [\n",
        "    [1, 0, 0],\n",
        "    [0, 2, 0],\n",
        "    [0, 0, 3],\n",
        "]\n",
        "\n",
        "def print_matrix(A):\n",
        "    for row in A:\n",
        "        print(row)\n",
        "    print()\n",
        "\n",
        "print_matrix(A)\n",
        "print_matrix(B)"
      ]
    },
    {
      "cell_type": "markdown",
      "metadata": {
        "id": "dKv37qo0wr4y"
      },
      "source": [
        "### `Представление матрицы в Python`"
      ]
    },
    {
      "cell_type": "markdown",
      "metadata": {
        "id": "vPiP2TIzwr4y"
      },
      "source": [
        "<font color='brown'>**Задача 1.** Задайте матрицу `C` размером $9$ на $10$, в которой $ij$-ый элемент будет равен $10 i + j$. Не используйте библиотеку `numpy`!</font>"
      ]
    },
    {
      "cell_type": "code",
      "execution_count": 3,
      "metadata": {
        "ExecuteTime": {
          "end_time": "2022-09-22T08:00:48.980437Z",
          "start_time": "2022-09-22T08:00:48.972436Z"
        },
        "id": "YwPfAfMawr4y"
      },
      "outputs": [],
      "source": [
        "### your code here\n",
        "C = []\n",
        "for idx in range(9):\n",
        "    C.append([])\n",
        "    for jdx in range(10):\n",
        "        C[-1].append(10 * idx + jdx)"
      ]
    },
    {
      "cell_type": "markdown",
      "metadata": {
        "id": "NChglwqowr4y"
      },
      "source": [
        "Проверьте себя:"
      ]
    },
    {
      "cell_type": "code",
      "execution_count": 4,
      "metadata": {
        "ExecuteTime": {
          "end_time": "2022-09-22T07:34:44.917671Z",
          "start_time": "2022-09-22T07:34:44.901672Z"
        },
        "colab": {
          "base_uri": "https://localhost:8080/"
        },
        "deletable": false,
        "editable": false,
        "id": "bpPz0gYOwr4y",
        "outputId": "d81dfd1d-dfae-4148-c14c-e1f2e4ea589b",
        "run_control": {
          "frozen": true
        }
      },
      "outputs": [
        {
          "name": "stdout",
          "output_type": "stream",
          "text": [
            "[0, 1, 2, 3, 4, 5, 6, 7, 8, 9]\n",
            "[10, 11, 12, 13, 14, 15, 16, 17, 18, 19]\n",
            "[20, 21, 22, 23, 24, 25, 26, 27, 28, 29]\n",
            "[30, 31, 32, 33, 34, 35, 36, 37, 38, 39]\n",
            "[40, 41, 42, 43, 44, 45, 46, 47, 48, 49]\n",
            "[50, 51, 52, 53, 54, 55, 56, 57, 58, 59]\n",
            "[60, 61, 62, 63, 64, 65, 66, 67, 68, 69]\n",
            "[70, 71, 72, 73, 74, 75, 76, 77, 78, 79]\n",
            "[80, 81, 82, 83, 84, 85, 86, 87, 88, 89]\n",
            "\n"
          ]
        }
      ],
      "source": [
        "assert len(C) == 9\n",
        "assert len(C[0]) == 10\n",
        "assert C[8][3] == 83\n",
        "\n",
        "print_matrix(C)"
      ]
    },
    {
      "cell_type": "markdown",
      "metadata": {
        "id": "8FB9MFXOwr4z"
      },
      "source": [
        "### `Представление матрицы в Python`"
      ]
    },
    {
      "cell_type": "markdown",
      "metadata": {
        "id": "e2Jit5kAwr4z"
      },
      "source": [
        "Одна из проблем списков — отсутствие поэлементных и матричных операций.\n",
        "\n",
        "Другой недостаток — работа со списками не позволяет использовать векторные инструкции в процессоре, которые на порядки ускоряют матричные вычисления"
      ]
    },
    {
      "cell_type": "markdown",
      "metadata": {
        "id": "ojyJOPxNwr4z"
      },
      "source": [
        "Попробуем самостоятельно реализовать несколько методов для матричных вычислений, работающих с представлением матриц в виде списков.\n",
        "\n",
        "Для оценки производительности будем использовать *декооратор* `timed`:"
      ]
    },
    {
      "cell_type": "code",
      "execution_count": 5,
      "metadata": {
        "ExecuteTime": {
          "end_time": "2022-09-22T08:00:50.167484Z",
          "start_time": "2022-09-22T08:00:50.156486Z"
        },
        "id": "HTk6t_kCwr4z"
      },
      "outputs": [],
      "source": [
        "def timed(method):\n",
        "    import time\n",
        "    def __timed(*args, **kw):\n",
        "        time_start = time.time()\n",
        "        result = method(*args, **kw)\n",
        "        time_end = time.time()\n",
        "\n",
        "        print('{}  {:.3f} ms\\n'.format(method.__name__,\n",
        "                                      (time_end - time_start) * 1000))\n",
        "        return result\n",
        "\n",
        "    return __timed"
      ]
    },
    {
      "cell_type": "markdown",
      "metadata": {
        "id": "473o8z9Cwr4z"
      },
      "source": [
        "### `Опишем базовые операции: сложение`"
      ]
    },
    {
      "cell_type": "code",
      "execution_count": 7,
      "metadata": {
        "ExecuteTime": {
          "end_time": "2022-09-22T08:00:50.494747Z",
          "start_time": "2022-09-22T08:00:50.484748Z"
        },
        "colab": {
          "base_uri": "https://localhost:8080/"
        },
        "id": "3cncedaAwr4z",
        "outputId": "c65c76ed-d108-4ad0-fdf2-0b57c16f1e61"
      },
      "outputs": [
        {
          "name": "stdout",
          "output_type": "stream",
          "text": [
            "matrix_add  0.013 ms\n",
            "\n",
            "[2, 2, 3]\n",
            "[4, 7, 6]\n",
            "[7, 8, 12]\n",
            "\n"
          ]
        }
      ],
      "source": [
        "@timed\n",
        "def matrix_add(A, B):\n",
        "    # skip correctness of dimensions check\n",
        "\n",
        "    n, m = len(A), len(A[0])\n",
        "    C = [[0.0 for _ in range(m)] for _ in range(n)]\n",
        "\n",
        "    for i in range(n):\n",
        "        for j in range(m):\n",
        "            C[i][j] = A[i][j] + B[i][j]\n",
        "    return C\n",
        "\n",
        "print_matrix(matrix_add(A, B))"
      ]
    },
    {
      "cell_type": "markdown",
      "metadata": {
        "id": "gdqjbjMowr4z"
      },
      "source": [
        "### `Опишем базовые операции: транспонирование`"
      ]
    },
    {
      "cell_type": "code",
      "execution_count": 8,
      "metadata": {
        "ExecuteTime": {
          "end_time": "2022-09-22T08:00:50.795422Z",
          "start_time": "2022-09-22T08:00:50.780423Z"
        },
        "colab": {
          "base_uri": "https://localhost:8080/"
        },
        "id": "OiLdjm5pwr4z",
        "outputId": "b5eb1fc8-3a3d-4223-e45d-e2a530a7d6f2"
      },
      "outputs": [
        {
          "name": "stdout",
          "output_type": "stream",
          "text": [
            "matrix_transpose  0.012 ms\n",
            "\n",
            "[1, 4, 7]\n",
            "[2, 5, 8]\n",
            "[3, 6, 9]\n",
            "\n"
          ]
        }
      ],
      "source": [
        "@timed\n",
        "def matrix_transpose(A):\n",
        "    n, m = len(A), len(A[0])\n",
        "    C = [[0.0 for _ in range(n)] for _ in range(m)]\n",
        "\n",
        "    for i in range(n):\n",
        "        for j in range(m):\n",
        "            C[j][i] = A[i][j]\n",
        "    return C\n",
        "\n",
        "print_matrix(matrix_transpose(A))"
      ]
    },
    {
      "cell_type": "markdown",
      "metadata": {
        "id": "xowumGI7wr40"
      },
      "source": [
        "### `Опишем базовые операции: умножение`"
      ]
    },
    {
      "cell_type": "code",
      "execution_count": 9,
      "metadata": {
        "ExecuteTime": {
          "end_time": "2022-09-22T08:00:51.093622Z",
          "start_time": "2022-09-22T08:00:51.084622Z"
        },
        "colab": {
          "base_uri": "https://localhost:8080/"
        },
        "id": "EQBK4OQEwr40",
        "outputId": "13bedaa6-0c7d-4ae4-b9a4-a765e02ddb2a"
      },
      "outputs": [
        {
          "name": "stdout",
          "output_type": "stream",
          "text": [
            "matrix_transpose  0.009 ms\n",
            "\n",
            "matrix_mul  1.176 ms\n",
            "\n",
            "[1, 4, 9]\n",
            "[4, 10, 18]\n",
            "[7, 16, 27]\n",
            "\n"
          ]
        }
      ],
      "source": [
        "def dot(a, b):\n",
        "    return sum(x * y for (x, y) in zip(a, b))\n",
        "\n",
        "@timed\n",
        "def matrix_mul(A, B):\n",
        "    # check correctness of dimensions\n",
        "    n, m = len(A), len(B[0])\n",
        "    C = [[0.0 for _ in range(n)] for _ in range(m)]\n",
        "\n",
        "    B_T = matrix_transpose(B)\n",
        "    for i in range(n):\n",
        "        for j in range(m):\n",
        "            C[i][j] = dot(A[i], B_T[j])\n",
        "    return C\n",
        "\n",
        "print_matrix(matrix_mul(A, B))"
      ]
    },
    {
      "cell_type": "markdown",
      "metadata": {
        "id": "hESzT5BAwr40"
      },
      "source": [
        "### `Библиотека NumPy`\n",
        "\n",
        "- Позволяет работать с многомерными массивами<br><br>\n",
        "\n",
        "- Реализует множество базовых матричных операций<br><br>\n",
        "\n",
        "- Работает на порядки быстрее самописных реализаций в Python<br><br>\n",
        "\n",
        "- Поддерживается большинством сторонних модулей, работающих с матрицами<br><br>"
      ]
    },
    {
      "cell_type": "code",
      "execution_count": 2,
      "metadata": {
        "ExecuteTime": {
          "end_time": "2022-09-22T08:00:51.493514Z",
          "start_time": "2022-09-22T08:00:51.428515Z"
        },
        "id": "yhd52Fo5wr40"
      },
      "outputs": [],
      "source": [
        "# from numpy import * — НЕ ДЕЛАЙТЕ ТАК\n",
        "import numpy as np"
      ]
    },
    {
      "cell_type": "markdown",
      "metadata": {
        "id": "Arbt3otLwr40"
      },
      "source": [
        "Текущая версия:"
      ]
    },
    {
      "cell_type": "code",
      "execution_count": 3,
      "metadata": {
        "ExecuteTime": {
          "end_time": "2022-09-22T08:00:51.756417Z",
          "start_time": "2022-09-22T08:00:51.748417Z"
        },
        "colab": {
          "base_uri": "https://localhost:8080/",
          "height": 36
        },
        "id": "ZJmUoqHawr40",
        "outputId": "c4cc72bb-6054-4359-89e1-36f12a71f669"
      },
      "outputs": [
        {
          "data": {
            "text/plain": [
              "'1.23.3'"
            ]
          },
          "execution_count": 3,
          "metadata": {},
          "output_type": "execute_result"
        }
      ],
      "source": [
        "np.__version__"
      ]
    },
    {
      "cell_type": "markdown",
      "metadata": {
        "id": "fXJ5nrGfwr40"
      },
      "source": [
        "### `Почему NumPy быстрая`\n",
        "\n",
        "- Значительная часть кода написана на C<br><br>\n",
        "\n",
        "- Базовым классом является `ndarray`, имеющий следующие отличия от списков:\n",
        "\n",
        "    1. NumPy array имеет фиксированную длину, задаваемую в момент его создания (списки в Python могут менять размер динамически)\n",
        "\n",
        "    2. Все элементы в NumPy array имеют один тип<br><br>\n",
        "\n",
        "- NumPy array хранится в памяти в виде одного последовательного блока, что позволяет эффективно использовать процессорный кэш и векторные инструкции<br><br>\n",
        "\n",
        "- NumPy можно подключить к высокооптимизированным библиотекам для матричной алгебры (BLAS, LAPACK, Intel MKL)<br><br>\n",
        "\n",
        "- Часть матричных операций может быть распараллелена при наличии в системе нескольких потоков\n"
      ]
    },
    {
      "cell_type": "markdown",
      "metadata": {
        "id": "uSZUFyR0wr40"
      },
      "source": [
        "### `Способы создания NumPy array`\n",
        "\n",
        "1. Пустой\n",
        "2. Заполненный нулями\n",
        "3. Заполненный единицами\n",
        "4. Заполненный нужным значением"
      ]
    },
    {
      "cell_type": "code",
      "execution_count": 12,
      "metadata": {
        "ExecuteTime": {
          "end_time": "2022-09-22T08:00:52.259961Z",
          "start_time": "2022-09-22T08:00:52.252963Z"
        },
        "colab": {
          "base_uri": "https://localhost:8080/"
        },
        "id": "1fR_01Yywr40",
        "outputId": "6fffa68b-4b5f-46fe-a36f-847225f94aa5"
      },
      "outputs": [
        {
          "name": "stdout",
          "output_type": "stream",
          "text": [
            "[[4.89521082e-310 0.00000000e+000 2.05833592e-312]\n",
            " [6.79038654e-313 2.14321575e-312 2.27053550e-312]]\n"
          ]
        }
      ],
      "source": [
        "print(np.empty(shape=[2, 3]))  # values are arbitrary"
      ]
    },
    {
      "cell_type": "code",
      "execution_count": 13,
      "metadata": {
        "ExecuteTime": {
          "end_time": "2022-09-22T08:00:52.445821Z",
          "start_time": "2022-09-22T08:00:52.436823Z"
        },
        "colab": {
          "base_uri": "https://localhost:8080/"
        },
        "id": "9SOJ_CG2wr40",
        "outputId": "13b8f4c8-7b95-455d-b6f4-e00bd86a7b08"
      },
      "outputs": [
        {
          "name": "stdout",
          "output_type": "stream",
          "text": [
            "[[0. 0. 0.]\n",
            " [0. 0. 0.]]\n"
          ]
        }
      ],
      "source": [
        "print(np.zeros([2, 3]))"
      ]
    },
    {
      "cell_type": "code",
      "execution_count": 17,
      "metadata": {
        "ExecuteTime": {
          "end_time": "2022-09-22T08:00:52.637411Z",
          "start_time": "2022-09-22T08:00:52.620413Z"
        },
        "colab": {
          "base_uri": "https://localhost:8080/"
        },
        "id": "PfwcgUEzwr41",
        "outputId": "a46cd75d-1f47-4269-f273-8c61548a5032"
      },
      "outputs": [
        {
          "name": "stdout",
          "output_type": "stream",
          "text": [
            "[[1. 1. 1.]\n",
            " [1. 1. 1.]]\n"
          ]
        }
      ],
      "source": [
        "print(np.ones([2, 3]))"
      ]
    },
    {
      "cell_type": "code",
      "execution_count": 18,
      "metadata": {
        "ExecuteTime": {
          "end_time": "2022-09-22T08:00:52.811524Z",
          "start_time": "2022-09-22T08:00:52.796522Z"
        },
        "colab": {
          "base_uri": "https://localhost:8080/"
        },
        "id": "A-9ZRE2cwr41",
        "outputId": "2a025ab5-888f-4ae8-cf69-986a0a92215f"
      },
      "outputs": [
        {
          "name": "stdout",
          "output_type": "stream",
          "text": [
            "[[3. 3. 3.]\n",
            " [3. 3. 3.]]\n"
          ]
        }
      ],
      "source": [
        "print(np.full([2, 3], 3.0))"
      ]
    },
    {
      "cell_type": "markdown",
      "metadata": {
        "id": "HoRH-xt3wr41"
      },
      "source": [
        "### `Способы создания NumPy array`"
      ]
    },
    {
      "cell_type": "markdown",
      "metadata": {
        "id": "mKIXI1tvwr41"
      },
      "source": [
        "Указанные четыре функции имеют аналоги с суффиксом `*_like`, которые создают массив того же размера, что передан в качестве агрумента:"
      ]
    },
    {
      "cell_type": "code",
      "execution_count": 19,
      "metadata": {
        "ExecuteTime": {
          "end_time": "2022-09-22T08:00:53.349381Z",
          "start_time": "2022-09-22T08:00:53.340382Z"
        },
        "colab": {
          "base_uri": "https://localhost:8080/"
        },
        "id": "g2t8BacVwr41",
        "outputId": "cd26d9aa-81ac-4bc0-9442-bb33cdeb425c"
      },
      "outputs": [
        {
          "name": "stdout",
          "output_type": "stream",
          "text": [
            "[[[0. 0. 0.]\n",
            "  [0. 0. 0.]]]\n",
            "[[[1. 1. 1.]\n",
            "  [1. 1. 1.]]]\n"
          ]
        },
        {
          "data": {
            "text/plain": [
              "((1, 2, 3), (1, 2, 3))"
            ]
          },
          "execution_count": 19,
          "metadata": {},
          "output_type": "execute_result"
        }
      ],
      "source": [
        "a = np.zeros([1, 2, 3])\n",
        "b = np.ones_like(a)\n",
        "\n",
        "print(a)\n",
        "print(b)\n",
        "a.shape, b.shape"
      ]
    },
    {
      "cell_type": "markdown",
      "metadata": {
        "id": "bojUa9bTwr41"
      },
      "source": [
        "### `Способы создания NumPy array`"
      ]
    },
    {
      "cell_type": "markdown",
      "metadata": {
        "ExecuteTime": {
          "end_time": "2022-09-22T06:39:48.680889Z",
          "start_time": "2022-09-22T06:39:48.665891Z"
        },
        "id": "oKWCgGswwr41"
      },
      "source": [
        "Для создания одномерных массивов можно передавать их длину в виде целого числа:  "
      ]
    },
    {
      "cell_type": "code",
      "execution_count": 20,
      "metadata": {
        "ExecuteTime": {
          "end_time": "2022-09-22T08:00:53.848404Z",
          "start_time": "2022-09-22T08:00:53.844405Z"
        },
        "colab": {
          "base_uri": "https://localhost:8080/"
        },
        "id": "SrPT9GXHwr41",
        "outputId": "3ddec04c-6304-45a5-9415-2f573830f26f"
      },
      "outputs": [
        {
          "data": {
            "text/plain": [
              "array([0., 0., 0., 0., 0.])"
            ]
          },
          "execution_count": 20,
          "metadata": {},
          "output_type": "execute_result"
        }
      ],
      "source": [
        "np.zeros(5)"
      ]
    },
    {
      "cell_type": "markdown",
      "metadata": {
        "id": "uwkfZ7i-wr41"
      },
      "source": [
        "Для одномерного массива тоже можно писать кортеж:"
      ]
    },
    {
      "cell_type": "code",
      "execution_count": 26,
      "metadata": {
        "ExecuteTime": {
          "end_time": "2022-09-22T08:00:54.224988Z",
          "start_time": "2022-09-22T08:00:54.213989Z"
        },
        "colab": {
          "base_uri": "https://localhost:8080/"
        },
        "id": "GZUjrZCJwr41",
        "outputId": "9656a84b-afd1-4116-b73b-cb07b9f3eaa0"
      },
      "outputs": [
        {
          "data": {
            "text/plain": [
              "array([0., 0., 0., 0., 0.])"
            ]
          },
          "execution_count": 26,
          "metadata": {},
          "output_type": "execute_result"
        }
      ],
      "source": [
        "np.zeros(shape=(5,))"
      ]
    },
    {
      "cell_type": "markdown",
      "metadata": {
        "ExecuteTime": {
          "end_time": "2022-09-22T06:40:43.168313Z",
          "start_time": "2022-09-22T06:40:43.152313Z"
        },
        "id": "WCgk64rCwr41"
      },
      "source": [
        "Для больших размерностей, так задавать массив нельзя.\n",
        "\n",
        "Так неправильно:"
      ]
    },
    {
      "cell_type": "code",
      "execution_count": 29,
      "metadata": {
        "ExecuteTime": {
          "end_time": "2022-09-22T08:00:54.993400Z",
          "start_time": "2022-09-22T08:00:54.588400Z"
        },
        "colab": {
          "base_uri": "https://localhost:8080/",
          "height": 183
        },
        "id": "-T4yOEnvwr4_",
        "outputId": "62e31319-f82e-40d8-c0b8-134afc0b6e58"
      },
      "outputs": [
        {
          "ename": "TypeError",
          "evalue": "ignored",
          "output_type": "error",
          "traceback": [
            "\u001b[0;31m---------------------------------------------------------------------------\u001b[0m",
            "\u001b[0;31mTypeError\u001b[0m                                 Traceback (most recent call last)",
            "\u001b[0;32m<ipython-input-29-0252f51f341f>\u001b[0m in \u001b[0;36m<cell line: 1>\u001b[0;34m()\u001b[0m\n\u001b[0;32m----> 1\u001b[0;31m \u001b[0mnp\u001b[0m\u001b[0;34m.\u001b[0m\u001b[0mzeros\u001b[0m\u001b[0;34m(\u001b[0m\u001b[0;36m5\u001b[0m\u001b[0;34m,\u001b[0m \u001b[0;36m7\u001b[0m\u001b[0;34m)\u001b[0m\u001b[0;34m\u001b[0m\u001b[0;34m\u001b[0m\u001b[0m\n\u001b[0m",
            "\u001b[0;31mTypeError\u001b[0m: Cannot interpret '7' as a data type"
          ]
        }
      ],
      "source": [
        "np.zeros(5, 7)"
      ]
    },
    {
      "cell_type": "markdown",
      "metadata": {
        "id": "_knsxNc8wr4_"
      },
      "source": [
        "### `Способы создания NumPy array`\n",
        "\n",
        "5. На основе списков"
      ]
    },
    {
      "cell_type": "code",
      "execution_count": 30,
      "metadata": {
        "ExecuteTime": {
          "end_time": "2022-09-22T08:00:54.994402Z",
          "start_time": "2022-09-22T08:00:54.994402Z"
        },
        "colab": {
          "base_uri": "https://localhost:8080/"
        },
        "id": "nzcJ_3Anwr4_",
        "outputId": "d496cdc5-3e06-4b09-e728-b365473a4dc1"
      },
      "outputs": [
        {
          "name": "stdout",
          "output_type": "stream",
          "text": [
            "[[1 2 3]\n",
            " [4 5 6]]\n"
          ]
        }
      ],
      "source": [
        "print(np.array([[1, 2, 3], [4, 5, 6]]))"
      ]
    },
    {
      "cell_type": "markdown",
      "metadata": {
        "id": "6WQUq88twr4_"
      },
      "source": [
        "Число элементов должно удовлетворять размерности, numpy попытается преобразовать типы:"
      ]
    },
    {
      "cell_type": "code",
      "execution_count": 31,
      "metadata": {
        "ExecuteTime": {
          "end_time": "2022-09-22T08:00:55.604748Z",
          "start_time": "2022-09-22T08:00:55.596747Z"
        },
        "colab": {
          "base_uri": "https://localhost:8080/"
        },
        "id": "AyeEvbRAwr4_",
        "outputId": "7afc3683-13c0-44db-903d-7ca8480629b7"
      },
      "outputs": [
        {
          "name": "stdout",
          "output_type": "stream",
          "text": [
            "[list([1, 2, 3]) list([4, 6])]\n"
          ]
        }
      ],
      "source": [
        "print(np.array([[1, 2, 3], [4, 6]]))"
      ]
    },
    {
      "cell_type": "markdown",
      "metadata": {
        "id": "kjDsvKhmwr4_"
      },
      "source": [
        "Тип можно указать явно, и неправильное число элементов приведёт к ошибке:"
      ]
    },
    {
      "cell_type": "code",
      "execution_count": 32,
      "metadata": {
        "ExecuteTime": {
          "end_time": "2022-09-22T08:00:55.940391Z",
          "start_time": "2022-09-22T08:00:55.924393Z"
        },
        "colab": {
          "base_uri": "https://localhost:8080/",
          "height": 201
        },
        "id": "wbGe0lAxwr4_",
        "outputId": "1a05efdd-58f6-450e-c57d-1d8542920a84"
      },
      "outputs": [
        {
          "ename": "ValueError",
          "evalue": "ignored",
          "output_type": "error",
          "traceback": [
            "\u001b[0;31m---------------------------------------------------------------------------\u001b[0m",
            "\u001b[0;31mValueError\u001b[0m                                Traceback (most recent call last)",
            "\u001b[0;32m<ipython-input-32-f29d5103418c>\u001b[0m in \u001b[0;36m<cell line: 1>\u001b[0;34m()\u001b[0m\n\u001b[0;32m----> 1\u001b[0;31m \u001b[0mnp\u001b[0m\u001b[0;34m.\u001b[0m\u001b[0marray\u001b[0m\u001b[0;34m(\u001b[0m\u001b[0;34m[\u001b[0m\u001b[0;34m[\u001b[0m\u001b[0;36m1\u001b[0m\u001b[0;34m,\u001b[0m \u001b[0;36m2\u001b[0m\u001b[0;34m,\u001b[0m \u001b[0;36m3\u001b[0m\u001b[0;34m]\u001b[0m\u001b[0;34m,\u001b[0m \u001b[0;34m[\u001b[0m\u001b[0;36m4\u001b[0m\u001b[0;34m,\u001b[0m \u001b[0;36m6\u001b[0m\u001b[0;34m]\u001b[0m\u001b[0;34m]\u001b[0m\u001b[0;34m,\u001b[0m \u001b[0mdtype\u001b[0m\u001b[0;34m=\u001b[0m\u001b[0mnp\u001b[0m\u001b[0;34m.\u001b[0m\u001b[0mfloat32\u001b[0m\u001b[0;34m)\u001b[0m\u001b[0;34m\u001b[0m\u001b[0;34m\u001b[0m\u001b[0m\n\u001b[0m",
            "\u001b[0;31mValueError\u001b[0m: setting an array element with a sequence. The requested array has an inhomogeneous shape after 1 dimensions. The detected shape was (2,) + inhomogeneous part."
          ]
        }
      ],
      "source": [
        "np.array([[1, 2, 3], [4, 6]], dtype=np.float32)"
      ]
    },
    {
      "cell_type": "markdown",
      "metadata": {
        "id": "wjLlRXyXwr5A"
      },
      "source": [
        "### `Способы создания NumPy array`"
      ]
    },
    {
      "cell_type": "markdown",
      "metadata": {
        "id": "TVOmKwM-wr5A"
      },
      "source": [
        "6. Последовательность целых чисел заданной длины"
      ]
    },
    {
      "cell_type": "code",
      "execution_count": 33,
      "metadata": {
        "ExecuteTime": {
          "end_time": "2022-09-22T08:00:56.462636Z",
          "start_time": "2022-09-22T08:00:56.444636Z"
        },
        "colab": {
          "base_uri": "https://localhost:8080/"
        },
        "id": "gfIvNgVfwr5A",
        "outputId": "b597f4b0-7fc8-42f9-a5f7-5d9d1a9aa6e2"
      },
      "outputs": [
        {
          "data": {
            "text/plain": [
              "array([2, 3, 4, 5, 6, 7, 8, 9])"
            ]
          },
          "execution_count": 33,
          "metadata": {},
          "output_type": "execute_result"
        }
      ],
      "source": [
        "# Синтаксис аналогичен функции `range`, но в этом случае данные хранятся в памяти\n",
        "np.arange(2, 10)"
      ]
    },
    {
      "cell_type": "markdown",
      "metadata": {
        "id": "T5Lel60xwr5A"
      },
      "source": [
        "7. Разбиение отрезка на равные подотрезки (в исходном и log-масштабе)"
      ]
    },
    {
      "cell_type": "code",
      "execution_count": 34,
      "metadata": {
        "ExecuteTime": {
          "end_time": "2022-09-22T08:00:56.793292Z",
          "start_time": "2022-09-22T08:00:56.788293Z"
        },
        "colab": {
          "base_uri": "https://localhost:8080/"
        },
        "id": "d4VagN5Xwr5A",
        "outputId": "adb12a8f-a135-4169-d021-cec826f498bb"
      },
      "outputs": [
        {
          "data": {
            "text/plain": [
              "(array([0.  , 0.25, 0.5 , 0.75, 1.  ]),\n",
              " array([ 1.        ,  1.77827941,  3.16227766,  5.62341325, 10.        ]))"
            ]
          },
          "execution_count": 34,
          "metadata": {},
          "output_type": "execute_result"
        }
      ],
      "source": [
        "np.linspace(0.0, 1.0, 5), np.logspace(0.0, 1.0, 5)"
      ]
    },
    {
      "cell_type": "markdown",
      "metadata": {
        "id": "PtdBWt4ewr5A"
      },
      "source": [
        "### `Способы создания NumPy array`"
      ]
    },
    {
      "cell_type": "markdown",
      "metadata": {
        "id": "I9yvPc7Pwr5A"
      },
      "source": [
        "<font color='brown'>**Задача 2.** Задайте массив `result` размером $50$ на $30$, состоящий из троек:</font>"
      ]
    },
    {
      "cell_type": "code",
      "execution_count": 156,
      "metadata": {
        "ExecuteTime": {
          "end_time": "2022-09-22T08:00:57.341436Z",
          "start_time": "2022-09-22T08:00:57.333435Z"
        },
        "id": "MPyhcybPwr5A"
      },
      "outputs": [],
      "source": [
        "### your code here"
      ]
    },
    {
      "cell_type": "markdown",
      "metadata": {
        "ExecuteTime": {
          "end_time": "2022-09-22T06:50:02.269559Z",
          "start_time": "2022-09-22T06:50:02.253560Z"
        },
        "id": "xQR34U0Twr5A"
      },
      "source": [
        "<font color='brown'>**Задача 3.** Какая размерность будет у массива, полученного с помощью команды `np.array([[1], [2]])`?</font>"
      ]
    },
    {
      "cell_type": "code",
      "execution_count": 5,
      "metadata": {
        "ExecuteTime": {
          "end_time": "2022-09-22T08:00:57.737381Z",
          "start_time": "2022-09-22T08:00:57.732381Z"
        },
        "id": "oyC6xj-awr5A"
      },
      "outputs": [],
      "source": [
        "### your answer here"
      ]
    },
    {
      "cell_type": "markdown",
      "metadata": {
        "id": "_COuXwvCwr5A"
      },
      "source": [
        "### `Важные параметры создания ndarray`\n",
        "\n",
        "- `shape` — список или кортеж с размерностями создаваемого массива<br><br>\n",
        "\n",
        "- `dtype` — указание типа элементов массива, если массив создаётся на базе объектов из Python, то должно существовать преобразование из типа этих объектов в указываемый тип<br><br>\n",
        "\n",
        "- `order` — порядок хранения данных в памяти, по строкам (C-order) или же по столбцам (Fortran-order). По-умолчанию используется C-order"
      ]
    },
    {
      "cell_type": "markdown",
      "metadata": {
        "id": "HfYuRYe9wr5A"
      },
      "source": [
        "### `Отличие классов np.ndarray и np.matrix`\n",
        "\n",
        "- `ndarray` — более общий класс, поддерживающий все возможные операции<br><br>\n",
        "\n",
        "- `matrix` — более узкий класс, наследующий `ndarray`. Он поддерживает несколько операций и атрибутов, специфичных для матриц, в удобной нотации<br><br>\n",
        "\n",
        "- При этом все те же операции можно применять и к `ndarray`, если он двумерный и состоит из чисел (начиная с Python 3.5 умножение можно записать как `A @ B`)<br><br>\n",
        "\n",
        "- Рекомендуется пользоваться `ndarray`, чтобы не вносить путаницу в код и не проверять каждый раз, какого именно типа массив будет обрабатываться"
      ]
    },
    {
      "cell_type": "markdown",
      "metadata": {
        "id": "-X602HWMwr5A"
      },
      "source": [
        "### `Изменение размерности`\n",
        "\n",
        "`reshape` позволяет изменить размерности массива __без изменения общего числа элементов__:"
      ]
    },
    {
      "cell_type": "code",
      "execution_count": 44,
      "metadata": {
        "ExecuteTime": {
          "end_time": "2022-09-22T08:00:58.477418Z",
          "start_time": "2022-09-22T08:00:58.460419Z"
        },
        "colab": {
          "base_uri": "https://localhost:8080/"
        },
        "id": "Of438spcwr5A",
        "outputId": "ba6f5e23-4f6c-40f6-80d5-e1326bcde54d"
      },
      "outputs": [
        {
          "name": "stdout",
          "output_type": "stream",
          "text": [
            "[[[0. 0.]\n",
            "  [0. 0.]\n",
            "  [0. 0.]]\n",
            "\n",
            " [[0. 0.]\n",
            "  [0. 0.]\n",
            "  [0. 0.]]] (2, 3, 2)\n"
          ]
        }
      ],
      "source": [
        "a = np.zeros([2, 3, 2])\n",
        "print(a, a.shape)"
      ]
    },
    {
      "cell_type": "code",
      "execution_count": 4,
      "metadata": {
        "ExecuteTime": {
          "end_time": "2022-09-22T08:00:58.635377Z",
          "start_time": "2022-09-22T08:00:58.620382Z"
        },
        "colab": {
          "base_uri": "https://localhost:8080/"
        },
        "id": "Nvgef8pSwr5A",
        "outputId": "b537408f-e0a6-43a2-dec0-1ef35ac55c54"
      },
      "outputs": [
        {
          "name": "stdout",
          "output_type": "stream",
          "text": [
            "[[0. 0. 0. 0. 0. 0. 0. 0. 0. 0. 0. 0.]] (1, 12) \n",
            "\n",
            "[[[10.  0.]\n",
            "  [ 0.  0.]\n",
            "  [ 0.  0.]]\n",
            "\n",
            " [[ 0.  0.]\n",
            "  [ 0.  0.]\n",
            "  [ 0.  0.]]] (2, 3, 2)\n"
          ]
        }
      ],
      "source": [
        "b = a.reshape((1, 2 * 3 * 2))\n",
        "print(b, b.shape, '\\n')\n",
        "\n",
        "b[0][0] = 10  # 'b' is a new view on the same data\n",
        "\n",
        "print(a, a.shape)"
      ]
    },
    {
      "cell_type": "markdown",
      "metadata": {
        "id": "uewceKE-wr5A"
      },
      "source": [
        "Можно проверить, не пересекаются ли в памяти два массива:"
      ]
    },
    {
      "cell_type": "code",
      "execution_count": 54,
      "metadata": {
        "ExecuteTime": {
          "end_time": "2022-09-22T08:00:58.976164Z",
          "start_time": "2022-09-22T08:00:58.964165Z"
        },
        "colab": {
          "base_uri": "https://localhost:8080/"
        },
        "id": "OZsMH_BVwr5B",
        "outputId": "a19d0f37-880a-45b2-9400-81cad024b3b9"
      },
      "outputs": [
        {
          "data": {
            "text/plain": [
              "True"
            ]
          },
          "execution_count": 54,
          "metadata": {},
          "output_type": "execute_result"
        }
      ],
      "source": [
        "np.may_share_memory(a, b)"
      ]
    },
    {
      "cell_type": "markdown",
      "metadata": {
        "id": "K6EtDPvcwr5B"
      },
      "source": [
        "### `Изменение размерности`\n",
        "\n",
        "Отметим, что практически все методы `np.ndarray` доступны в виде функций модуля NumPy:"
      ]
    },
    {
      "cell_type": "code",
      "execution_count": null,
      "metadata": {
        "ExecuteTime": {
          "end_time": "2022-09-22T08:00:59.369040Z",
          "start_time": "2022-09-22T08:00:59.364040Z"
        },
        "id": "BPynKsCPwr5B",
        "outputId": "d3244124-4eae-416a-d72f-05bf73450452"
      },
      "outputs": [
        {
          "name": "stdout",
          "output_type": "stream",
          "text": [
            "[[10.  0.]\n",
            " [ 0.  0.]\n",
            " [ 0.  0.]\n",
            " [ 0.  0.]\n",
            " [ 0.  0.]\n",
            " [ 0.  0.]] (6, 2)\n"
          ]
        }
      ],
      "source": [
        "c = np.reshape(b, (2 * 3, 2))\n",
        "print(c, c.shape)"
      ]
    },
    {
      "cell_type": "markdown",
      "metadata": {
        "id": "AcvwfuF6wr5B"
      },
      "source": [
        "Размерность можно изменить и напрямую:"
      ]
    },
    {
      "cell_type": "code",
      "execution_count": null,
      "metadata": {
        "ExecuteTime": {
          "end_time": "2022-09-22T08:00:59.760289Z",
          "start_time": "2022-09-22T08:00:59.748291Z"
        },
        "id": "mcaT6p2Qwr5B",
        "outputId": "5e5935df-55b9-4120-d369-387ac6a2f0e6"
      },
      "outputs": [
        {
          "name": "stdout",
          "output_type": "stream",
          "text": [
            "[[10.  0.  0.  0.  0.  0.  0.  0.  0.  0.  0.  0.]] (1, 12)\n"
          ]
        }
      ],
      "source": [
        "c.shape = (1, 2 * 3 * 2)\n",
        "print(c, c.shape)"
      ]
    },
    {
      "cell_type": "markdown",
      "metadata": {
        "id": "pdyUtJ9dwr5B"
      },
      "source": [
        "Можно \"не заполнять\" одну размерность итогового массива, она заполнится автоматически:"
      ]
    },
    {
      "cell_type": "code",
      "execution_count": null,
      "metadata": {
        "ExecuteTime": {
          "end_time": "2022-09-22T08:01:00.106443Z",
          "start_time": "2022-09-22T08:01:00.095443Z"
        },
        "id": "8lOQoeaKwr5B",
        "outputId": "dce7a305-32f3-4f92-9585-943795a42768"
      },
      "outputs": [
        {
          "name": "stdout",
          "output_type": "stream",
          "text": [
            "[[[10.  0.  0.]\n",
            "  [ 0.  0.  0.]]\n",
            "\n",
            " [[ 0.  0.  0.]\n",
            "  [ 0.  0.  0.]]] (2, 2, 3)\n"
          ]
        }
      ],
      "source": [
        "d = c.reshape(2, -1, 3)\n",
        "print(d, d.shape)"
      ]
    },
    {
      "cell_type": "markdown",
      "metadata": {
        "id": "EWOlj6NHwr5B"
      },
      "source": [
        "### `Про размерности массивов`"
      ]
    },
    {
      "cell_type": "code",
      "execution_count": null,
      "metadata": {
        "ExecuteTime": {
          "end_time": "2022-09-22T08:01:00.468365Z",
          "start_time": "2022-09-22T08:01:00.452366Z"
        },
        "id": "Z0MQzXmgwr5B",
        "outputId": "d862ae5c-8e6d-42f2-bc89-5416141a1496"
      },
      "outputs": [
        {
          "name": "stdout",
          "output_type": "stream",
          "text": [
            "(3,)\n",
            "(1, 3)\n",
            "(3, 1)\n"
          ]
        }
      ],
      "source": [
        "a = np.array([1, 2, 3])\n",
        "b = np.array([[1, 2, 3]])\n",
        "c = np.array([[1], [2], [3]])\n",
        "print(a.shape)\n",
        "print(b.shape)\n",
        "print(c.shape)"
      ]
    },
    {
      "cell_type": "markdown",
      "metadata": {
        "id": "vYY6S2XLwr5B"
      },
      "source": [
        "- Данные лежат в памяти одним и тем же образом\n",
        "\n",
        "- Вопрос только во `view` $==$ способ индексации $==$ число и порядок индексов"
      ]
    },
    {
      "cell_type": "code",
      "execution_count": null,
      "metadata": {
        "ExecuteTime": {
          "end_time": "2022-09-22T08:01:00.875757Z",
          "start_time": "2022-09-22T08:01:00.861758Z"
        },
        "id": "UFrsvVyFwr5B",
        "outputId": "ef7bbf82-082a-436b-b7f3-85e9950cf1d2"
      },
      "outputs": [
        {
          "name": "stdout",
          "output_type": "stream",
          "text": [
            "1 2 2\n"
          ]
        }
      ],
      "source": [
        "print(a.ndim, b.ndim, c.ndim)"
      ]
    },
    {
      "cell_type": "markdown",
      "metadata": {
        "id": "VUDkhIMHwr5B"
      },
      "source": [
        "Полезная для понимания происходящего статья: https://stackoverflow.com/questions/22053050/difference-between-numpy-array-shape-r-1-and-r"
      ]
    },
    {
      "cell_type": "markdown",
      "metadata": {
        "id": "BYoT3PORwr5B"
      },
      "source": [
        "### `View и копирование`"
      ]
    },
    {
      "cell_type": "markdown",
      "metadata": {
        "ExecuteTime": {
          "end_time": "2022-09-22T07:39:53.556863Z",
          "start_time": "2022-09-22T07:39:53.547862Z"
        },
        "id": "dfs7hQK2wr5B"
      },
      "source": [
        "View ссылается на те же данные, но позволяет задать другие размерности массива."
      ]
    },
    {
      "cell_type": "code",
      "execution_count": 18,
      "metadata": {
        "ExecuteTime": {
          "end_time": "2022-09-22T08:01:01.648315Z",
          "start_time": "2022-09-22T08:01:01.644315Z"
        },
        "colab": {
          "base_uri": "https://localhost:8080/"
        },
        "id": "jliMqS10wr5C",
        "outputId": "7357ef76-18b8-43a8-9856-8f4056c410a6"
      },
      "outputs": [
        {
          "data": {
            "text/plain": [
              "(array([0, 1, 2, 3, 4, 5, 6, 7, 8, 9]),\n",
              " array([[0, 1, 2, 3, 4],\n",
              "        [5, 6, 7, 8, 9]]))"
            ]
          },
          "execution_count": 18,
          "metadata": {},
          "output_type": "execute_result"
        }
      ],
      "source": [
        "x = np.arange(10)\n",
        "v = x.view()\n",
        "v.shape = (2, 5)\n",
        "x, v"
      ]
    },
    {
      "cell_type": "code",
      "execution_count": 20,
      "metadata": {
        "ExecuteTime": {
          "end_time": "2022-09-22T08:01:01.835160Z",
          "start_time": "2022-09-22T08:01:01.821161Z"
        },
        "colab": {
          "base_uri": "https://localhost:8080/"
        },
        "id": "3EoZmpDewr5C",
        "outputId": "5e7441b9-414e-4c65-9d6b-008ad8e43ed1"
      },
      "outputs": [
        {
          "data": {
            "text/plain": [
              "(array([100,   1,   2,   3,   4,   5,   6,   7,   8,   9]),\n",
              " array([[100,   1,   2,   3,   4],\n",
              "        [  5,   6,   7,   8,   9]]))"
            ]
          },
          "execution_count": 20,
          "metadata": {},
          "output_type": "execute_result"
        }
      ],
      "source": [
        "v[0, 0] = 100\n",
        "x, v"
      ]
    },
    {
      "cell_type": "markdown",
      "metadata": {
        "id": "Yjt1J9skwr5C"
      },
      "source": [
        "Если нужно получить копию массива, чтобы не портить переданные данные, пользуйтесь методом `copy`:"
      ]
    },
    {
      "cell_type": "code",
      "execution_count": 21,
      "metadata": {
        "ExecuteTime": {
          "end_time": "2022-09-22T08:01:02.209355Z",
          "start_time": "2022-09-22T08:01:02.204358Z"
        },
        "colab": {
          "base_uri": "https://localhost:8080/"
        },
        "id": "jO834vnWwr5C",
        "outputId": "9e0ba724-2ed4-46ca-fbde-ccd1d83a6612"
      },
      "outputs": [
        {
          "data": {
            "text/plain": [
              "(array([0, 1, 2, 3, 4, 5, 6, 7, 8, 9]), array([0, 0, 0, 0, 0, 0, 0, 0, 0, 0]))"
            ]
          },
          "execution_count": 21,
          "metadata": {},
          "output_type": "execute_result"
        }
      ],
      "source": [
        "x = np.arange(10)\n",
        "y = x.copy()\n",
        "y[:] = 0\n",
        "x, y"
      ]
    },
    {
      "cell_type": "markdown",
      "metadata": {
        "id": "SdPjbZTZwr5C"
      },
      "source": [
        "### `Индексирование`\n",
        "\n",
        "- Всё аналогично спискам, можно делать срезы и использовать отрицательные индексы\n",
        "- Индексы и срезы в многомерных массивах не обязательно разделять квадратными скобками\n",
        "- Подробное описание: https://docs.scipy.org/doc/numpy/reference/arrays.indexing.html"
      ]
    },
    {
      "cell_type": "code",
      "execution_count": null,
      "metadata": {
        "ExecuteTime": {
          "end_time": "2022-09-22T08:01:02.589352Z",
          "start_time": "2022-09-22T08:01:02.572353Z"
        },
        "id": "YsCcQukCwr5C",
        "outputId": "52b14299-77fa-4d15-af71-c4409d1d1b71"
      },
      "outputs": [
        {
          "name": "stdout",
          "output_type": "stream",
          "text": [
            "[[1 2 3]\n",
            " [3 4 5]] \n",
            "\n",
            "[1 2 3] \n",
            "\n",
            "[1 2 3] \n",
            "\n",
            "2 \n",
            "\n",
            "4 \n",
            "\n",
            "4 \n",
            "\n",
            "[1 2]\n"
          ]
        }
      ],
      "source": [
        "a = np.array([[1, 2, 3], [3, 4, 5]])\n",
        "\n",
        "print(a, '\\n')\n",
        "print(a[0], '\\n')\n",
        "print(a[0, 0: 100500], '\\n')\n",
        "print(a[0][1], '\\n')\n",
        "print(a[-1][-2], '\\n')\n",
        "print(a[-1, -2], '\\n')\n",
        "print(a[0, 0: -1])"
      ]
    },
    {
      "cell_type": "markdown",
      "metadata": {
        "id": "x2tVErrBwr5C"
      },
      "source": [
        "### `Индексирование`\n",
        "\n",
        "Важное отличие от питоновских списков: при slicing возвращается **view**, а не копия! Это позволяет присваивать значения подматрицам."
      ]
    },
    {
      "cell_type": "code",
      "execution_count": 69,
      "metadata": {
        "ExecuteTime": {
          "end_time": "2022-09-22T08:01:02.984334Z",
          "start_time": "2022-09-22T08:01:02.972333Z"
        },
        "colab": {
          "base_uri": "https://localhost:8080/"
        },
        "id": "xRk5cj2ywr5C",
        "outputId": "1ea27596-531b-4fe0-9192-2a880feffdd3"
      },
      "outputs": [
        {
          "name": "stdout",
          "output_type": "stream",
          "text": [
            "[[1 2 3]\n",
            " [3 4 5]] \n",
            "\n",
            "[[ 1 10  3]\n",
            " [ 3 10  5]] \n",
            "\n"
          ]
        }
      ],
      "source": [
        "a = np.array([[1, 2, 3], [3, 4, 5]])\n",
        "print(a, '\\n')\n",
        "\n",
        "a[:, 1] = 10\n",
        "print(a, '\\n')"
      ]
    },
    {
      "cell_type": "markdown",
      "metadata": {
        "id": "PbwdsTlYwr5C"
      },
      "source": [
        "### `Логическое индексирование`\n",
        "\n",
        "Индексирование можно производить по логическому массиву такого же размера:"
      ]
    },
    {
      "cell_type": "code",
      "execution_count": 8,
      "metadata": {
        "ExecuteTime": {
          "end_time": "2022-09-22T08:01:03.361856Z",
          "start_time": "2022-09-22T08:01:03.355858Z"
        },
        "colab": {
          "base_uri": "https://localhost:8080/"
        },
        "id": "bUkL1GLWwr5C",
        "outputId": "5f21bc9f-b836-4192-9adb-f5e638ee289c"
      },
      "outputs": [
        {
          "name": "stdout",
          "output_type": "stream",
          "text": [
            "[0 1 2 3 4 5 6 7 8 9] \n",
            "\n",
            "[ True False  True False  True False  True False  True False] \n",
            "\n",
            "[0 2 4 6 8] \n",
            "\n"
          ]
        }
      ],
      "source": [
        "a = np.arange(10)\n",
        "i = np.array([j % 2 == 0 for j in range(10)])\n",
        "\n",
        "print(a, '\\n')\n",
        "print(i, '\\n')\n",
        "print(a[i], '\\n')"
      ]
    },
    {
      "cell_type": "markdown",
      "metadata": {
        "id": "LHOpSaZ8wr5C"
      },
      "source": [
        "При этом такие слайсы также позволяют менять исходный массив:"
      ]
    },
    {
      "cell_type": "code",
      "execution_count": null,
      "metadata": {
        "ExecuteTime": {
          "end_time": "2022-09-22T08:01:03.771346Z",
          "start_time": "2022-09-22T08:01:03.756348Z"
        },
        "id": "MFYOUVVYwr5C",
        "outputId": "6281a1f0-7392-41b6-a243-c414f3cb3d29"
      },
      "outputs": [
        {
          "data": {
            "text/plain": [
              "array([11,  1, 11,  3, 11,  5, 11,  7, 11,  9])"
            ]
          },
          "execution_count": 38,
          "metadata": {},
          "output_type": "execute_result"
        }
      ],
      "source": [
        "a[i] = 11\n",
        "a"
      ]
    },
    {
      "cell_type": "markdown",
      "metadata": {
        "id": "v83Kflrewr5C"
      },
      "source": [
        "### `Логическое индексирование`\n",
        "\n",
        "С помощью функции `where`, можно находить индексы элементов, заданные маской:"
      ]
    },
    {
      "cell_type": "code",
      "execution_count": 11,
      "metadata": {
        "ExecuteTime": {
          "end_time": "2022-09-22T08:01:04.180832Z",
          "start_time": "2022-09-22T08:01:04.163832Z"
        },
        "colab": {
          "base_uri": "https://localhost:8080/"
        },
        "id": "qEf8WN2Gwr5C",
        "outputId": "741b131d-75c8-4628-f0da-0de91a22d4cb"
      },
      "outputs": [
        {
          "data": {
            "text/plain": [
              "(array([0, 5, 6, 7, 8, 9]),)"
            ]
          },
          "execution_count": 11,
          "metadata": {},
          "output_type": "execute_result"
        }
      ],
      "source": [
        "np.where(a > 4)"
      ]
    },
    {
      "cell_type": "markdown",
      "metadata": {
        "id": "a-P5YcG6wr5C"
      },
      "source": [
        "В случае одного аргумента `np.where` вернет `tuple`. Смотри документацию или [тут](https://stackoverflow.com/questions/50646102/what-is-the-purpose-of-numpy-where-returning-a-tuple)"
      ]
    },
    {
      "cell_type": "code",
      "execution_count": 6,
      "metadata": {
        "colab": {
          "base_uri": "https://localhost:8080/"
        },
        "id": "KHhfRakU3UHt",
        "outputId": "d3d78191-da7a-447a-ab51-22f96b57503f"
      },
      "outputs": [
        {
          "name": "stdout",
          "output_type": "stream",
          "text": [
            "[[[ 0  1]\n",
            "  [ 2  3]]\n",
            "\n",
            " [[ 4  5]\n",
            "  [ 6  7]]\n",
            "\n",
            " [[ 8  9]\n",
            "  [10 11]]]\n"
          ]
        },
        {
          "data": {
            "text/plain": [
              "(array([1, 1, 1, 2, 2, 2, 2]),\n",
              " array([0, 1, 1, 0, 0, 1, 1]),\n",
              " array([1, 0, 1, 0, 1, 0, 1]))"
            ]
          },
          "execution_count": 6,
          "metadata": {},
          "output_type": "execute_result"
        }
      ],
      "source": [
        "c = np.arange(12).reshape(3, 2, 2)\n",
        "np.where(c > 4)"
      ]
    },
    {
      "cell_type": "code",
      "execution_count": 164,
      "metadata": {
        "colab": {
          "base_uri": "https://localhost:8080/"
        },
        "id": "-CFDACQidw8r",
        "outputId": "104e1ae0-7a3c-4a4d-9e26-4172f0acaed8"
      },
      "outputs": [
        {
          "data": {
            "text/plain": [
              "array([[[ 0,  1],\n",
              "        [ 2,  3]],\n",
              "\n",
              "       [[ 4,  5],\n",
              "        [ 6,  7]],\n",
              "\n",
              "       [[ 8,  9],\n",
              "        [10, 11]]])"
            ]
          },
          "execution_count": 164,
          "metadata": {},
          "output_type": "execute_result"
        }
      ],
      "source": [
        "c"
      ]
    },
    {
      "cell_type": "code",
      "execution_count": 103,
      "metadata": {
        "colab": {
          "base_uri": "https://localhost:8080/"
        },
        "id": "L5swxmcO4PZP",
        "outputId": "caf47112-686b-4cda-9804-55625292cbed"
      },
      "outputs": [
        {
          "data": {
            "text/plain": [
              "array([0, 0, 0, 0, 0, 5, 6, 7, 8, 9])"
            ]
          },
          "execution_count": 103,
          "metadata": {},
          "output_type": "execute_result"
        }
      ],
      "source": [
        "np.where(a > 4, a, 0)"
      ]
    },
    {
      "cell_type": "markdown",
      "metadata": {
        "id": "TwEw250-wr5C"
      },
      "source": [
        "<font color='brown'> **Задача 4.** Даны два вектора одинаковой длины: `a` и `b`. Оставить в этих векторах только те элементы, которые соответствуют позициям ненулевых элементов в обоих векторах. </font>"
      ]
    },
    {
      "cell_type": "code",
      "execution_count": 15,
      "metadata": {
        "ExecuteTime": {
          "end_time": "2022-09-22T08:01:04.735350Z",
          "start_time": "2022-09-22T08:01:04.724353Z"
        },
        "id": "9GCC65okwr5D"
      },
      "outputs": [],
      "source": [
        "a = np.array([0, 1, 0, 2, 3])\n",
        "b = np.array([1, 5, 2, 0, 6])"
      ]
    },
    {
      "cell_type": "code",
      "execution_count": 17,
      "metadata": {
        "ExecuteTime": {
          "end_time": "2022-09-22T08:01:04.940352Z",
          "start_time": "2022-09-22T08:01:04.925355Z"
        },
        "id": "85yByMX4wr5D"
      },
      "outputs": [],
      "source": [
        "### your code here\n"
      ]
    },
    {
      "cell_type": "markdown",
      "metadata": {
        "id": "wDfM7JoXwr5D"
      },
      "source": [
        "Проверьте себя:"
      ]
    },
    {
      "cell_type": "code",
      "execution_count": 26,
      "metadata": {
        "deletable": false,
        "editable": false,
        "id": "5qm-RBWowr5D",
        "run_control": {
          "frozen": true
        }
      },
      "outputs": [],
      "source": [
        "assert a.tolist() == [1, 3]\n",
        "assert b.tolist() == [5, 6]"
      ]
    },
    {
      "cell_type": "markdown",
      "metadata": {
        "id": "SO0LrqkVwr5D"
      },
      "source": [
        "### `Сложное индексирование`\n",
        "\n",
        "По каждой размерности подаются массивы одинаковых размеров, элементы которых соответствуют индексам каждой размерности. Тогда, на выходе будет массив размера этих массивов, элементы которого будут соответствовать элементам исходного массива, взятых в точках, соответствующих поданным массивам."
      ]
    },
    {
      "cell_type": "code",
      "execution_count": 18,
      "metadata": {
        "ExecuteTime": {
          "end_time": "2022-09-22T08:01:05.735426Z",
          "start_time": "2022-09-22T08:01:05.732425Z"
        },
        "colab": {
          "base_uri": "https://localhost:8080/"
        },
        "id": "eqHfbt0bwr5D",
        "outputId": "a34b3693-f906-4ed5-b616-8fda146d7d2c"
      },
      "outputs": [
        {
          "data": {
            "text/plain": [
              "array([[1, 2, 3],\n",
              "       [4, 5, 6]])"
            ]
          },
          "execution_count": 18,
          "metadata": {},
          "output_type": "execute_result"
        }
      ],
      "source": [
        "X = np.array([[1, 2, 3], [4, 5, 6]])\n",
        "X"
      ]
    },
    {
      "cell_type": "code",
      "execution_count": 19,
      "metadata": {
        "ExecuteTime": {
          "end_time": "2022-09-22T08:01:05.924335Z",
          "start_time": "2022-09-22T08:01:05.916335Z"
        },
        "id": "L3rNZd0Jwr5D",
        "outputId": "d0dde84c-e600-4d93-918b-2bb7d47bc870"
      },
      "outputs": [
        {
          "data": {
            "text/plain": [
              "(array([2, 6]), array([2, 1]))"
            ]
          },
          "execution_count": 19,
          "metadata": {},
          "output_type": "execute_result"
        }
      ],
      "source": [
        "X[[0, 1], [1, 2]], X[[0, 0], [1, 0]]"
      ]
    },
    {
      "cell_type": "code",
      "execution_count": null,
      "metadata": {
        "ExecuteTime": {
          "end_time": "2022-09-22T08:01:06.109378Z",
          "start_time": "2022-09-22T08:01:06.092380Z"
        },
        "id": "LEcrXd2xwr5D",
        "outputId": "cebe2cd4-3b63-4f33-fad4-e0ba3609190e"
      },
      "outputs": [
        {
          "data": {
            "text/plain": [
              "array([[[ 0,  1,  2,  3],\n",
              "        [ 4,  5,  6,  7]],\n",
              "\n",
              "       [[ 8,  9, 10, 11],\n",
              "        [12, 13, 14, 15]],\n",
              "\n",
              "       [[16, 17, 18, 19],\n",
              "        [20, 21, 22, 23]]])"
            ]
          },
          "execution_count": 44,
          "metadata": {},
          "output_type": "execute_result"
        }
      ],
      "source": [
        "Y = np.arange(24).reshape((3, 2, 4))\n",
        "Y"
      ]
    },
    {
      "cell_type": "code",
      "execution_count": null,
      "metadata": {
        "ExecuteTime": {
          "end_time": "2022-09-22T08:01:06.298410Z",
          "start_time": "2022-09-22T08:01:06.279410Z"
        },
        "id": "NWiIuyIuwr5D",
        "outputId": "aa64d6f1-5782-4323-87da-dcef00005648"
      },
      "outputs": [
        {
          "data": {
            "text/plain": [
              "array([[10, 14],\n",
              "       [ 1,  5]])"
            ]
          },
          "execution_count": 45,
          "metadata": {},
          "output_type": "execute_result"
        }
      ],
      "source": [
        "Y[[1, 0], :, [2, 1]]"
      ]
    },
    {
      "cell_type": "markdown",
      "metadata": {
        "id": "sMQcb_lUwr5D"
      },
      "source": [
        "### `Сокращенная индексация`\n",
        "\n",
        "Если у вас есть многомерный массив, а вам, например, надо взять определенные индексы только с последней размерности, то можно написать так:"
      ]
    },
    {
      "cell_type": "code",
      "execution_count": null,
      "metadata": {
        "ExecuteTime": {
          "end_time": "2022-09-22T08:01:06.677537Z",
          "start_time": "2022-09-22T08:01:06.662539Z"
        },
        "id": "SF53jczKwr5D",
        "outputId": "889a37db-0496-42d9-9a3a-f757cef5db87"
      },
      "outputs": [
        {
          "name": "stdout",
          "output_type": "stream",
          "text": [
            "[[[ 0  5 10 15]\n",
            "  [20 25 30 35]]\n",
            "\n",
            " [[40 45 50 55]\n",
            "  [60 65 70 75]]]\n"
          ]
        },
        {
          "data": {
            "text/plain": [
              "(2, 2, 4)"
            ]
          },
          "execution_count": 46,
          "metadata": {},
          "output_type": "execute_result"
        }
      ],
      "source": [
        "x = np.arange(80).reshape((2, 2, 4, 5))\n",
        "\n",
        "print(x[..., 0])\n",
        "x[..., 0].shape"
      ]
    },
    {
      "cell_type": "markdown",
      "metadata": {
        "id": "WKT9fBoiwr5D"
      },
      "source": [
        "Более хитрый пример:"
      ]
    },
    {
      "cell_type": "code",
      "execution_count": null,
      "metadata": {
        "ExecuteTime": {
          "end_time": "2022-09-22T08:01:07.059608Z",
          "start_time": "2022-09-22T08:01:07.045609Z"
        },
        "id": "2Uyq_Rs_wr5D",
        "outputId": "a1f65797-e7d7-4bd2-88e2-d5da7854bade"
      },
      "outputs": [
        {
          "name": "stdout",
          "output_type": "stream",
          "text": [
            "[[[516 518]\n",
            "  [520 522]\n",
            "  [524 526]]\n",
            "\n",
            " [[576 578]\n",
            "  [580 582]\n",
            "  [584 586]]\n",
            "\n",
            " [[636 638]\n",
            "  [640 642]\n",
            "  [644 646]]\n",
            "\n",
            " [[696 698]\n",
            "  [700 702]\n",
            "  [704 706]]]\n"
          ]
        },
        {
          "data": {
            "text/plain": [
              "(4, 3, 2)"
            ]
          },
          "execution_count": 47,
          "metadata": {},
          "output_type": "execute_result"
        }
      ],
      "source": [
        "x = np.arange(720).reshape((3, 4, 5, 3, 2, 2))\n",
        "\n",
        "print(x[2, :, 3, ..., 0])\n",
        "x[2, :, 3, ..., 0].shape"
      ]
    },
    {
      "cell_type": "markdown",
      "metadata": {
        "id": "FV_fLkBVwr5D"
      },
      "source": [
        "### `Арифметические операции`\n",
        "\n",
        "- Арифметические операции в общем случае по-элементные и требуют одинакового размера операндов<br>\n",
        "\n",
        "- Но часто NumPy может применять их к операндам разного размера с помощью broadcasting, то есть правил обработки операндов разного размера<br><br>\n",
        "\n",
        "Примеры операций с массивами одного размера:"
      ]
    },
    {
      "cell_type": "code",
      "execution_count": 29,
      "metadata": {
        "ExecuteTime": {
          "end_time": "2022-09-22T08:01:07.483335Z",
          "start_time": "2022-09-22T08:01:07.468336Z"
        },
        "colab": {
          "base_uri": "https://localhost:8080/"
        },
        "id": "Lf_4cys_wr5E",
        "outputId": "3371a858-2883-4ec6-b313-337d92f56195"
      },
      "outputs": [
        {
          "name": "stdout",
          "output_type": "stream",
          "text": [
            "[[1 2 3]\n",
            " [4 5 6]\n",
            " [7 8 9]] \n",
            "\n",
            " [[1 0 0]\n",
            " [0 2 0]\n",
            " [0 0 3]] \n",
            "\n",
            " [[ 2  4  6]\n",
            " [ 8 10 12]\n",
            " [14 16 18]] \n",
            "\n",
            " [[ 2  2  3]\n",
            " [ 4  7  6]\n",
            " [ 7  8 12]]\n"
          ]
        }
      ],
      "source": [
        "A, B = np.array(A), np.array(B)  # were declared previously\n",
        "\n",
        "print(A, '\\n\\n', B, '\\n\\n', 2 * A, '\\n\\n', A + B)"
      ]
    },
    {
      "cell_type": "markdown",
      "metadata": {
        "id": "T5Wamqumwr5E"
      },
      "source": [
        "### `Поэлементные арифметические операции`"
      ]
    },
    {
      "cell_type": "code",
      "execution_count": 30,
      "metadata": {
        "ExecuteTime": {
          "end_time": "2022-09-22T08:01:07.881483Z",
          "start_time": "2022-09-22T08:01:07.868481Z"
        },
        "colab": {
          "base_uri": "https://localhost:8080/"
        },
        "id": "NLuiSggUwr5E",
        "outputId": "2dc78bf3-1d24-456f-a490-1a990eccf001"
      },
      "outputs": [
        {
          "data": {
            "text/plain": [
              "array([[ 0.84147098,  0.90929743,  0.14112001],\n",
              "       [-0.7568025 , -0.95892427, -0.2794155 ],\n",
              "       [ 0.6569866 ,  0.98935825,  0.41211849]])"
            ]
          },
          "execution_count": 30,
          "metadata": {},
          "output_type": "execute_result"
        }
      ],
      "source": [
        "np.sin(A)"
      ]
    },
    {
      "cell_type": "code",
      "execution_count": 31,
      "metadata": {
        "ExecuteTime": {
          "end_time": "2022-09-22T08:01:08.099286Z",
          "start_time": "2022-09-22T08:01:08.093285Z"
        },
        "colab": {
          "base_uri": "https://localhost:8080/"
        },
        "id": "Cb--ILeOwr5E",
        "outputId": "f05584a2-2d86-41cb-ddfa-91e50369fd37"
      },
      "outputs": [
        {
          "data": {
            "text/plain": [
              "array([[1, 2, 3],\n",
              "       [4, 5, 6],\n",
              "       [7, 8, 9]])"
            ]
          },
          "execution_count": 31,
          "metadata": {},
          "output_type": "execute_result"
        }
      ],
      "source": [
        "np.abs(A)"
      ]
    },
    {
      "cell_type": "code",
      "execution_count": 32,
      "metadata": {
        "ExecuteTime": {
          "end_time": "2022-09-22T08:01:08.303328Z",
          "start_time": "2022-09-22T08:01:08.293329Z"
        },
        "colab": {
          "base_uri": "https://localhost:8080/"
        },
        "id": "AbdIrzASwr5E",
        "outputId": "b50dad68-74a1-474d-edfe-a1239b6462c4"
      },
      "outputs": [
        {
          "data": {
            "text/plain": [
              "array([[1.        , 1.41421356, 1.73205081],\n",
              "       [2.        , 2.23606798, 2.44948974],\n",
              "       [2.64575131, 2.82842712, 3.        ]])"
            ]
          },
          "execution_count": 32,
          "metadata": {},
          "output_type": "execute_result"
        }
      ],
      "source": [
        "A ** 0.5"
      ]
    },
    {
      "cell_type": "markdown",
      "metadata": {
        "ExecuteTime": {
          "end_time": "2022-09-22T07:19:36.696313Z",
          "start_time": "2022-09-22T07:19:36.683314Z"
        },
        "id": "JnHmtvFBwr5E"
      },
      "source": [
        "Поэлементые операции сравнения:"
      ]
    },
    {
      "cell_type": "code",
      "execution_count": 33,
      "metadata": {
        "ExecuteTime": {
          "end_time": "2022-09-22T08:01:08.696455Z",
          "start_time": "2022-09-22T08:01:08.678456Z"
        },
        "colab": {
          "base_uri": "https://localhost:8080/"
        },
        "id": "59RrLNAMwr5E",
        "outputId": "e9c076fa-0b65-4eea-fc2c-eb8e6fa5c047"
      },
      "outputs": [
        {
          "data": {
            "text/plain": [
              "array([[False, False, False],\n",
              "       [ True,  True,  True],\n",
              "       [ True,  True,  True]])"
            ]
          },
          "execution_count": 33,
          "metadata": {},
          "output_type": "execute_result"
        }
      ],
      "source": [
        "A > 3"
      ]
    },
    {
      "cell_type": "markdown",
      "metadata": {
        "id": "wIWBy9Vlwr5E"
      },
      "source": [
        "### `Матричные арифметические операции`"
      ]
    },
    {
      "cell_type": "code",
      "execution_count": 34,
      "metadata": {
        "ExecuteTime": {
          "end_time": "2022-09-22T08:01:09.092838Z",
          "start_time": "2022-09-22T08:01:09.079837Z"
        },
        "colab": {
          "base_uri": "https://localhost:8080/"
        },
        "id": "0cuAz2RYwr5E",
        "outputId": "c89086d6-ecbd-418e-f8c4-33b0e4a800a2"
      },
      "outputs": [
        {
          "name": "stdout",
          "output_type": "stream",
          "text": [
            "[[0 2 3]\n",
            " [4 3 6]\n",
            " [7 8 6]]\n"
          ]
        }
      ],
      "source": [
        "print(A - B)"
      ]
    },
    {
      "cell_type": "code",
      "execution_count": 35,
      "metadata": {
        "ExecuteTime": {
          "end_time": "2022-09-22T08:01:09.312868Z",
          "start_time": "2022-09-22T08:01:09.300868Z"
        },
        "colab": {
          "base_uri": "https://localhost:8080/"
        },
        "id": "PbqVDUWJwr5E",
        "outputId": "eb3f5c1a-dfd8-450d-f95d-ac8e48621222"
      },
      "outputs": [
        {
          "name": "stdout",
          "output_type": "stream",
          "text": [
            "[[ 1  0  0]\n",
            " [ 0 10  0]\n",
            " [ 0  0 27]]\n"
          ]
        }
      ],
      "source": [
        "print(A * B)"
      ]
    },
    {
      "cell_type": "code",
      "execution_count": 36,
      "metadata": {
        "ExecuteTime": {
          "end_time": "2022-09-22T08:01:09.504270Z",
          "start_time": "2022-09-22T08:01:09.501269Z"
        },
        "colab": {
          "base_uri": "https://localhost:8080/"
        },
        "id": "sNG4QwuIwr5E",
        "outputId": "f9a21388-e69a-4ba1-b1bd-843bd4ec8a53"
      },
      "outputs": [
        {
          "name": "stdout",
          "output_type": "stream",
          "text": [
            "[[1.         0.         0.        ]\n",
            " [0.         0.4        0.        ]\n",
            " [0.         0.         0.33333333]]\n"
          ]
        }
      ],
      "source": [
        "print(B / A)"
      ]
    },
    {
      "cell_type": "code",
      "execution_count": 37,
      "metadata": {
        "ExecuteTime": {
          "end_time": "2022-09-22T08:01:09.709313Z",
          "start_time": "2022-09-22T08:01:09.700313Z"
        },
        "colab": {
          "base_uri": "https://localhost:8080/"
        },
        "id": "YPXwQduPwr5E",
        "outputId": "847481fc-65f3-4b28-aca0-92c0ffa09e1b"
      },
      "outputs": [
        {
          "name": "stdout",
          "output_type": "stream",
          "text": [
            "[[ 1  4  9]\n",
            " [ 4 10 18]\n",
            " [ 7 16 27]]\n"
          ]
        }
      ],
      "source": [
        "print(A @ B)"
      ]
    },
    {
      "cell_type": "markdown",
      "metadata": {
        "id": "_jaAXGggwr5E"
      },
      "source": [
        "### `Фиктивная размерность`"
      ]
    },
    {
      "cell_type": "markdown",
      "metadata": {
        "id": "nqXtoHlpwr5E"
      },
      "source": [
        "Два способа добавить фиктивную размерность в произвольный массив:"
      ]
    },
    {
      "cell_type": "code",
      "execution_count": null,
      "metadata": {
        "ExecuteTime": {
          "end_time": "2022-09-22T08:01:10.323226Z",
          "start_time": "2022-09-22T08:01:10.308228Z"
        },
        "id": "0UEvpbowwr5E",
        "outputId": "91d3f68e-5c13-4c38-8767-af6fd4ee1245"
      },
      "outputs": [
        {
          "data": {
            "text/plain": [
              "(2, 1, 2, 3)"
            ]
          },
          "execution_count": 57,
          "metadata": {},
          "output_type": "execute_result"
        }
      ],
      "source": [
        "d[:, np.newaxis].shape"
      ]
    },
    {
      "cell_type": "code",
      "execution_count": null,
      "metadata": {
        "ExecuteTime": {
          "end_time": "2022-09-22T08:01:10.526305Z",
          "start_time": "2022-09-22T08:01:10.509305Z"
        },
        "id": "ONIZK7ZIwr5F",
        "outputId": "f5c2b22b-4753-4d29-a1ad-1a9564e82b6e"
      },
      "outputs": [
        {
          "data": {
            "text/plain": [
              "(1, 2, 2, 3)"
            ]
          },
          "execution_count": 58,
          "metadata": {},
          "output_type": "execute_result"
        }
      ],
      "source": [
        "d[None, :].shape"
      ]
    },
    {
      "cell_type": "markdown",
      "metadata": {
        "ExecuteTime": {
          "end_time": "2022-09-22T07:25:03.648117Z",
          "start_time": "2022-09-22T07:25:03.633117Z"
        },
        "id": "DGeBZLgUwr5F"
      },
      "source": [
        "Для одномерного массива можно использовать `reshape`:"
      ]
    },
    {
      "cell_type": "code",
      "execution_count": null,
      "metadata": {
        "ExecuteTime": {
          "end_time": "2022-09-22T08:01:10.922302Z",
          "start_time": "2022-09-22T08:01:10.908303Z"
        },
        "id": "CpBCcb-jwr5F",
        "outputId": "8e784e7a-452f-46b9-a573-c8a8ce9762e3"
      },
      "outputs": [
        {
          "data": {
            "text/plain": [
              "(array([0, 1, 2, 3, 4, 5, 6]),\n",
              " array([[0],\n",
              "        [1],\n",
              "        [2],\n",
              "        [3],\n",
              "        [4],\n",
              "        [5],\n",
              "        [6]]))"
            ]
          },
          "execution_count": 59,
          "metadata": {},
          "output_type": "execute_result"
        }
      ],
      "source": [
        "x = np.arange(7)\n",
        "\n",
        "x, x.reshape(-1, 1)"
      ]
    },
    {
      "cell_type": "markdown",
      "metadata": {
        "ExecuteTime": {
          "end_time": "2022-09-22T07:24:04.521584Z",
          "start_time": "2022-09-22T07:24:04.513585Z"
        },
        "id": "o-aB0SESwr5F"
      },
      "source": [
        "Зачем нужно добавлять фиктивную размерность? Например, чтобы проводить различные операции с массивами неравного размера."
      ]
    },
    {
      "cell_type": "markdown",
      "metadata": {
        "id": "gqVFDiQ3wr5F"
      },
      "source": [
        "### `Broadcasting`\n",
        "\n",
        "Подробное описание: http://docs.scipy.org/doc/numpy/user/basics.broadcasting.html"
      ]
    },
    {
      "cell_type": "markdown",
      "metadata": {
        "id": "_mY240Rbwr5F"
      },
      "source": [
        "Пусть нам дана матрица $X$ размером $5 \\times 5$ и вектор $y$ длины $5$. Пусть мы хотим прибавить вектор к каждой строке матрицы."
      ]
    },
    {
      "cell_type": "code",
      "execution_count": null,
      "metadata": {
        "ExecuteTime": {
          "end_time": "2022-09-22T08:01:11.744952Z",
          "start_time": "2022-09-22T08:01:11.732954Z"
        },
        "id": "ssX2luVrwr5F",
        "outputId": "95f0d430-8378-4399-e770-9e432dfde3b6"
      },
      "outputs": [
        {
          "data": {
            "text/plain": [
              "(array([[ 0,  1,  2,  3,  4],\n",
              "        [ 5,  6,  7,  8,  9],\n",
              "        [10, 11, 12, 13, 14],\n",
              "        [15, 16, 17, 18, 19],\n",
              "        [20, 21, 22, 23, 24]]),\n",
              " array([0, 1, 2, 3, 4]))"
            ]
          },
          "execution_count": 60,
          "metadata": {},
          "output_type": "execute_result"
        }
      ],
      "source": [
        "x = np.arange(25).reshape(5, 5)\n",
        "y = np.arange(5)\n",
        "\n",
        "x, y"
      ]
    },
    {
      "cell_type": "markdown",
      "metadata": {
        "id": "fGqD_kiMwr5F"
      },
      "source": [
        "Наивный способ решения проблемы будет работать правильно!"
      ]
    },
    {
      "cell_type": "code",
      "execution_count": null,
      "metadata": {
        "ExecuteTime": {
          "end_time": "2022-09-22T08:01:12.172295Z",
          "start_time": "2022-09-22T08:01:12.156295Z"
        },
        "id": "nfqkNVnIwr5F",
        "outputId": "5bff00a1-ddf6-47c7-fc5a-13f495af08ed"
      },
      "outputs": [
        {
          "data": {
            "text/plain": [
              "array([[ 0,  2,  4,  6,  8],\n",
              "       [ 5,  7,  9, 11, 13],\n",
              "       [10, 12, 14, 16, 18],\n",
              "       [15, 17, 19, 21, 23],\n",
              "       [20, 22, 24, 26, 28]])"
            ]
          },
          "execution_count": 61,
          "metadata": {},
          "output_type": "execute_result"
        }
      ],
      "source": [
        "x + y"
      ]
    },
    {
      "cell_type": "markdown",
      "metadata": {
        "id": "eYQcxI4Cwr5F"
      },
      "source": [
        "**Почему?** Правила broadcasting (приведение размеров).\n",
        "\n",
        "1. Если два массива имеют размерности $(a_1, a_2, ..., a_n)$ и $(b_1, b_2, ..., b_n)$ соответственно, то между ними можно проводить поэлементные операции, если для каждого $i$ выполнено одно из трёх условий:\n",
        "    * $a_i = b_i$\n",
        "    * $a_i = 1$\n",
        "    * $b_i = 1$\n",
        "    \n",
        "2. Если поэлементная операция выполняется между массивами разного размера, то к массиву меньшего размера добавляются ведущие фиктивные размерности."
      ]
    },
    {
      "cell_type": "markdown",
      "metadata": {
        "id": "8KAe7FHwwr5F"
      },
      "source": [
        "### `Арифметика и broadcasting`\n",
        "\n",
        "Если по одному из измерений массивы не равны, и у одного из них эта размерность имеет длину 1, то он будет продублирован по этой размерности:"
      ]
    },
    {
      "cell_type": "code",
      "execution_count": null,
      "metadata": {
        "ExecuteTime": {
          "end_time": "2022-09-22T08:01:12.788303Z",
          "start_time": "2022-09-22T08:01:12.780304Z"
        },
        "id": "uQGhIocywr5F",
        "outputId": "9c5a2790-b503-45a4-96b6-8c4961bb0e64"
      },
      "outputs": [
        {
          "name": "stdout",
          "output_type": "stream",
          "text": [
            "[2 2] \n",
            "\n",
            "[[2 3]\n",
            " [4 5]] \n",
            "\n",
            "[[2 3]\n",
            " [4 5]]\n"
          ]
        }
      ],
      "source": [
        "a = np.array([[1, 2], [3, 4]])\n",
        "b = np.array([1])\n",
        "c = np.array([1, 1])\n",
        "\n",
        "print(b + c, '\\n')\n",
        "print(a + b, '\\n')\n",
        "print(a + c)"
      ]
    },
    {
      "cell_type": "markdown",
      "metadata": {
        "id": "5PMWVU-Qwr5F"
      },
      "source": [
        "### `Арифметика и broadcasting`\n",
        "\n",
        "Если не совпадает количество размерностей, то массив, у которого их меньше, будет \"добиваться\" слева размерностями длины 1:"
      ]
    },
    {
      "cell_type": "code",
      "execution_count": null,
      "metadata": {
        "ExecuteTime": {
          "end_time": "2022-09-22T08:01:13.216291Z",
          "start_time": "2022-09-22T08:01:13.204294Z"
        },
        "id": "TTEMHrccwr5F",
        "outputId": "7b72e766-073c-4aec-e4b2-e9455f176b64"
      },
      "outputs": [
        {
          "name": "stdout",
          "output_type": "stream",
          "text": [
            "[[[2. 2. 2. 2.]\n",
            "  [2. 2. 2. 2.]\n",
            "  [2. 2. 2. 2.]]\n",
            "\n",
            " [[2. 2. 2. 2.]\n",
            "  [2. 2. 2. 2.]\n",
            "  [2. 2. 2. 2.]]]\n"
          ]
        }
      ],
      "source": [
        "a = np.ones((2, 3, 4))\n",
        "b = np.ones(4)\n",
        "\n",
        "print(a + b) # here a.shape=(2, 3, 4) and b.shape is considered to be (1, 1, 4)"
      ]
    },
    {
      "cell_type": "markdown",
      "metadata": {
        "id": "hBWkxmW1wr5F"
      },
      "source": [
        "### `Арифметика и broadcasting`\n",
        "\n",
        "Добавим к массиву вектор-строку:"
      ]
    },
    {
      "cell_type": "code",
      "execution_count": null,
      "metadata": {
        "ExecuteTime": {
          "end_time": "2022-09-22T08:01:13.863274Z",
          "start_time": "2022-09-22T08:01:13.852278Z"
        },
        "id": "Bkr1OJBIwr5F",
        "outputId": "700ca1cb-0786-458c-89a6-d529ee808302"
      },
      "outputs": [
        {
          "data": {
            "text/plain": [
              "array([[2, 4, 6],\n",
              "       [5, 7, 9]])"
            ]
          },
          "execution_count": 64,
          "metadata": {},
          "output_type": "execute_result"
        }
      ],
      "source": [
        "a = np.array([[1, 2, 3], [4, 5, 6]])\n",
        "b = np.array([1, 2, 3])\n",
        "a + b"
      ]
    },
    {
      "cell_type": "markdown",
      "metadata": {
        "id": "h4m1Ha9nwr5G"
      },
      "source": [
        "Теперь попробуем добавить столбец:"
      ]
    },
    {
      "cell_type": "code",
      "execution_count": 40,
      "metadata": {
        "ExecuteTime": {
          "end_time": "2022-09-22T08:01:14.289296Z",
          "start_time": "2022-09-22T08:01:14.278296Z"
        },
        "colab": {
          "base_uri": "https://localhost:8080/",
          "height": 220
        },
        "id": "m-g9xIGXwr5G",
        "outputId": "a20e2048-0acd-40cd-f506-00c273647e73"
      },
      "outputs": [
        {
          "ename": "ValueError",
          "evalue": "ignored",
          "output_type": "error",
          "traceback": [
            "\u001b[0;31m---------------------------------------------------------------------------\u001b[0m",
            "\u001b[0;31mValueError\u001b[0m                                Traceback (most recent call last)",
            "\u001b[0;32m<ipython-input-40-cff7a1376959>\u001b[0m in \u001b[0;36m<cell line: 3>\u001b[0;34m()\u001b[0m\n\u001b[1;32m      1\u001b[0m \u001b[0ma\u001b[0m \u001b[0;34m=\u001b[0m \u001b[0mnp\u001b[0m\u001b[0;34m.\u001b[0m\u001b[0marray\u001b[0m\u001b[0;34m(\u001b[0m\u001b[0;34m[\u001b[0m\u001b[0;34m[\u001b[0m\u001b[0;36m1\u001b[0m\u001b[0;34m,\u001b[0m \u001b[0;36m2\u001b[0m\u001b[0;34m,\u001b[0m \u001b[0;36m3\u001b[0m\u001b[0;34m]\u001b[0m\u001b[0;34m,\u001b[0m \u001b[0;34m[\u001b[0m\u001b[0;36m4\u001b[0m\u001b[0;34m,\u001b[0m \u001b[0;36m5\u001b[0m\u001b[0;34m,\u001b[0m \u001b[0;36m6\u001b[0m\u001b[0;34m]\u001b[0m\u001b[0;34m]\u001b[0m\u001b[0;34m)\u001b[0m\u001b[0;34m\u001b[0m\u001b[0;34m\u001b[0m\u001b[0m\n\u001b[1;32m      2\u001b[0m \u001b[0mb\u001b[0m \u001b[0;34m=\u001b[0m \u001b[0mnp\u001b[0m\u001b[0;34m.\u001b[0m\u001b[0marray\u001b[0m\u001b[0;34m(\u001b[0m\u001b[0;34m[\u001b[0m\u001b[0;36m1\u001b[0m\u001b[0;34m,\u001b[0m \u001b[0;36m2\u001b[0m\u001b[0;34m]\u001b[0m\u001b[0;34m)\u001b[0m\u001b[0;34m\u001b[0m\u001b[0;34m\u001b[0m\u001b[0m\n\u001b[0;32m----> 3\u001b[0;31m \u001b[0ma\u001b[0m \u001b[0;34m+\u001b[0m \u001b[0mb\u001b[0m\u001b[0;34m\u001b[0m\u001b[0;34m\u001b[0m\u001b[0m\n\u001b[0m",
            "\u001b[0;31mValueError\u001b[0m: operands could not be broadcast together with shapes (2,3) (2,) "
          ]
        }
      ],
      "source": [
        "a = np.array([[1, 2, 3], [4, 5, 6]])\n",
        "b = np.array([1, 2])\n",
        "a + b"
      ]
    },
    {
      "cell_type": "markdown",
      "metadata": {
        "id": "WL_cvc7swr5G"
      },
      "source": [
        "### `Арифметика и broadcasting`\n",
        "\n",
        "- Ошибка возникла из-за того, что прибавлялась строка с неправильным размером<br>\n",
        "\n",
        "- Нужно преобразовать строку в столбец (добавить фиктивную размерность), и тогда NumPy поймёт, как с ней работать<br><br>\n",
        "\n",
        "Для этого воспользуемся `reshape` (способ хороший, но далеко не единственный):"
      ]
    },
    {
      "cell_type": "code",
      "execution_count": 41,
      "metadata": {
        "ExecuteTime": {
          "end_time": "2022-09-22T08:01:14.748280Z",
          "start_time": "2022-09-22T08:01:14.740280Z"
        },
        "colab": {
          "base_uri": "https://localhost:8080/"
        },
        "id": "hiz3iBR8wr5G",
        "outputId": "0c780957-a951-41cd-bcd6-d8ca35101934"
      },
      "outputs": [
        {
          "data": {
            "text/plain": [
              "array([[2, 3, 4],\n",
              "       [6, 7, 8]])"
            ]
          },
          "execution_count": 41,
          "metadata": {},
          "output_type": "execute_result"
        }
      ],
      "source": [
        "a + np.reshape(b, (2, 1))"
      ]
    },
    {
      "cell_type": "markdown",
      "metadata": {
        "id": "1bY9h9h0wr5G"
      },
      "source": [
        "### `Арифметика и broadcasting`"
      ]
    },
    {
      "cell_type": "markdown",
      "metadata": {
        "id": "Pz1yjQBMwr5G"
      },
      "source": [
        "**Всегда проверяйте операции с броадкастингом! Легко можно напороться на неприятности**"
      ]
    },
    {
      "cell_type": "markdown",
      "metadata": {
        "id": "Zj8y_UA2wr5G"
      },
      "source": [
        "<font color='brown'>**Задача 5.** Какие из этих команд будут выполняться с ошибкой?</font>\n",
        "\n",
        "1. `np.ones((2, 3)) + np.ones(3)`\n",
        "\n",
        "2. `np.ones(2) + np.ones((2, 3))`\n",
        "\n",
        "3. `np.zeros((4, 3)) + np.ones((4, 1))`\n",
        "\n",
        "4. `np.zeros((3, 4)) + np.ones((4, 3))`\n",
        "\n",
        "5. `np.zeros((1, 3, 5)) + np.zeros((1, 3))`\n",
        "\n",
        "6. `np.zeros((5, 3, 1)) + np.zeros((1, 5))`"
      ]
    },
    {
      "cell_type": "code",
      "execution_count": 48,
      "metadata": {
        "ExecuteTime": {
          "end_time": "2022-09-22T08:01:16.271798Z",
          "start_time": "2022-09-22T08:01:16.267799Z"
        },
        "id": "wbmythqUwr5G"
      },
      "outputs": [],
      "source": [
        "### your answer here"
      ]
    },
    {
      "cell_type": "markdown",
      "metadata": {
        "id": "N4Pwr1gSwr5G"
      },
      "source": [
        "<font color='brown'>**Задача 6.** Пусть нам дана матрица $X$ размером $10 \\times 10$ и вектор-столбец $y$ длины $10$. Получите матрицу `result`, полученную прибавлением к каждому столбцу $X$ вектора $y$ (без использования циклов). </font>"
      ]
    },
    {
      "cell_type": "code",
      "execution_count": 50,
      "metadata": {
        "ExecuteTime": {
          "end_time": "2022-09-22T08:01:16.676285Z",
          "start_time": "2022-09-22T08:01:16.668285Z"
        },
        "id": "k9OgjV4gwr5G"
      },
      "outputs": [],
      "source": [
        "x = np.arange(100).reshape(10, 10)\n",
        "y = np.arange(10)"
      ]
    },
    {
      "cell_type": "code",
      "execution_count": 58,
      "metadata": {
        "ExecuteTime": {
          "end_time": "2022-09-22T08:01:16.866283Z",
          "start_time": "2022-09-22T08:01:16.853284Z"
        },
        "id": "QnQWIHBlwr5G"
      },
      "outputs": [],
      "source": [
        "## your code here"
      ]
    },
    {
      "cell_type": "markdown",
      "metadata": {
        "id": "trnkPpR9wr5G"
      },
      "source": [
        "Проверьте себя:"
      ]
    },
    {
      "cell_type": "code",
      "execution_count": 57,
      "metadata": {
        "deletable": false,
        "editable": false,
        "id": "VmYK5U1kwr5G",
        "run_control": {
          "frozen": true
        }
      },
      "outputs": [],
      "source": [
        "assert result[0][0] == 0\n",
        "for i in range(1, 10):\n",
        "    assert result[i][i-1] == 10 * i + (i - 1) * 2 + 1"
      ]
    },
    {
      "cell_type": "markdown",
      "metadata": {
        "id": "LL9IMT3Owr5G"
      },
      "source": [
        "### `Матричное умножение`\n",
        "\n",
        "Расмотрим для случая двумерных матриц, кому интересны многомерные, изучайте\n",
        "https://numpy.org/devdocs/reference/generated/numpy.dot.html"
      ]
    },
    {
      "cell_type": "code",
      "execution_count": 59,
      "metadata": {
        "ExecuteTime": {
          "end_time": "2022-09-22T08:01:17.673826Z",
          "start_time": "2022-09-22T08:01:17.659828Z"
        },
        "colab": {
          "base_uri": "https://localhost:8080/"
        },
        "id": "ZWCMRVeWwr5G",
        "outputId": "58d21f48-00b8-446f-8525-6da0835c29cb"
      },
      "outputs": [
        {
          "name": "stdout",
          "output_type": "stream",
          "text": [
            "[[ 1  4  9]\n",
            " [ 4 10 18]\n",
            " [ 7 16 27]] \n",
            "\n",
            "[[ 1  4  9]\n",
            " [ 4 10 18]\n",
            " [ 7 16 27]] \n",
            "\n",
            "[[ 1  4  9]\n",
            " [ 4 10 18]\n",
            " [ 7 16 27]]\n"
          ]
        }
      ],
      "source": [
        "print(A @ B, '\\n')\n",
        "print(A.dot(B), '\\n')\n",
        "print(np.dot(A, B))"
      ]
    },
    {
      "cell_type": "markdown",
      "metadata": {
        "id": "ruKEwUpBwr5G"
      },
      "source": [
        "### `Транспонирование`\n",
        "\n",
        "- Расмотрим для случая двумерных матриц, кому интересны многомерные, изучайте\n",
        "https://stackoverflow.com/questions/32034237/how-does-numpys-transpose-method-permute-the-axes-of-an-array\n",
        "- При транспонировании (как и `reshape`) возвращается ссылка на те же данные"
      ]
    },
    {
      "cell_type": "code",
      "execution_count": null,
      "metadata": {
        "ExecuteTime": {
          "end_time": "2022-09-22T08:01:18.346450Z",
          "start_time": "2022-09-22T08:01:18.340451Z"
        },
        "id": "Sb5c3LQ3wr5H",
        "outputId": "ef023952-ec2a-4bd4-8ebe-ea51b8f16320"
      },
      "outputs": [
        {
          "name": "stdout",
          "output_type": "stream",
          "text": [
            "[[1 2 3]\n",
            " [4 5 6]\n",
            " [7 8 9]] \n",
            "\n",
            " [[1 4 7]\n",
            " [2 5 8]\n",
            " [3 6 9]] \n",
            "\n",
            " [[1 4 7]\n",
            " [2 5 8]\n",
            " [3 6 9]]\n"
          ]
        }
      ],
      "source": [
        "print(A, '\\n\\n', A.T, '\\n\\n', A.transpose())"
      ]
    },
    {
      "cell_type": "markdown",
      "metadata": {
        "id": "vyP2aaxvxnSM"
      },
      "source": [
        "Стоит быть осторожным с транспонированием:"
      ]
    },
    {
      "cell_type": "code",
      "execution_count": null,
      "metadata": {
        "colab": {
          "base_uri": "https://localhost:8080/"
        },
        "id": "0B2AsZ4ow-DJ",
        "outputId": "cd8a9d34-fcc9-4eda-9eab-eea8f4b66586"
      },
      "outputs": [
        {
          "data": {
            "text/plain": [
              "(True, False)"
            ]
          },
          "execution_count": 57,
          "metadata": {},
          "output_type": "execute_result"
        }
      ],
      "source": [
        "# in memory: 0, 1, 2, 3\n",
        "a = np.arange(4).reshape(2, 2)\n",
        "b = a.reshape(-1)\n",
        "c = a.T.reshape(-1)\n",
        "np.may_share_memory(a, b), np.may_share_memory(a, c)"
      ]
    },
    {
      "cell_type": "code",
      "execution_count": null,
      "metadata": {
        "colab": {
          "base_uri": "https://localhost:8080/"
        },
        "id": "b1Ltx0q5yX-f",
        "outputId": "0d104fc9-6aa8-4755-a731-991390cca55f"
      },
      "outputs": [
        {
          "data": {
            "text/plain": [
              "False"
            ]
          },
          "execution_count": 62,
          "metadata": {},
          "output_type": "execute_result"
        }
      ],
      "source": [
        "d = a.T.view()\n",
        "np.may_share_memory(a, d)\n",
        "d.flags['C_CONTIGUOUS']"
      ]
    },
    {
      "cell_type": "code",
      "execution_count": null,
      "metadata": {
        "colab": {
          "base_uri": "https://localhost:8080/"
        },
        "id": "r2LeF-w4xYvr",
        "outputId": "764855f7-3321-4d62-df64-7d002a364f71"
      },
      "outputs": [
        {
          "name": "stdout",
          "output_type": "stream",
          "text": [
            "True\n",
            "False\n"
          ]
        }
      ],
      "source": [
        "print(a.flags['C_CONTIGUOUS'])\n",
        "print(a.T.flags['C_CONTIGUOUS'])"
      ]
    },
    {
      "cell_type": "markdown",
      "metadata": {
        "id": "ld63YyY4wr5H"
      },
      "source": [
        "### `Сравнение скорости`\n",
        "\n",
        "Воспользуемся декоратором `timed` для сравнения скорости матричных операций, реализованных в `numpy` и написанных выше с помощью списков:"
      ]
    },
    {
      "cell_type": "code",
      "execution_count": 62,
      "metadata": {
        "ExecuteTime": {
          "end_time": "2022-09-22T08:01:18.711053Z",
          "start_time": "2022-09-22T08:01:18.708055Z"
        },
        "id": "BtZObWGWwr5H"
      },
      "outputs": [],
      "source": [
        "@timed\n",
        "def matrix_add_np(A, B): return A + B\n",
        "\n",
        "@timed\n",
        "def matrix_mul_np(A, B): return A @ B"
      ]
    },
    {
      "cell_type": "code",
      "execution_count": 67,
      "metadata": {
        "ExecuteTime": {
          "end_time": "2022-09-22T08:01:20.085052Z",
          "start_time": "2022-09-22T08:01:18.909053Z"
        },
        "colab": {
          "base_uri": "https://localhost:8080/"
        },
        "id": "23AocmUnwr5H",
        "outputId": "2e075f0b-4124-4596-f8b2-f6419b7e93c8"
      },
      "outputs": [
        {
          "name": "stdout",
          "output_type": "stream",
          "text": [
            "matrix_add  690.307 ms\n",
            "\n",
            "matrix_add_np  3.761 ms\n",
            "\n",
            "matrix_transpose  12.119 ms\n",
            "\n",
            "matrix_mul  2138.916 ms\n",
            "\n",
            "matrix_mul_np  8.289 ms\n",
            "\n"
          ]
        }
      ],
      "source": [
        "tmp = [range(1000) for _ in range(1000)]\n",
        "X, Y = np.array(tmp), np.array(tmp)\n",
        "\n",
        "_ = matrix_add(X, Y)\n",
        "_ = matrix_add_np(X, Y)\n",
        "\n",
        "tmp = [range(200) for _ in range(200)]\n",
        "X, Y = np.array(tmp), np.array(tmp)\n",
        "\n",
        "_ = matrix_mul(X, Y)\n",
        "_ = matrix_mul_np(X, Y)"
      ]
    },
    {
      "cell_type": "markdown",
      "metadata": {
        "id": "KUj7neWdwr5H"
      },
      "source": [
        "### `Агрегирующие функции`\n",
        "\n",
        "Подобных функций много, ищите нужное в документации NumPy"
      ]
    },
    {
      "cell_type": "code",
      "execution_count": 68,
      "metadata": {
        "ExecuteTime": {
          "end_time": "2022-09-22T08:01:20.101051Z",
          "start_time": "2022-09-22T08:01:20.086053Z"
        },
        "colab": {
          "base_uri": "https://localhost:8080/"
        },
        "id": "7EOCromVwr5H",
        "outputId": "919ca7c4-22b3-4493-db79-fe1a67dd0776"
      },
      "outputs": [
        {
          "name": "stdout",
          "output_type": "stream",
          "text": [
            "Min element:          1\n",
            "Min element position: 0\n",
            "Max element:          4\n",
            "Mean:                 2.4444444444444446\n",
            "Sum:                  22\n",
            "Median:               3.0\n",
            "Cumulative sum:       [ 1  3  6 10 13 15 16 19 22]\n",
            "Cumulative product:   [   1    2    6   24   72  144  144  432 1296]\n"
          ]
        }
      ],
      "source": [
        "a = np.array([1, 2, 3, 4, 3, 2, 1, 3, 3])\n",
        "\n",
        "print('Min element:          {}'.format(np.min(a)))\n",
        "print('Min element position: {}'.format(np.argmin(a)))\n",
        "print('Max element:          {}'.format(np.max(a)))\n",
        "print('Mean:                 {}'.format(np.mean(a)))\n",
        "print('Sum:                  {}'.format(np.sum(a)))\n",
        "print('Median:               {}'.format(np.median(a)))\n",
        "print('Cumulative sum:       {}'.format(np.cumsum(a)))\n",
        "print('Cumulative product:   {}'.format(np.cumprod(a)))"
      ]
    },
    {
      "cell_type": "markdown",
      "metadata": {
        "id": "uYg01iftwr5H"
      },
      "source": [
        "Что будет происходить в случае многомерного массива?"
      ]
    },
    {
      "cell_type": "markdown",
      "metadata": {
        "id": "jUzJGy6Zwr5H"
      },
      "source": [
        "### `Агрегирующие функции`\n",
        "\n",
        "В многомерном случае операция применяется к массиву, вытянутому в вектор (flatten):"
      ]
    },
    {
      "cell_type": "code",
      "execution_count": 69,
      "metadata": {
        "ExecuteTime": {
          "end_time": "2022-09-22T08:01:20.433246Z",
          "start_time": "2022-09-22T08:01:20.420248Z"
        },
        "colab": {
          "base_uri": "https://localhost:8080/"
        },
        "id": "58GTTlgNwr5H",
        "outputId": "3c2450b0-6f34-4789-939f-1c85ec3cd014"
      },
      "outputs": [
        {
          "name": "stdout",
          "output_type": "stream",
          "text": [
            "[[1 2 3]\n",
            " [4 3 2]\n",
            " [1 3 3]] \n",
            "\n",
            "4\n",
            "[ 1  3  6 10 13 15 16 19 22]\n"
          ]
        }
      ],
      "source": [
        "a = np.array([[1, 2, 3], [4, 3, 2], [1, 3, 3]])\n",
        "print(a, '\\n')\n",
        "print(np.max(a))\n",
        "print(np.cumsum(a))"
      ]
    },
    {
      "cell_type": "markdown",
      "metadata": {
        "id": "TobiMxnNwr5H"
      },
      "source": [
        "Для работы с определёнными размерностям нужно указать явно параметр `axis`:"
      ]
    },
    {
      "cell_type": "code",
      "execution_count": 70,
      "metadata": {
        "ExecuteTime": {
          "end_time": "2022-09-22T08:01:21.207849Z",
          "start_time": "2022-09-22T08:01:21.203849Z"
        },
        "colab": {
          "base_uri": "https://localhost:8080/"
        },
        "id": "OHa5B2kGwr5H",
        "outputId": "8b82cc57-c233-41ab-ae5d-4fce88351b89"
      },
      "outputs": [
        {
          "name": "stdout",
          "output_type": "stream",
          "text": [
            "[4 3 3] \n",
            "\n",
            "[[1 3 6]\n",
            " [4 7 9]\n",
            " [1 4 7]]\n"
          ]
        }
      ],
      "source": [
        "print(np.max(a, axis=0), '\\n')\n",
        "print(np.cumsum(a, axis=1))"
      ]
    },
    {
      "cell_type": "markdown",
      "metadata": {
        "id": "yIEmY7Bdwr5H"
      },
      "source": [
        "Как легко запомнить, как работает axis:\n",
        "* после применения функции получится массив, в котором будет отсутствовать размерность указанная в `axis`, но остальные размерности будут иметь такие же значения"
      ]
    },
    {
      "cell_type": "markdown",
      "metadata": {
        "id": "48iS2mT3wr5H"
      },
      "source": [
        "### `Агрегирующие функции`"
      ]
    },
    {
      "cell_type": "markdown",
      "metadata": {
        "id": "nXoO-Mnzwr5H"
      },
      "source": [
        "<font color='brown'>**Задача 7.** Дан вектор $x$ и квадратная матрица $D$. Вычислить вектор значений $y_j = argmin_i (x_i + D_{ij})$. </font>"
      ]
    },
    {
      "cell_type": "code",
      "execution_count": 72,
      "metadata": {
        "ExecuteTime": {
          "end_time": "2022-09-22T08:01:22.410865Z",
          "start_time": "2022-09-22T08:01:22.395866Z"
        },
        "id": "N2whjihMwr5H"
      },
      "outputs": [],
      "source": [
        "x = np.array([5, 2, 3, 1])\n",
        "D = np.array([\n",
        "    [1, 2, 3],\n",
        "    [2, 2, 4],\n",
        "    [5, 6, 1],\n",
        "    [2, 4, 5]\n",
        "])"
      ]
    },
    {
      "cell_type": "code",
      "execution_count": 74,
      "metadata": {
        "ExecuteTime": {
          "end_time": "2022-09-22T08:01:23.026153Z",
          "start_time": "2022-09-22T08:01:23.021153Z"
        },
        "id": "6T0TxDgAwr5H"
      },
      "outputs": [],
      "source": [
        "### your code here"
      ]
    },
    {
      "cell_type": "markdown",
      "metadata": {
        "id": "xfser09gwr5I"
      },
      "source": [
        "Проверьте себя:"
      ]
    },
    {
      "cell_type": "code",
      "execution_count": null,
      "metadata": {
        "deletable": false,
        "editable": false,
        "id": "twcERR7wwr5I",
        "run_control": {
          "frozen": true
        }
      },
      "outputs": [],
      "source": [
        "assert y.tolist() == [3, 1, 2]"
      ]
    },
    {
      "cell_type": "markdown",
      "metadata": {
        "id": "Cx6aRvM3wr5I"
      },
      "source": [
        "### `Конкатенация массивов`\n",
        "\n",
        "Конкатенировать несколько массивом можно с помощью функций `concatenate` (общий случай), `hstack` и `vstack`:"
      ]
    },
    {
      "cell_type": "code",
      "execution_count": 75,
      "metadata": {
        "ExecuteTime": {
          "end_time": "2022-09-22T08:01:23.797110Z",
          "start_time": "2022-09-22T08:01:23.780110Z"
        },
        "colab": {
          "base_uri": "https://localhost:8080/"
        },
        "id": "p0ZWDq0pwr5I",
        "outputId": "28702804-2926-45ca-b1e8-b03b7d808f09"
      },
      "outputs": [
        {
          "data": {
            "text/plain": [
              "array([[1, 2, 3, 1, 0, 0],\n",
              "       [4, 5, 6, 0, 2, 0],\n",
              "       [7, 8, 9, 0, 0, 3]])"
            ]
          },
          "execution_count": 75,
          "metadata": {},
          "output_type": "execute_result"
        }
      ],
      "source": [
        "np.hstack([A, B])"
      ]
    },
    {
      "cell_type": "code",
      "execution_count": 77,
      "metadata": {
        "ExecuteTime": {
          "end_time": "2022-09-22T08:01:24.034241Z",
          "start_time": "2022-09-22T08:01:24.021242Z"
        },
        "colab": {
          "base_uri": "https://localhost:8080/"
        },
        "id": "3rD-PRUswr5I",
        "outputId": "8920adef-7544-4acf-92b8-b51ae57fccf8"
      },
      "outputs": [
        {
          "data": {
            "text/plain": [
              "array([[1, 2, 3],\n",
              "       [4, 5, 6],\n",
              "       [7, 8, 9],\n",
              "       [1, 0, 0],\n",
              "       [0, 2, 0],\n",
              "       [0, 0, 3]])"
            ]
          },
          "execution_count": 77,
          "metadata": {},
          "output_type": "execute_result"
        }
      ],
      "source": [
        "np.vstack([A, B])"
      ]
    },
    {
      "cell_type": "markdown",
      "metadata": {
        "id": "I91zVecxwr5I"
      },
      "source": [
        "### `Ещё несколько полезных функций`"
      ]
    },
    {
      "cell_type": "markdown",
      "metadata": {
        "ExecuteTime": {
          "end_time": "2022-09-22T07:36:35.881026Z",
          "start_time": "2022-09-22T07:36:35.869029Z"
        },
        "id": "KQdeow4Twr5I"
      },
      "source": [
        "Чтобы построить двумерный массив, состоящий из повторений одномерных, можно использовать `np.tile`:"
      ]
    },
    {
      "cell_type": "code",
      "execution_count": 78,
      "metadata": {
        "ExecuteTime": {
          "end_time": "2022-09-22T08:01:24.726675Z",
          "start_time": "2022-09-22T08:01:24.707676Z"
        },
        "colab": {
          "base_uri": "https://localhost:8080/"
        },
        "id": "aN-Jabqpwr5I",
        "outputId": "532aa528-5e4b-4d10-d7bd-0f68abf4fa33"
      },
      "outputs": [
        {
          "data": {
            "text/plain": [
              "array([[2, 3, 4],\n",
              "       [2, 3, 4]])"
            ]
          },
          "execution_count": 78,
          "metadata": {},
          "output_type": "execute_result"
        }
      ],
      "source": [
        "a = np.array([2, 3, 4])\n",
        "np.tile(a[np.newaxis, :], (2, 1))"
      ]
    },
    {
      "cell_type": "markdown",
      "metadata": {
        "ExecuteTime": {
          "end_time": "2022-09-22T07:37:41.398443Z",
          "start_time": "2022-09-22T07:37:41.381445Z"
        },
        "id": "1eu3K7lBwr5I"
      },
      "source": [
        "Для того, чтобы повторить каждый элемент в массиве, можно использовать `np.repeat`"
      ]
    },
    {
      "cell_type": "code",
      "execution_count": 79,
      "metadata": {
        "ExecuteTime": {
          "end_time": "2022-09-22T08:01:25.101579Z",
          "start_time": "2022-09-22T08:01:25.092580Z"
        },
        "colab": {
          "base_uri": "https://localhost:8080/"
        },
        "id": "UBz_DJGWwr5I",
        "outputId": "309c2151-2b49-45e3-9cf1-c2212b8c1c0c"
      },
      "outputs": [
        {
          "data": {
            "text/plain": [
              "array([1, 1, 2, 2, 3, 3])"
            ]
          },
          "execution_count": 79,
          "metadata": {},
          "output_type": "execute_result"
        }
      ],
      "source": [
        "np.repeat([1, 2, 3], repeats=2, axis=0)"
      ]
    },
    {
      "cell_type": "code",
      "execution_count": 80,
      "metadata": {
        "ExecuteTime": {
          "end_time": "2022-09-22T08:01:25.304654Z",
          "start_time": "2022-09-22T08:01:25.292654Z"
        },
        "colab": {
          "base_uri": "https://localhost:8080/"
        },
        "id": "PWMFuXWMwr5I",
        "outputId": "129035fa-2868-45ec-a94a-6e3d15b5aaae"
      },
      "outputs": [
        {
          "name": "stdout",
          "output_type": "stream",
          "text": [
            "True\n",
            "False\n",
            "[ True False False]\n"
          ]
        }
      ],
      "source": [
        "print(np.all(A == A))\n",
        "print(np.all(A == B))\n",
        "print(np.all(A == [1, 2, 3], axis=1))"
      ]
    },
    {
      "cell_type": "code",
      "execution_count": 81,
      "metadata": {
        "ExecuteTime": {
          "end_time": "2022-09-22T08:01:25.541219Z",
          "start_time": "2022-09-22T08:01:25.532218Z"
        },
        "colab": {
          "base_uri": "https://localhost:8080/"
        },
        "id": "a0f9xH_cwr5I",
        "outputId": "57ccad28-b75a-4f92-a000-d721479d66cc"
      },
      "outputs": [
        {
          "data": {
            "text/plain": [
              "array([[ 1,  4,  9],\n",
              "       [16, 25, 36],\n",
              "       [49, 64, 81]])"
            ]
          },
          "execution_count": 81,
          "metadata": {},
          "output_type": "execute_result"
        }
      ],
      "source": [
        "func = np.vectorize(lambda x: x ** 2)\n",
        "func(A)"
      ]
    },
    {
      "cell_type": "markdown",
      "metadata": {
        "id": "cAL2E2wMwr5I"
      },
      "source": [
        "### `Типы и преобразование типов`"
      ]
    },
    {
      "cell_type": "markdown",
      "metadata": {
        "ExecuteTime": {
          "end_time": "2022-09-22T07:42:39.477459Z",
          "start_time": "2022-09-22T07:42:39.459459Z"
        },
        "id": "BehCdO1kwr5I"
      },
      "source": [
        "Атрибут `dtype` хранит информацию о типе массива:"
      ]
    },
    {
      "cell_type": "code",
      "execution_count": 82,
      "metadata": {
        "ExecuteTime": {
          "end_time": "2022-09-22T08:01:26.429870Z",
          "start_time": "2022-09-22T08:01:26.419871Z"
        },
        "colab": {
          "base_uri": "https://localhost:8080/"
        },
        "id": "dThuO45Hwr5I",
        "outputId": "72c3fb7d-b075-4b66-8564-3ec9eaa253a5"
      },
      "outputs": [
        {
          "data": {
            "text/plain": [
              "(dtype('int64'), dtype('float64'))"
            ]
          },
          "execution_count": 82,
          "metadata": {},
          "output_type": "execute_result"
        }
      ],
      "source": [
        "x = np.arange(15)\n",
        "y = np.array([1.5, 2.5])\n",
        "\n",
        "x.dtype, y.dtype"
      ]
    },
    {
      "cell_type": "markdown",
      "metadata": {
        "id": "Sond6TQEwr5I"
      },
      "source": [
        "Преобразование типов осуществляется с помощью метода `astype`:"
      ]
    },
    {
      "cell_type": "code",
      "execution_count": 83,
      "metadata": {
        "ExecuteTime": {
          "end_time": "2022-09-22T08:01:26.982577Z",
          "start_time": "2022-09-22T08:01:26.964577Z"
        },
        "colab": {
          "base_uri": "https://localhost:8080/"
        },
        "id": "qqwiRTH7wr5I",
        "outputId": "898b54f8-8d84-4e25-9885-555b38ea3df2"
      },
      "outputs": [
        {
          "data": {
            "text/plain": [
              "dtype('float64')"
            ]
          },
          "execution_count": 83,
          "metadata": {},
          "output_type": "execute_result"
        }
      ],
      "source": [
        "x = x.astype(np.float64)\n",
        "x.dtype"
      ]
    },
    {
      "cell_type": "markdown",
      "metadata": {
        "id": "4pEkll76wr5J"
      },
      "source": [
        "Можно сразу указывать желаемый тип при создании массивов при помощи параметра `dtype`:"
      ]
    },
    {
      "cell_type": "code",
      "execution_count": 84,
      "metadata": {
        "ExecuteTime": {
          "end_time": "2022-09-22T08:01:27.623557Z",
          "start_time": "2022-09-22T08:01:27.612558Z"
        },
        "colab": {
          "base_uri": "https://localhost:8080/"
        },
        "id": "c1UnJdkhwr5J",
        "outputId": "bf827f88-b92b-414a-aa9e-2403c362be74"
      },
      "outputs": [
        {
          "data": {
            "text/plain": [
              "array([['1', '1', '1'],\n",
              "       ['1', '1', '1']], dtype='<U1')"
            ]
          },
          "execution_count": 84,
          "metadata": {},
          "output_type": "execute_result"
        }
      ],
      "source": [
        "np.ones((2, 3), dtype=str)"
      ]
    },
    {
      "cell_type": "markdown",
      "metadata": {
        "id": "tgCgt3mtwr5J"
      },
      "source": [
        "### `Примеры задач на матрицы в NumPy`\n",
        "\n",
        "Условие - нельзя использовать\n",
        "- циклы\n",
        "- генераторы списков/списковые включения\n",
        "- map-функции (в т.ч. `np.vectorize`)"
      ]
    },
    {
      "cell_type": "markdown",
      "metadata": {
        "id": "Vp2WDDeywr5J"
      },
      "source": [
        "<font color='brown'> **Задача 8**. Пронумеровать в порядке следования максимальные элементы в векторе. Для вектора `[1, 2, 3, 3, 2, 1, 3, 1]` должно получиться `[0, 0, 1, 2, 0, 0, 3, 0]`: </font>"
      ]
    },
    {
      "cell_type": "code",
      "execution_count": null,
      "metadata": {
        "ExecuteTime": {
          "end_time": "2022-09-22T08:01:29.209986Z",
          "start_time": "2022-09-22T08:01:29.203987Z"
        },
        "id": "au3byv6Bwr5J",
        "outputId": "d5c53ead-b84d-4dd0-9486-daa65fa18785"
      },
      "outputs": [
        {
          "name": "stdout",
          "output_type": "stream",
          "text": [
            "[0 0 1 2 0 0 3 0]\n"
          ]
        }
      ],
      "source": [
        "def task_1(a):\n",
        "    pass\n",
        "    ### your code here\n",
        "\n",
        "print(task_1([1, 2, 3, 3, 2, 1, 3, 1]))"
      ]
    },
    {
      "cell_type": "markdown",
      "metadata": {
        "id": "2xBKLH75wr5J"
      },
      "source": [
        "### `Примеры задач на матрицы в NumPy`"
      ]
    },
    {
      "cell_type": "markdown",
      "metadata": {
        "id": "eU-RJZIFwr5J"
      },
      "source": [
        "<font color='brown'> **Задача 9**. Реализуйте функцию подсчёта произведения ненулевых элементов на диагонали прямоугольной матрицы. Для матрицы `[[1, 0, 1], [2, 0, 2], [3, 0, 3], [4, 4, 4]]` ответом является $3$. Если ненулевых элементов нет, функция должна возвращать `None`: </font>"
      ]
    },
    {
      "cell_type": "code",
      "execution_count": null,
      "metadata": {
        "ExecuteTime": {
          "end_time": "2022-09-22T08:01:29.792969Z",
          "start_time": "2022-09-22T08:01:29.787970Z"
        },
        "id": "WiGTf2Odwr5J",
        "outputId": "aa45fde4-3aa1-40f9-ba16-4ce8711ac0d6"
      },
      "outputs": [
        {
          "name": "stdout",
          "output_type": "stream",
          "text": [
            "3\n"
          ]
        }
      ],
      "source": [
        "def task_2(A):\n",
        "    pass\n",
        "    ### your code here\n",
        "\n",
        "print(task_2(np.array([[1, 0, 1], [2, 0, 2], [3, 0, 3], [4, 4, 4]])))"
      ]
    },
    {
      "cell_type": "markdown",
      "metadata": {
        "id": "2zjHNvH-wr5J"
      },
      "source": [
        "<font color='brown'> **Задача 10**. Найти максимальный элемент в вектор-строке среди элементов, перед которым стоит нулевой. Для `[0, 4, 2, 0, 3, 0, 0, 5, 7, 0]` ответ равен $5$: </font>"
      ]
    },
    {
      "cell_type": "code",
      "execution_count": null,
      "metadata": {
        "ExecuteTime": {
          "end_time": "2022-09-22T08:01:30.312187Z",
          "start_time": "2022-09-22T08:01:30.308187Z"
        },
        "id": "2s5AAFnpwr5J",
        "outputId": "a906afe8-8f6e-4ac7-d49e-af752f29b096"
      },
      "outputs": [
        {
          "name": "stdout",
          "output_type": "stream",
          "text": [
            "5\n"
          ]
        }
      ],
      "source": [
        "def task_3(a):\n",
        "    pass\n",
        "    ### your code here\n",
        "\n",
        "print(task_3(np.array([0, 4, 2, 0, 3, 0, 0, 5, 7, 0])))"
      ]
    },
    {
      "cell_type": "markdown",
      "metadata": {
        "id": "Ox32-t_6wr5Q"
      },
      "source": [
        "## `Спасибо за внимание!`"
      ]
    }
  ],
  "metadata": {
    "celltoolbar": "Slideshow",
    "colab": {
      "provenance": []
    },
    "kernelspec": {
      "display_name": "Python 3 (ipykernel)",
      "language": "python",
      "name": "python3"
    },
    "language_info": {
      "codemirror_mode": {
        "name": "ipython",
        "version": 3
      },
      "file_extension": ".py",
      "mimetype": "text/x-python",
      "name": "python",
      "nbconvert_exporter": "python",
      "pygments_lexer": "ipython3",
      "version": "3.10.6"
    }
  },
  "nbformat": 4,
  "nbformat_minor": 0
}
