{
 "cells": [
  {
   "cell_type": "markdown",
   "metadata": {},
   "source": [
    "\n",
    "# Добрый вечер!"
   ]
  },
  {
   "cell_type": "markdown",
   "metadata": {
    "ExecuteTime": {
     "end_time": "2019-10-07T16:07:54.767993Z",
     "start_time": "2019-10-07T16:07:54.762368Z"
    }
   },
   "source": [
    "## Функции в Питоне "
   ]
  },
  {
   "cell_type": "markdown",
   "metadata": {},
   "source": [
    "Функции нужны для того, чтобы писать многократно используемый код, что обеспечивает читабельность и модулярность кода.\n",
    "\n",
    "Вы уже сталкивались с функциями, когда, например, использовали print."
   ]
  },
  {
   "cell_type": "markdown",
   "metadata": {},
   "source": [
    "### Объявление функции"
   ]
  },
  {
   "cell_type": "markdown",
   "metadata": {},
   "source": [
    "Напишем функцию, которая печатает полученные на вход параметры."
   ]
  },
  {
   "cell_type": "code",
   "execution_count": 3,
   "metadata": {
    "ExecuteTime": {
     "end_time": "2019-10-07T16:23:02.729289Z",
     "start_time": "2019-10-07T16:23:02.721809Z"
    },
    "code_folding": []
   },
   "outputs": [],
   "source": [
    "# определяем функцию тут\n",
    "\n",
    "def print_function(x, y):\n",
    "    print(\"x is\", x)\n",
    "    print(\"y is\", y)"
   ]
  },
  {
   "cell_type": "code",
   "execution_count": 4,
   "metadata": {},
   "outputs": [],
   "source": [
    "x = 1"
   ]
  },
  {
   "cell_type": "code",
   "execution_count": 5,
   "metadata": {},
   "outputs": [
    {
     "ename": "TypeError",
     "evalue": "'int' object is not callable",
     "output_type": "error",
     "traceback": [
      "\u001b[0;31m---------------------------------------------------------------------------\u001b[0m",
      "\u001b[0;31mTypeError\u001b[0m                                 Traceback (most recent call last)",
      "\u001b[0;32m/var/folders/v8/2cskhqjj0_g0zp3824glf1tm0000gn/T/ipykernel_1020/2525686024.py\u001b[0m in \u001b[0;36m<module>\u001b[0;34m\u001b[0m\n\u001b[0;32m----> 1\u001b[0;31m \u001b[0mx\u001b[0m\u001b[0;34m(\u001b[0m\u001b[0;34m)\u001b[0m\u001b[0;34m\u001b[0m\u001b[0;34m\u001b[0m\u001b[0m\n\u001b[0m",
      "\u001b[0;31mTypeError\u001b[0m: 'int' object is not callable"
     ]
    }
   ],
   "source": [
    "x()"
   ]
  },
  {
   "cell_type": "markdown",
   "metadata": {},
   "source": [
    "Вызываем функцию!"
   ]
  },
  {
   "cell_type": "code",
   "execution_count": 6,
   "metadata": {
    "ExecuteTime": {
     "end_time": "2019-10-07T16:26:39.702250Z",
     "start_time": "2019-10-07T16:26:39.679879Z"
    },
    "code_folding": [],
    "scrolled": true
   },
   "outputs": [
    {
     "name": "stdout",
     "output_type": "stream",
     "text": [
      "x is 100\n",
      "y is 10\n"
     ]
    }
   ],
   "source": [
    "# вызываем функцию\n",
    "\n",
    "print_function(100, 10)"
   ]
  },
  {
   "cell_type": "code",
   "execution_count": 7,
   "metadata": {},
   "outputs": [
    {
     "name": "stdout",
     "output_type": "stream",
     "text": [
      "x is hello\n",
      "y is world\n"
     ]
    }
   ],
   "source": [
    "print_function('hello', 'world')"
   ]
  },
  {
   "cell_type": "markdown",
   "metadata": {},
   "source": [
    "Функция может возвращать некоторый результат, для этого используется **return**:"
   ]
  },
  {
   "cell_type": "code",
   "execution_count": 8,
   "metadata": {
    "ExecuteTime": {
     "end_time": "2019-10-07T16:25:44.078555Z",
     "start_time": "2019-10-07T16:25:44.071734Z"
    },
    "code_folding": [
     0
    ]
   },
   "outputs": [],
   "source": [
    "# определяем функцию тут\n",
    "\n",
    "def print_and_sum_function(x, y):\n",
    "    print(\"x is\", x)\n",
    "    print(\"y is\", y)\n",
    "    return x + y"
   ]
  },
  {
   "cell_type": "code",
   "execution_count": 9,
   "metadata": {},
   "outputs": [
    {
     "name": "stdout",
     "output_type": "stream",
     "text": [
      "x is 100\n",
      "y is 10\n"
     ]
    },
    {
     "data": {
      "text/plain": [
       "110"
      ]
     },
     "execution_count": 9,
     "metadata": {},
     "output_type": "execute_result"
    }
   ],
   "source": [
    "print_and_sum_function(100, 10)"
   ]
  },
  {
   "cell_type": "code",
   "execution_count": 10,
   "metadata": {},
   "outputs": [
    {
     "name": "stdout",
     "output_type": "stream",
     "text": [
      "x is hello\n",
      "y is world\n"
     ]
    },
    {
     "data": {
      "text/plain": [
       "'helloworld'"
      ]
     },
     "execution_count": 10,
     "metadata": {},
     "output_type": "execute_result"
    }
   ],
   "source": [
    "print_and_sum_function('hello', 'world')"
   ]
  },
  {
   "cell_type": "code",
   "execution_count": 11,
   "metadata": {},
   "outputs": [
    {
     "name": "stdout",
     "output_type": "stream",
     "text": [
      "x is hello\n",
      "y is 10\n"
     ]
    },
    {
     "ename": "TypeError",
     "evalue": "can only concatenate str (not \"int\") to str",
     "output_type": "error",
     "traceback": [
      "\u001b[0;31m---------------------------------------------------------------------------\u001b[0m",
      "\u001b[0;31mTypeError\u001b[0m                                 Traceback (most recent call last)",
      "\u001b[0;32m/var/folders/v8/2cskhqjj0_g0zp3824glf1tm0000gn/T/ipykernel_1020/4084130893.py\u001b[0m in \u001b[0;36m<module>\u001b[0;34m\u001b[0m\n\u001b[0;32m----> 1\u001b[0;31m \u001b[0mprint_and_sum_function\u001b[0m\u001b[0;34m(\u001b[0m\u001b[0;34m'hello'\u001b[0m\u001b[0;34m,\u001b[0m \u001b[0;36m10\u001b[0m\u001b[0;34m)\u001b[0m\u001b[0;34m\u001b[0m\u001b[0;34m\u001b[0m\u001b[0m\n\u001b[0m",
      "\u001b[0;32m/var/folders/v8/2cskhqjj0_g0zp3824glf1tm0000gn/T/ipykernel_1020/2799000823.py\u001b[0m in \u001b[0;36mprint_and_sum_function\u001b[0;34m(x, y)\u001b[0m\n\u001b[1;32m      4\u001b[0m     \u001b[0mprint\u001b[0m\u001b[0;34m(\u001b[0m\u001b[0;34m\"x is\"\u001b[0m\u001b[0;34m,\u001b[0m \u001b[0mx\u001b[0m\u001b[0;34m)\u001b[0m\u001b[0;34m\u001b[0m\u001b[0;34m\u001b[0m\u001b[0m\n\u001b[1;32m      5\u001b[0m     \u001b[0mprint\u001b[0m\u001b[0;34m(\u001b[0m\u001b[0;34m\"y is\"\u001b[0m\u001b[0;34m,\u001b[0m \u001b[0my\u001b[0m\u001b[0;34m)\u001b[0m\u001b[0;34m\u001b[0m\u001b[0;34m\u001b[0m\u001b[0m\n\u001b[0;32m----> 6\u001b[0;31m     \u001b[0;32mreturn\u001b[0m \u001b[0mx\u001b[0m \u001b[0;34m+\u001b[0m \u001b[0my\u001b[0m\u001b[0;34m\u001b[0m\u001b[0;34m\u001b[0m\u001b[0m\n\u001b[0m",
      "\u001b[0;31mTypeError\u001b[0m: can only concatenate str (not \"int\") to str"
     ]
    }
   ],
   "source": [
    "print_and_sum_function('hello', 10)"
   ]
  },
  {
   "cell_type": "code",
   "execution_count": 12,
   "metadata": {
    "ExecuteTime": {
     "end_time": "2019-10-07T16:25:44.256450Z",
     "start_time": "2019-10-07T16:25:44.247641Z"
    },
    "code_folding": [
     0
    ]
   },
   "outputs": [
    {
     "name": "stdout",
     "output_type": "stream",
     "text": [
      "x is 100\n",
      "y is 10\n",
      "z is 110\n"
     ]
    }
   ],
   "source": [
    "# тестируем функцию\n",
    "\n",
    "z = print_and_sum_function(100, 10)\n",
    "\n",
    "print(\"z is\", z)"
   ]
  },
  {
   "cell_type": "markdown",
   "metadata": {},
   "source": [
    "### Глобальные и локальные переменные "
   ]
  },
  {
   "cell_type": "markdown",
   "metadata": {
    "ExecuteTime": {
     "end_time": "2019-10-07T16:42:05.285023Z",
     "start_time": "2019-10-07T16:42:05.275938Z"
    }
   },
   "source": [
    "Глобальные параметры определяются вне функции, а локальные существуют только в конкретной функции."
   ]
  },
  {
   "cell_type": "markdown",
   "metadata": {},
   "source": [
    "Глобальные параметры доступны внутри функций:"
   ]
  },
  {
   "cell_type": "code",
   "execution_count": 13,
   "metadata": {
    "ExecuteTime": {
     "end_time": "2019-10-07T16:51:47.235073Z",
     "start_time": "2019-10-07T16:51:47.225430Z"
    },
    "code_folding": [],
    "scrolled": true
   },
   "outputs": [
    {
     "name": "stdout",
     "output_type": "stream",
     "text": [
      "Вне функции: 0 4304987648\n",
      "_________\n",
      "Внутри функции: 0 4304987648\n",
      "_________\n"
     ]
    }
   ],
   "source": [
    "global_variable = 0\n",
    "\n",
    "def change_variable_function():\n",
    "    print(\"Внутри функции:\", global_variable, id(global_variable))\n",
    "    print('_________')\n",
    "    \n",
    "print(\"Вне функции:\", global_variable, id(global_variable))\n",
    "print('_________')\n",
    "\n",
    "change_variable_function()"
   ]
  },
  {
   "cell_type": "markdown",
   "metadata": {},
   "source": [
    "Все объявление переменных в функции считаются \"локальными\": "
   ]
  },
  {
   "cell_type": "code",
   "execution_count": 14,
   "metadata": {
    "ExecuteTime": {
     "end_time": "2019-10-07T16:58:08.824019Z",
     "start_time": "2019-10-07T16:58:08.796139Z"
    },
    "code_folding": [
     2
    ]
   },
   "outputs": [
    {
     "name": "stdout",
     "output_type": "stream",
     "text": [
      "Вне функции: 1000 4370743408\n",
      "\n"
     ]
    },
    {
     "ename": "UnboundLocalError",
     "evalue": "local variable 'global_variable' referenced before assignment",
     "output_type": "error",
     "traceback": [
      "\u001b[0;31m---------------------------------------------------------------------------\u001b[0m",
      "\u001b[0;31mUnboundLocalError\u001b[0m                         Traceback (most recent call last)",
      "\u001b[0;32m/var/folders/v8/2cskhqjj0_g0zp3824glf1tm0000gn/T/ipykernel_1020/3384033673.py\u001b[0m in \u001b[0;36m<module>\u001b[0;34m\u001b[0m\n\u001b[1;32m     13\u001b[0m \u001b[0mprint\u001b[0m\u001b[0;34m(\u001b[0m\u001b[0;34m)\u001b[0m\u001b[0;34m\u001b[0m\u001b[0;34m\u001b[0m\u001b[0m\n\u001b[1;32m     14\u001b[0m \u001b[0;34m\u001b[0m\u001b[0m\n\u001b[0;32m---> 15\u001b[0;31m \u001b[0mchange_variable_function\u001b[0m\u001b[0;34m(\u001b[0m\u001b[0;34m)\u001b[0m\u001b[0;34m\u001b[0m\u001b[0;34m\u001b[0m\u001b[0m\n\u001b[0m\u001b[1;32m     16\u001b[0m \u001b[0;34m\u001b[0m\u001b[0m\n\u001b[1;32m     17\u001b[0m \u001b[0mprint\u001b[0m \u001b[0;34m(\u001b[0m\u001b[0;34m\"После функции:\"\u001b[0m\u001b[0;34m,\u001b[0m \u001b[0mglobal_variable\u001b[0m\u001b[0;34m,\u001b[0m \u001b[0mid\u001b[0m\u001b[0;34m(\u001b[0m\u001b[0mglobal_variable\u001b[0m\u001b[0;34m)\u001b[0m\u001b[0;34m)\u001b[0m\u001b[0;34m\u001b[0m\u001b[0;34m\u001b[0m\u001b[0m\n",
      "\u001b[0;32m/var/folders/v8/2cskhqjj0_g0zp3824glf1tm0000gn/T/ipykernel_1020/3384033673.py\u001b[0m in \u001b[0;36mchange_variable_function\u001b[0;34m()\u001b[0m\n\u001b[1;32m      2\u001b[0m \u001b[0;34m\u001b[0m\u001b[0m\n\u001b[1;32m      3\u001b[0m \u001b[0;32mdef\u001b[0m \u001b[0mchange_variable_function\u001b[0m\u001b[0;34m(\u001b[0m\u001b[0;34m)\u001b[0m\u001b[0;34m:\u001b[0m\u001b[0;34m\u001b[0m\u001b[0;34m\u001b[0m\u001b[0m\n\u001b[0;32m----> 4\u001b[0;31m     \u001b[0mprint\u001b[0m\u001b[0;34m(\u001b[0m\u001b[0;34m\"Внутри функции до изменения:\"\u001b[0m\u001b[0;34m,\u001b[0m \u001b[0mglobal_variable\u001b[0m\u001b[0;34m,\u001b[0m \u001b[0mid\u001b[0m\u001b[0;34m(\u001b[0m\u001b[0mglobal_variable\u001b[0m\u001b[0;34m)\u001b[0m\u001b[0;34m)\u001b[0m\u001b[0;34m\u001b[0m\u001b[0;34m\u001b[0m\u001b[0m\n\u001b[0m\u001b[1;32m      5\u001b[0m     \u001b[0mprint\u001b[0m\u001b[0;34m(\u001b[0m\u001b[0;34m)\u001b[0m\u001b[0;34m\u001b[0m\u001b[0;34m\u001b[0m\u001b[0m\n\u001b[1;32m      6\u001b[0m \u001b[0;34m\u001b[0m\u001b[0m\n",
      "\u001b[0;31mUnboundLocalError\u001b[0m: local variable 'global_variable' referenced before assignment"
     ]
    }
   ],
   "source": [
    "global_variable = 1000\n",
    "\n",
    "def change_variable_function():\n",
    "    print(\"Внутри функции до изменения:\", global_variable, id(global_variable))\n",
    "    print()\n",
    "    \n",
    "    global_variable = 0\n",
    "    \n",
    "    print(\"Внутри функции после изменения:\", global_variable, id(global_variable))\n",
    "    print()\n",
    "    \n",
    "print(\"Вне функции:\", global_variable, id(global_variable))\n",
    "print()\n",
    "\n",
    "change_variable_function()\n",
    "\n",
    "print (\"После функции:\", global_variable, id(global_variable))"
   ]
  },
  {
   "cell_type": "markdown",
   "metadata": {
    "ExecuteTime": {
     "end_time": "2019-10-07T16:56:11.730110Z",
     "start_time": "2019-10-07T16:56:11.721786Z"
    }
   },
   "source": [
    "Чтобы сказать Python, что мы хотим менять глобальную переменную, можно использовать **global**:"
   ]
  },
  {
   "cell_type": "code",
   "execution_count": 15,
   "metadata": {
    "ExecuteTime": {
     "end_time": "2019-10-07T16:58:11.676717Z",
     "start_time": "2019-10-07T16:58:11.664073Z"
    },
    "code_folding": [
     2
    ]
   },
   "outputs": [
    {
     "name": "stdout",
     "output_type": "stream",
     "text": [
      "Вне функции: 0 4304987648\n",
      "\n",
      "Внутри функции до изменения: 0 4304987648\n",
      "\n",
      "Внутри функции после изменения: 1000 4370744624\n",
      "\n",
      "После функции: 1000 4370744624\n"
     ]
    }
   ],
   "source": [
    "global_variable = 0\n",
    "\n",
    "def change_variable_function():\n",
    "    global global_variable\n",
    "    \n",
    "    print(\"Внутри функции до изменения:\", global_variable, id(global_variable))\n",
    "    print()\n",
    "    \n",
    "    global_variable = 1000\n",
    "    \n",
    "    print(\"Внутри функции после изменения:\", global_variable, id(global_variable))\n",
    "    print()\n",
    "    \n",
    "print(\"Вне функции:\", global_variable, id(global_variable))\n",
    "print()\n",
    "\n",
    "change_variable_function()\n",
    "\n",
    "print(\"После функции:\", global_variable, id(global_variable))"
   ]
  },
  {
   "cell_type": "code",
   "execution_count": 16,
   "metadata": {},
   "outputs": [
    {
     "ename": "NameError",
     "evalue": "name 'sample_variable' is not defined",
     "output_type": "error",
     "traceback": [
      "\u001b[0;31m---------------------------------------------------------------------------\u001b[0m",
      "\u001b[0;31mNameError\u001b[0m                                 Traceback (most recent call last)",
      "\u001b[0;32m/var/folders/v8/2cskhqjj0_g0zp3824glf1tm0000gn/T/ipykernel_1020/1992942298.py\u001b[0m in \u001b[0;36m<module>\u001b[0;34m\u001b[0m\n\u001b[1;32m      4\u001b[0m \u001b[0msample_func\u001b[0m\u001b[0;34m(\u001b[0m\u001b[0;34m)\u001b[0m\u001b[0;34m\u001b[0m\u001b[0;34m\u001b[0m\u001b[0m\n\u001b[1;32m      5\u001b[0m \u001b[0;34m\u001b[0m\u001b[0m\n\u001b[0;32m----> 6\u001b[0;31m \u001b[0mprint\u001b[0m\u001b[0;34m(\u001b[0m\u001b[0msample_variable\u001b[0m\u001b[0;34m)\u001b[0m\u001b[0;34m\u001b[0m\u001b[0;34m\u001b[0m\u001b[0m\n\u001b[0m",
      "\u001b[0;31mNameError\u001b[0m: name 'sample_variable' is not defined"
     ]
    }
   ],
   "source": [
    "def sample_func():\n",
    "    sample_variable = 42\n",
    "    \n",
    "sample_func()\n",
    "\n",
    "print(sample_variable)"
   ]
  },
  {
   "cell_type": "markdown",
   "metadata": {},
   "source": [
    "### Передача аргументов"
   ]
  },
  {
   "cell_type": "markdown",
   "metadata": {
    "ExecuteTime": {
     "end_time": "2019-10-07T16:30:40.099130Z",
     "start_time": "2019-10-07T16:30:40.090099Z"
    }
   },
   "source": [
    "Как вам известно, аргументы в функцию могут передаваться либо по значению, либо по ссылке (т.е. ссылка на участок в памяти):\n",
    "\n",
    "В Питоне все аргументы передаются по ссылке."
   ]
  },
  {
   "cell_type": "code",
   "execution_count": 25,
   "metadata": {
    "ExecuteTime": {
     "end_time": "2019-10-07T16:38:13.540467Z",
     "start_time": "2019-10-07T16:38:13.526235Z"
    },
    "code_folding": [
     0
    ]
   },
   "outputs": [
    {
     "name": "stdout",
     "output_type": "stream",
     "text": [
      "id вне функции до вызова:  4370745392\n",
      "значение вне функции до вызова:  100000\n",
      "--------\n",
      "id внутри функции до изменения:  4370745392\n",
      "значение внутри функции до изменения:  100000\n",
      "\n",
      "id внутри функции после изменения:  4304987648\n",
      "значение внутри функции после изменения:  0\n",
      "--------\n",
      "id вне функции после вызова:  4370745392\n",
      "значение вне функции после вызова:  100000\n"
     ]
    }
   ],
   "source": [
    "# определим тестовую функцию\n",
    "\n",
    "def test_immutable_change(x):\n",
    "    print(\"id внутри функции до изменения: \", id(x))\n",
    "    print(\"значение внутри функции до изменения: \", x)\n",
    "    print()\n",
    "    \n",
    "    x = 0\n",
    "    \n",
    "    print(\"id внутри функции после изменения: \", id(x))\n",
    "    print(\"значение внутри функции после изменения: \", x)\n",
    "    \n",
    "    return x\n",
    "\n",
    "\n",
    "# проверим ее\n",
    "\n",
    "y = 100000\n",
    "\n",
    "print(\"id вне функции до вызова: \", id(y))\n",
    "print(\"значение вне функции до вызова: \", y)\n",
    "print('--------')\n",
    "\n",
    "test_immutable_change(y)\n",
    "\n",
    "print('--------')\n",
    "print(\"id вне функции после вызова: \", id(y))\n",
    "print(\"значение вне функции после вызова: \", y)"
   ]
  },
  {
   "cell_type": "markdown",
   "metadata": {},
   "source": [
    "Однако, когда вы передаете mutable типы, то могут возникать так называемые \"побочные эффекты\":"
   ]
  },
  {
   "cell_type": "code",
   "execution_count": 26,
   "metadata": {
    "ExecuteTime": {
     "end_time": "2019-10-07T16:38:26.362486Z",
     "start_time": "2019-10-07T16:38:26.347107Z"
    },
    "code_folding": [
     0
    ]
   },
   "outputs": [
    {
     "name": "stdout",
     "output_type": "stream",
     "text": [
      "id вне функции до вызова:  4370737984\n",
      "значение вне функции до вызова:  [1, 2, 3, 4]\n",
      "--------\n",
      "id внутри функции до изменения:  4370737984\n",
      "значение внутри функции до изменения:  [1, 2, 3, 4]\n",
      "\n",
      "id внутри функции после изменения:  4370737984\n",
      "значение внутри функции после изменения:  [2000, 2, 3, 4]\n",
      "--------\n",
      "id вне функции после вызова:  4370737984\n",
      "значение вне функции после вызова:  [2000, 2, 3, 4]\n"
     ]
    }
   ],
   "source": [
    "# определим тестовую функцию\n",
    "\n",
    "def test_mutable_change(x):\n",
    "    print(\"id внутри функции до изменения: \", id(x))\n",
    "    print(\"значение внутри функции до изменения: \", x)\n",
    "    print()\n",
    "    \n",
    "    x[0] = 2000\n",
    "    \n",
    "    print(\"id внутри функции после изменения: \", id(x))\n",
    "    print(\"значение внутри функции после изменения: \", x)\n",
    "    \n",
    "    return x\n",
    "\n",
    "\n",
    "# проверим ее\n",
    "\n",
    "y = [1, 2, 3, 4]\n",
    "\n",
    "print(\"id вне функции до вызова: \", id(y))\n",
    "print(\"значение вне функции до вызова: \", y)\n",
    "print('--------')\n",
    "\n",
    "test_mutable_change(y)\n",
    "\n",
    "print('--------')\n",
    "print(\"id вне функции после вызова: \", id(y))\n",
    "print(\"значение вне функции после вызова: \", y)"
   ]
  },
  {
   "cell_type": "markdown",
   "metadata": {},
   "source": [
    "### Типы аргументов"
   ]
  },
  {
   "cell_type": "markdown",
   "metadata": {},
   "source": [
    "#### Обязательные"
   ]
  },
  {
   "cell_type": "markdown",
   "metadata": {},
   "source": [
    "Те аргументы, котрые обязательно передаются в функцию в определенном порядке"
   ]
  },
  {
   "cell_type": "code",
   "execution_count": 27,
   "metadata": {
    "ExecuteTime": {
     "end_time": "2019-10-07T17:07:28.632698Z",
     "start_time": "2019-10-07T17:07:28.626055Z"
    }
   },
   "outputs": [],
   "source": [
    "def print_function(x, y, z):\n",
    "    print(\"x is\", x)\n",
    "    print(\"y is\", y)\n",
    "    print(\"z is\", z)"
   ]
  },
  {
   "cell_type": "code",
   "execution_count": 28,
   "metadata": {
    "ExecuteTime": {
     "end_time": "2019-10-07T17:07:28.796011Z",
     "start_time": "2019-10-07T17:07:28.787153Z"
    }
   },
   "outputs": [
    {
     "name": "stdout",
     "output_type": "stream",
     "text": [
      "x is 1\n",
      "y is 10\n",
      "z is 100\n"
     ]
    }
   ],
   "source": [
    "print_function(1, 10, 100)"
   ]
  },
  {
   "cell_type": "markdown",
   "metadata": {},
   "source": [
    "Мы не можем передать меньше аргументов:"
   ]
  },
  {
   "cell_type": "code",
   "execution_count": 29,
   "metadata": {
    "ExecuteTime": {
     "end_time": "2019-10-07T17:07:31.154606Z",
     "start_time": "2019-10-07T17:07:31.139012Z"
    }
   },
   "outputs": [
    {
     "ename": "TypeError",
     "evalue": "print_function() missing 2 required positional arguments: 'y' and 'z'",
     "output_type": "error",
     "traceback": [
      "\u001b[0;31m---------------------------------------------------------------------------\u001b[0m",
      "\u001b[0;31mTypeError\u001b[0m                                 Traceback (most recent call last)",
      "\u001b[0;32m/var/folders/v8/2cskhqjj0_g0zp3824glf1tm0000gn/T/ipykernel_1020/2101880512.py\u001b[0m in \u001b[0;36m<module>\u001b[0;34m\u001b[0m\n\u001b[0;32m----> 1\u001b[0;31m \u001b[0mprint_function\u001b[0m\u001b[0;34m(\u001b[0m\u001b[0;36m1\u001b[0m\u001b[0;34m)\u001b[0m\u001b[0;34m\u001b[0m\u001b[0;34m\u001b[0m\u001b[0m\n\u001b[0m",
      "\u001b[0;31mTypeError\u001b[0m: print_function() missing 2 required positional arguments: 'y' and 'z'"
     ]
    }
   ],
   "source": [
    "print_function(1)"
   ]
  },
  {
   "cell_type": "markdown",
   "metadata": {},
   "source": [
    "Можно передавать аргументы в любом порядке:"
   ]
  },
  {
   "cell_type": "code",
   "execution_count": 30,
   "metadata": {
    "ExecuteTime": {
     "end_time": "2019-10-07T17:07:48.615397Z",
     "start_time": "2019-10-07T17:07:48.605968Z"
    }
   },
   "outputs": [
    {
     "name": "stdout",
     "output_type": "stream",
     "text": [
      "x is 1\n",
      "y is -1\n",
      "z is 10\n"
     ]
    }
   ],
   "source": [
    "print_function(1, z=10, y=-1)"
   ]
  },
  {
   "cell_type": "code",
   "execution_count": 31,
   "metadata": {},
   "outputs": [
    {
     "ename": "SyntaxError",
     "evalue": "positional argument follows keyword argument (375969384.py, line 1)",
     "output_type": "error",
     "traceback": [
      "\u001b[0;36m  File \u001b[0;32m\"/var/folders/v8/2cskhqjj0_g0zp3824glf1tm0000gn/T/ipykernel_1020/375969384.py\"\u001b[0;36m, line \u001b[0;32m1\u001b[0m\n\u001b[0;31m    print_function(z=10, 1, y=-1)\u001b[0m\n\u001b[0m                         ^\u001b[0m\n\u001b[0;31mSyntaxError\u001b[0m\u001b[0;31m:\u001b[0m positional argument follows keyword argument\n"
     ]
    }
   ],
   "source": [
    "print_function(z=10, 1, y=-1)"
   ]
  },
  {
   "cell_type": "markdown",
   "metadata": {},
   "source": [
    "####  Аргументы с дефолтным значением"
   ]
  },
  {
   "cell_type": "markdown",
   "metadata": {},
   "source": [
    "Можно задать дефолтное значение:"
   ]
  },
  {
   "cell_type": "code",
   "execution_count": 32,
   "metadata": {
    "ExecuteTime": {
     "end_time": "2019-10-07T17:03:03.950735Z",
     "start_time": "2019-10-07T17:03:03.945091Z"
    }
   },
   "outputs": [],
   "source": [
    "def print_function(x, y=100):\n",
    "    print(\"x is\", x)\n",
    "    print(\"y is\", y)"
   ]
  },
  {
   "cell_type": "code",
   "execution_count": 33,
   "metadata": {},
   "outputs": [
    {
     "name": "stdout",
     "output_type": "stream",
     "text": [
      "x is 1\n",
      "y is 100\n"
     ]
    }
   ],
   "source": [
    "print_function(1)"
   ]
  },
  {
   "cell_type": "code",
   "execution_count": 1,
   "metadata": {},
   "outputs": [],
   "source": [
    "def my_append(lst=[9, 8, 7]):\n",
    "    lst.append(0)\n",
    "#     print(id(lst))  # поможет понять, в чем дело\n",
    "    return lst"
   ]
  },
  {
   "cell_type": "code",
   "execution_count": 3,
   "metadata": {},
   "outputs": [
    {
     "name": "stdout",
     "output_type": "stream",
     "text": [
      "[1, 2, 3, 0]\n"
     ]
    }
   ],
   "source": [
    "sample_lst = [1, 2, 3]\n",
    "print(my_append(sample_lst))"
   ]
  },
  {
   "cell_type": "code",
   "execution_count": 4,
   "metadata": {},
   "outputs": [
    {
     "data": {
      "text/plain": [
       "[1, 2, 3, 0]"
      ]
     },
     "execution_count": 4,
     "metadata": {},
     "output_type": "execute_result"
    }
   ],
   "source": [
    "sample_lst"
   ]
  },
  {
   "cell_type": "code",
   "execution_count": 5,
   "metadata": {},
   "outputs": [
    {
     "data": {
      "text/plain": [
       "[9, 8, 7, 0]"
      ]
     },
     "execution_count": 5,
     "metadata": {},
     "output_type": "execute_result"
    }
   ],
   "source": [
    "my_append()"
   ]
  },
  {
   "cell_type": "code",
   "execution_count": 6,
   "metadata": {},
   "outputs": [
    {
     "name": "stdout",
     "output_type": "stream",
     "text": [
      "[1, 2, 3, 0]\n"
     ]
    }
   ],
   "source": [
    "sample_lst = [1, 2, 3]\n",
    "print(my_append(sample_lst))"
   ]
  },
  {
   "cell_type": "code",
   "execution_count": 9,
   "metadata": {},
   "outputs": [
    {
     "data": {
      "text/plain": [
       "[9, 8, 7, 0, 0, 0, 0]"
      ]
     },
     "execution_count": 9,
     "metadata": {},
     "output_type": "execute_result"
    }
   ],
   "source": [
    "my_append()"
   ]
  },
  {
   "cell_type": "code",
   "execution_count": 45,
   "metadata": {},
   "outputs": [],
   "source": [
    "# expr1, expr2, expr3 - синтаксис создания кортежа"
   ]
  },
  {
   "cell_type": "code",
   "execution_count": 10,
   "metadata": {},
   "outputs": [
    {
     "data": {
      "text/plain": [
       "([9, 8, 7, 0, 0, 0, 0, 0, 0, 0, 0],\n",
       " [9, 8, 7, 0, 0, 0, 0, 0, 0, 0, 0],\n",
       " [9, 8, 7, 0, 0, 0, 0, 0, 0, 0, 0],\n",
       " [9, 8, 7, 0, 0, 0, 0, 0, 0, 0, 0])"
      ]
     },
     "execution_count": 10,
     "metadata": {},
     "output_type": "execute_result"
    }
   ],
   "source": [
    "my_append(), my_append(), my_append(), my_append()"
   ]
  },
  {
   "cell_type": "code",
   "execution_count": 41,
   "metadata": {},
   "outputs": [
    {
     "name": "stdout",
     "output_type": "stream",
     "text": [
      "[9, 8, 7, 0, 0, 0, 0, 0, 0, 0]\n",
      "[9, 8, 7, 0, 0, 0, 0, 0, 0, 0, 0]\n",
      "[9, 8, 7, 0, 0, 0, 0, 0, 0, 0, 0, 0]\n"
     ]
    }
   ],
   "source": [
    "print(my_append())\n",
    "print(my_append())\n",
    "print(my_append())"
   ]
  },
  {
   "cell_type": "markdown",
   "metadata": {
    "ExecuteTime": {
     "end_time": "2019-10-07T17:04:26.809431Z",
     "start_time": "2019-10-07T17:04:26.796397Z"
    }
   },
   "source": [
    "#### Неопределенное число позиционных аргументов\n"
   ]
  },
  {
   "cell_type": "code",
   "execution_count": 46,
   "metadata": {
    "ExecuteTime": {
     "end_time": "2019-10-07T17:11:31.839585Z",
     "start_time": "2019-10-07T17:11:31.833051Z"
    }
   },
   "outputs": [],
   "source": [
    "def length_varying_print_functions(x, y=100, *args):\n",
    "    print(\"x is\", x)\n",
    "    print(\"y is\", y)\n",
    "    print(\"args is\", args)\n",
    "    print('__________')"
   ]
  },
  {
   "cell_type": "code",
   "execution_count": 49,
   "metadata": {
    "ExecuteTime": {
     "end_time": "2019-10-07T17:11:31.995382Z",
     "start_time": "2019-10-07T17:11:31.985933Z"
    }
   },
   "outputs": [
    {
     "name": "stdout",
     "output_type": "stream",
     "text": [
      "x is 10\n",
      "y is 100\n",
      "args is ()\n",
      "__________\n",
      "x is 10\n",
      "y is 11\n",
      "args is ()\n",
      "__________\n",
      "x is 10\n",
      "y is 11\n",
      "args is (12,)\n",
      "__________\n",
      "x is 10\n",
      "y is 11\n",
      "args is (12, 13)\n",
      "__________\n",
      "x is 10\n",
      "y is 11\n",
      "args is (12, 13, 5, 19, [1, 2, 3, 4])\n",
      "__________\n"
     ]
    }
   ],
   "source": [
    "length_varying_print_functions(10)\n",
    "length_varying_print_functions(10, 11)\n",
    "length_varying_print_functions(10, 11, 12)\n",
    "length_varying_print_functions(10, 11, 12, 13)\n",
    "length_varying_print_functions(10, 11, 12, 13, 5, 19, [1, 2, 3, 4])"
   ]
  },
  {
   "cell_type": "code",
   "execution_count": 50,
   "metadata": {
    "ExecuteTime": {
     "end_time": "2019-10-07T17:12:09.297770Z",
     "start_time": "2019-10-07T17:12:09.290273Z"
    }
   },
   "outputs": [],
   "source": [
    "def length_varying_kwargs_print_functions(x, y=100, *args, **kwargs):  # kwargs == keyword args\n",
    "    print(\"x is\", x)\n",
    "    print(\"y is\", y)\n",
    "    print(\"args is\", args)\n",
    "    print(\"kwargs is\", kwargs)\n",
    "    "
   ]
  },
  {
   "cell_type": "code",
   "execution_count": 51,
   "metadata": {
    "ExecuteTime": {
     "end_time": "2019-10-07T17:12:17.975584Z",
     "start_time": "2019-10-07T17:12:17.965683Z"
    }
   },
   "outputs": [
    {
     "name": "stdout",
     "output_type": "stream",
     "text": [
      "x is 10\n",
      "y is 11\n",
      "args is (12, 13)\n",
      "kwargs is {}\n",
      "x is 10\n",
      "y is 11\n",
      "args is (12, 13, 14, [42, 43, 44])\n",
      "kwargs is {}\n"
     ]
    }
   ],
   "source": [
    "length_varying_kwargs_print_functions(10, 11, 12, 13)\n",
    "length_varying_kwargs_print_functions(10, 11, 12, 13, 14, [42, 43, 44])"
   ]
  },
  {
   "cell_type": "code",
   "execution_count": 52,
   "metadata": {
    "ExecuteTime": {
     "end_time": "2019-10-07T17:13:05.873197Z",
     "start_time": "2019-10-07T17:13:05.862436Z"
    }
   },
   "outputs": [
    {
     "name": "stdout",
     "output_type": "stream",
     "text": [
      "x is 10\n",
      "y is 11\n",
      "args is (12,)\n",
      "kwargs is {'www': 13, 'z': 18}\n"
     ]
    }
   ],
   "source": [
    "length_varying_kwargs_print_functions(10, 11, 12, www=13, z=18)"
   ]
  },
  {
   "cell_type": "code",
   "execution_count": 53,
   "metadata": {
    "ExecuteTime": {
     "end_time": "2019-10-07T17:13:47.948138Z",
     "start_time": "2019-10-07T17:13:47.941498Z"
    },
    "code_folding": [
     0
    ]
   },
   "outputs": [
    {
     "ename": "TypeError",
     "evalue": "length_varying_kwargs_print_functions() takes 0 positional arguments but 3 were given",
     "output_type": "error",
     "traceback": [
      "\u001b[0;31m---------------------------------------------------------------------------\u001b[0m",
      "\u001b[0;31mTypeError\u001b[0m                                 Traceback (most recent call last)",
      "\u001b[0;32m/var/folders/v8/2cskhqjj0_g0zp3824glf1tm0000gn/T/ipykernel_1020/3697870109.py\u001b[0m in \u001b[0;36m<module>\u001b[0;34m\u001b[0m\n\u001b[1;32m      4\u001b[0m     \u001b[0mprint\u001b[0m\u001b[0;34m(\u001b[0m\u001b[0;34m\"kwargs is\"\u001b[0m\u001b[0;34m,\u001b[0m \u001b[0mkwargs\u001b[0m\u001b[0;34m)\u001b[0m\u001b[0;34m\u001b[0m\u001b[0;34m\u001b[0m\u001b[0m\n\u001b[1;32m      5\u001b[0m \u001b[0;34m\u001b[0m\u001b[0m\n\u001b[0;32m----> 6\u001b[0;31m \u001b[0mlength_varying_kwargs_print_functions\u001b[0m\u001b[0;34m(\u001b[0m\u001b[0;36m1\u001b[0m\u001b[0;34m,\u001b[0m \u001b[0;36m2\u001b[0m\u001b[0;34m,\u001b[0m \u001b[0;36m3\u001b[0m\u001b[0;34m)\u001b[0m\u001b[0;34m\u001b[0m\u001b[0;34m\u001b[0m\u001b[0m\n\u001b[0m",
      "\u001b[0;31mTypeError\u001b[0m: length_varying_kwargs_print_functions() takes 0 positional arguments but 3 were given"
     ]
    }
   ],
   "source": [
    "# а вот так нельзя!\n",
    "\n",
    "def length_varying_kwargs_print_functions(**kwargs):\n",
    "    print(\"kwargs is\", kwargs)\n",
    "    \n",
    "length_varying_kwargs_print_functions(1, 2, 3)"
   ]
  },
  {
   "cell_type": "code",
   "execution_count": 54,
   "metadata": {},
   "outputs": [],
   "source": [
    "def full_function(pos_arg1, \n",
    "                  pos_arg2, \n",
    "                  pos_arg3_with_def='arg with def value', \n",
    "                  *args, \n",
    "                  kw_arg1,\n",
    "                  kw_arg2,\n",
    "                  kw_arg3_with_def=100, \n",
    "                  **kwargs):\n",
    "    \n",
    "    print(type(args), type(kwargs))\n",
    "    print(pos_arg1, \n",
    "          pos_arg2, \n",
    "          pos_arg3_with_def, \n",
    "          args, \n",
    "          kw_arg1, \n",
    "          kw_arg2, \n",
    "          kw_arg3_with_def, \n",
    "          kwargs, \n",
    "          sep='\\n')"
   ]
  },
  {
   "cell_type": "code",
   "execution_count": 55,
   "metadata": {},
   "outputs": [
    {
     "ename": "TypeError",
     "evalue": "full_function() missing 2 required keyword-only arguments: 'kw_arg1' and 'kw_arg2'",
     "output_type": "error",
     "traceback": [
      "\u001b[0;31m---------------------------------------------------------------------------\u001b[0m",
      "\u001b[0;31mTypeError\u001b[0m                                 Traceback (most recent call last)",
      "\u001b[0;32m/var/folders/v8/2cskhqjj0_g0zp3824glf1tm0000gn/T/ipykernel_1020/2463239724.py\u001b[0m in \u001b[0;36m<module>\u001b[0;34m\u001b[0m\n\u001b[0;32m----> 1\u001b[0;31m \u001b[0mfull_function\u001b[0m\u001b[0;34m(\u001b[0m\u001b[0;36m10\u001b[0m\u001b[0;34m,\u001b[0m \u001b[0;36m20\u001b[0m\u001b[0;34m,\u001b[0m \u001b[0;36m30\u001b[0m\u001b[0;34m,\u001b[0m \u001b[0;36m40\u001b[0m\u001b[0;34m,\u001b[0m \u001b[0;36m50\u001b[0m\u001b[0;34m)\u001b[0m\u001b[0;34m\u001b[0m\u001b[0;34m\u001b[0m\u001b[0m\n\u001b[0m",
      "\u001b[0;31mTypeError\u001b[0m: full_function() missing 2 required keyword-only arguments: 'kw_arg1' and 'kw_arg2'"
     ]
    }
   ],
   "source": [
    "full_function(10, 20, 30, 40, 50)"
   ]
  },
  {
   "cell_type": "code",
   "execution_count": 56,
   "metadata": {},
   "outputs": [
    {
     "name": "stdout",
     "output_type": "stream",
     "text": [
      "<class 'tuple'> <class 'dict'>\n",
      "10\n",
      "20\n",
      "30\n",
      "(40,)\n",
      "50\n",
      "60\n",
      "100\n",
      "{}\n"
     ]
    }
   ],
   "source": [
    "full_function(10, 20, 30, 40, kw_arg1=50, kw_arg2=60)"
   ]
  },
  {
   "cell_type": "code",
   "execution_count": 57,
   "metadata": {},
   "outputs": [
    {
     "name": "stdout",
     "output_type": "stream",
     "text": [
      "<class 'tuple'> <class 'dict'>\n",
      "10\n",
      "20\n",
      "arg with def value\n",
      "()\n",
      "50\n",
      "60\n",
      "100\n",
      "{'one_more_kwarg': 70, 'one_mor_kwarg': 80}\n"
     ]
    }
   ],
   "source": [
    "full_function(10, 20, kw_arg1=50, \n",
    "              kw_arg2=60, one_more_kwarg=70, one_mor_kwarg=80)"
   ]
  },
  {
   "cell_type": "code",
   "execution_count": 58,
   "metadata": {},
   "outputs": [
    {
     "ename": "SyntaxError",
     "evalue": "positional argument follows keyword argument (2295945424.py, line 6)",
     "output_type": "error",
     "traceback": [
      "\u001b[0;36m  File \u001b[0;32m\"/var/folders/v8/2cskhqjj0_g0zp3824glf1tm0000gn/T/ipykernel_1020/2295945424.py\"\u001b[0;36m, line \u001b[0;32m6\u001b[0m\n\u001b[0;31m    one_mor_kwarg=80, 10000)\u001b[0m\n\u001b[0m                      ^\u001b[0m\n\u001b[0;31mSyntaxError\u001b[0m\u001b[0;31m:\u001b[0m positional argument follows keyword argument\n"
     ]
    }
   ],
   "source": [
    "full_function(10, \n",
    "              20, \n",
    "              kw_arg1=50, \n",
    "              kw_arg2=60, \n",
    "              one_more_kwarg=70, \n",
    "              one_mor_kwarg=80, 10000)"
   ]
  },
  {
   "cell_type": "markdown",
   "metadata": {},
   "source": [
    "https://docs.python.org/3.8/whatsnew/3.8.html#positional-only-parameters"
   ]
  },
  {
   "cell_type": "code",
   "execution_count": 61,
   "metadata": {},
   "outputs": [
    {
     "name": "stdout",
     "output_type": "stream",
     "text": [
      "Help on built-in function len in module builtins:\n",
      "\n",
      "len(obj, /)\n",
      "    Return the number of items in a container.\n",
      "\n"
     ]
    }
   ],
   "source": [
    "help(len)"
   ]
  },
  {
   "cell_type": "code",
   "execution_count": 60,
   "metadata": {},
   "outputs": [
    {
     "ename": "TypeError",
     "evalue": "len() takes no keyword arguments",
     "output_type": "error",
     "traceback": [
      "\u001b[0;31m---------------------------------------------------------------------------\u001b[0m",
      "\u001b[0;31mTypeError\u001b[0m                                 Traceback (most recent call last)",
      "\u001b[0;32m/var/folders/v8/2cskhqjj0_g0zp3824glf1tm0000gn/T/ipykernel_1020/1689025228.py\u001b[0m in \u001b[0;36m<module>\u001b[0;34m\u001b[0m\n\u001b[0;32m----> 1\u001b[0;31m \u001b[0mlen\u001b[0m\u001b[0;34m(\u001b[0m\u001b[0mobj\u001b[0m\u001b[0;34m=\u001b[0m\u001b[0;34m[\u001b[0m\u001b[0;36m1\u001b[0m\u001b[0;34m]\u001b[0m\u001b[0;34m)\u001b[0m\u001b[0;34m\u001b[0m\u001b[0;34m\u001b[0m\u001b[0m\n\u001b[0m",
      "\u001b[0;31mTypeError\u001b[0m: len() takes no keyword arguments"
     ]
    }
   ],
   "source": [
    "len(obj=[1])"
   ]
  },
  {
   "cell_type": "code",
   "execution_count": 62,
   "metadata": {},
   "outputs": [],
   "source": [
    "def my_new_append(x, lst=[]):\n",
    "    lst.append(x)\n",
    "    return lst"
   ]
  },
  {
   "cell_type": "code",
   "execution_count": 63,
   "metadata": {},
   "outputs": [],
   "source": [
    "lst1 = [1, 2, 3]"
   ]
  },
  {
   "cell_type": "code",
   "execution_count": 64,
   "metadata": {},
   "outputs": [
    {
     "data": {
      "text/plain": [
       "[1, 2, 3, 42]"
      ]
     },
     "execution_count": 64,
     "metadata": {},
     "output_type": "execute_result"
    }
   ],
   "source": [
    "my_new_append(42, lst1)"
   ]
  },
  {
   "cell_type": "code",
   "execution_count": 65,
   "metadata": {},
   "outputs": [
    {
     "data": {
      "text/plain": [
       "[1, 2, 3, 42]"
      ]
     },
     "execution_count": 65,
     "metadata": {},
     "output_type": "execute_result"
    }
   ],
   "source": [
    "lst1"
   ]
  },
  {
   "cell_type": "code",
   "execution_count": 66,
   "metadata": {},
   "outputs": [
    {
     "data": {
      "text/plain": [
       "[42]"
      ]
     },
     "execution_count": 66,
     "metadata": {},
     "output_type": "execute_result"
    }
   ],
   "source": [
    "my_new_append(42, [])"
   ]
  },
  {
   "cell_type": "code",
   "execution_count": 67,
   "metadata": {},
   "outputs": [
    {
     "data": {
      "text/plain": [
       "[42]"
      ]
     },
     "execution_count": 67,
     "metadata": {},
     "output_type": "execute_result"
    }
   ],
   "source": [
    "my_new_append(42, [])"
   ]
  },
  {
   "cell_type": "code",
   "execution_count": 68,
   "metadata": {},
   "outputs": [
    {
     "data": {
      "text/plain": [
       "[42]"
      ]
     },
     "execution_count": 68,
     "metadata": {},
     "output_type": "execute_result"
    }
   ],
   "source": [
    "my_new_append(42)"
   ]
  },
  {
   "cell_type": "code",
   "execution_count": 69,
   "metadata": {},
   "outputs": [
    {
     "data": {
      "text/plain": [
       "[42, 42]"
      ]
     },
     "execution_count": 69,
     "metadata": {},
     "output_type": "execute_result"
    }
   ],
   "source": [
    "my_new_append(42)"
   ]
  },
  {
   "cell_type": "code",
   "execution_count": 70,
   "metadata": {},
   "outputs": [
    {
     "data": {
      "text/plain": [
       "[42, 42, 42]"
      ]
     },
     "execution_count": 70,
     "metadata": {},
     "output_type": "execute_result"
    }
   ],
   "source": [
    "my_new_append(42)"
   ]
  },
  {
   "cell_type": "code",
   "execution_count": 71,
   "metadata": {},
   "outputs": [],
   "source": [
    "import inspect"
   ]
  },
  {
   "cell_type": "code",
   "execution_count": 72,
   "metadata": {
    "collapsed": true
   },
   "outputs": [
    {
     "data": {
      "text/plain": [
       "['ArgInfo',\n",
       " 'ArgSpec',\n",
       " 'Arguments',\n",
       " 'Attribute',\n",
       " 'BlockFinder',\n",
       " 'BoundArguments',\n",
       " 'CORO_CLOSED',\n",
       " 'CORO_CREATED',\n",
       " 'CORO_RUNNING',\n",
       " 'CORO_SUSPENDED',\n",
       " 'CO_ASYNC_GENERATOR',\n",
       " 'CO_COROUTINE',\n",
       " 'CO_GENERATOR',\n",
       " 'CO_ITERABLE_COROUTINE',\n",
       " 'CO_NESTED',\n",
       " 'CO_NEWLOCALS',\n",
       " 'CO_NOFREE',\n",
       " 'CO_OPTIMIZED',\n",
       " 'CO_VARARGS',\n",
       " 'CO_VARKEYWORDS',\n",
       " 'ClosureVars',\n",
       " 'EndOfBlock',\n",
       " 'FrameInfo',\n",
       " 'FullArgSpec',\n",
       " 'GEN_CLOSED',\n",
       " 'GEN_CREATED',\n",
       " 'GEN_RUNNING',\n",
       " 'GEN_SUSPENDED',\n",
       " 'OrderedDict',\n",
       " 'Parameter',\n",
       " 'Signature',\n",
       " 'TPFLAGS_IS_ABSTRACT',\n",
       " 'Traceback',\n",
       " '_ClassMethodWrapper',\n",
       " '_KEYWORD_ONLY',\n",
       " '_MethodWrapper',\n",
       " '_NonUserDefinedCallables',\n",
       " '_PARAM_NAME_MAPPING',\n",
       " '_POSITIONAL_ONLY',\n",
       " '_POSITIONAL_OR_KEYWORD',\n",
       " '_ParameterKind',\n",
       " '_VAR_KEYWORD',\n",
       " '_VAR_POSITIONAL',\n",
       " '_WrapperDescriptor',\n",
       " '__author__',\n",
       " '__builtins__',\n",
       " '__cached__',\n",
       " '__doc__',\n",
       " '__file__',\n",
       " '__loader__',\n",
       " '__name__',\n",
       " '__package__',\n",
       " '__spec__',\n",
       " '_check_class',\n",
       " '_check_instance',\n",
       " '_empty',\n",
       " '_filesbymodname',\n",
       " '_findclass',\n",
       " '_finddoc',\n",
       " '_has_code_flag',\n",
       " '_is_type',\n",
       " '_main',\n",
       " '_missing_arguments',\n",
       " '_sentinel',\n",
       " '_shadowed_dict',\n",
       " '_signature_bound_method',\n",
       " '_signature_from_builtin',\n",
       " '_signature_from_callable',\n",
       " '_signature_from_function',\n",
       " '_signature_fromstr',\n",
       " '_signature_get_bound_param',\n",
       " '_signature_get_partial',\n",
       " '_signature_get_user_defined_method',\n",
       " '_signature_is_builtin',\n",
       " '_signature_is_functionlike',\n",
       " '_signature_strip_non_python_syntax',\n",
       " '_static_getmro',\n",
       " '_too_many',\n",
       " '_void',\n",
       " 'abc',\n",
       " 'attrgetter',\n",
       " 'builtins',\n",
       " 'classify_class_attrs',\n",
       " 'cleandoc',\n",
       " 'collections',\n",
       " 'currentframe',\n",
       " 'dis',\n",
       " 'enum',\n",
       " 'findsource',\n",
       " 'formatannotation',\n",
       " 'formatannotationrelativeto',\n",
       " 'formatargspec',\n",
       " 'formatargvalues',\n",
       " 'functools',\n",
       " 'getabsfile',\n",
       " 'getargs',\n",
       " 'getargspec',\n",
       " 'getargvalues',\n",
       " 'getattr_static',\n",
       " 'getblock',\n",
       " 'getcallargs',\n",
       " 'getclasstree',\n",
       " 'getclosurevars',\n",
       " 'getcomments',\n",
       " 'getcoroutinelocals',\n",
       " 'getcoroutinestate',\n",
       " 'getdoc',\n",
       " 'getfile',\n",
       " 'getframeinfo',\n",
       " 'getfullargspec',\n",
       " 'getgeneratorlocals',\n",
       " 'getgeneratorstate',\n",
       " 'getinnerframes',\n",
       " 'getlineno',\n",
       " 'getmembers',\n",
       " 'getmodule',\n",
       " 'getmodulename',\n",
       " 'getmro',\n",
       " 'getouterframes',\n",
       " 'getsource',\n",
       " 'getsourcefile',\n",
       " 'getsourcelines',\n",
       " 'importlib',\n",
       " 'indentsize',\n",
       " 'isabstract',\n",
       " 'isasyncgen',\n",
       " 'isasyncgenfunction',\n",
       " 'isawaitable',\n",
       " 'isbuiltin',\n",
       " 'isclass',\n",
       " 'iscode',\n",
       " 'iscoroutine',\n",
       " 'iscoroutinefunction',\n",
       " 'isdatadescriptor',\n",
       " 'isframe',\n",
       " 'isfunction',\n",
       " 'isgenerator',\n",
       " 'isgeneratorfunction',\n",
       " 'isgetsetdescriptor',\n",
       " 'ismemberdescriptor',\n",
       " 'ismethod',\n",
       " 'ismethoddescriptor',\n",
       " 'ismodule',\n",
       " 'isroutine',\n",
       " 'istraceback',\n",
       " 'itertools',\n",
       " 'k',\n",
       " 'linecache',\n",
       " 'mod_dict',\n",
       " 'modulesbyfile',\n",
       " 'namedtuple',\n",
       " 'os',\n",
       " 're',\n",
       " 'signature',\n",
       " 'stack',\n",
       " 'sys',\n",
       " 'token',\n",
       " 'tokenize',\n",
       " 'trace',\n",
       " 'types',\n",
       " 'unwrap',\n",
       " 'v',\n",
       " 'walktree',\n",
       " 'warnings']"
      ]
     },
     "execution_count": 72,
     "metadata": {},
     "output_type": "execute_result"
    }
   ],
   "source": [
    "dir(inspect)"
   ]
  },
  {
   "cell_type": "code",
   "execution_count": 73,
   "metadata": {
    "scrolled": true
   },
   "outputs": [
    {
     "name": "stderr",
     "output_type": "stream",
     "text": [
      "/var/folders/v8/2cskhqjj0_g0zp3824glf1tm0000gn/T/ipykernel_1020/127599799.py:1: DeprecationWarning: inspect.getargspec() is deprecated since Python 3.0, use inspect.signature() or inspect.getfullargspec()\n",
      "  inspect.getargspec(my_new_append)\n"
     ]
    },
    {
     "data": {
      "text/plain": [
       "ArgSpec(args=['x', 'lst'], varargs=None, keywords=None, defaults=([42, 42, 42],))"
      ]
     },
     "execution_count": 73,
     "metadata": {},
     "output_type": "execute_result"
    }
   ],
   "source": [
    "inspect.getargspec(my_new_append)"
   ]
  },
  {
   "cell_type": "code",
   "execution_count": 74,
   "metadata": {},
   "outputs": [
    {
     "data": {
      "text/plain": [
       "<Signature (pos_arg1, pos_arg2, pos_arg3_with_def='arg with def value', *args, kw_arg1, kw_arg2, kw_arg3_with_def=100, **kwargs)>"
      ]
     },
     "execution_count": 74,
     "metadata": {},
     "output_type": "execute_result"
    }
   ],
   "source": [
    "inspect.signature(full_function)"
   ]
  },
  {
   "cell_type": "code",
   "execution_count": 78,
   "metadata": {},
   "outputs": [
    {
     "data": {
      "text/plain": [
       "FullArgSpec(args=['pos_arg1', 'pos_arg2', 'pos_arg3_with_def'], varargs='args', varkw='kwargs', defaults=('arg with def value',), kwonlyargs=['kw_arg1', 'kw_arg2', 'kw_arg3_with_def'], kwonlydefaults={'kw_arg3_with_def': 100}, annotations={})"
      ]
     },
     "execution_count": 78,
     "metadata": {},
     "output_type": "execute_result"
    }
   ],
   "source": [
    "inspect.getfullargspec(full_function)"
   ]
  },
  {
   "cell_type": "code",
   "execution_count": 77,
   "metadata": {},
   "outputs": [
    {
     "name": "stdout",
     "output_type": "stream",
     "text": [
      "FullArgSpec(args=['pos_arg1',\n",
      "'pos_arg2',\n",
      "'pos_arg3_with_def'],\n",
      "varargs='args',\n",
      "varkw='kwargs',\n",
      "defaults=('arg\n",
      "with\n",
      "def\n",
      "value',),\n",
      "kwonlyargs=['kw_arg1',\n",
      "'kw_arg2',\n",
      "'kw_arg3_with_def'],\n",
      "kwonlydefaults={'kw_arg3_with_def':\n",
      "100},\n",
      "annotations={})\n"
     ]
    }
   ],
   "source": [
    "print(*str(inspect.getfullargspec(full_function)).split(), sep='\\n')"
   ]
  },
  {
   "cell_type": "markdown",
   "metadata": {},
   "source": [
    "### Рекурсивные функции"
   ]
  },
  {
   "cell_type": "markdown",
   "metadata": {},
   "source": [
    "Функция внутри себя может вызывать другие функции. \n",
    "\n",
    "Важный частный случай - функция внутри себя вызывает **саму себя**."
   ]
  },
  {
   "cell_type": "code",
   "execution_count": 87,
   "metadata": {
    "ExecuteTime": {
     "end_time": "2019-10-07T18:24:00.154295Z",
     "start_time": "2019-10-07T18:24:00.147111Z"
    },
    "code_folding": [
     3
    ]
   },
   "outputs": [],
   "source": [
    "# Давайте попробуем написать обычную функцию, которая вычисляет факториал числа\n",
    "\n",
    "\n",
    "def factorial(n):\n",
    "    factorial = 1\n",
    "    \n",
    "    for i in range(1, n + 1):\n",
    "        factorial *= i\n",
    "        \n",
    "    return factorial"
   ]
  },
  {
   "cell_type": "code",
   "execution_count": 88,
   "metadata": {},
   "outputs": [
    {
     "data": {
      "text/plain": [
       "120"
      ]
     },
     "execution_count": 88,
     "metadata": {},
     "output_type": "execute_result"
    }
   ],
   "source": [
    "factorial(5)"
   ]
  },
  {
   "cell_type": "markdown",
   "metadata": {
    "ExecuteTime": {
     "end_time": "2019-10-07T18:25:12.588115Z",
     "start_time": "2019-10-07T18:25:12.579529Z"
    }
   },
   "source": [
    "Математически факториал можно написать в виде рекурсивной формулы: \n",
    "\n",
    "```factorial(n+1) = factorial(n) * (n+1) = factorial(n - 1) * n * (n+1) = ...```"
   ]
  },
  {
   "cell_type": "markdown",
   "metadata": {},
   "source": [
    "Советую начинать с того, чтобы продумывать, когда рекурсия заканчивается (т.е. что должно случиться, чтобы была \"последняя\" итерация):"
   ]
  },
  {
   "cell_type": "code",
   "execution_count": 83,
   "metadata": {},
   "outputs": [
    {
     "name": "stdout",
     "output_type": "stream",
     "text": [
      "22\n"
     ]
    }
   ],
   "source": [
    "print(len(inspect.stack()))"
   ]
  },
  {
   "cell_type": "code",
   "execution_count": 89,
   "metadata": {
    "ExecuteTime": {
     "end_time": "2019-10-07T18:28:29.546337Z",
     "start_time": "2019-10-07T18:28:29.539280Z"
    },
    "code_folding": [
     3
    ]
   },
   "outputs": [],
   "source": [
    "# Давайте попробуем написать рекурсивную функцию, которая вычисляет факториал числа\n",
    "import inspect\n",
    "\n",
    "def recursive_factorial(n):\n",
    "    print(\"Вызов функции с n =\", n)\n",
    "    print(len(inspect.stack()))\n",
    "    \n",
    "    if n == 0:\n",
    "        return 1\n",
    "    \n",
    "    return n * recursive_factorial(n-1)"
   ]
  },
  {
   "cell_type": "code",
   "execution_count": 90,
   "metadata": {
    "scrolled": false
   },
   "outputs": [
    {
     "name": "stdout",
     "output_type": "stream",
     "text": [
      "Вызов функции с n = 5\n",
      "23\n",
      "Вызов функции с n = 4\n",
      "24\n",
      "Вызов функции с n = 3\n",
      "25\n",
      "Вызов функции с n = 2\n",
      "26\n",
      "Вызов функции с n = 1\n",
      "27\n",
      "Вызов функции с n = 0\n",
      "28\n"
     ]
    },
    {
     "data": {
      "text/plain": [
       "120"
      ]
     },
     "execution_count": 90,
     "metadata": {},
     "output_type": "execute_result"
    }
   ],
   "source": [
    "recursive_factorial(5)"
   ]
  },
  {
   "cell_type": "code",
   "execution_count": 91,
   "metadata": {},
   "outputs": [],
   "source": [
    "def inf_rec_func():\n",
    "    inf_rec_func()"
   ]
  },
  {
   "cell_type": "code",
   "execution_count": 92,
   "metadata": {},
   "outputs": [
    {
     "ename": "RecursionError",
     "evalue": "maximum recursion depth exceeded",
     "output_type": "error",
     "traceback": [
      "\u001b[0;31m---------------------------------------------------------------------------\u001b[0m",
      "\u001b[0;31mRecursionError\u001b[0m                            Traceback (most recent call last)",
      "\u001b[0;32m/var/folders/v8/2cskhqjj0_g0zp3824glf1tm0000gn/T/ipykernel_1020/3590699003.py\u001b[0m in \u001b[0;36m<module>\u001b[0;34m\u001b[0m\n\u001b[0;32m----> 1\u001b[0;31m \u001b[0minf_rec_func\u001b[0m\u001b[0;34m(\u001b[0m\u001b[0;34m)\u001b[0m\u001b[0;34m\u001b[0m\u001b[0;34m\u001b[0m\u001b[0m\n\u001b[0m",
      "\u001b[0;32m/var/folders/v8/2cskhqjj0_g0zp3824glf1tm0000gn/T/ipykernel_1020/1802176131.py\u001b[0m in \u001b[0;36minf_rec_func\u001b[0;34m()\u001b[0m\n\u001b[1;32m      1\u001b[0m \u001b[0;32mdef\u001b[0m \u001b[0minf_rec_func\u001b[0m\u001b[0;34m(\u001b[0m\u001b[0;34m)\u001b[0m\u001b[0;34m:\u001b[0m\u001b[0;34m\u001b[0m\u001b[0;34m\u001b[0m\u001b[0m\n\u001b[0;32m----> 2\u001b[0;31m     \u001b[0minf_rec_func\u001b[0m\u001b[0;34m(\u001b[0m\u001b[0;34m)\u001b[0m\u001b[0;34m\u001b[0m\u001b[0;34m\u001b[0m\u001b[0m\n\u001b[0m",
      "... last 1 frames repeated, from the frame below ...\n",
      "\u001b[0;32m/var/folders/v8/2cskhqjj0_g0zp3824glf1tm0000gn/T/ipykernel_1020/1802176131.py\u001b[0m in \u001b[0;36minf_rec_func\u001b[0;34m()\u001b[0m\n\u001b[1;32m      1\u001b[0m \u001b[0;32mdef\u001b[0m \u001b[0minf_rec_func\u001b[0m\u001b[0;34m(\u001b[0m\u001b[0;34m)\u001b[0m\u001b[0;34m:\u001b[0m\u001b[0;34m\u001b[0m\u001b[0;34m\u001b[0m\u001b[0m\n\u001b[0;32m----> 2\u001b[0;31m     \u001b[0minf_rec_func\u001b[0m\u001b[0;34m(\u001b[0m\u001b[0;34m)\u001b[0m\u001b[0;34m\u001b[0m\u001b[0;34m\u001b[0m\u001b[0m\n\u001b[0m",
      "\u001b[0;31mRecursionError\u001b[0m: maximum recursion depth exceeded"
     ]
    }
   ],
   "source": [
    "inf_rec_func()"
   ]
  },
  {
   "cell_type": "code",
   "execution_count": 93,
   "metadata": {},
   "outputs": [
    {
     "data": {
      "text/plain": [
       "3000"
      ]
     },
     "execution_count": 93,
     "metadata": {},
     "output_type": "execute_result"
    }
   ],
   "source": [
    "import sys\n",
    "\n",
    "sys.getrecursionlimit()"
   ]
  },
  {
   "cell_type": "code",
   "execution_count": 94,
   "metadata": {},
   "outputs": [],
   "source": [
    "sys.setrecursionlimit(1000000)"
   ]
  },
  {
   "cell_type": "code",
   "execution_count": 95,
   "metadata": {},
   "outputs": [
    {
     "data": {
      "text/plain": [
       "1000000"
      ]
     },
     "execution_count": 95,
     "metadata": {},
     "output_type": "execute_result"
    }
   ],
   "source": [
    "sys.getrecursionlimit()"
   ]
  },
  {
   "cell_type": "markdown",
   "metadata": {},
   "source": [
    "Не забывайте про выход из рекурсии! Иначе можно получить бесконечную рекурсию."
   ]
  },
  {
   "cell_type": "markdown",
   "metadata": {},
   "source": [
    "## Работа с файлами/папками"
   ]
  },
  {
   "cell_type": "markdown",
   "metadata": {},
   "source": [
    "### Чтение/запись в файл"
   ]
  },
  {
   "cell_type": "code",
   "execution_count": 14,
   "metadata": {},
   "outputs": [
    {
     "name": "stderr",
     "output_type": "stream",
     "text": [
      "\"ls\" ­Ґ пў«пҐвбп ў­гваҐ­­Ґ© Ё«Ё ў­Ґи­Ґ©\n",
      "Є®¬ ­¤®©, ЁбЇ®«­пҐ¬®© Їа®Ја ¬¬®© Ё«Ё Ї ЄҐв­л¬ д ©«®¬.\n"
     ]
    }
   ],
   "source": [
    "!ls"
   ]
  },
  {
   "cell_type": "code",
   "execution_count": 97,
   "metadata": {
    "ExecuteTime": {
     "end_time": "2019-10-07T18:43:06.713893Z",
     "start_time": "2019-10-07T18:43:06.708217Z"
    }
   },
   "outputs": [],
   "source": [
    "file_object = open('1.txt', mode='w')"
   ]
  },
  {
   "cell_type": "markdown",
   "metadata": {},
   "source": [
    "'r' - чтение\n",
    "\n",
    "'w' - запись (существующий файл будет стерт и перезаписан)\n",
    "\n",
    "'a' - дозапись (append)\n",
    "\n",
    "'r+' - и чтение, и запись"
   ]
  },
  {
   "cell_type": "code",
   "execution_count": 98,
   "metadata": {
    "ExecuteTime": {
     "end_time": "2019-10-07T18:43:07.171204Z",
     "start_time": "2019-10-07T18:43:07.163379Z"
    }
   },
   "outputs": [
    {
     "data": {
      "text/plain": [
       "<_io.TextIOWrapper name='1.txt' mode='w' encoding='UTF-8'>"
      ]
     },
     "execution_count": 98,
     "metadata": {},
     "output_type": "execute_result"
    }
   ],
   "source": [
    "file_object"
   ]
  },
  {
   "cell_type": "code",
   "execution_count": 99,
   "metadata": {
    "ExecuteTime": {
     "end_time": "2019-10-07T18:43:07.737091Z",
     "start_time": "2019-10-07T18:43:07.731479Z"
    }
   },
   "outputs": [],
   "source": [
    "file_object.writelines(['1 line\\n', '2 line\\n'])"
   ]
  },
  {
   "cell_type": "code",
   "execution_count": 100,
   "metadata": {
    "ExecuteTime": {
     "end_time": "2019-10-07T18:43:08.176627Z",
     "start_time": "2019-10-07T18:43:08.166989Z"
    },
    "scrolled": true
   },
   "outputs": [
    {
     "data": {
      "text/plain": [
       "7"
      ]
     },
     "execution_count": 100,
     "metadata": {},
     "output_type": "execute_result"
    }
   ],
   "source": [
    "file_object.write('3 line\\n')"
   ]
  },
  {
   "cell_type": "code",
   "execution_count": 101,
   "metadata": {},
   "outputs": [
    {
     "data": {
      "text/plain": [
       "False"
      ]
     },
     "execution_count": 101,
     "metadata": {},
     "output_type": "execute_result"
    }
   ],
   "source": [
    "file_object.closed"
   ]
  },
  {
   "cell_type": "code",
   "execution_count": 102,
   "metadata": {
    "ExecuteTime": {
     "end_time": "2019-10-07T18:43:08.908555Z",
     "start_time": "2019-10-07T18:43:08.902725Z"
    }
   },
   "outputs": [],
   "source": [
    "file_object.close()"
   ]
  },
  {
   "cell_type": "code",
   "execution_count": 103,
   "metadata": {},
   "outputs": [
    {
     "data": {
      "text/plain": [
       "True"
      ]
     },
     "execution_count": 103,
     "metadata": {},
     "output_type": "execute_result"
    }
   ],
   "source": [
    "file_object.closed"
   ]
  },
  {
   "cell_type": "code",
   "execution_count": 104,
   "metadata": {},
   "outputs": [
    {
     "name": "stdout",
     "output_type": "stream",
     "text": [
      "1.txt           lecture04.ipynb\r\n"
     ]
    }
   ],
   "source": [
    "!ls"
   ]
  },
  {
   "cell_type": "code",
   "execution_count": 105,
   "metadata": {
    "ExecuteTime": {
     "end_time": "2019-10-07T18:43:10.338789Z",
     "start_time": "2019-10-07T18:43:10.145144Z"
    }
   },
   "outputs": [
    {
     "name": "stdout",
     "output_type": "stream",
     "text": [
      "1 line\r\n",
      "2 line\r\n",
      "3 line\r\n"
     ]
    }
   ],
   "source": [
    "!cat 1.txt"
   ]
  },
  {
   "cell_type": "code",
   "execution_count": 106,
   "metadata": {
    "ExecuteTime": {
     "end_time": "2019-10-07T18:47:41.399653Z",
     "start_time": "2019-10-07T18:47:41.391597Z"
    }
   },
   "outputs": [
    {
     "name": "stdout",
     "output_type": "stream",
     "text": [
      "1 line\n",
      "2 line\n",
      "3 line\n",
      "\n"
     ]
    }
   ],
   "source": [
    "file_object = open('1.txt', 'r')\n",
    "\n",
    "print(file_object.read())\n",
    "\n",
    "file_object.close()"
   ]
  },
  {
   "cell_type": "code",
   "execution_count": 107,
   "metadata": {},
   "outputs": [
    {
     "data": {
      "text/plain": [
       "False"
      ]
     },
     "execution_count": 107,
     "metadata": {},
     "output_type": "execute_result"
    }
   ],
   "source": [
    "bool('')"
   ]
  },
  {
   "cell_type": "code",
   "execution_count": 109,
   "metadata": {
    "ExecuteTime": {
     "end_time": "2019-10-07T18:47:42.760861Z",
     "start_time": "2019-10-07T18:47:42.752482Z"
    }
   },
   "outputs": [
    {
     "name": "stdout",
     "output_type": "stream",
     "text": [
      "1 line\n",
      "\n",
      "2 line\n",
      "\n",
      "3 line\n",
      "\n"
     ]
    }
   ],
   "source": [
    "file_object = open('1.txt', 'r')\n",
    "\n",
    "line = file_object.readline()\n",
    "\n",
    "while line:\n",
    "    print(line)\n",
    "\n",
    "    line = file_object.readline()\n",
    "    \n",
    "file_object.close()"
   ]
  },
  {
   "cell_type": "code",
   "execution_count": 110,
   "metadata": {
    "ExecuteTime": {
     "end_time": "2019-10-07T18:48:12.630923Z",
     "start_time": "2019-10-07T18:48:12.621139Z"
    }
   },
   "outputs": [
    {
     "name": "stdout",
     "output_type": "stream",
     "text": [
      "1\n",
      " \n",
      "l\n",
      "i\n",
      "n\n",
      "e\n",
      "\n",
      "\n"
     ]
    }
   ],
   "source": [
    "file_object = open('1.txt', 'r')\n",
    "\n",
    "for i in file_object.readline():\n",
    "    print(i)\n",
    "    \n",
    "file_object.close()"
   ]
  },
  {
   "cell_type": "code",
   "execution_count": 111,
   "metadata": {
    "ExecuteTime": {
     "end_time": "2019-10-07T18:48:41.074155Z",
     "start_time": "2019-10-07T18:48:41.067043Z"
    }
   },
   "outputs": [
    {
     "name": "stdout",
     "output_type": "stream",
     "text": [
      "1 line\n",
      "\n",
      "2 line\n",
      "\n",
      "3 line\n",
      "\n"
     ]
    }
   ],
   "source": [
    "file_object = open('1.txt', 'r')\n",
    "\n",
    "for i in file_object.readlines():\n",
    "    print(i)\n",
    "    \n",
    "file_object.close()"
   ]
  },
  {
   "cell_type": "code",
   "execution_count": 112,
   "metadata": {
    "ExecuteTime": {
     "end_time": "2019-10-07T18:49:17.229603Z",
     "start_time": "2019-10-07T18:49:17.220696Z"
    }
   },
   "outputs": [
    {
     "name": "stdout",
     "output_type": "stream",
     "text": [
      "<class 'list'>\n"
     ]
    }
   ],
   "source": [
    "file_object = open('1.txt', 'r')\n",
    "\n",
    "print(type(file_object.readlines()))\n",
    "\n",
    "file_object.close()"
   ]
  },
  {
   "cell_type": "markdown",
   "metadata": {},
   "source": [
    "#### Контекстный менеджер with"
   ]
  },
  {
   "cell_type": "code",
   "execution_count": 113,
   "metadata": {
    "ExecuteTime": {
     "end_time": "2019-10-07T18:51:20.333754Z",
     "start_time": "2019-10-07T18:51:20.327379Z"
    }
   },
   "outputs": [],
   "source": [
    "with open('1.txt', 'r') as context_file_object:\n",
    "    lines = context_file_object.readlines()\n",
    "    new_lines = context_file_object.readline()"
   ]
  },
  {
   "cell_type": "code",
   "execution_count": 114,
   "metadata": {},
   "outputs": [
    {
     "data": {
      "text/plain": [
       "''"
      ]
     },
     "execution_count": 114,
     "metadata": {},
     "output_type": "execute_result"
    }
   ],
   "source": [
    "new_lines"
   ]
  },
  {
   "cell_type": "code",
   "execution_count": 115,
   "metadata": {},
   "outputs": [
    {
     "data": {
      "text/plain": [
       "['1 line\\n', '2 line\\n', '3 line\\n']"
      ]
     },
     "execution_count": 115,
     "metadata": {},
     "output_type": "execute_result"
    }
   ],
   "source": [
    "lines"
   ]
  },
  {
   "cell_type": "code",
   "execution_count": 116,
   "metadata": {
    "ExecuteTime": {
     "end_time": "2019-10-07T18:51:21.625788Z",
     "start_time": "2019-10-07T18:51:21.608785Z"
    }
   },
   "outputs": [
    {
     "ename": "ValueError",
     "evalue": "I/O operation on closed file.",
     "output_type": "error",
     "traceback": [
      "\u001b[0;31m---------------------------------------------------------------------------\u001b[0m",
      "\u001b[0;31mValueError\u001b[0m                                Traceback (most recent call last)",
      "\u001b[0;32m/var/folders/v8/2cskhqjj0_g0zp3824glf1tm0000gn/T/ipykernel_1020/3681294773.py\u001b[0m in \u001b[0;36m<module>\u001b[0;34m\u001b[0m\n\u001b[0;32m----> 1\u001b[0;31m \u001b[0mcontext_file_object\u001b[0m\u001b[0;34m.\u001b[0m\u001b[0mread\u001b[0m\u001b[0;34m(\u001b[0m\u001b[0;34m)\u001b[0m\u001b[0;34m\u001b[0m\u001b[0;34m\u001b[0m\u001b[0m\n\u001b[0m",
      "\u001b[0;31mValueError\u001b[0m: I/O operation on closed file."
     ]
    }
   ],
   "source": [
    "context_file_object.read()"
   ]
  },
  {
   "cell_type": "code",
   "execution_count": 117,
   "metadata": {
    "ExecuteTime": {
     "end_time": "2019-10-07T18:51:26.182947Z",
     "start_time": "2019-10-07T18:51:26.175095Z"
    }
   },
   "outputs": [
    {
     "data": {
      "text/plain": [
       "['1 line\\n', '2 line\\n', '3 line\\n']"
      ]
     },
     "execution_count": 117,
     "metadata": {},
     "output_type": "execute_result"
    }
   ],
   "source": [
    "lines"
   ]
  },
  {
   "cell_type": "code",
   "execution_count": 118,
   "metadata": {
    "ExecuteTime": {
     "end_time": "2019-10-07T18:52:20.972642Z",
     "start_time": "2019-10-07T18:52:20.963970Z"
    }
   },
   "outputs": [
    {
     "name": "stdout",
     "output_type": "stream",
     "text": [
      "1 line\n",
      "\n",
      "2 line\n",
      "\n",
      "3 line\n",
      "\n"
     ]
    }
   ],
   "source": [
    "with open('1.txt', 'r') as context_file_object:\n",
    "    for line in context_file_object:\n",
    "        print(line)"
   ]
  },
  {
   "cell_type": "markdown",
   "metadata": {},
   "source": [
    "### Работа с директориями"
   ]
  },
  {
   "cell_type": "code",
   "execution_count": 119,
   "metadata": {
    "ExecuteTime": {
     "end_time": "2019-10-07T18:54:13.539077Z",
     "start_time": "2019-10-07T18:54:13.534435Z"
    }
   },
   "outputs": [],
   "source": [
    "import os"
   ]
  },
  {
   "cell_type": "code",
   "execution_count": 120,
   "metadata": {
    "collapsed": true
   },
   "outputs": [
    {
     "data": {
      "text/plain": [
       "['CLD_CONTINUED',\n",
       " 'CLD_DUMPED',\n",
       " 'CLD_EXITED',\n",
       " 'CLD_TRAPPED',\n",
       " 'DirEntry',\n",
       " 'EX_CANTCREAT',\n",
       " 'EX_CONFIG',\n",
       " 'EX_DATAERR',\n",
       " 'EX_IOERR',\n",
       " 'EX_NOHOST',\n",
       " 'EX_NOINPUT',\n",
       " 'EX_NOPERM',\n",
       " 'EX_NOUSER',\n",
       " 'EX_OK',\n",
       " 'EX_OSERR',\n",
       " 'EX_OSFILE',\n",
       " 'EX_PROTOCOL',\n",
       " 'EX_SOFTWARE',\n",
       " 'EX_TEMPFAIL',\n",
       " 'EX_UNAVAILABLE',\n",
       " 'EX_USAGE',\n",
       " 'F_LOCK',\n",
       " 'F_OK',\n",
       " 'F_TEST',\n",
       " 'F_TLOCK',\n",
       " 'F_ULOCK',\n",
       " 'MutableMapping',\n",
       " 'NGROUPS_MAX',\n",
       " 'O_ACCMODE',\n",
       " 'O_APPEND',\n",
       " 'O_ASYNC',\n",
       " 'O_CLOEXEC',\n",
       " 'O_CREAT',\n",
       " 'O_DIRECTORY',\n",
       " 'O_DSYNC',\n",
       " 'O_EXCL',\n",
       " 'O_EXLOCK',\n",
       " 'O_NDELAY',\n",
       " 'O_NOCTTY',\n",
       " 'O_NOFOLLOW',\n",
       " 'O_NONBLOCK',\n",
       " 'O_RDONLY',\n",
       " 'O_RDWR',\n",
       " 'O_SHLOCK',\n",
       " 'O_SYNC',\n",
       " 'O_TRUNC',\n",
       " 'O_WRONLY',\n",
       " 'POSIX_SPAWN_CLOSE',\n",
       " 'POSIX_SPAWN_DUP2',\n",
       " 'POSIX_SPAWN_OPEN',\n",
       " 'PRIO_PGRP',\n",
       " 'PRIO_PROCESS',\n",
       " 'PRIO_USER',\n",
       " 'P_ALL',\n",
       " 'P_NOWAIT',\n",
       " 'P_NOWAITO',\n",
       " 'P_PGID',\n",
       " 'P_PID',\n",
       " 'P_WAIT',\n",
       " 'PathLike',\n",
       " 'RTLD_GLOBAL',\n",
       " 'RTLD_LAZY',\n",
       " 'RTLD_LOCAL',\n",
       " 'RTLD_NODELETE',\n",
       " 'RTLD_NOLOAD',\n",
       " 'RTLD_NOW',\n",
       " 'R_OK',\n",
       " 'SCHED_FIFO',\n",
       " 'SCHED_OTHER',\n",
       " 'SCHED_RR',\n",
       " 'SEEK_CUR',\n",
       " 'SEEK_DATA',\n",
       " 'SEEK_END',\n",
       " 'SEEK_HOLE',\n",
       " 'SEEK_SET',\n",
       " 'ST_NOSUID',\n",
       " 'ST_RDONLY',\n",
       " 'TMP_MAX',\n",
       " 'WCONTINUED',\n",
       " 'WCOREDUMP',\n",
       " 'WEXITED',\n",
       " 'WEXITSTATUS',\n",
       " 'WIFCONTINUED',\n",
       " 'WIFEXITED',\n",
       " 'WIFSIGNALED',\n",
       " 'WIFSTOPPED',\n",
       " 'WNOHANG',\n",
       " 'WNOWAIT',\n",
       " 'WSTOPPED',\n",
       " 'WSTOPSIG',\n",
       " 'WTERMSIG',\n",
       " 'WUNTRACED',\n",
       " 'W_OK',\n",
       " 'X_OK',\n",
       " '_Environ',\n",
       " '__all__',\n",
       " '__builtins__',\n",
       " '__cached__',\n",
       " '__doc__',\n",
       " '__file__',\n",
       " '__loader__',\n",
       " '__name__',\n",
       " '__package__',\n",
       " '__spec__',\n",
       " '_check_methods',\n",
       " '_execvpe',\n",
       " '_exists',\n",
       " '_exit',\n",
       " '_fspath',\n",
       " '_fwalk',\n",
       " '_get_exports_list',\n",
       " '_putenv',\n",
       " '_spawnvef',\n",
       " '_unsetenv',\n",
       " '_wrap_close',\n",
       " 'abc',\n",
       " 'abort',\n",
       " 'access',\n",
       " 'altsep',\n",
       " 'chdir',\n",
       " 'chflags',\n",
       " 'chmod',\n",
       " 'chown',\n",
       " 'chroot',\n",
       " 'close',\n",
       " 'closerange',\n",
       " 'confstr',\n",
       " 'confstr_names',\n",
       " 'cpu_count',\n",
       " 'ctermid',\n",
       " 'curdir',\n",
       " 'defpath',\n",
       " 'device_encoding',\n",
       " 'devnull',\n",
       " 'dup',\n",
       " 'dup2',\n",
       " 'environ',\n",
       " 'environb',\n",
       " 'error',\n",
       " 'execl',\n",
       " 'execle',\n",
       " 'execlp',\n",
       " 'execlpe',\n",
       " 'execv',\n",
       " 'execve',\n",
       " 'execvp',\n",
       " 'execvpe',\n",
       " 'extsep',\n",
       " 'fchdir',\n",
       " 'fchmod',\n",
       " 'fchown',\n",
       " 'fdopen',\n",
       " 'fork',\n",
       " 'forkpty',\n",
       " 'fpathconf',\n",
       " 'fsdecode',\n",
       " 'fsencode',\n",
       " 'fspath',\n",
       " 'fstat',\n",
       " 'fstatvfs',\n",
       " 'fsync',\n",
       " 'ftruncate',\n",
       " 'fwalk',\n",
       " 'get_blocking',\n",
       " 'get_exec_path',\n",
       " 'get_inheritable',\n",
       " 'get_terminal_size',\n",
       " 'getcwd',\n",
       " 'getcwdb',\n",
       " 'getegid',\n",
       " 'getenv',\n",
       " 'getenvb',\n",
       " 'geteuid',\n",
       " 'getgid',\n",
       " 'getgrouplist',\n",
       " 'getgroups',\n",
       " 'getloadavg',\n",
       " 'getlogin',\n",
       " 'getpgid',\n",
       " 'getpgrp',\n",
       " 'getpid',\n",
       " 'getppid',\n",
       " 'getpriority',\n",
       " 'getsid',\n",
       " 'getuid',\n",
       " 'initgroups',\n",
       " 'isatty',\n",
       " 'kill',\n",
       " 'killpg',\n",
       " 'lchflags',\n",
       " 'lchmod',\n",
       " 'lchown',\n",
       " 'linesep',\n",
       " 'link',\n",
       " 'listdir',\n",
       " 'lockf',\n",
       " 'lseek',\n",
       " 'lstat',\n",
       " 'major',\n",
       " 'makedev',\n",
       " 'makedirs',\n",
       " 'minor',\n",
       " 'mkdir',\n",
       " 'mkfifo',\n",
       " 'mknod',\n",
       " 'name',\n",
       " 'nice',\n",
       " 'open',\n",
       " 'openpty',\n",
       " 'pardir',\n",
       " 'path',\n",
       " 'pathconf',\n",
       " 'pathconf_names',\n",
       " 'pathsep',\n",
       " 'pipe',\n",
       " 'popen',\n",
       " 'posix_spawn',\n",
       " 'posix_spawnp',\n",
       " 'pread',\n",
       " 'preadv',\n",
       " 'putenv',\n",
       " 'pwrite',\n",
       " 'pwritev',\n",
       " 'read',\n",
       " 'readlink',\n",
       " 'readv',\n",
       " 'register_at_fork',\n",
       " 'remove',\n",
       " 'removedirs',\n",
       " 'rename',\n",
       " 'renames',\n",
       " 'replace',\n",
       " 'rmdir',\n",
       " 'scandir',\n",
       " 'sched_get_priority_max',\n",
       " 'sched_get_priority_min',\n",
       " 'sched_yield',\n",
       " 'sendfile',\n",
       " 'sep',\n",
       " 'set_blocking',\n",
       " 'set_inheritable',\n",
       " 'setegid',\n",
       " 'seteuid',\n",
       " 'setgid',\n",
       " 'setgroups',\n",
       " 'setpgid',\n",
       " 'setpgrp',\n",
       " 'setpriority',\n",
       " 'setregid',\n",
       " 'setreuid',\n",
       " 'setsid',\n",
       " 'setuid',\n",
       " 'spawnl',\n",
       " 'spawnle',\n",
       " 'spawnlp',\n",
       " 'spawnlpe',\n",
       " 'spawnv',\n",
       " 'spawnve',\n",
       " 'spawnvp',\n",
       " 'spawnvpe',\n",
       " 'st',\n",
       " 'stat',\n",
       " 'stat_result',\n",
       " 'statvfs',\n",
       " 'statvfs_result',\n",
       " 'strerror',\n",
       " 'supports_bytes_environ',\n",
       " 'supports_dir_fd',\n",
       " 'supports_effective_ids',\n",
       " 'supports_fd',\n",
       " 'supports_follow_symlinks',\n",
       " 'symlink',\n",
       " 'sync',\n",
       " 'sys',\n",
       " 'sysconf',\n",
       " 'sysconf_names',\n",
       " 'system',\n",
       " 'tcgetpgrp',\n",
       " 'tcsetpgrp',\n",
       " 'terminal_size',\n",
       " 'times',\n",
       " 'times_result',\n",
       " 'truncate',\n",
       " 'ttyname',\n",
       " 'umask',\n",
       " 'uname',\n",
       " 'uname_result',\n",
       " 'unlink',\n",
       " 'unsetenv',\n",
       " 'urandom',\n",
       " 'utime',\n",
       " 'wait',\n",
       " 'wait3',\n",
       " 'wait4',\n",
       " 'waitpid',\n",
       " 'walk',\n",
       " 'write',\n",
       " 'writev']"
      ]
     },
     "execution_count": 120,
     "metadata": {},
     "output_type": "execute_result"
    }
   ],
   "source": [
    "dir(os)"
   ]
  },
  {
   "cell_type": "code",
   "execution_count": 121,
   "metadata": {},
   "outputs": [
    {
     "name": "stdout",
     "output_type": "stream",
     "text": [
      "1.txt           lecture04.ipynb\r\n"
     ]
    }
   ],
   "source": [
    "!ls"
   ]
  },
  {
   "cell_type": "code",
   "execution_count": 122,
   "metadata": {
    "ExecuteTime": {
     "end_time": "2019-10-07T18:54:19.750152Z",
     "start_time": "2019-10-07T18:54:19.741998Z"
    }
   },
   "outputs": [
    {
     "data": {
      "text/plain": [
       "['1.txt', '.ipynb_checkpoints', 'lecture04.ipynb']"
      ]
     },
     "execution_count": 122,
     "metadata": {},
     "output_type": "execute_result"
    }
   ],
   "source": [
    "os.listdir()"
   ]
  },
  {
   "cell_type": "code",
   "execution_count": 123,
   "metadata": {
    "ExecuteTime": {
     "end_time": "2019-10-07T18:55:14.589754Z",
     "start_time": "2019-10-07T18:55:14.580441Z"
    },
    "scrolled": true
   },
   "outputs": [
    {
     "data": {
      "text/plain": [
       "['museums.csv', 'states_info.csv', 'lecture03.ipynb', '.ipynb_checkpoints']"
      ]
     },
     "execution_count": 123,
     "metadata": {},
     "output_type": "execute_result"
    }
   ],
   "source": [
    "os.listdir('../lecture03/')"
   ]
  },
  {
   "cell_type": "code",
   "execution_count": 124,
   "metadata": {
    "ExecuteTime": {
     "end_time": "2019-10-07T18:58:53.612974Z",
     "start_time": "2019-10-07T18:58:53.592594Z"
    },
    "code_folding": []
   },
   "outputs": [
    {
     "name": "stdout",
     "output_type": "stream",
     "text": [
      "museums.csv\n",
      "states_info.csv\n",
      "lecture03.ipynb\n"
     ]
    }
   ],
   "source": [
    "# выведем только папки\n",
    "\n",
    "basepath = '../lecture03/'\n",
    "\n",
    "for path in os.listdir(basepath):\n",
    "    full_path = os.path.join(basepath, path)\n",
    "    \n",
    "#     if os.path.isdir(full_path):\n",
    "#         print(path)\n",
    "        \n",
    "    if os.path.isfile(full_path):\n",
    "        print(path)"
   ]
  },
  {
   "cell_type": "code",
   "execution_count": 125,
   "metadata": {},
   "outputs": [
    {
     "name": "stdout",
     "output_type": "stream",
     "text": [
      "/Users/isklonin/Projects/01-teaching/ai_masters/2023/lectures/lecture04\r\n"
     ]
    }
   ],
   "source": [
    "!pwd"
   ]
  },
  {
   "cell_type": "code",
   "execution_count": 126,
   "metadata": {
    "ExecuteTime": {
     "end_time": "2019-10-07T19:13:46.230340Z",
     "start_time": "2019-10-07T19:13:46.207132Z"
    }
   },
   "outputs": [],
   "source": [
    "os.mkdir('lect_4_dir')\n",
    "os.mkdir('lect_4_dir/some_dir')"
   ]
  },
  {
   "cell_type": "code",
   "execution_count": 131,
   "metadata": {},
   "outputs": [],
   "source": [
    "!ls"
   ]
  },
  {
   "cell_type": "code",
   "execution_count": 132,
   "metadata": {},
   "outputs": [
    {
     "data": {
      "text/plain": [
       "['.', '..', '.ipynb_checkpoints', '1.txt', 'lect_4_dir', 'lecture04.ipynb']"
      ]
     },
     "execution_count": 132,
     "metadata": {},
     "output_type": "execute_result"
    }
   ],
   "source": [
    "x"
   ]
  },
  {
   "cell_type": "code",
   "execution_count": 128,
   "metadata": {
    "ExecuteTime": {
     "end_time": "2019-10-07T19:13:49.565573Z",
     "start_time": "2019-10-07T19:13:49.375861Z"
    }
   },
   "outputs": [
    {
     "name": "stdout",
     "output_type": "stream",
     "text": [
      "\u001b[1m\u001b[36msome_dir\u001b[m\u001b[m\r\n"
     ]
    }
   ],
   "source": [
    "!ls lect_4_dir"
   ]
  },
  {
   "cell_type": "code",
   "execution_count": 133,
   "metadata": {
    "ExecuteTime": {
     "end_time": "2019-10-07T19:15:45.630084Z",
     "start_time": "2019-10-07T19:15:45.613648Z"
    }
   },
   "outputs": [],
   "source": [
    "os.rmdir('lect_4_dir/some_dir')"
   ]
  },
  {
   "cell_type": "code",
   "execution_count": 134,
   "metadata": {},
   "outputs": [],
   "source": [
    "os.rmdir('lect_4_dir')"
   ]
  },
  {
   "cell_type": "code",
   "execution_count": 135,
   "metadata": {},
   "outputs": [
    {
     "name": "stdout",
     "output_type": "stream",
     "text": [
      "1.txt           lecture04.ipynb\r\n"
     ]
    }
   ],
   "source": [
    "!ls"
   ]
  },
  {
   "cell_type": "code",
   "execution_count": null,
   "metadata": {},
   "outputs": [],
   "source": []
  }
 ],
 "metadata": {
  "kernelspec": {
   "display_name": "Python 3 (ipykernel)",
   "language": "python",
   "name": "python3"
  },
  "language_info": {
   "codemirror_mode": {
    "name": "ipython",
    "version": 3
   },
   "file_extension": ".py",
   "mimetype": "text/x-python",
   "name": "python",
   "nbconvert_exporter": "python",
   "pygments_lexer": "ipython3",
   "version": "3.9.18"
  },
  "toc": {
   "base_numbering": 1,
   "nav_menu": {},
   "number_sections": true,
   "sideBar": true,
   "skip_h1_title": true,
   "title_cell": "План Лекции",
   "title_sidebar": "Contents",
   "toc_cell": true,
   "toc_position": {
    "height": "100px",
    "left": "10px",
    "top": "150px",
    "width": "313.63970947265625px"
   },
   "toc_section_display": true,
   "toc_window_display": true
  }
 },
 "nbformat": 4,
 "nbformat_minor": 2
}
