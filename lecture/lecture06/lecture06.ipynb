{
 "cells": [
  {
   "cell_type": "markdown",
   "id": "253a5347",
   "metadata": {
    "id": "m0fMdvd6HlhA"
   },
   "source": [
    "# Функции 2. Генераторы, итераторы, пространства имен\n",
    "\n",
    "### Ilia Sklonin"
   ]
  },
  {
   "cell_type": "code",
   "execution_count": 1,
   "id": "7ff045fc",
   "metadata": {},
   "outputs": [
    {
     "name": "stdout",
     "output_type": "stream",
     "text": [
      "Python 3.9.18\n"
     ]
    }
   ],
   "source": [
    "!python --version"
   ]
  },
  {
   "cell_type": "markdown",
   "id": "54312cd8",
   "metadata": {},
   "source": [
    "[EAFP - Easier to Ask for Forgiveness than Permission](https://docs.python.org/3.11/glossary.html#term-EAFP)"
   ]
  },
  {
   "cell_type": "markdown",
   "id": "e7323621",
   "metadata": {
    "id": "m0fMdvd6HlhA"
   },
   "source": [
    "### План на сегодня\n",
    "\n",
    "1. итераторы и итерабельность, модуль `collections.abc`, функция `isinstance`\n",
    "2. генераторы, инструкция `yield`, выражение для создания генератора\n",
    "3. пространства имен, `globals()` и `locals()`\n",
    "4. области видимости, LEGB, `global` и `nonlocal`\n",
    "5. замыкания, `__closure__`\n",
    "6. `itertools`, `functools`"
   ]
  },
  {
   "cell_type": "markdown",
   "id": "b299d32d",
   "metadata": {},
   "source": [
    "Как можно проверить тип объекта? Раньше вы могли делать это таким образом:"
   ]
  },
  {
   "cell_type": "code",
   "execution_count": 2,
   "id": "4ba41e24",
   "metadata": {},
   "outputs": [
    {
     "name": "stdout",
     "output_type": "stream",
     "text": [
      "yes, it's list\n"
     ]
    }
   ],
   "source": [
    "if type([1, 2, 3]) == list:\n",
    "    print(\"yes, it's list\")"
   ]
  },
  {
   "cell_type": "markdown",
   "id": "ce5588e9",
   "metadata": {},
   "source": [
    "Теперь, если нужно проверить тип переменной, мы будем использовать функцию `isinstance(obj, cls)`. Она позволяет определить, является ли `obj` экземпляром класса `cls`."
   ]
  },
  {
   "cell_type": "code",
   "execution_count": 3,
   "id": "8759c3e5",
   "metadata": {},
   "outputs": [
    {
     "data": {
      "text/plain": [
       "True"
      ]
     },
     "execution_count": 3,
     "metadata": {},
     "output_type": "execute_result"
    }
   ],
   "source": [
    "isinstance([1, 2, 3], list)"
   ]
  },
  {
   "cell_type": "code",
   "execution_count": 4,
   "id": "f69fcd06",
   "metadata": {},
   "outputs": [
    {
     "data": {
      "text/plain": [
       "True"
      ]
     },
     "execution_count": 4,
     "metadata": {},
     "output_type": "execute_result"
    }
   ],
   "source": [
    "isinstance({1: 2}, dict)"
   ]
  },
  {
   "cell_type": "code",
   "execution_count": 5,
   "id": "859ef269",
   "metadata": {},
   "outputs": [
    {
     "data": {
      "text/plain": [
       "False"
      ]
     },
     "execution_count": 5,
     "metadata": {},
     "output_type": "execute_result"
    }
   ],
   "source": [
    "isinstance(True, str)"
   ]
  },
  {
   "cell_type": "markdown",
   "id": "7efacc35",
   "metadata": {},
   "source": [
    "Очень удобно проверять наличие той или иной функциональности у объекта с помощью модуля `collections.abc` (Abstract Base Classes). Посмотреть список доступных Абстрактных классов можно [здесь](https://docs.python.org/3/library/collections.abc.html#collections-abstract-base-classes)"
   ]
  },
  {
   "cell_type": "code",
   "execution_count": 6,
   "id": "74bc482d",
   "metadata": {},
   "outputs": [],
   "source": [
    "from collections.abc import Hashable"
   ]
  },
  {
   "cell_type": "code",
   "execution_count": 7,
   "id": "afc51c79",
   "metadata": {},
   "outputs": [
    {
     "data": {
      "text/plain": [
       "False"
      ]
     },
     "execution_count": 7,
     "metadata": {},
     "output_type": "execute_result"
    }
   ],
   "source": [
    "isinstance([1, 2, 3], Hashable)"
   ]
  },
  {
   "cell_type": "markdown",
   "id": "c7f373d6",
   "metadata": {},
   "source": [
    "При этом вместо одного типа можно передать кортеж типов:"
   ]
  },
  {
   "cell_type": "code",
   "execution_count": 8,
   "id": "e9797d47",
   "metadata": {},
   "outputs": [
    {
     "data": {
      "text/plain": [
       "True"
      ]
     },
     "execution_count": 8,
     "metadata": {},
     "output_type": "execute_result"
    }
   ],
   "source": [
    "isinstance(True, (bool, str))  # equivalent isinstance(x, A) or isinstance(x, B)"
   ]
  },
  {
   "cell_type": "code",
   "execution_count": 9,
   "id": "6b1a27ee",
   "metadata": {},
   "outputs": [
    {
     "data": {
      "text/plain": [
       "False"
      ]
     },
     "execution_count": 9,
     "metadata": {},
     "output_type": "execute_result"
    }
   ],
   "source": [
    "isinstance(True, (float, str))"
   ]
  },
  {
   "cell_type": "code",
   "execution_count": 10,
   "id": "47ac7e61",
   "metadata": {},
   "outputs": [
    {
     "data": {
      "text/plain": [
       "True"
      ]
     },
     "execution_count": 10,
     "metadata": {},
     "output_type": "execute_result"
    }
   ],
   "source": [
    "isinstance(True, int)"
   ]
  },
  {
   "cell_type": "code",
   "execution_count": 3,
   "id": "d499cd71",
   "metadata": {},
   "outputs": [
    {
     "name": "stdout",
     "output_type": "stream",
     "text": [
      "Help on built-in function isinstance in module builtins:\n",
      "\n",
      "isinstance(obj, class_or_tuple, /)\n",
      "    Return whether an object is an instance of a class or of a subclass thereof.\n",
      "    \n",
      "    A tuple, as in ``isinstance(x, (A, B, ...))``, may be given as the target to\n",
      "    check against. This is equivalent to ``isinstance(x, A) or isinstance(x, B)\n",
      "    or ...`` etc.\n",
      "\n"
     ]
    }
   ],
   "source": [
    "# не забудьте заглянуть в help!\n",
    "help(isinstance)"
   ]
  },
  {
   "cell_type": "markdown",
   "id": "30c60a71",
   "metadata": {
    "slideshow": {
     "slide_type": "slide"
    }
   },
   "source": [
    "## Iterable and Iterator"
   ]
  },
  {
   "cell_type": "markdown",
   "id": "2714517b",
   "metadata": {
    "slideshow": {
     "slide_type": "slide"
    }
   },
   "source": [
    "Генераторы и итераторы представляют собой инструменты, которые, как правило, используются для поточной обработки данных. \n",
    "\n",
    "Сначала разберемся с итераторами. Итератор — это объект, который позволяет программисту перемещаться по контейнеру, в частности, по спискам. Однако итератор выполняет обход и предоставляет доступ к элементам в контейнере, но не выполняет саму итерацию! Давайте к сути. Есть три понятия, а именно:\n",
    "\n",
    "- **iterable** (итерабельный) - это свойство, которым обладает тот объект, у которого определен метод `__iter__`, который возвращает итератор. Короче говоря, итерируемый объект — это любой объект, который может предоставить нам итератор.\n",
    "- **iterator** - объект, у которого определен метод `__next__`. Вот и все.\n",
    "- **iteration** - это процесс извлечения элемента из чего-либо, например, списка. Когда мы используем цикл для перебора чего-либо, это называется итерацией. Это имя, данное самому процессу.\n",
    "\n",
    "Прямые определения не очень информативны, поэтому обсудим их на конкретных примерах, а позже поговорим о генераторах."
   ]
  },
  {
   "cell_type": "markdown",
   "id": "c6524cce",
   "metadata": {},
   "source": [
    "Проверим, является ли список `iterable` объектом:"
   ]
  },
  {
   "cell_type": "code",
   "execution_count": 8,
   "id": "46b08196",
   "metadata": {},
   "outputs": [
    {
     "name": "stdout",
     "output_type": "stream",
     "text": [
      "<list_iterator object at 0x0000020071246D00>\n"
     ]
    }
   ],
   "source": [
    "values = ['Hello', 'world', '!']\n",
    "print(values.__iter__())"
   ]
  },
  {
   "cell_type": "markdown",
   "id": "b6193ed5",
   "metadata": {},
   "source": [
    "Чтобы получить итератор, можно вызвать функцию `iter(iterable)`. Синтаксически она выглядит компактнее, чем вызов метода `.__iter__()`"
   ]
  },
  {
   "cell_type": "code",
   "execution_count": 11,
   "id": "a25212d2",
   "metadata": {},
   "outputs": [
    {
     "data": {
      "text/plain": [
       "<list_iterator at 0x20071246550>"
      ]
     },
     "execution_count": 11,
     "metadata": {},
     "output_type": "execute_result"
    }
   ],
   "source": [
    "iter(values)"
   ]
  },
  {
   "cell_type": "markdown",
   "id": "f71a41fd",
   "metadata": {},
   "source": [
    "`iterables` могут использоваться в цикле `for` и во многих других местах, где требуется последовательность (`enumerate()`, `zip()`, `map()`, ...). Когда итерируемый объект передается в качестве аргумента встроенной функции `iter()`, она возвращает итератор для объекта. Этот итератор хорош для одного прохода по набору значений. При использовании `iterables` обычно нет необходимости вызывать `iter()` или самостоятельно работать с объектами-итераторами. Цикл `for` делает это автоматически за вас, создавая временную безымянную переменную для хранения итератора на время цикла. [glossary: iterable](https://docs.python.org/3.11/glossary.html#term-iterable)"
   ]
  },
  {
   "cell_type": "code",
   "execution_count": 12,
   "id": "75ce1e9d",
   "metadata": {},
   "outputs": [
    {
     "name": "stdout",
     "output_type": "stream",
     "text": [
      "Help on built-in function iter in module builtins:\n",
      "\n",
      "iter(...)\n",
      "    iter(iterable) -> iterator\n",
      "    iter(callable, sentinel) -> iterator\n",
      "    \n",
      "    Get an iterator from an object.  In the first form, the argument must\n",
      "    supply its own iterator, or be a sequence.\n",
      "    In the second form, the callable is called until it returns the sentinel.\n",
      "\n"
     ]
    }
   ],
   "source": [
    "# не забудьте заглянуть в help(iter)! \n",
    "help(iter)"
   ]
  },
  {
   "cell_type": "markdown",
   "id": "43013326",
   "metadata": {},
   "source": [
    "Посмотрим на процесс итерации на примере нашего списка `values` и цикла `for`:"
   ]
  },
  {
   "cell_type": "code",
   "execution_count": 14,
   "id": "e5e460a3",
   "metadata": {},
   "outputs": [
    {
     "name": "stdout",
     "output_type": "stream",
     "text": [
      "Hello\n",
      "world\n",
      "!\n",
      "Hello\n",
      "world\n",
      "!\n"
     ]
    }
   ],
   "source": [
    "for value in values:\n",
    "    print(value)\n",
    "    \n",
    "# Цикл создает временную безымянную переменную, хранящую итератор:\n",
    "iterator = iter(values)    \n",
    "for value in iterator:\n",
    "    print(value)"
   ]
  },
  {
   "cell_type": "markdown",
   "id": "b6bf847b",
   "metadata": {},
   "source": [
    "А что такое этот итератор? Это объект, представляющий поток(stream) данных. Как было сказано выше, он позволяет получать элементы из последовательности. Посмотрим в переменную `iterator`:"
   ]
  },
  {
   "cell_type": "code",
   "execution_count": 15,
   "id": "3ea0f283",
   "metadata": {},
   "outputs": [
    {
     "data": {
      "text/plain": [
       "<list_iterator at 0x200724c7970>"
      ]
     },
     "execution_count": 15,
     "metadata": {},
     "output_type": "execute_result"
    }
   ],
   "source": [
    "iterator"
   ]
  },
  {
   "cell_type": "markdown",
   "id": "0a1c2b17",
   "metadata": {},
   "source": [
    "Это специальный объект перечислитель, который для данной последовательности выдает следующий элемент, либо бросает исключение, если элементов больше нет. Давайте еще раз проитерируемся по нему:"
   ]
  },
  {
   "cell_type": "code",
   "execution_count": 16,
   "id": "f608359a",
   "metadata": {},
   "outputs": [],
   "source": [
    "for value in iterator:\n",
    "    print(value)"
   ]
  },
  {
   "cell_type": "markdown",
   "id": "37a5ede7",
   "metadata": {},
   "source": [
    "Где обещанное исключение? Оно было, но его самостоятельно отловил и обработал цикл `for`."
   ]
  },
  {
   "cell_type": "markdown",
   "id": "e8d75368",
   "metadata": {},
   "source": [
    "А почему ничего не напечаталось? Дело в том, что наш итератор уже исчерпал себя: он знает, что отдал все объекты и сейчас находится в конце последовательности."
   ]
  },
  {
   "cell_type": "markdown",
   "id": "dc9c3c11",
   "metadata": {},
   "source": [
    "Чтобы понять этапы итерации подробнее, давайте выполним ее вручную. По определению у итератора должен существовать метод `__next__`. При этом для компактности кода вместо вызова этого метода можно вызывать встроенную функцию `next`."
   ]
  },
  {
   "cell_type": "code",
   "execution_count": 17,
   "id": "13d6a237",
   "metadata": {},
   "outputs": [],
   "source": [
    "# пересоздадим итератор\n",
    "iterator = iter(values)"
   ]
  },
  {
   "cell_type": "code",
   "execution_count": 18,
   "id": "41102ca4",
   "metadata": {},
   "outputs": [
    {
     "data": {
      "text/plain": [
       "'Hello'"
      ]
     },
     "execution_count": 18,
     "metadata": {},
     "output_type": "execute_result"
    }
   ],
   "source": [
    "next(iterator)  # эквивалентно вызову iterator.__next__()"
   ]
  },
  {
   "cell_type": "markdown",
   "id": "d4d543f0",
   "metadata": {},
   "source": [
    "Давайте вызовем `next` еще раз"
   ]
  },
  {
   "cell_type": "code",
   "execution_count": 19,
   "id": "e58d7ed8",
   "metadata": {},
   "outputs": [
    {
     "data": {
      "text/plain": [
       "'world'"
      ]
     },
     "execution_count": 19,
     "metadata": {},
     "output_type": "execute_result"
    }
   ],
   "source": [
    "next(iterator)"
   ]
  },
  {
   "cell_type": "markdown",
   "id": "0f6312ae",
   "metadata": {},
   "source": [
    "Повторные вызовы метода `__next__()` (или вызов встроенной функции `next()`) возвращают следующие элементы в потоке. "
   ]
  },
  {
   "cell_type": "code",
   "execution_count": 21,
   "id": "afc650ba",
   "metadata": {},
   "outputs": [
    {
     "ename": "StopIteration",
     "evalue": "",
     "output_type": "error",
     "traceback": [
      "\u001b[1;31m---------------------------------------------------------------------------\u001b[0m",
      "\u001b[1;31mStopIteration\u001b[0m                             Traceback (most recent call last)",
      "Cell \u001b[1;32mIn[21], line 1\u001b[0m\n\u001b[1;32m----> 1\u001b[0m \u001b[38;5;28;43mnext\u001b[39;49m\u001b[43m(\u001b[49m\u001b[43miterator\u001b[49m\u001b[43m)\u001b[49m\n",
      "\u001b[1;31mStopIteration\u001b[0m: "
     ]
    }
   ],
   "source": [
    "next(iterator)"
   ]
  },
  {
   "cell_type": "markdown",
   "id": "79f2d5a8",
   "metadata": {},
   "source": [
    "Если данных больше нет (дошли до конца), возникает исключение `StopIteration`"
   ]
  },
  {
   "cell_type": "code",
   "execution_count": 20,
   "id": "b4de3319",
   "metadata": {},
   "outputs": [
    {
     "ename": "StopIteration",
     "evalue": "",
     "output_type": "error",
     "traceback": [
      "\u001b[0;31m---------------------------------------------------------------------------\u001b[0m",
      "\u001b[0;31mStopIteration\u001b[0m                             Traceback (most recent call last)",
      "\u001b[0;32m/var/folders/v8/2cskhqjj0_g0zp3824glf1tm0000gn/T/ipykernel_47796/4235178104.py\u001b[0m in \u001b[0;36m<module>\u001b[0;34m\u001b[0m\n\u001b[0;32m----> 1\u001b[0;31m \u001b[0mnext\u001b[0m\u001b[0;34m(\u001b[0m\u001b[0miterator\u001b[0m\u001b[0;34m)\u001b[0m\u001b[0;34m\u001b[0m\u001b[0;34m\u001b[0m\u001b[0m\n\u001b[0m",
      "\u001b[0;31mStopIteration\u001b[0m: "
     ]
    }
   ],
   "source": [
    "next(iterator)"
   ]
  },
  {
   "cell_type": "markdown",
   "id": "a4f88441",
   "metadata": {},
   "source": [
    "На этом этапе объект `iterator` исчерпан, и любые дальнейшие попытки получить следующий элемент просто снова выбрасывают `StopIteration`. "
   ]
  },
  {
   "cell_type": "code",
   "execution_count": 21,
   "id": "a9b0a903",
   "metadata": {},
   "outputs": [
    {
     "ename": "StopIteration",
     "evalue": "",
     "output_type": "error",
     "traceback": [
      "\u001b[0;31m---------------------------------------------------------------------------\u001b[0m",
      "\u001b[0;31mStopIteration\u001b[0m                             Traceback (most recent call last)",
      "\u001b[0;32m/var/folders/v8/2cskhqjj0_g0zp3824glf1tm0000gn/T/ipykernel_47796/4235178104.py\u001b[0m in \u001b[0;36m<module>\u001b[0;34m\u001b[0m\n\u001b[0;32m----> 1\u001b[0;31m \u001b[0mnext\u001b[0m\u001b[0;34m(\u001b[0m\u001b[0miterator\u001b[0m\u001b[0;34m)\u001b[0m\u001b[0;34m\u001b[0m\u001b[0;34m\u001b[0m\u001b[0m\n\u001b[0m",
      "\u001b[0;31mStopIteration\u001b[0m: "
     ]
    }
   ],
   "source": [
    "next(iterator)"
   ]
  },
  {
   "cell_type": "markdown",
   "id": "f9ed5540",
   "metadata": {},
   "source": [
    "Но мы можем \"подвинуть\" итератор на нужный нам элемент последовательности, **если** он еще не отдал все свои элементы!"
   ]
  },
  {
   "cell_type": "code",
   "execution_count": 4,
   "id": "14b54418",
   "metadata": {},
   "outputs": [
    {
     "name": "stdout",
     "output_type": "stream",
     "text": [
      "Hello\n",
      "world\n",
      "Hello\n"
     ]
    }
   ],
   "source": [
    "iterator = iter(values)\n",
    "\n",
    "print(next(iterator))\n",
    "print(next(iterator))\n",
    "iterator.__setstate__(0)\n",
    "print(next(iterator))"
   ]
  },
  {
   "cell_type": "markdown",
   "id": "c671f7fb",
   "metadata": {},
   "source": [
    "Итераторы должны обладать методом `__iter__()`, который возвращает сам объект итератора, поэтому каждый итератор также является итерабельным и может использоваться там, где принимаются другие итерабельные объекты.\n",
    "\n",
    "[link to glossary: iterator](https://docs.python.org/3.11/glossary.html#term-iterator)"
   ]
  },
  {
   "cell_type": "markdown",
   "id": "96f06335",
   "metadata": {},
   "source": [
    "Саммари:\n",
    "\n",
    "- iterable - свойство\n",
    "- iterator - объект\n",
    "- iteration - процесс"
   ]
  },
  {
   "cell_type": "markdown",
   "id": "e5400839",
   "metadata": {},
   "source": [
    "![tit](images/iterable-vs-iterator.png 'title')\n"
   ]
  },
  {
   "cell_type": "markdown",
   "id": "4a670722",
   "metadata": {},
   "source": [
    "Вспомним про модуль `collections.abc` и импортируем оттуда классы `Iterable` и `Iterator`"
   ]
  },
  {
   "cell_type": "code",
   "execution_count": 24,
   "id": "bf2f53dc",
   "metadata": {
    "slideshow": {
     "slide_type": "subslide"
    }
   },
   "outputs": [],
   "source": [
    "from collections.abc import Iterable, Iterator"
   ]
  },
  {
   "cell_type": "code",
   "execution_count": 23,
   "id": "ddea822d",
   "metadata": {
    "slideshow": {
     "slide_type": "subslide"
    }
   },
   "outputs": [],
   "source": [
    "iterable = ['Alice', 'Bob', 'Charlie']\n",
    "iterator = iter(iterable)"
   ]
  },
  {
   "cell_type": "markdown",
   "id": "ef525064",
   "metadata": {},
   "source": [
    "С помощью функции `isinstance` убедимся, что список является итерабельным, а итератор списка является... итератором!"
   ]
  },
  {
   "cell_type": "code",
   "execution_count": 29,
   "id": "78af95b5",
   "metadata": {
    "slideshow": {
     "slide_type": "subslide"
    }
   },
   "outputs": [
    {
     "name": "stdout",
     "output_type": "stream",
     "text": [
      "['Alice', 'Bob', 'Charlie']\n",
      "True\n"
     ]
    }
   ],
   "source": [
    "print(iterable)\n",
    "print(isinstance(iterable, Iterable))"
   ]
  },
  {
   "cell_type": "code",
   "execution_count": 30,
   "id": "d0153fe0",
   "metadata": {},
   "outputs": [
    {
     "name": "stdout",
     "output_type": "stream",
     "text": [
      "<list_iterator object at 0x112204d90>\n",
      "True\n"
     ]
    }
   ],
   "source": [
    "print(iterator)\n",
    "print(isinstance(iterator, Iterator))"
   ]
  },
  {
   "cell_type": "markdown",
   "id": "054d6b7c",
   "metadata": {},
   "source": [
    "Как теперь ответить на вопрос: является ли сам список итератором?"
   ]
  },
  {
   "cell_type": "code",
   "execution_count": 25,
   "id": "d8d85d8f",
   "metadata": {},
   "outputs": [
    {
     "data": {
      "text/plain": [
       "False"
      ]
     },
     "execution_count": 25,
     "metadata": {},
     "output_type": "execute_result"
    }
   ],
   "source": [
    "isinstance(iterable, Iterator)"
   ]
  },
  {
   "cell_type": "markdown",
   "id": "1e2e3693",
   "metadata": {},
   "source": [
    "## Generator"
   ]
  },
  {
   "cell_type": "markdown",
   "id": "af4ab6b4",
   "metadata": {},
   "source": [
    "Генераторы - это итераторы, но вы можете выполнить итерацию по ним только один раз. Это потому, что они не хранят все значения в памяти, они генерируют их \"на лету\". Вы используете их, перебирая либо с помощью цикла `for`, либо передавая любой функции или конструкции, которая выполняет итерацию."
   ]
  },
  {
   "cell_type": "markdown",
   "id": "1d09705e",
   "metadata": {},
   "source": [
    "Проще говоря, теперь вместо хранения всех элементов последовательности в памяти мы будем хранить один объект (генератор), который знает, как сгенерировать каждый элемент. Давайте создадим генератор с помощью уже знакомого нам синтаксиса list comprehension: \n",
    "\n",
    "```python\n",
    "[expression for counter in sequence]\n",
    "```\n",
    "\n",
    ", нужно просто вынуть само выражение из квадратных скобок. Но просто так использовать это выражение не получится:"
   ]
  },
  {
   "cell_type": "code",
   "execution_count": 32,
   "id": "6bbf6ff4",
   "metadata": {},
   "outputs": [
    {
     "ename": "SyntaxError",
     "evalue": "invalid syntax (41830029.py, line 1)",
     "output_type": "error",
     "traceback": [
      "\u001b[0;36m  File \u001b[0;32m\"/var/folders/v8/2cskhqjj0_g0zp3824glf1tm0000gn/T/ipykernel_47796/41830029.py\"\u001b[0;36m, line \u001b[0;32m1\u001b[0m\n\u001b[0;31m    x * x * x for x in range(10)\u001b[0m\n\u001b[0m              ^\u001b[0m\n\u001b[0;31mSyntaxError\u001b[0m\u001b[0;31m:\u001b[0m invalid syntax\n"
     ]
    }
   ],
   "source": [
    "x * x * x for x in range(10)"
   ]
  },
  {
   "cell_type": "markdown",
   "id": "e680a682",
   "metadata": {},
   "source": [
    "Пока что нужно добавить круглые скобки. Мы помогаем интерпретатору понять, что это единое выражение для создания объекта:"
   ]
  },
  {
   "cell_type": "code",
   "execution_count": 33,
   "id": "38530ca4",
   "metadata": {},
   "outputs": [
    {
     "data": {
      "text/plain": [
       "<generator object <genexpr> at 0x111ab3430>"
      ]
     },
     "execution_count": 33,
     "metadata": {},
     "output_type": "execute_result"
    }
   ],
   "source": [
    "(x * x * x for x in range(10))"
   ]
  },
  {
   "cell_type": "markdown",
   "id": "1d2de41d",
   "metadata": {},
   "source": [
    "Создадим для этого объекта переменную `generator_exp` и посмотрим на ее тип:"
   ]
  },
  {
   "cell_type": "code",
   "execution_count": 34,
   "id": "0f0bfe8c",
   "metadata": {},
   "outputs": [
    {
     "data": {
      "text/plain": [
       "generator"
      ]
     },
     "execution_count": 34,
     "metadata": {},
     "output_type": "execute_result"
    }
   ],
   "source": [
    "generator_exp = (x * x for x in range(10))\n",
    "\n",
    "type(generator_exp)"
   ]
  },
  {
   "cell_type": "markdown",
   "id": "36874971",
   "metadata": {},
   "source": [
    "Мы познакомились с первым способом создания генератора: `generator expression`. Удобно использовать, когда нам нужно получить итератор в каком-то месте кода, но не хочется выделять память для всех его элементов одновременно. Например, нам нужно посчитать сумму элементов длинного списка:"
   ]
  },
  {
   "cell_type": "code",
   "execution_count": null,
   "id": "3c26cfc2",
   "metadata": {},
   "outputs": [],
   "source": [
    "# не запускать, работает примерно пол минуты\n",
    "# %%time\n",
    "# sum([x ** 3 for x in range(10 ** 8)])"
   ]
  },
  {
   "cell_type": "markdown",
   "id": "2f733e72",
   "metadata": {},
   "source": [
    "результат запуска:\n",
    "```\n",
    "CPU times: user 35.3 s, sys: 2.96 s, total: 38.3 s\n",
    "Wall time: 38.3 s\n",
    "```"
   ]
  },
  {
   "cell_type": "code",
   "execution_count": null,
   "id": "f1749e9c",
   "metadata": {},
   "outputs": [],
   "source": [
    "# не запускать, работает примерно пол минуты\n",
    "# %%time\n",
    "# sum(x ** 3 for x in range(10 ** 8))   # generator expression"
   ]
  },
  {
   "cell_type": "markdown",
   "id": "dd73e881",
   "metadata": {},
   "source": [
    "результат запуска:\n",
    "```\n",
    "CPU times: user 34.7 s, sys: 150 ms, total: 34.8 s\n",
    "Wall time: 34.9 s\n",
    "```"
   ]
  },
  {
   "cell_type": "markdown",
   "id": "03e64d3c",
   "metadata": {},
   "source": [
    "Многие стандартные библиотечные функции, возвращающие списки в Python 2, были изменены для возврата генераторов в Python 3, поскольку генераторы требуют меньше ресурсов. Давайте напишем генератор, возвращающий по запросу следующее число в двоичной записи:"
   ]
  },
  {
   "cell_type": "code",
   "execution_count": 35,
   "id": "9f6c4b4b",
   "metadata": {},
   "outputs": [
    {
     "name": "stdout",
     "output_type": "stream",
     "text": [
      "elem = '0b0'\n",
      "elem = '0b1'\n",
      "elem = '0b10'\n",
      "elem = '0b11'\n",
      "elem = '0b100'\n",
      "elem = '0b101'\n",
      "elem = '0b110'\n",
      "elem = '0b111'\n",
      "elem = '0b1000'\n"
     ]
    }
   ],
   "source": [
    "# функция bin переводит число в двоичную систему счисления\n",
    "generator = (bin(x) for x in range(16))\n",
    "\n",
    "for elem in generator:\n",
    "    print(f'{elem = }')\n",
    "    if int(elem, base=2) > 7:\n",
    "        break\n",
    "        \n",
    "# аргумент base задает систему счисления, в которой записано число\n",
    "# т.е. int(number, base=2) переведет number из двоичной системы в десятичную"
   ]
  },
  {
   "cell_type": "markdown",
   "id": "0f71e63e",
   "metadata": {},
   "source": [
    "Итак:\n",
    "\n",
    "- **Generator** - особый вид `Iterator`\n",
    "- **Generator Expression** - способ создания `Generator`."
   ]
  },
  {
   "cell_type": "markdown",
   "id": "39bf8a58",
   "metadata": {},
   "source": [
    "Следующий способ создания генератора:\n",
    "- **Generator Function** (в простонародии тоже генератор)\n",
    "\n",
    "это функция, которая возвращает итератор генератора. Она выглядит как обычная функция, за исключением того, что она содержит [yield statement](https://docs.python.org/3/reference/simple_stmts.html#the-yield-statement) для получения ряда значений, которые можно использовать в цикле `for` или которые могут быть извлечены по одному с помощью функции `next()`. Обычно это понятие относится к функции генератора, но в некоторых случаях может относиться к итератору генератора. В случаях, когда предполагаемое значение неясно, использование полных терминов позволяет избежать двусмысленности.\n",
    "\n",
    "Ссылки в glossary:\n",
    "- [generator](https://docs.python.org/3.11/glossary.html#index-19)\n",
    "- [generator iterator](https://docs.python.org/3.11/glossary.html#term-generator-iterator)\n",
    "- [generator expression](https://docs.python.org/3.11/glossary.html#index-20)\n",
    "\n",
    "Кратко: функция-генератор - это функция, в которой присутствует ключевое слово `yield`. При вызове эта функция возвращает генератор!"
   ]
  },
  {
   "cell_type": "code",
   "execution_count": 36,
   "id": "e4d375e9",
   "metadata": {},
   "outputs": [
    {
     "name": "stdout",
     "output_type": "stream",
     "text": [
      "gen = <generator object generator_function at 0x111ab3820>\n",
      "type(gen) = <class 'generator'>\n",
      "0\n",
      "1\n",
      "2\n",
      "3\n",
      "4\n",
      "5\n",
      "6\n",
      "7\n",
      "8\n",
      "9\n"
     ]
    }
   ],
   "source": [
    "def generator_function():\n",
    "    for i in range(10):\n",
    "        yield i\n",
    "\n",
    "gen = generator_function()\n",
    "        \n",
    "print(f'{gen = }')        \n",
    "\n",
    "print(f'{type(gen) = }')\n",
    "\n",
    "for elem in generator_function():\n",
    "    print(elem)"
   ]
  },
  {
   "cell_type": "code",
   "execution_count": 37,
   "id": "dd0a184a",
   "metadata": {
    "slideshow": {
     "slide_type": "subslide"
    }
   },
   "outputs": [
    {
     "name": "stdout",
     "output_type": "stream",
     "text": [
      "True\n",
      "True\n"
     ]
    }
   ],
   "source": [
    "from collections.abc import Generator \n",
    "\n",
    "print(isinstance(generator, Generator))\n",
    "print(isinstance(generator, Iterator))"
   ]
  },
  {
   "cell_type": "markdown",
   "id": "4cf6a9dc",
   "metadata": {},
   "source": [
    "Несколько правил:\n",
    "- каждый раз, когда внутри функции встречается `yield expression`, генератор останавливается и возвращает объект `expression`\n",
    "- при следующем запросе генератор продолжает работу с того же места, где он остановился\n",
    "- `yield` может использоваться несколько раз\n",
    "- в конце генератор выбрасывает `StopIteration`, как и любой порядочный итератор)\n",
    "\n",
    "Проверим их с помощью следующего примера:"
   ]
  },
  {
   "cell_type": "code",
   "execution_count": 26,
   "id": "80e3a5f0",
   "metadata": {},
   "outputs": [],
   "source": [
    "def generator_func():\n",
    "    yield 1\n",
    "    print('эта строка перед циклом')\n",
    "    for x in range(2, 4):\n",
    "        yield x\n",
    "    print('эта строка после цикла')\n",
    "    yield 10"
   ]
  },
  {
   "cell_type": "code",
   "execution_count": 27,
   "id": "2f25eb10",
   "metadata": {},
   "outputs": [
    {
     "name": "stdout",
     "output_type": "stream",
     "text": [
      "1\n"
     ]
    }
   ],
   "source": [
    "generator = generator_func()\n",
    "\n",
    "print(next(generator))"
   ]
  },
  {
   "cell_type": "code",
   "execution_count": 28,
   "id": "6f33f1b7",
   "metadata": {},
   "outputs": [
    {
     "name": "stdout",
     "output_type": "stream",
     "text": [
      "эта строка перед циклом\n",
      "2\n",
      "3\n"
     ]
    }
   ],
   "source": [
    "print(next(generator))\n",
    "print(next(generator))\n"
   ]
  },
  {
   "cell_type": "code",
   "execution_count": 41,
   "id": "afeea2c3",
   "metadata": {},
   "outputs": [
    {
     "ename": "StopIteration",
     "evalue": "",
     "output_type": "error",
     "traceback": [
      "\u001b[0;31m---------------------------------------------------------------------------\u001b[0m",
      "\u001b[0;31mStopIteration\u001b[0m                             Traceback (most recent call last)",
      "\u001b[0;32m/var/folders/v8/2cskhqjj0_g0zp3824glf1tm0000gn/T/ipykernel_47796/4121984717.py\u001b[0m in \u001b[0;36m<module>\u001b[0;34m\u001b[0m\n\u001b[0;32m----> 1\u001b[0;31m \u001b[0mprint\u001b[0m\u001b[0;34m(\u001b[0m\u001b[0mnext\u001b[0m\u001b[0;34m(\u001b[0m\u001b[0mgenerator\u001b[0m\u001b[0;34m)\u001b[0m\u001b[0;34m)\u001b[0m\u001b[0;34m\u001b[0m\u001b[0;34m\u001b[0m\u001b[0m\n\u001b[0m",
      "\u001b[0;31mStopIteration\u001b[0m: "
     ]
    }
   ],
   "source": [
    "print(next(generator))"
   ]
  },
  {
   "cell_type": "markdown",
   "id": "b8fb60b7",
   "metadata": {},
   "source": [
    "**Note** Если хочется посмотреть на все значения какого-нибудь итератора, то нам надо заставить отдать его все значения. Самый простой способ - передать его в `list`:"
   ]
  },
  {
   "cell_type": "code",
   "execution_count": 42,
   "id": "c7ea63e1",
   "metadata": {},
   "outputs": [
    {
     "name": "stdout",
     "output_type": "stream",
     "text": [
      "эта строка перед циклом\n",
      "эта строка после цикла\n"
     ]
    },
    {
     "data": {
      "text/plain": [
       "[1, 2, 3, 10]"
      ]
     },
     "execution_count": 42,
     "metadata": {},
     "output_type": "execute_result"
    }
   ],
   "source": [
    "list(generator_func())"
   ]
  },
  {
   "cell_type": "markdown",
   "id": "229f7d84",
   "metadata": {
    "slideshow": {
     "slide_type": "subslide"
    }
   },
   "source": [
    "### Примеры генераторов"
   ]
  },
  {
   "cell_type": "markdown",
   "id": "e726797c",
   "metadata": {},
   "source": [
    "**№1** Напишите генератор, возвращающий кубы чисел из списка `lst` (гарантируется, что там только числа):"
   ]
  },
  {
   "cell_type": "code",
   "execution_count": 43,
   "id": "938082d0",
   "metadata": {
    "slideshow": {
     "slide_type": "-"
    }
   },
   "outputs": [],
   "source": [
    "def cubes(lst):\n",
    "    # your code here\n",
    "    for element in lst:\n",
    "        yield element ** 3"
   ]
  },
  {
   "cell_type": "code",
   "execution_count": 46,
   "id": "3305c899",
   "metadata": {},
   "outputs": [],
   "source": [
    "# test\n",
    "cubics = cubes([20, 31, 42])\n",
    "\n",
    "assert next(cubics) == 8000\n",
    "assert next(cubics) == 29791\n",
    "assert next(cubics) == 74088"
   ]
  },
  {
   "cell_type": "markdown",
   "id": "b3989e44",
   "metadata": {},
   "source": [
    "Генераторы могут быть бесконечными, поэтому:\n",
    "\n",
    "**№2** Напишите бесконечный $\\infty$ генератор кубов целых положительных чисел, начиная с 0 с шагом 2"
   ]
  },
  {
   "cell_type": "code",
   "execution_count": 47,
   "id": "0d08b4ad",
   "metadata": {},
   "outputs": [],
   "source": [
    "def inf_cubes():\n",
    "    # your code here\n",
    "    i = 0\n",
    "    while True:\n",
    "        yield i ** 3\n",
    "        i += 2"
   ]
  },
  {
   "cell_type": "code",
   "execution_count": 48,
   "id": "6e49b2c7",
   "metadata": {},
   "outputs": [
    {
     "name": "stdout",
     "output_type": "stream",
     "text": [
      "0\n",
      "8\n",
      "64\n",
      "216\n",
      "512\n",
      "1000\n"
     ]
    }
   ],
   "source": [
    "# test\n",
    "for x in inf_cubes():\n",
    "    print(x)\n",
    "    if x >= 1000:\n",
    "        break"
   ]
  },
  {
   "cell_type": "markdown",
   "id": "92d835ae",
   "metadata": {},
   "source": [
    "**№3** Как проверить, является ли объект, создаваемый функцией `range`, итератором:"
   ]
  },
  {
   "cell_type": "code",
   "execution_count": 49,
   "id": "7dbb2a7e",
   "metadata": {},
   "outputs": [
    {
     "data": {
      "text/plain": [
       "range"
      ]
     },
     "execution_count": 49,
     "metadata": {},
     "output_type": "execute_result"
    }
   ],
   "source": [
    "ran = range(10)\n",
    "type(ran)"
   ]
  },
  {
   "cell_type": "code",
   "execution_count": 50,
   "id": "192fde68",
   "metadata": {},
   "outputs": [
    {
     "ename": "TypeError",
     "evalue": "'range' object is not an iterator",
     "output_type": "error",
     "traceback": [
      "\u001b[0;31m---------------------------------------------------------------------------\u001b[0m",
      "\u001b[0;31mTypeError\u001b[0m                                 Traceback (most recent call last)",
      "\u001b[0;32m/var/folders/v8/2cskhqjj0_g0zp3824glf1tm0000gn/T/ipykernel_47796/3217818040.py\u001b[0m in \u001b[0;36m<module>\u001b[0;34m\u001b[0m\n\u001b[0;32m----> 1\u001b[0;31m \u001b[0mnext\u001b[0m\u001b[0;34m(\u001b[0m\u001b[0mran\u001b[0m\u001b[0;34m)\u001b[0m\u001b[0;34m\u001b[0m\u001b[0;34m\u001b[0m\u001b[0m\n\u001b[0m",
      "\u001b[0;31mTypeError\u001b[0m: 'range' object is not an iterator"
     ]
    }
   ],
   "source": [
    "next(ran)"
   ]
  },
  {
   "cell_type": "code",
   "execution_count": 67,
   "id": "4c71d857",
   "metadata": {},
   "outputs": [
    {
     "data": {
      "text/plain": [
       "<range_iterator at 0x111db2f00>"
      ]
     },
     "execution_count": 67,
     "metadata": {},
     "output_type": "execute_result"
    }
   ],
   "source": [
    "iter(ran)  # ran.__iter__()"
   ]
  },
  {
   "cell_type": "markdown",
   "id": "69164bb7",
   "metadata": {},
   "source": [
    "Если вы запутались, кто чем является и как что работает, то попробуйте воспользоваться картинкой с отношениями этих понятий:\n",
    "- контейнер\n",
    "- итерабельность\n",
    "- итератор\n",
    "- генератор\n",
    "- функция-генератор\n",
    "- выражение генератор\n",
    "- list, dict, set comprehension\n",
    "- `iter` и `next`\n"
   ]
  },
  {
   "cell_type": "markdown",
   "id": "de5fe728",
   "metadata": {},
   "source": [
    "![alt text](images/relationships_gen_iter.png)"
   ]
  },
  {
   "cell_type": "markdown",
   "id": "490ca4aa",
   "metadata": {},
   "source": [
    "## Functional programming"
   ]
  },
  {
   "cell_type": "markdown",
   "id": "ddae26ec",
   "metadata": {},
   "source": [
    "---\n",
    "_Небольшое замечание, про что этот раздел_\n",
    "\n",
    "Здесь вы можете погрузиться в определения и целое море примеров про то, что такое функциональное программирование и что питон дает нам для него:\n",
    "- хабр [Функциональное программирование в Python. Генераторы, как питонячий декларативный стиль](https://habr.com/ru/articles/517438/)\n",
    "- [Functional Programming HOWTO](https://docs.python.org/3.11/howto/functional.html)\n",
    "- [Functional Programming Modules](https://docs.python.org/3.11/library/functional.html)\n",
    "\n",
    "В питоне для ФП есть:\n",
    "- некоторые встроенные функции: `map`, `zip`, `filter`, `enumerate`\n",
    "- итераторы и генераторы\n",
    "- встроенные модули `itertools` и `functools`\n",
    "- механизм создания функций `lambda`\n",
    "\n",
    "Мы не будем погружаться в терминологию, лишь посмотрим на некоторые примеры использования указанных выше элементов.\n",
    "\n",
    "---"
   ]
  },
  {
   "cell_type": "markdown",
   "id": "ab8d2acc",
   "metadata": {},
   "source": [
    "Уже известные (может быть еще не все) нам встроенные функции `map`, `zip`, `enumerate`, `filter` как раз и возвращают итераторы!"
   ]
  },
  {
   "cell_type": "markdown",
   "id": "3ba0e69e",
   "metadata": {},
   "source": [
    "`map(func, *iterables)` - создает итератор, возвращающий результат работы функции `func`, которой в качестве аргументов приходят элементы последовательностей `*iterables`"
   ]
  },
  {
   "cell_type": "code",
   "execution_count": null,
   "id": "e09fa157",
   "metadata": {},
   "outputs": [],
   "source": [
    "# map(func, *iterables) == map(func, iterables[0], iterables[1], ...)"
   ]
  },
  {
   "cell_type": "code",
   "execution_count": 68,
   "id": "5383d7aa",
   "metadata": {},
   "outputs": [
    {
     "data": {
      "text/plain": [
       "['1', '2', '3']"
      ]
     },
     "execution_count": 68,
     "metadata": {},
     "output_type": "execute_result"
    }
   ],
   "source": [
    "m = map(str, [1, 2, 3])\n",
    "list(m)"
   ]
  },
  {
   "cell_type": "markdown",
   "id": "3efb413b",
   "metadata": {},
   "source": [
    "Если `func` принимает n аргументов, то и последовательностей должно быть n:"
   ]
  },
  {
   "cell_type": "code",
   "execution_count": 69,
   "id": "6d297052",
   "metadata": {},
   "outputs": [
    {
     "data": {
      "text/plain": [
       "[-1, 2, 3]"
      ]
     },
     "execution_count": 69,
     "metadata": {},
     "output_type": "execute_result"
    }
   ],
   "source": [
    "list(map(min, [1, 2, 3], [-1, 5, 42]))  # n = 2"
   ]
  },
  {
   "cell_type": "code",
   "execution_count": 70,
   "id": "bd28f76c",
   "metadata": {},
   "outputs": [
    {
     "data": {
      "text/plain": [
       "['first apple 1000', 'second banana 8000', 'third strawberry 27000']"
      ]
     },
     "execution_count": 70,
     "metadata": {},
     "output_type": "execute_result"
    }
   ],
   "source": [
    "list(map(lambda arg1, arg2, arg3: f'{arg1} {arg2} {arg3 ** 3}',  # n = 3\n",
    "         ['first', 'second', 'third'], \n",
    "         ['apple', 'banana', 'strawberry'], \n",
    "         [10, 20, 30]))"
   ]
  },
  {
   "cell_type": "markdown",
   "id": "eacc76c2",
   "metadata": {},
   "source": [
    "`zip(*iterables)` - возвращает кортежи, собранные из элементов с одинаковым индексом. Например, `zip(iter1, iter2, iter3)` возвращает кортежи из трех элементов по следующему принципу:\n",
    "- `(iter1[0], iter2[0], iter3[0])`\n",
    "- `(iter1[1], iter2[1], iter3[1])`\n",
    "- ...\n",
    "\n",
    "Число кортежей равно длине самой короткой последовательности:"
   ]
  },
  {
   "cell_type": "code",
   "execution_count": 71,
   "id": "5779e3ff",
   "metadata": {},
   "outputs": [
    {
     "data": {
      "text/plain": [
       "[(1, 'a', 42), (2, 'b', -42)]"
      ]
     },
     "execution_count": 71,
     "metadata": {},
     "output_type": "execute_result"
    }
   ],
   "source": [
    "z = zip([1, 2, 3, 4], \n",
    "        'abc', \n",
    "        (42, -42))\n",
    "\n",
    "list(z)"
   ]
  },
  {
   "cell_type": "markdown",
   "id": "c5b4c719",
   "metadata": {},
   "source": [
    "Одно из важнейших преимуществ `zip`: повышает читаемость циклов:"
   ]
  },
  {
   "cell_type": "code",
   "execution_count": 72,
   "id": "0cec70a6",
   "metadata": {},
   "outputs": [
    {
     "name": "stdout",
     "output_type": "stream",
     "text": [
      "Joe Schmoe is 23 years old\n",
      "Earnst Ehlmann is 65 years old\n",
      "Thomas Fischer is 11 years old\n",
      "Martin Walter is 36 years old\n",
      "Charles Rogan is 83 years old\n"
     ]
    }
   ],
   "source": [
    "first_name = ['Joe','Earnst','Thomas','Martin','Charles']\n",
    "last_name = ['Schmoe','Ehlmann','Fischer','Walter','Rogan','Green']\n",
    "age = [23, 65, 11, 36, 83]\n",
    "\n",
    "for first_name, last_name, age in zip(first_name, last_name, age):\n",
    "    print(f\"{first_name} {last_name} is {age} years old\")"
   ]
  },
  {
   "cell_type": "markdown",
   "id": "db1a9b65",
   "metadata": {},
   "source": [
    "А вот пример с `unzip` :)"
   ]
  },
  {
   "cell_type": "code",
   "execution_count": 73,
   "id": "67625516",
   "metadata": {},
   "outputs": [
    {
     "name": "stdout",
     "output_type": "stream",
     "text": [
      "first_name = ('Joe', 'Earnst', 'Thomas', 'Martin', 'Charles')\n",
      "last_name = ('Schmoe', 'Ehlmann', 'Fischer', 'Walter', 'Rogan')\n",
      "age = (23, 65, 11, 36, 83)\n"
     ]
    }
   ],
   "source": [
    "full_name_list = [('Joe', 'Schmoe', 23),\n",
    "                  ('Earnst', 'Ehlmann', 65),\n",
    "                  ('Thomas', 'Fischer', 11),\n",
    "                  ('Martin', 'Walter', 36),\n",
    "                  ('Charles', 'Rogan', 83)]\n",
    "\n",
    "first_name, last_name, age = list(zip(*full_name_list))\n",
    "print(f\"{first_name = }\\n{last_name = }\\n{age = }\")"
   ]
  },
  {
   "cell_type": "markdown",
   "id": "45cca903",
   "metadata": {},
   "source": [
    "#### enumerate\n",
    "\n",
    "`enumerate(iterable, start=0)` - возвращает кортежи вида `(index, element)` из последовательности `iterable`. Если `start != 0`, то `(start + index, element)`"
   ]
  },
  {
   "cell_type": "code",
   "execution_count": 74,
   "id": "f8b65661",
   "metadata": {},
   "outputs": [
    {
     "data": {
      "text/plain": [
       "[(42, 'aaa'), (43, 'bbb'), (44, 'ccc')]"
      ]
     },
     "execution_count": 74,
     "metadata": {},
     "output_type": "execute_result"
    }
   ],
   "source": [
    "e = enumerate(['aaa', 'bbb', 'ccc'], start=42)\n",
    "list(e)"
   ]
  },
  {
   "cell_type": "markdown",
   "id": "2bb3d3f7",
   "metadata": {},
   "source": [
    "Как и в случае с `zip`, удобно использовать в циклах:"
   ]
  },
  {
   "cell_type": "code",
   "execution_count": 75,
   "id": "ab10af84",
   "metadata": {},
   "outputs": [
    {
     "name": "stdout",
     "output_type": "stream",
     "text": [
      "1 apple\n",
      "2 banana\n",
      "3 grapes\n",
      "4 pear\n"
     ]
    }
   ],
   "source": [
    "my_list = ['apple', 'banana', 'grapes', 'pear']\n",
    "for c, value in enumerate(my_list, 1):\n",
    "    print(c, value)"
   ]
  },
  {
   "cell_type": "code",
   "execution_count": 76,
   "id": "d5f4c0c4",
   "metadata": {},
   "outputs": [
    {
     "name": "stdout",
     "output_type": "stream",
     "text": [
      "('Joe', 'Schmoe', 23)\n",
      "('Thomas', 'Fischer', 11)\n",
      "('Charles', 'Rogan', 83)\n"
     ]
    }
   ],
   "source": [
    "for i, value in enumerate(full_name_list):\n",
    "    if not i % 2:  # напечатаем только четных людей\n",
    "        print(value)"
   ]
  },
  {
   "cell_type": "markdown",
   "id": "ff345496",
   "metadata": {},
   "source": [
    "Для фильтрации значений по какому-то условию удобно использовать функцию `filter(function, iterable)`. Создаваемый ею итератор будет возвращать те значения из `iterable`, для которых функция `func` возвращает `True`:"
   ]
  },
  {
   "cell_type": "code",
   "execution_count": 77,
   "id": "71ec4b04",
   "metadata": {},
   "outputs": [
    {
     "data": {
      "text/plain": [
       "['1', '2']"
      ]
     },
     "execution_count": 77,
     "metadata": {},
     "output_type": "execute_result"
    }
   ],
   "source": [
    "f = filter(str.isdigit, ['1', 'one', '2'])\n",
    "list(f)"
   ]
  },
  {
   "cell_type": "code",
   "execution_count": 78,
   "id": "eec6fc29",
   "metadata": {},
   "outputs": [
    {
     "name": "stdout",
     "output_type": "stream",
     "text": [
      "[1, 2, 3, 4]\n",
      "\n",
      "чтобы понять, какие значения возвращал итератор filter:\n",
      "(-5, False)\n",
      "(-4, False)\n",
      "(-3, False)\n",
      "(-2, False)\n",
      "(-1, False)\n",
      "(0, False)\n",
      "(1, True)\n",
      "(2, True)\n",
      "(3, True)\n",
      "(4, True)\n"
     ]
    }
   ],
   "source": [
    "print(list(filter(lambda x: x > 0, range(-5, 5))), end='\\n\\n')\n",
    "\n",
    "print('чтобы понять, какие значения возвращал итератор filter:')\n",
    "\n",
    "print(*zip(range(-5, 5), \n",
    "           map(lambda x: x > 0, range(-5, 5))),\n",
    "      sep='\\n')"
   ]
  },
  {
   "cell_type": "markdown",
   "id": "7cb34cd0",
   "metadata": {},
   "source": [
    "Убедимся, что каждая из использованных нами функций возвращает итераторы:"
   ]
  },
  {
   "cell_type": "code",
   "execution_count": 79,
   "id": "d391439f",
   "metadata": {},
   "outputs": [
    {
     "name": "stdout",
     "output_type": "stream",
     "text": [
      "<map object at 0x111d844f0>\n",
      "<class 'map'>\n",
      "True\n",
      "<zip object at 0x111a892c0>\n",
      "<class 'zip'>\n",
      "True\n",
      "<enumerate object at 0x111a8f2c0>\n",
      "<class 'enumerate'>\n",
      "True\n",
      "<filter object at 0x11216cd00>\n",
      "<class 'filter'>\n",
      "True\n"
     ]
    }
   ],
   "source": [
    "for obj in [m, z, e, f]:\n",
    "    print(obj)\n",
    "    print(type(obj))\n",
    "    print(isinstance(obj, Iterator))"
   ]
  },
  {
   "cell_type": "markdown",
   "id": "5ee92637",
   "metadata": {},
   "source": [
    "### functools"
   ]
  },
  {
   "cell_type": "markdown",
   "id": "57d5089e",
   "metadata": {},
   "source": [
    "С этим модулем мы еще встретимся в будущем"
   ]
  },
  {
   "cell_type": "markdown",
   "id": "53f16e4f",
   "metadata": {},
   "source": [
    "Встроенный модуль `functools` хранит в себе функции более высокого порядка: функции, которые воздействуют на другие функции или возвращают их. В общем, любой вызываемый объект может рассматриваться как функция для целей данного модуля.\n",
    "\n",
    "https://docs.python.org/3.11/library/functools.html"
   ]
  },
  {
   "cell_type": "markdown",
   "id": "6e8d321f",
   "metadata": {},
   "source": [
    "#### functools.reduce"
   ]
  },
  {
   "cell_type": "code",
   "execution_count": 80,
   "id": "c0bf47b1",
   "metadata": {},
   "outputs": [],
   "source": [
    "from functools import reduce"
   ]
  },
  {
   "cell_type": "code",
   "execution_count": 81,
   "id": "f47a9f07",
   "metadata": {},
   "outputs": [
    {
     "name": "stdout",
     "output_type": "stream",
     "text": [
      "2\n",
      "6\n",
      "24\n",
      "120\n"
     ]
    }
   ],
   "source": [
    "sequence = [1, 2, 3, 4, 5]\n",
    "\n",
    "print(reduce(lambda x, y: x * y, sequence[:2]))  # [1, 2]\n",
    "print(reduce(lambda x, y: x * y, sequence[:3]))  # [1, 2, 3]\n",
    "print(reduce(lambda x, y: x * y, sequence[:4]))  # [1, 2, 3, 4]\n",
    "print(reduce(lambda x, y: x * y, sequence))      # [1, 2, 3, 4, 5]"
   ]
  },
  {
   "cell_type": "code",
   "execution_count": 82,
   "id": "867c625a",
   "metadata": {},
   "outputs": [
    {
     "data": {
      "text/plain": [
       "10"
      ]
     },
     "execution_count": 82,
     "metadata": {},
     "output_type": "execute_result"
    }
   ],
   "source": [
    "reduce(lambda x, y: x + y, [1, 2, 3, 4])"
   ]
  },
  {
   "cell_type": "markdown",
   "id": "5447af1a",
   "metadata": {},
   "source": [
    "#### functools.partial"
   ]
  },
  {
   "cell_type": "markdown",
   "id": "2a4f509b",
   "metadata": {},
   "source": [
    "`partial(func, /, *args, **keywords)` - создает новую функцию на основе `func`, \"заморозив\" ей некоторые аргументы. Например, если `func` принимает два аргумента func(arg1, arg2), то вызов `partial(func, arg2=10)` вернет функцию func с замороженным аргументом `arg2=10`"
   ]
  },
  {
   "cell_type": "code",
   "execution_count": 84,
   "id": "767451b0",
   "metadata": {},
   "outputs": [],
   "source": [
    "from functools import partial"
   ]
  },
  {
   "cell_type": "code",
   "execution_count": 87,
   "id": "4247ae6e",
   "metadata": {},
   "outputs": [
    {
     "data": {
      "text/plain": [
       "18"
      ]
     },
     "execution_count": 87,
     "metadata": {},
     "output_type": "execute_result"
    }
   ],
   "source": [
    "# The partial() is used for partial function application which “freezes” some portion of \n",
    "# a function’s arguments and/or keywords resulting in a new object.\n",
    "\n",
    "basetwo = partial(int, base=2)\n",
    "basetwo.__doc__ = 'Convert base 2 string to an int.'\n",
    "basetwo('10010')"
   ]
  },
  {
   "cell_type": "code",
   "execution_count": 90,
   "id": "01540bd9",
   "metadata": {},
   "outputs": [
    {
     "data": {
      "text/plain": [
       "functools.partial"
      ]
     },
     "execution_count": 90,
     "metadata": {},
     "output_type": "execute_result"
    }
   ],
   "source": [
    "type(basetwo)"
   ]
  },
  {
   "cell_type": "code",
   "execution_count": 85,
   "id": "e009df82",
   "metadata": {},
   "outputs": [
    {
     "data": {
      "text/plain": [
       "10010"
      ]
     },
     "execution_count": 85,
     "metadata": {},
     "output_type": "execute_result"
    }
   ],
   "source": [
    "int('10010')"
   ]
  },
  {
   "cell_type": "code",
   "execution_count": 86,
   "id": "e6850beb",
   "metadata": {},
   "outputs": [
    {
     "data": {
      "text/plain": [
       "18"
      ]
     },
     "execution_count": 86,
     "metadata": {},
     "output_type": "execute_result"
    }
   ],
   "source": [
    "int('10010', base=2)"
   ]
  },
  {
   "cell_type": "markdown",
   "id": "adae382b",
   "metadata": {
    "slideshow": {
     "slide_type": "slide"
    }
   },
   "source": [
    "### itertools\n",
    "\n",
    "[docs: Functions creating iterators for efficient looping](https://docs.python.org/3.11/library/itertools.html#module-itertools)\n",
    "\n",
    "Встроенный модуль `itertools` содержит ряд часто используемых итераторов, а также функции для объединения нескольких итераторов. Вместе они образуют “итераторную алгебру”, позволяющую лаконично и эффективно создавать специализированные инструменты на чистом Python."
   ]
  },
  {
   "cell_type": "markdown",
   "id": "c67147f6",
   "metadata": {
    "slideshow": {
     "slide_type": "subslide"
    }
   },
   "source": [
    "#### Бесконечные генераторы"
   ]
  },
  {
   "cell_type": "code",
   "execution_count": 91,
   "id": "27181cdb",
   "metadata": {},
   "outputs": [],
   "source": [
    "from itertools import count, cycle, repeat"
   ]
  },
  {
   "cell_type": "markdown",
   "id": "73546d64",
   "metadata": {},
   "source": [
    "`count(start=0, step=1)` - бесконечный генератор чисел со `start` с шагом `step`"
   ]
  },
  {
   "cell_type": "code",
   "execution_count": 92,
   "id": "b70c3465",
   "metadata": {},
   "outputs": [
    {
     "name": "stdout",
     "output_type": "stream",
     "text": [
      "0\n",
      "1\n",
      "2\n",
      "----------\n",
      "-5\n",
      "-2\n",
      "1\n"
     ]
    }
   ],
   "source": [
    "for x in count():\n",
    "    if x > 2: \n",
    "        break\n",
    "    else:\n",
    "        print(x)\n",
    "\n",
    "print('----------')\n",
    "\n",
    "for x in count(-5, 3):\n",
    "    if x > 2: \n",
    "        break\n",
    "    else:\n",
    "        print(x)"
   ]
  },
  {
   "cell_type": "markdown",
   "id": "57de9b04",
   "metadata": {},
   "source": [
    "`cycle(iterable, /)` - возвращает по одному элементы из `iterable`. Добравшись до конца, начинает сначала:"
   ]
  },
  {
   "cell_type": "code",
   "execution_count": 93,
   "id": "56259925",
   "metadata": {},
   "outputs": [
    {
     "name": "stdout",
     "output_type": "stream",
     "text": [
      "1\n",
      "2\n",
      "3\n",
      "1\n",
      "2\n"
     ]
    }
   ],
   "source": [
    "i = 0\n",
    "for x in cycle([1, 2, 3]):\n",
    "    if i > 4: \n",
    "        break\n",
    "    else:\n",
    "        print(x)\n",
    "    i += 1"
   ]
  },
  {
   "cell_type": "markdown",
   "id": "dbdefa07",
   "metadata": {},
   "source": [
    "`repeat(object [,times])` - возвращает `object` бесконечное число раз, либо заданное в необязательном параметре `times`"
   ]
  },
  {
   "cell_type": "code",
   "execution_count": 94,
   "id": "2b73dd77",
   "metadata": {},
   "outputs": [
    {
     "name": "stdout",
     "output_type": "stream",
     "text": [
      "AAAA\n",
      "AAAA\n",
      "AAAA\n"
     ]
    }
   ],
   "source": [
    "for elem in repeat('AAAA', 3):\n",
    "    print(elem)"
   ]
  },
  {
   "cell_type": "markdown",
   "id": "e0aaacd6",
   "metadata": {},
   "source": [
    "Вызовем все эти бесконечные итераторы вместе с помощью `zip`:"
   ]
  },
  {
   "cell_type": "code",
   "execution_count": 96,
   "id": "1d3a5fdc",
   "metadata": {},
   "outputs": [
    {
     "name": "stdout",
     "output_type": "stream",
     "text": [
      "(0, 1, 'GG', 0)\n",
      "(1, 2, 'GG', 1)\n",
      "(2, 3, 'GG', 2)\n",
      "(3, 1, 'GG', 3)\n",
      "(4, 2, 'GG', 4)\n",
      "(5, 3, 'GG', 5)\n",
      "(6, 1, 'GG', 6)\n"
     ]
    }
   ],
   "source": [
    "for elems in zip(count(), \n",
    "                 cycle([1, 2, 3]), \n",
    "                 repeat(\"GG\"), \n",
    "                 range(7)):\n",
    "    print(elems)"
   ]
  },
  {
   "cell_type": "markdown",
   "id": "2ce90833",
   "metadata": {
    "slideshow": {
     "slide_type": "subslide"
    }
   },
   "source": [
    "#### Комбинаторика"
   ]
  },
  {
   "cell_type": "markdown",
   "id": "a3c84654",
   "metadata": {},
   "source": [
    "Есть итераторы, возвращающие:\n",
    "- декартово произведение\n",
    "- перестановки\n",
    "- сочетания\n",
    "- сочетания с повторениями"
   ]
  },
  {
   "cell_type": "code",
   "execution_count": 97,
   "id": "686b5cde",
   "metadata": {},
   "outputs": [],
   "source": [
    "from itertools import product, permutations, combinations\n",
    "from itertools import combinations_with_replacement"
   ]
  },
  {
   "cell_type": "markdown",
   "id": "f91e9aa7",
   "metadata": {},
   "source": [
    "`itertools.product` - возвращает декартово произведение последовательностей. Можно красиво переписывать вложенные циклы:"
   ]
  },
  {
   "cell_type": "code",
   "execution_count": 98,
   "id": "9744ec82",
   "metadata": {},
   "outputs": [
    {
     "name": "stdout",
     "output_type": "stream",
     "text": [
      "a 1\n",
      "a 2\n",
      "a 3\n",
      "b 1\n",
      "b 2\n",
      "b 3\n",
      "c 1\n",
      "c 2\n",
      "c 3\n",
      "\n",
      "a 1\n",
      "a 2\n",
      "a 3\n",
      "b 1\n",
      "b 2\n",
      "b 3\n",
      "c 1\n",
      "c 2\n",
      "c 3\n"
     ]
    }
   ],
   "source": [
    "for i in ['a', 'b', 'c']:\n",
    "    for j in range(1, 4):\n",
    "        print(i, j)\n",
    "\n",
    "print()\n",
    "\n",
    "#Эквивалентно:\n",
    "for i, j in product(['a', 'b', 'c'], range(1, 4)):\n",
    "    print(i, j)"
   ]
  },
  {
   "cell_type": "markdown",
   "id": "9ff30569",
   "metadata": {},
   "source": [
    "`itertools.permutations(iterable, r=None)` - всевозможные перестановки r элементов из `iterable`"
   ]
  },
  {
   "cell_type": "code",
   "execution_count": 99,
   "id": "a2e63404",
   "metadata": {},
   "outputs": [
    {
     "data": {
      "text/plain": [
       "[('A', 0), ('A', True), (0, 'A'), (0, True), (True, 'A'), (True, 0)]"
      ]
     },
     "execution_count": 99,
     "metadata": {},
     "output_type": "execute_result"
    }
   ],
   "source": [
    "list(permutations(['A', 0, True], r=2))"
   ]
  },
  {
   "cell_type": "markdown",
   "id": "7e1ddfc6",
   "metadata": {},
   "source": [
    "Если `r == None`, то берутся все элементы:"
   ]
  },
  {
   "cell_type": "code",
   "execution_count": 100,
   "id": "f20c3aca",
   "metadata": {},
   "outputs": [
    {
     "data": {
      "text/plain": [
       "[('A', 0, True),\n",
       " ('A', True, 0),\n",
       " (0, 'A', True),\n",
       " (0, True, 'A'),\n",
       " (True, 'A', 0),\n",
       " (True, 0, 'A')]"
      ]
     },
     "execution_count": 100,
     "metadata": {},
     "output_type": "execute_result"
    }
   ],
   "source": [
    "list(permutations(['A', 0, True]))"
   ]
  },
  {
   "cell_type": "markdown",
   "id": "dfbf694f",
   "metadata": {},
   "source": [
    "`itertools.combinations(iterable, r)` - всевозможные сочетания r элементов"
   ]
  },
  {
   "cell_type": "code",
   "execution_count": 101,
   "id": "4c6b36cc",
   "metadata": {},
   "outputs": [
    {
     "data": {
      "text/plain": [
       "[(1, 2, 3),\n",
       " (1, 2, 4),\n",
       " (1, 2, 5),\n",
       " (1, 3, 4),\n",
       " (1, 3, 5),\n",
       " (1, 4, 5),\n",
       " (2, 3, 4),\n",
       " (2, 3, 5),\n",
       " (2, 4, 5),\n",
       " (3, 4, 5)]"
      ]
     },
     "execution_count": 101,
     "metadata": {},
     "output_type": "execute_result"
    }
   ],
   "source": [
    "list(combinations([1, 2, 3, 4, 5], r=3))"
   ]
  },
  {
   "cell_type": "markdown",
   "id": "55b4000d",
   "metadata": {},
   "source": [
    "`itertools.combinations_with_replacement(iterable, r)` - всевозможные сочетания r элементов с повторениями"
   ]
  },
  {
   "cell_type": "code",
   "execution_count": 102,
   "id": "2fe947b3",
   "metadata": {},
   "outputs": [
    {
     "data": {
      "text/plain": [
       "[('banana', 'banana'),\n",
       " ('banana', 'apple'),\n",
       " ('banana', 'pear'),\n",
       " ('apple', 'apple'),\n",
       " ('apple', 'pear'),\n",
       " ('pear', 'pear')]"
      ]
     },
     "execution_count": 102,
     "metadata": {},
     "output_type": "execute_result"
    }
   ],
   "source": [
    "list(combinations_with_replacement(['banana', 'apple', 'pear'], 2))"
   ]
  },
  {
   "cell_type": "markdown",
   "id": "a20c5eb0",
   "metadata": {},
   "source": [
    "В этом модуле хранится еще много других прекрасных итераторов, с которыми можно быстро ознакомиться в таблице наверху [страницы](https://docs.python.org/3/library/itertools.html). Например, `accumulate`."
   ]
  },
  {
   "cell_type": "code",
   "execution_count": 103,
   "id": "2a951c21",
   "metadata": {},
   "outputs": [
    {
     "data": {
      "text/plain": [
       "[1, 3, 6, 16, 36, 136]"
      ]
     },
     "execution_count": 103,
     "metadata": {},
     "output_type": "execute_result"
    }
   ],
   "source": [
    "from itertools import accumulate\n",
    "\n",
    "list(accumulate([1, 2, 3, 10, 20, 100]))"
   ]
  },
  {
   "cell_type": "markdown",
   "id": "a41a6f2d",
   "metadata": {
    "slideshow": {
     "slide_type": "slide"
    }
   },
   "source": [
    "## Namespaces\n",
    "\n",
    "Пространство имён -- маппинг из имен переменных в объекты."
   ]
  },
  {
   "cell_type": "markdown",
   "id": "1f38a9f6",
   "metadata": {},
   "source": [
    "**locals()** - возвращает текущий namespace в виде словаря <br>\n",
    "**globals()** - возвращает namespace модуля"
   ]
  },
  {
   "cell_type": "code",
   "execution_count": 111,
   "id": "50f05fc5",
   "metadata": {},
   "outputs": [
    {
     "data": {
      "text/plain": [
       "['D',\n",
       " 'Generator',\n",
       " 'Hashable',\n",
       " 'In',\n",
       " 'Iterable',\n",
       " 'Iterator',\n",
       " 'Out',\n",
       " '_',\n",
       " '_10',\n",
       " '_100',\n",
       " '_101',\n",
       " '_102',\n",
       " '_103',\n",
       " '_104',\n",
       " '_105',\n",
       " '_106',\n",
       " '_108',\n",
       " '_12',\n",
       " '_14',\n",
       " '_17',\n",
       " '_18',\n",
       " '_19',\n",
       " '_3',\n",
       " '_31',\n",
       " '_33',\n",
       " '_34',\n",
       " '_4',\n",
       " '_42',\n",
       " '_49',\n",
       " '_5',\n",
       " '_51',\n",
       " '_52',\n",
       " '_54',\n",
       " '_57',\n",
       " '_61',\n",
       " '_63',\n",
       " '_66',\n",
       " '_67',\n",
       " '_68',\n",
       " '_69',\n",
       " '_7',\n",
       " '_70',\n",
       " '_71',\n",
       " '_74',\n",
       " '_77',\n",
       " '_8',\n",
       " '_82',\n",
       " '_85',\n",
       " '_86',\n",
       " '_87',\n",
       " '_88',\n",
       " '_89',\n",
       " '_9',\n",
       " '_90',\n",
       " '_99',\n",
       " '__',\n",
       " '___',\n",
       " '__builtin__',\n",
       " '__builtins__',\n",
       " '__doc__',\n",
       " '__loader__',\n",
       " '__name__',\n",
       " '__package__',\n",
       " '__spec__',\n",
       " '_dh',\n",
       " '_exit_code',\n",
       " '_i',\n",
       " '_i1',\n",
       " '_i10',\n",
       " '_i100',\n",
       " '_i101',\n",
       " '_i102',\n",
       " '_i103',\n",
       " '_i104',\n",
       " '_i105',\n",
       " '_i106',\n",
       " '_i107',\n",
       " '_i108',\n",
       " '_i109',\n",
       " '_i11',\n",
       " '_i110',\n",
       " '_i111',\n",
       " '_i12',\n",
       " '_i13',\n",
       " '_i14',\n",
       " '_i15',\n",
       " '_i16',\n",
       " '_i17',\n",
       " '_i18',\n",
       " '_i19',\n",
       " '_i2',\n",
       " '_i20',\n",
       " '_i21',\n",
       " '_i22',\n",
       " '_i23',\n",
       " '_i24',\n",
       " '_i25',\n",
       " '_i26',\n",
       " '_i27',\n",
       " '_i28',\n",
       " '_i29',\n",
       " '_i3',\n",
       " '_i30',\n",
       " '_i31',\n",
       " '_i32',\n",
       " '_i33',\n",
       " '_i34',\n",
       " '_i35',\n",
       " '_i36',\n",
       " '_i37',\n",
       " '_i38',\n",
       " '_i39',\n",
       " '_i4',\n",
       " '_i40',\n",
       " '_i41',\n",
       " '_i42',\n",
       " '_i43',\n",
       " '_i44',\n",
       " '_i45',\n",
       " '_i46',\n",
       " '_i47',\n",
       " '_i48',\n",
       " '_i49',\n",
       " '_i5',\n",
       " '_i50',\n",
       " '_i51',\n",
       " '_i52',\n",
       " '_i53',\n",
       " '_i54',\n",
       " '_i55',\n",
       " '_i56',\n",
       " '_i57',\n",
       " '_i58',\n",
       " '_i59',\n",
       " '_i6',\n",
       " '_i60',\n",
       " '_i61',\n",
       " '_i62',\n",
       " '_i63',\n",
       " '_i64',\n",
       " '_i65',\n",
       " '_i66',\n",
       " '_i67',\n",
       " '_i68',\n",
       " '_i69',\n",
       " '_i7',\n",
       " '_i70',\n",
       " '_i71',\n",
       " '_i72',\n",
       " '_i73',\n",
       " '_i74',\n",
       " '_i75',\n",
       " '_i76',\n",
       " '_i77',\n",
       " '_i78',\n",
       " '_i79',\n",
       " '_i8',\n",
       " '_i80',\n",
       " '_i81',\n",
       " '_i82',\n",
       " '_i83',\n",
       " '_i84',\n",
       " '_i85',\n",
       " '_i86',\n",
       " '_i87',\n",
       " '_i88',\n",
       " '_i89',\n",
       " '_i9',\n",
       " '_i90',\n",
       " '_i91',\n",
       " '_i92',\n",
       " '_i93',\n",
       " '_i94',\n",
       " '_i95',\n",
       " '_i96',\n",
       " '_i97',\n",
       " '_i98',\n",
       " '_i99',\n",
       " '_ih',\n",
       " '_ii',\n",
       " '_iii',\n",
       " '_oh',\n",
       " 'accumulate',\n",
       " 'age',\n",
       " 'basetwo',\n",
       " 'c',\n",
       " 'combinations',\n",
       " 'combinations_with_replacement',\n",
       " 'count',\n",
       " 'cubes',\n",
       " 'cubics',\n",
       " 'cycle',\n",
       " 'e',\n",
       " 'elem',\n",
       " 'elems',\n",
       " 'empty_iter',\n",
       " 'exit',\n",
       " 'f',\n",
       " 'first_name',\n",
       " 'full_name_list',\n",
       " 'gen',\n",
       " 'generator',\n",
       " 'generator_exp',\n",
       " 'generator_func',\n",
       " 'generator_function',\n",
       " 'get_ipython',\n",
       " 'i',\n",
       " 'inf_cubes',\n",
       " 'iterable',\n",
       " 'iterator',\n",
       " 'j',\n",
       " 'key',\n",
       " 'last_name',\n",
       " 'm',\n",
       " 'my_list',\n",
       " 'obj',\n",
       " 'partial',\n",
       " 'permutations',\n",
       " 'product',\n",
       " 'quit',\n",
       " 'ran',\n",
       " 'reduce',\n",
       " 'repeat',\n",
       " 'sequence',\n",
       " 'value',\n",
       " 'values',\n",
       " 'x',\n",
       " 'z']"
      ]
     },
     "execution_count": 111,
     "metadata": {},
     "output_type": "execute_result"
    }
   ],
   "source": [
    "# dir()"
   ]
  },
  {
   "cell_type": "code",
   "execution_count": 2,
   "id": "1321fad4",
   "metadata": {},
   "outputs": [
    {
     "data": {
      "text/plain": [
       "{'__name__': '__main__',\n",
       " '__doc__': 'Automatically created module for IPython interactive environment',\n",
       " '__package__': None,\n",
       " '__loader__': None,\n",
       " '__spec__': None,\n",
       " '__builtin__': <module 'builtins' (built-in)>,\n",
       " '__builtins__': <module 'builtins' (built-in)>,\n",
       " '_ih': ['', 'locals()', 'globals()'],\n",
       " '_oh': {1: {...}},\n",
       " '_dh': [WindowsPath('D:/Desktop/AImasters/питон/lecture06/lecture06')],\n",
       " 'In': ['', 'locals()', 'globals()'],\n",
       " 'Out': {1: {...}},\n",
       " 'get_ipython': <bound method InteractiveShell.get_ipython of <ipykernel.zmqshell.ZMQInteractiveShell object at 0x000001A9088EF2E0>>,\n",
       " 'exit': <IPython.core.autocall.ZMQExitAutocall at 0x1a9088efeb0>,\n",
       " 'quit': <IPython.core.autocall.ZMQExitAutocall at 0x1a9088efeb0>,\n",
       " 'open': <function io.open(file, mode='r', buffering=-1, encoding=None, errors=None, newline=None, closefd=True, opener=None)>,\n",
       " '_': {...},\n",
       " '__': '',\n",
       " '___': '',\n",
       " '_i': 'locals()',\n",
       " '_ii': '',\n",
       " '_iii': '',\n",
       " '_i1': 'locals()',\n",
       " '_1': {...},\n",
       " '_i2': 'globals()'}"
      ]
     },
     "execution_count": 2,
     "metadata": {},
     "output_type": "execute_result"
    }
   ],
   "source": [
    "globals()"
   ]
  },
  {
   "cell_type": "code",
   "execution_count": 1,
   "id": "47a3fc5b",
   "metadata": {},
   "outputs": [
    {
     "data": {
      "text/plain": [
       "{'__name__': '__main__',\n",
       " '__doc__': 'Automatically created module for IPython interactive environment',\n",
       " '__package__': None,\n",
       " '__loader__': None,\n",
       " '__spec__': None,\n",
       " '__builtin__': <module 'builtins' (built-in)>,\n",
       " '__builtins__': <module 'builtins' (built-in)>,\n",
       " '_ih': ['', 'locals()'],\n",
       " '_oh': {},\n",
       " '_dh': [WindowsPath('D:/Desktop/AImasters/питон/lecture06/lecture06')],\n",
       " 'In': ['', 'locals()'],\n",
       " 'Out': {},\n",
       " 'get_ipython': <bound method InteractiveShell.get_ipython of <ipykernel.zmqshell.ZMQInteractiveShell object at 0x000001A9088EF2E0>>,\n",
       " 'exit': <IPython.core.autocall.ZMQExitAutocall at 0x1a9088efeb0>,\n",
       " 'quit': <IPython.core.autocall.ZMQExitAutocall at 0x1a9088efeb0>,\n",
       " 'open': <function io.open(file, mode='r', buffering=-1, encoding=None, errors=None, newline=None, closefd=True, opener=None)>,\n",
       " '_': '',\n",
       " '__': '',\n",
       " '___': '',\n",
       " '_i': '',\n",
       " '_ii': '',\n",
       " '_iii': '',\n",
       " '_i1': 'locals()'}"
      ]
     },
     "execution_count": 1,
     "metadata": {},
     "output_type": "execute_result"
    }
   ],
   "source": [
    "locals()"
   ]
  },
  {
   "cell_type": "code",
   "execution_count": 105,
   "id": "b98d3fb6",
   "metadata": {},
   "outputs": [
    {
     "data": {
      "text/plain": [
       "True"
      ]
     },
     "execution_count": 105,
     "metadata": {},
     "output_type": "execute_result"
    }
   ],
   "source": [
    "locals() is globals()"
   ]
  },
  {
   "cell_type": "code",
   "execution_count": 3,
   "id": "e1414625",
   "metadata": {},
   "outputs": [
    {
     "name": "stdout",
     "output_type": "stream",
     "text": [
      "42\n",
      "100500\n"
     ]
    }
   ],
   "source": [
    "value = 42\n",
    "print(globals()['value'])\n",
    "\n",
    "globals()['value'] = 100500\n",
    "print(value)"
   ]
  },
  {
   "cell_type": "markdown",
   "id": "a8a78a1c",
   "metadata": {
    "slideshow": {
     "slide_type": "subslide"
    }
   },
   "source": [
    "#### Циклы и условия не создают своё пространство имён"
   ]
  },
  {
   "cell_type": "code",
   "execution_count": 115,
   "id": "90c8680e",
   "metadata": {},
   "outputs": [
    {
     "name": "stdout",
     "output_type": "stream",
     "text": [
      "loop_counter = 0\n",
      "loop_counter = 1\n",
      "loop_counter = 2\n",
      "loop_counter = 3\n",
      "loop_counter = 4\n",
      "loop_counter = 5\n",
      "loop_counter = 6\n",
      "loop_counter = 7\n",
      "loop_counter = 8\n",
      "loop_counter = 9\n",
      "loop_counter = 9 after cycle\n",
      "value_assigned_in_if = 1\n",
      "value_assigned_in_for = 2\n"
     ]
    }
   ],
   "source": [
    "if True:\n",
    "    value_assigned_in_if = 1\n",
    "    \n",
    "for loop_counter in range(10):\n",
    "    print(f'{loop_counter = }')\n",
    "    value_assigned_in_for = 2\n",
    "    \n",
    "print(f'{loop_counter = } after cycle')\n",
    "print(f'{value_assigned_in_if = }')\n",
    "print(f'{value_assigned_in_for = }')"
   ]
  },
  {
   "cell_type": "markdown",
   "id": "5aa1c129",
   "metadata": {
    "slideshow": {
     "slide_type": "subslide"
    }
   },
   "source": [
    "#### Функции создают своё пространство имён"
   ]
  },
  {
   "cell_type": "code",
   "execution_count": 116,
   "id": "6fe17777",
   "metadata": {},
   "outputs": [
    {
     "name": "stdout",
     "output_type": "stream",
     "text": [
      "value = 1\n",
      "locals: 1\n",
      "globals: 0\n",
      "value = 0\n"
     ]
    }
   ],
   "source": [
    "value = 0\n",
    "\n",
    "def foo():\n",
    "    value = 1\n",
    "    print(f'{value = }')\n",
    "    \n",
    "    print('locals:', locals()['value'])\n",
    "    print('globals:', globals()['value'])\n",
    "    \n",
    "    \n",
    "foo()\n",
    "print(f'{value = }')"
   ]
  },
  {
   "cell_type": "markdown",
   "id": "c56de43a",
   "metadata": {
    "slideshow": {
     "slide_type": "slide"
    }
   },
   "source": [
    "### Область видимости (scope)\n",
    "\n",
    "Правило LEGB:\n",
    "1. Local - имена, определенные внутри функции (и не помеченные global)\n",
    "2. Enclosing-function locals - имена в области видимости всех оборачивающих (enclosing) функций, в порядке уменьшения глубины\n",
    "3. Global - имена, определенные на уровне модуля или посредством global\n",
    "4. Built-in - предопределенные (range, enumerate, zip, map, open, ...)"
   ]
  },
  {
   "cell_type": "code",
   "execution_count": 118,
   "id": "7f16653d",
   "metadata": {
    "slideshow": {
     "slide_type": "-"
    }
   },
   "outputs": [
    {
     "name": "stdout",
     "output_type": "stream",
     "text": [
      "bar local scope 333\n",
      "enclosing scope value 222\n",
      "global value 111\n"
     ]
    }
   ],
   "source": [
    "value = 111\n",
    "\n",
    "def foo():\n",
    "    value = 222\n",
    "    \n",
    "    def bar():\n",
    "        value = 333\n",
    "        print('bar local scope', value)\n",
    "    \n",
    "    bar()\n",
    "    print('enclosing scope value', value)\n",
    "    \n",
    "foo()\n",
    "print('global value', value)"
   ]
  },
  {
   "cell_type": "code",
   "execution_count": 117,
   "id": "fdbae048",
   "metadata": {},
   "outputs": [
    {
     "ename": "NameError",
     "evalue": "name 'bar' is not defined",
     "output_type": "error",
     "traceback": [
      "\u001b[0;31m---------------------------------------------------------------------------\u001b[0m",
      "\u001b[0;31mNameError\u001b[0m                                 Traceback (most recent call last)",
      "\u001b[0;32m/var/folders/v8/2cskhqjj0_g0zp3824glf1tm0000gn/T/ipykernel_47796/3583507813.py\u001b[0m in \u001b[0;36m<module>\u001b[0;34m\u001b[0m\n\u001b[0;32m----> 1\u001b[0;31m \u001b[0mbar\u001b[0m\u001b[0;34m(\u001b[0m\u001b[0;34m)\u001b[0m\u001b[0;34m\u001b[0m\u001b[0;34m\u001b[0m\u001b[0m\n\u001b[0m",
      "\u001b[0;31mNameError\u001b[0m: name 'bar' is not defined"
     ]
    }
   ],
   "source": [
    "bar()"
   ]
  },
  {
   "cell_type": "markdown",
   "id": "583bd1e4",
   "metadata": {
    "slideshow": {
     "slide_type": "skip"
    }
   },
   "source": [
    "#### Пример LEGB"
   ]
  },
  {
   "cell_type": "code",
   "execution_count": 119,
   "id": "57e88d62",
   "metadata": {},
   "outputs": [
    {
     "data": {
      "text/plain": [
       "range"
      ]
     },
     "execution_count": 119,
     "metadata": {},
     "output_type": "execute_result"
    }
   ],
   "source": [
    "range"
   ]
  },
  {
   "cell_type": "code",
   "execution_count": 120,
   "id": "0a961e16",
   "metadata": {},
   "outputs": [
    {
     "name": "stdout",
     "output_type": "stream",
     "text": [
      "<class 'range'>\n"
     ]
    }
   ],
   "source": [
    "print(range)"
   ]
  },
  {
   "cell_type": "code",
   "execution_count": 121,
   "id": "a63f36f2",
   "metadata": {
    "slideshow": {
     "slide_type": "subslide"
    }
   },
   "outputs": [
    {
     "name": "stdout",
     "output_type": "stream",
     "text": [
      "built-in: <class 'range'>\n"
     ]
    }
   ],
   "source": [
    "def foo():\n",
    "    def bar():\n",
    "        print('built-in:', range)\n",
    "    bar()\n",
    "foo()"
   ]
  },
  {
   "cell_type": "code",
   "execution_count": 122,
   "id": "9cb0f5a4",
   "metadata": {
    "slideshow": {
     "slide_type": "subslide"
    }
   },
   "outputs": [
    {
     "name": "stdout",
     "output_type": "stream",
     "text": [
      "global: global range\n"
     ]
    }
   ],
   "source": [
    "range = 'global range'\n",
    "\n",
    "def foo():\n",
    "    def bar():\n",
    "        print('global:', range)\n",
    "    bar()\n",
    "foo()"
   ]
  },
  {
   "cell_type": "code",
   "execution_count": 123,
   "id": "9fd45ed8",
   "metadata": {
    "slideshow": {
     "slide_type": "subslide"
    }
   },
   "outputs": [
    {
     "name": "stdout",
     "output_type": "stream",
     "text": [
      "enclosing-function: enclosing-function range\n"
     ]
    }
   ],
   "source": [
    "range = 'global range'\n",
    "\n",
    "def foo():\n",
    "    range = 'enclosing-function range'\n",
    "    def bar():\n",
    "        print('enclosing-function:', range)\n",
    "    bar()\n",
    "foo()"
   ]
  },
  {
   "cell_type": "code",
   "execution_count": 124,
   "id": "907f4e3c",
   "metadata": {
    "slideshow": {
     "slide_type": "subslide"
    }
   },
   "outputs": [
    {
     "name": "stdout",
     "output_type": "stream",
     "text": [
      "{'range': 'local range'}\n",
      "local: local range\n"
     ]
    }
   ],
   "source": [
    "range = 'global range'\n",
    "\n",
    "def foo():\n",
    "    range = 'enclosing-function range'\n",
    "    def bar():\n",
    "        range = 'local range'\n",
    "        print(locals())\n",
    "        print('local:', range)\n",
    "    bar()\n",
    "foo()"
   ]
  },
  {
   "cell_type": "code",
   "execution_count": 125,
   "id": "2e421786",
   "metadata": {},
   "outputs": [
    {
     "ename": "TypeError",
     "evalue": "'str' object is not callable",
     "output_type": "error",
     "traceback": [
      "\u001b[0;31m---------------------------------------------------------------------------\u001b[0m",
      "\u001b[0;31mTypeError\u001b[0m                                 Traceback (most recent call last)",
      "\u001b[0;32m/var/folders/v8/2cskhqjj0_g0zp3824glf1tm0000gn/T/ipykernel_47796/3638551980.py\u001b[0m in \u001b[0;36m<module>\u001b[0;34m\u001b[0m\n\u001b[0;32m----> 1\u001b[0;31m \u001b[0mrange\u001b[0m\u001b[0;34m(\u001b[0m\u001b[0;36m1\u001b[0m\u001b[0;34m)\u001b[0m\u001b[0;34m\u001b[0m\u001b[0;34m\u001b[0m\u001b[0m\n\u001b[0m",
      "\u001b[0;31mTypeError\u001b[0m: 'str' object is not callable"
     ]
    }
   ],
   "source": [
    "range(1)"
   ]
  },
  {
   "cell_type": "code",
   "execution_count": 126,
   "id": "5278920b",
   "metadata": {},
   "outputs": [
    {
     "data": {
      "text/plain": [
       "'global range'"
      ]
     },
     "execution_count": 126,
     "metadata": {},
     "output_type": "execute_result"
    }
   ],
   "source": [
    "globals()['range']"
   ]
  },
  {
   "cell_type": "code",
   "execution_count": 127,
   "id": "d9b28793",
   "metadata": {
    "collapsed": true
   },
   "outputs": [
    {
     "name": "stderr",
     "output_type": "stream",
     "text": [
      "<>:1: SyntaxWarning: 'str' object is not callable; perhaps you missed a comma?\n",
      "<>:1: SyntaxWarning: 'str' object is not callable; perhaps you missed a comma?\n",
      "/var/folders/v8/2cskhqjj0_g0zp3824glf1tm0000gn/T/ipykernel_47796/4101326813.py:1: SyntaxWarning: 'str' object is not callable; perhaps you missed a comma?\n",
      "  'global range'(1)\n"
     ]
    },
    {
     "ename": "TypeError",
     "evalue": "'str' object is not callable",
     "output_type": "error",
     "traceback": [
      "\u001b[0;31m---------------------------------------------------------------------------\u001b[0m",
      "\u001b[0;31mTypeError\u001b[0m                                 Traceback (most recent call last)",
      "\u001b[0;32m/var/folders/v8/2cskhqjj0_g0zp3824glf1tm0000gn/T/ipykernel_47796/4101326813.py\u001b[0m in \u001b[0;36m<module>\u001b[0;34m\u001b[0m\n\u001b[0;32m----> 1\u001b[0;31m \u001b[0;34m'global range'\u001b[0m\u001b[0;34m(\u001b[0m\u001b[0;36m1\u001b[0m\u001b[0;34m)\u001b[0m\u001b[0;34m\u001b[0m\u001b[0;34m\u001b[0m\u001b[0m\n\u001b[0m",
      "\u001b[0;31mTypeError\u001b[0m: 'str' object is not callable"
     ]
    }
   ],
   "source": [
    "'global range'(1)"
   ]
  },
  {
   "cell_type": "code",
   "execution_count": 128,
   "id": "08e15a8b",
   "metadata": {},
   "outputs": [
    {
     "data": {
      "text/plain": [
       "range(0, 10)"
      ]
     },
     "execution_count": 128,
     "metadata": {},
     "output_type": "execute_result"
    }
   ],
   "source": [
    "del range\n",
    "\n",
    "range(10)"
   ]
  },
  {
   "cell_type": "markdown",
   "id": "41a42aa6",
   "metadata": {
    "slideshow": {
     "slide_type": "slide"
    }
   },
   "source": [
    "### Ключевое слово global"
   ]
  },
  {
   "cell_type": "code",
   "execution_count": null,
   "id": "b0bc5384",
   "metadata": {},
   "outputs": [],
   "source": [
    "value = 1\n",
    "\n",
    "def foo():\n",
    "    value = 2\n",
    "    \n",
    "    def bar():\n",
    "        global value\n",
    "        value = 3\n",
    "    \n",
    "    bar()\n",
    "    print('enclosing scope value', value)\n",
    "    \n",
    "foo()\n",
    "print('global value', value)"
   ]
  },
  {
   "cell_type": "markdown",
   "id": "88e2a851",
   "metadata": {
    "slideshow": {
     "slide_type": "subslide"
    }
   },
   "source": [
    "### Ключевое слово nonlocal"
   ]
  },
  {
   "cell_type": "code",
   "execution_count": null,
   "id": "9e2fb861",
   "metadata": {},
   "outputs": [],
   "source": [
    "value = 1\n",
    "\n",
    "def foo():\n",
    "    value = 2\n",
    "    \n",
    "    def bar():\n",
    "        nonlocal value\n",
    "        value = 3\n",
    "    \n",
    "    bar()\n",
    "    print('enclosing scope value', value)\n",
    "    \n",
    "foo()\n",
    "print('global value', value)"
   ]
  },
  {
   "cell_type": "markdown",
   "id": "d797f101",
   "metadata": {
    "slideshow": {
     "slide_type": "subslide"
    }
   },
   "source": [
    "Пространства имён в python **статические** <br>\n",
    "Определение любого используемого в коде обьекта можно найти без запуска программы."
   ]
  },
  {
   "cell_type": "code",
   "execution_count": null,
   "id": "19df18ac",
   "metadata": {
    "scrolled": true
   },
   "outputs": [],
   "source": [
    "value = 1\n",
    "\n",
    "def foo():\n",
    "    \n",
    "    print(value)\n",
    "    \n",
    "    def bar():\n",
    "        print(value)\n",
    "    \n",
    "    bar()\n",
    "    value = 2\n",
    "    \n",
    "foo()"
   ]
  }
 ],
 "metadata": {
  "kernelspec": {
   "display_name": "Python 3 (ipykernel)",
   "language": "python",
   "name": "python3"
  },
  "language_info": {
   "codemirror_mode": {
    "name": "ipython",
    "version": 3
   },
   "file_extension": ".py",
   "mimetype": "text/x-python",
   "name": "python",
   "nbconvert_exporter": "python",
   "pygments_lexer": "ipython3",
   "version": "3.9.18"
  }
 },
 "nbformat": 4,
 "nbformat_minor": 5
}
