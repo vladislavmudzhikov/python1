{
 "cells": [
  {
   "cell_type": "markdown",
   "metadata": {
    "id": "s28_wiNdoFo1"
   },
   "source": [
    "# Interactive Python\n"
   ]
  },
  {
   "cell_type": "markdown",
   "metadata": {
    "id": "El84a85VoY3H"
   },
   "source": [
    "## In and Out"
   ]
  },
  {
   "cell_type": "markdown",
   "metadata": {
    "id": "6z7es1TQ1zH0"
   },
   "source": [
    "Let's  run any code with visible output:"
   ]
  },
  {
   "cell_type": "code",
   "execution_count": 1,
   "metadata": {
    "colab": {
     "base_uri": "https://localhost:8080/"
    },
    "id": "WDSrsphoklbY",
    "outputId": "50ccb425-1078-4b86-c06a-6fe94a0392e6"
   },
   "outputs": [
    {
     "name": "stdout",
     "output_type": "stream",
     "text": [
      "Help on built-in function vars in module builtins:\n",
      "\n",
      "vars(...)\n",
      "    vars([object]) -> dictionary\n",
      "    \n",
      "    Without arguments, equivalent to locals().\n",
      "    With an argument, equivalent to object.__dict__.\n",
      "\n"
     ]
    }
   ],
   "source": [
    "help(vars)"
   ]
  },
  {
   "cell_type": "code",
   "execution_count": 2,
   "metadata": {
    "colab": {
     "base_uri": "https://localhost:8080/"
    },
    "id": "G4wLpMIP19Bd",
    "outputId": "4f4da29b-8829-49fb-e282-bcaeaaa63f85"
   },
   "outputs": [
    {
     "data": {
      "text/plain": [
       "True"
      ]
     },
     "execution_count": 2,
     "metadata": {},
     "output_type": "execute_result"
    }
   ],
   "source": [
    "'In' in vars() and \"Out\" in vars()"
   ]
  },
  {
   "cell_type": "code",
   "execution_count": 3,
   "metadata": {
    "colab": {
     "base_uri": "https://localhost:8080/"
    },
    "id": "2KB6oxckouh9",
    "outputId": "568de2da-3ae9-4d43-f701-b9977137dd70"
   },
   "outputs": [
    {
     "data": {
      "text/plain": [
       "list"
      ]
     },
     "execution_count": 3,
     "metadata": {},
     "output_type": "execute_result"
    }
   ],
   "source": [
    "type(In)"
   ]
  },
  {
   "cell_type": "code",
   "execution_count": 4,
   "metadata": {
    "colab": {
     "base_uri": "https://localhost:8080/"
    },
    "id": "GkVP9v0lo2HO",
    "outputId": "925b5153-bdd8-467b-d2b2-e1e124c8f4cf"
   },
   "outputs": [
    {
     "data": {
      "text/plain": [
       "dict"
      ]
     },
     "execution_count": 4,
     "metadata": {},
     "output_type": "execute_result"
    }
   ],
   "source": [
    "type(Out)"
   ]
  },
  {
   "cell_type": "code",
   "execution_count": 5,
   "metadata": {
    "colab": {
     "base_uri": "https://localhost:8080/"
    },
    "id": "m4n_bO08og38",
    "outputId": "f2a97f34-cd65-4a39-fbf7-632d720a0be4"
   },
   "outputs": [
    {
     "data": {
      "text/plain": [
       "['',\n",
       " 'help(vars)',\n",
       " '\\'In\\' in vars() and \"Out\" in vars()',\n",
       " 'type(In)',\n",
       " 'type(Out)',\n",
       " 'In']"
      ]
     },
     "execution_count": 5,
     "metadata": {},
     "output_type": "execute_result"
    }
   ],
   "source": [
    "In"
   ]
  },
  {
   "cell_type": "code",
   "execution_count": 6,
   "metadata": {
    "colab": {
     "base_uri": "https://localhost:8080/",
     "height": 36
    },
    "id": "_iWfOSrjyA74",
    "outputId": "2dc937e0-0ff5-4963-dcd2-1f54ddd22f89"
   },
   "outputs": [
    {
     "data": {
      "text/plain": [
       "'help(vars)'"
      ]
     },
     "execution_count": 6,
     "metadata": {},
     "output_type": "execute_result"
    }
   ],
   "source": [
    "In[1]"
   ]
  },
  {
   "cell_type": "code",
   "execution_count": 7,
   "metadata": {
    "colab": {
     "base_uri": "https://localhost:8080/"
    },
    "id": "FNN3aaQsosTN",
    "outputId": "b2924053-2fa4-4d1b-82bc-c0bedc269b72"
   },
   "outputs": [
    {
     "data": {
      "text/plain": [
       "{2: True,\n",
       " 3: list,\n",
       " 4: dict,\n",
       " 5: ['',\n",
       "  'help(vars)',\n",
       "  '\\'In\\' in vars() and \"Out\" in vars()',\n",
       "  'type(In)',\n",
       "  'type(Out)',\n",
       "  'In',\n",
       "  'In[1]',\n",
       "  'Out'],\n",
       " 6: 'help(vars)'}"
      ]
     },
     "execution_count": 7,
     "metadata": {},
     "output_type": "execute_result"
    }
   ],
   "source": [
    "Out"
   ]
  },
  {
   "cell_type": "markdown",
   "metadata": {
    "id": "Kbv8SFYd0eOS"
   },
   "source": [
    "The Out object is not a list but a dictionary mapping input numbers to their outputs (if any):"
   ]
  },
  {
   "cell_type": "code",
   "execution_count": 8,
   "metadata": {
    "colab": {
     "base_uri": "https://localhost:8080/"
    },
    "id": "NP0ULrZnyIWk",
    "outputId": "89e30aa2-8422-4d40-d487-bd36a1b60cd8"
   },
   "outputs": [
    {
     "data": {
      "text/plain": [
       "list"
      ]
     },
     "execution_count": 8,
     "metadata": {},
     "output_type": "execute_result"
    }
   ],
   "source": [
    "Out[3]"
   ]
  },
  {
   "cell_type": "markdown",
   "metadata": {
    "id": "5zQJQ1NEx7HM"
   },
   "source": [
    "Some more tips:\n"
   ]
  },
  {
   "cell_type": "markdown",
   "metadata": {
    "id": "SfYe9AFk1Ns3"
   },
   "source": [
    "\n",
    "Out[N] is _N"
   ]
  },
  {
   "cell_type": "code",
   "execution_count": 9,
   "metadata": {
    "colab": {
     "base_uri": "https://localhost:8080/"
    },
    "id": "g82_WZI5o7dV",
    "outputId": "350850b2-fbe4-454e-e15a-7a823377ca61"
   },
   "outputs": [
    {
     "data": {
      "text/plain": [
       "list"
      ]
     },
     "execution_count": 9,
     "metadata": {},
     "output_type": "execute_result"
    }
   ],
   "source": [
    "_3"
   ]
  },
  {
   "cell_type": "markdown",
   "metadata": {
    "id": "rxLi5VmoyuKJ"
   },
   "source": [
    "The easiest way to suppress the output of a command is to add a semicolon to the end of the line"
   ]
  },
  {
   "cell_type": "code",
   "execution_count": 10,
   "metadata": {
    "colab": {
     "base_uri": "https://localhost:8080/"
    },
    "id": "zKNK3Hscy2kb",
    "outputId": "e521d112-c7e4-476a-9c79-7c372403e94c"
   },
   "outputs": [
    {
     "data": {
      "text/plain": [
       "150130937545296572356771972164254457814047970568738777235893533016064"
      ]
     },
     "execution_count": 10,
     "metadata": {},
     "output_type": "execute_result"
    }
   ],
   "source": [
    "42 ** 42"
   ]
  },
  {
   "cell_type": "code",
   "execution_count": 11,
   "metadata": {
    "id": "T1hyfQPFyRud"
   },
   "outputs": [],
   "source": [
    "42 ** 42;"
   ]
  },
  {
   "cell_type": "code",
   "execution_count": 12,
   "metadata": {
    "colab": {
     "base_uri": "https://localhost:8080/"
    },
    "id": "f3jHRzWry4ZY",
    "outputId": "62763e2c-50c6-465e-a5b2-76913518e082"
   },
   "outputs": [
    {
     "data": {
      "text/plain": [
       "False"
      ]
     },
     "execution_count": 12,
     "metadata": {},
     "output_type": "execute_result"
    }
   ],
   "source": [
    "11 in Out"
   ]
  },
  {
   "cell_type": "code",
   "execution_count": 13,
   "metadata": {},
   "outputs": [
    {
     "data": {
      "text/plain": [
       "'42 ** 42;'"
      ]
     },
     "execution_count": 13,
     "metadata": {},
     "output_type": "execute_result"
    }
   ],
   "source": [
    "In[11]"
   ]
  },
  {
   "cell_type": "code",
   "execution_count": 14,
   "metadata": {},
   "outputs": [
    {
     "data": {
      "text/plain": [
       "'42 ** 42;'"
      ]
     },
     "execution_count": 14,
     "metadata": {},
     "output_type": "execute_result"
    }
   ],
   "source": [
    "_"
   ]
  },
  {
   "cell_type": "code",
   "execution_count": 15,
   "metadata": {},
   "outputs": [
    {
     "data": {
      "text/plain": [
       "'42 ** 42;'"
      ]
     },
     "execution_count": 15,
     "metadata": {},
     "output_type": "execute_result"
    }
   ],
   "source": [
    "__"
   ]
  },
  {
   "cell_type": "code",
   "execution_count": 16,
   "metadata": {},
   "outputs": [
    {
     "data": {
      "text/plain": [
       "'42 ** 42;'"
      ]
     },
     "execution_count": 16,
     "metadata": {},
     "output_type": "execute_result"
    }
   ],
   "source": [
    "___"
   ]
  },
  {
   "cell_type": "code",
   "execution_count": 17,
   "metadata": {},
   "outputs": [
    {
     "data": {
      "text/plain": [
       "'___'"
      ]
     },
     "execution_count": 17,
     "metadata": {},
     "output_type": "execute_result"
    }
   ],
   "source": [
    "_i"
   ]
  },
  {
   "cell_type": "code",
   "execution_count": 18,
   "metadata": {},
   "outputs": [
    {
     "data": {
      "text/plain": [
       "'___'"
      ]
     },
     "execution_count": 18,
     "metadata": {},
     "output_type": "execute_result"
    }
   ],
   "source": [
    "_ii"
   ]
  },
  {
   "cell_type": "code",
   "execution_count": 19,
   "metadata": {},
   "outputs": [
    {
     "data": {
      "text/plain": [
       "'___'"
      ]
     },
     "execution_count": 19,
     "metadata": {},
     "output_type": "execute_result"
    }
   ],
   "source": [
    "_iii"
   ]
  },
  {
   "cell_type": "markdown",
   "metadata": {
    "id": "gq8EWeTjzeIJ"
   },
   "source": [
    "## Magic Commands"
   ]
  },
  {
   "cell_type": "markdown",
   "metadata": {
    "id": "e8IVxZCv7Ikw"
   },
   "source": [
    "% - line magic - single line of input\n",
    "\n",
    "%% - cell magic - multiple lines of input"
   ]
  },
  {
   "cell_type": "code",
   "execution_count": 20,
   "metadata": {
    "id": "OddBnvsx9A_i",
    "scrolled": true
   },
   "outputs": [
    {
     "data": {
      "text/plain": [
       "\n",
       "IPython's 'magic' functions\n",
       "===========================\n",
       "\n",
       "The magic function system provides a series of functions which allow you to\n",
       "control the behavior of IPython itself, plus a lot of system-type\n",
       "features. There are two kinds of magics, line-oriented and cell-oriented.\n",
       "\n",
       "Line magics are prefixed with the % character and work much like OS\n",
       "command-line calls: they get as an argument the rest of the line, where\n",
       "arguments are passed without parentheses or quotes.  For example, this will\n",
       "time the given statement::\n",
       "\n",
       "        %timeit range(1000)\n",
       "\n",
       "Cell magics are prefixed with a double %%, and they are functions that get as\n",
       "an argument not only the rest of the line, but also the lines below it in a\n",
       "separate argument.  These magics are called with two arguments: the rest of the\n",
       "call line and the body of the cell, consisting of the lines below the first.\n",
       "For example::\n",
       "\n",
       "        %%timeit x = numpy.random.randn((100, 100))\n",
       "        numpy.linalg.svd(x)\n",
       "\n",
       "will time the execution of the numpy svd routine, running the assignment of x\n",
       "as part of the setup phase, which is not timed.\n",
       "\n",
       "In a line-oriented client (the terminal or Qt console IPython), starting a new\n",
       "input with %% will automatically enter cell mode, and IPython will continue\n",
       "reading input until a blank line is given.  In the notebook, simply type the\n",
       "whole cell as one entity, but keep in mind that the %% escape can only be at\n",
       "the very start of the cell.\n",
       "\n",
       "NOTE: If you have 'automagic' enabled (via the command line option or with the\n",
       "%automagic function), you don't need to type in the % explicitly for line\n",
       "magics; cell magics always require an explicit '%%' escape.  By default,\n",
       "IPython ships with automagic on, so you should only rarely need the % escape.\n",
       "\n",
       "Example: typing '%cd mydir' (without the quotes) changes your working directory\n",
       "to 'mydir', if it exists.\n",
       "\n",
       "For a list of the available magic functions, use %lsmagic. For a description\n",
       "of any of them, type %magic_name?, e.g. '%cd?'.\n",
       "\n",
       "Currently the magic system has the following functions:\n",
       "%alias:\n",
       "    Define an alias for a system command.\n",
       "    \n",
       "    '%alias alias_name cmd' defines 'alias_name' as an alias for 'cmd'\n",
       "    \n",
       "    Then, typing 'alias_name params' will execute the system command 'cmd\n",
       "    params' (from your underlying operating system).\n",
       "    \n",
       "    Aliases have lower precedence than magic functions and Python normal\n",
       "    variables, so if 'foo' is both a Python variable and an alias, the\n",
       "    alias can not be executed until 'del foo' removes the Python variable.\n",
       "    \n",
       "    You can use the %l specifier in an alias definition to represent the\n",
       "    whole line when the alias is called.  For example::\n",
       "    \n",
       "      In [2]: alias bracket echo \"Input in brackets: <%l>\"\n",
       "      In [3]: bracket hello world\n",
       "      Input in brackets: <hello world>\n",
       "    \n",
       "    You can also define aliases with parameters using %s specifiers (one\n",
       "    per parameter)::\n",
       "    \n",
       "      In [1]: alias parts echo first %s second %s\n",
       "      In [2]: %parts A B\n",
       "      first A second B\n",
       "      In [3]: %parts A\n",
       "      Incorrect number of arguments: 2 expected.\n",
       "      parts is an alias to: 'echo first %s second %s'\n",
       "    \n",
       "    Note that %l and %s are mutually exclusive.  You can only use one or\n",
       "    the other in your aliases.\n",
       "    \n",
       "    Aliases expand Python variables just like system calls using ! or !!\n",
       "    do: all expressions prefixed with '$' get expanded.  For details of\n",
       "    the semantic rules, see PEP-215:\n",
       "    http://www.python.org/peps/pep-0215.html.  This is the library used by\n",
       "    IPython for variable expansion.  If you want to access a true shell\n",
       "    variable, an extra $ is necessary to prevent its expansion by\n",
       "    IPython::\n",
       "    \n",
       "      In [6]: alias show echo\n",
       "      In [7]: PATH='A Python string'\n",
       "      In [8]: show $PATH\n",
       "      A Python string\n",
       "      In [9]: show $$PATH\n",
       "      /usr/local/lf9560/bin:/usr/local/intel/compiler70/ia32/bin:...\n",
       "    \n",
       "    You can use the alias facility to access all of $PATH.  See the %rehashx\n",
       "    function, which automatically creates aliases for the contents of your\n",
       "    $PATH.\n",
       "    \n",
       "    If called with no parameters, %alias prints the current alias table\n",
       "    for your system.  For posix systems, the default aliases are 'cat',\n",
       "    'cp', 'mv', 'rm', 'rmdir', and 'mkdir', and other platform-specific\n",
       "    aliases are added.  For windows-based systems, the default aliases are\n",
       "    'copy', 'ddir', 'echo', 'ls', 'ldir', 'mkdir', 'ren', and 'rmdir'.\n",
       "    \n",
       "    You can see the definition of alias by adding a question mark in the\n",
       "    end::\n",
       "    \n",
       "      In [1]: cat?\n",
       "      Repr: <alias cat for 'cat'>\n",
       "%alias_magic:\n",
       "    ::\n",
       "    \n",
       "      %alias_magic [-l] [-c] [-p PARAMS] name target\n",
       "    \n",
       "    Create an alias for an existing line or cell magic.\n",
       "    \n",
       "    Examples\n",
       "    --------\n",
       "    ::\n",
       "    \n",
       "      In [1]: %alias_magic t timeit\n",
       "      Created `%t` as an alias for `%timeit`.\n",
       "      Created `%%t` as an alias for `%%timeit`.\n",
       "    \n",
       "      In [2]: %t -n1 pass\n",
       "      1 loops, best of 3: 954 ns per loop\n",
       "    \n",
       "      In [3]: %%t -n1\n",
       "         ...: pass\n",
       "         ...:\n",
       "      1 loops, best of 3: 954 ns per loop\n",
       "    \n",
       "      In [4]: %alias_magic --cell whereami pwd\n",
       "      UsageError: Cell magic function `%%pwd` not found.\n",
       "      In [5]: %alias_magic --line whereami pwd\n",
       "      Created `%whereami` as an alias for `%pwd`.\n",
       "    \n",
       "      In [6]: %whereami\n",
       "      Out[6]: u'/home/testuser'\n",
       "    \n",
       "      In [7]: %alias_magic h history \"-p -l 30\" --line\n",
       "      Created `%h` as an alias for `%history -l 30`.\n",
       "    \n",
       "    positional arguments:\n",
       "      name                  Name of the magic to be created.\n",
       "      target                Name of the existing line or cell magic.\n",
       "    \n",
       "    optional arguments:\n",
       "      -l, --line            Create a line magic alias.\n",
       "      -c, --cell            Create a cell magic alias.\n",
       "      -p PARAMS, --params PARAMS\n",
       "                            Parameters passed to the magic function.\n",
       "%autoawait:\n",
       "    \n",
       "    Allow to change the status of the autoawait option.\n",
       "    \n",
       "    This allow you to set a specific asynchronous code runner.\n",
       "    \n",
       "    If no value is passed, print the currently used asynchronous integration\n",
       "    and whether it is activated.\n",
       "    \n",
       "    It can take a number of value evaluated in the following order:\n",
       "    \n",
       "    - False/false/off deactivate autoawait integration\n",
       "    - True/true/on activate autoawait integration using configured default\n",
       "      loop\n",
       "    - asyncio/curio/trio activate autoawait integration and use integration\n",
       "      with said library.\n",
       "    \n",
       "    - `sync` turn on the pseudo-sync integration (mostly used for\n",
       "      `IPython.embed()` which does not run IPython with a real eventloop and\n",
       "      deactivate running asynchronous code. Turning on Asynchronous code with\n",
       "      the pseudo sync loop is undefined behavior and may lead IPython to crash.\n",
       "    \n",
       "    If the passed parameter does not match any of the above and is a python\n",
       "    identifier, get said object from user namespace and set it as the\n",
       "    runner, and activate autoawait. \n",
       "    \n",
       "    If the object is a fully qualified object name, attempt to import it and\n",
       "    set it as the runner, and activate autoawait.\n",
       "    \n",
       "    \n",
       "    The exact behavior of autoawait is experimental and subject to change\n",
       "    across version of IPython and Python.\n",
       "%autocall:\n",
       "    Make functions callable without having to type parentheses.\n",
       "    \n",
       "    Usage:\n",
       "    \n",
       "       %autocall [mode]\n",
       "    \n",
       "    The mode can be one of: 0->Off, 1->Smart, 2->Full.  If not given, the\n",
       "    value is toggled on and off (remembering the previous state).\n",
       "    \n",
       "    In more detail, these values mean:\n",
       "    \n",
       "    0 -> fully disabled\n",
       "    \n",
       "    1 -> active, but do not apply if there are no arguments on the line.\n",
       "    \n",
       "    In this mode, you get::\n",
       "    \n",
       "      In [1]: callable\n",
       "      Out[1]: <built-in function callable>\n",
       "    \n",
       "      In [2]: callable 'hello'\n",
       "      ------> callable('hello')\n",
       "      Out[2]: False\n",
       "    \n",
       "    2 -> Active always.  Even if no arguments are present, the callable\n",
       "    object is called::\n",
       "    \n",
       "      In [2]: float\n",
       "      ------> float()\n",
       "      Out[2]: 0.0\n",
       "    \n",
       "    Note that even with autocall off, you can still use '/' at the start of\n",
       "    a line to treat the first argument on the command line as a function\n",
       "    and add parentheses to it::\n",
       "    \n",
       "      In [8]: /str 43\n",
       "      ------> str(43)\n",
       "      Out[8]: '43'\n",
       "    \n",
       "    # all-random (note for auto-testing)\n",
       "%automagic:\n",
       "    Make magic functions callable without having to type the initial %.\n",
       "    \n",
       "    Without arguments toggles on/off (when off, you must call it as\n",
       "    %automagic, of course).  With arguments it sets the value, and you can\n",
       "    use any of (case insensitive):\n",
       "    \n",
       "     - on, 1, True: to activate\n",
       "    \n",
       "     - off, 0, False: to deactivate.\n",
       "    \n",
       "    Note that magic functions have lowest priority, so if there's a\n",
       "    variable whose name collides with that of a magic fn, automagic won't\n",
       "    work for that function (you get the variable instead). However, if you\n",
       "    delete the variable (del var), the previously shadowed magic function\n",
       "    becomes visible to automagic again.\n",
       "%autosave:\n",
       "    Set the autosave interval in the notebook (in seconds).\n",
       "    \n",
       "    The default value is 120, or two minutes.\n",
       "    ``%autosave 0`` will disable autosave.\n",
       "    \n",
       "    This magic only has an effect when called from the notebook interface.\n",
       "    It has no effect when called in a startup file.\n",
       "%bookmark:\n",
       "    Manage IPython's bookmark system.\n",
       "    \n",
       "    %bookmark <name>       - set bookmark to current dir\n",
       "    %bookmark <name> <dir> - set bookmark to <dir>\n",
       "    %bookmark -l           - list all bookmarks\n",
       "    %bookmark -d <name>    - remove bookmark\n",
       "    %bookmark -r           - remove all bookmarks\n",
       "    \n",
       "    You can later on access a bookmarked folder with::\n",
       "    \n",
       "      %cd -b <name>\n",
       "    \n",
       "    or simply '%cd <name>' if there is no directory called <name> AND\n",
       "    there is such a bookmark defined.\n",
       "    \n",
       "    Your bookmarks persist through IPython sessions, but they are\n",
       "    associated with each profile.\n",
       "%cat:\n",
       "    Alias for `!cat`\n",
       "%cd:\n",
       "    Change the current working directory.\n",
       "    \n",
       "    This command automatically maintains an internal list of directories\n",
       "    you visit during your IPython session, in the variable _dh. The\n",
       "    command %dhist shows this history nicely formatted. You can also\n",
       "    do 'cd -<tab>' to see directory history conveniently.\n",
       "    \n",
       "    Usage:\n",
       "    \n",
       "      cd 'dir': changes to directory 'dir'.\n",
       "    \n",
       "      cd -: changes to the last visited directory.\n",
       "    \n",
       "      cd -<n>: changes to the n-th directory in the directory history.\n",
       "    \n",
       "      cd --foo: change to directory that matches 'foo' in history\n",
       "    \n",
       "      cd -b <bookmark_name>: jump to a bookmark set by %bookmark\n",
       "         (note: cd <bookmark_name> is enough if there is no\n",
       "          directory <bookmark_name>, but a bookmark with the name exists.)\n",
       "          'cd -b <tab>' allows you to tab-complete bookmark names.\n",
       "    \n",
       "    Options:\n",
       "    \n",
       "    -q: quiet.  Do not print the working directory after the cd command is\n",
       "    executed.  By default IPython's cd command does print this directory,\n",
       "    since the default prompts do not display path information.\n",
       "    \n",
       "    Note that !cd doesn't work for this purpose because the shell where\n",
       "    !command runs is immediately discarded after executing 'command'.\n",
       "    \n",
       "    Examples\n",
       "    --------\n",
       "    ::\n",
       "    \n",
       "      In [10]: cd parent/child\n",
       "      /home/tsuser/parent/child\n",
       "%clear:\n",
       "    Clear the terminal.\n",
       "%colors:\n",
       "    Switch color scheme for prompts, info system and exception handlers.\n",
       "    \n",
       "    Currently implemented schemes: NoColor, Linux, LightBG.\n",
       "    \n",
       "    Color scheme names are not case-sensitive.\n",
       "    \n",
       "    Examples\n",
       "    --------\n",
       "    To get a plain black and white terminal::\n",
       "    \n",
       "      %colors nocolor\n",
       "%conda:\n",
       "    Run the conda package manager within the current kernel.\n",
       "    \n",
       "    Usage:\n",
       "      %conda install [pkgs]\n",
       "%config:\n",
       "    configure IPython\n",
       "    \n",
       "        %config Class[.trait=value]\n",
       "    \n",
       "    This magic exposes most of the IPython config system. Any\n",
       "    Configurable class should be able to be configured with the simple\n",
       "    line::\n",
       "    \n",
       "        %config Class.trait=value\n",
       "    \n",
       "    Where `value` will be resolved in the user's namespace, if it is an\n",
       "    expression or variable name.\n",
       "    \n",
       "    Examples\n",
       "    --------\n",
       "    \n",
       "    To see what classes are available for config, pass no arguments::\n",
       "    \n",
       "        In [1]: %config\n",
       "        Available objects for config:\n",
       "            TerminalInteractiveShell\n",
       "            HistoryManager\n",
       "            PrefilterManager\n",
       "            AliasManager\n",
       "            IPCompleter\n",
       "            DisplayFormatter\n",
       "    \n",
       "    To view what is configurable on a given class, just pass the class\n",
       "    name::\n",
       "    \n",
       "        In [2]: %config IPCompleter\n",
       "        IPCompleter options\n",
       "        -----------------\n",
       "        IPCompleter.omit__names=<Enum>\n",
       "            Current: 2\n",
       "            Choices: (0, 1, 2)\n",
       "            Instruct the completer to omit private method names\n",
       "            Specifically, when completing on ``object.<tab>``.\n",
       "            When 2 [default]: all names that start with '_' will be excluded.\n",
       "            When 1: all 'magic' names (``__foo__``) will be excluded.\n",
       "            When 0: nothing will be excluded.\n",
       "        IPCompleter.merge_completions=<CBool>\n",
       "            Current: True\n",
       "            Whether to merge completion results into a single list\n",
       "            If False, only the completion results from the first non-empty\n",
       "            completer will be returned.\n",
       "        IPCompleter.limit_to__all__=<CBool>\n",
       "            Current: False\n",
       "            Instruct the completer to use __all__ for the completion\n",
       "            Specifically, when completing on ``object.<tab>``.\n",
       "            When True: only those names in obj.__all__ will be included.\n",
       "            When False [default]: the __all__ attribute is ignored\n",
       "        IPCompleter.greedy=<CBool>\n",
       "            Current: False\n",
       "            Activate greedy completion\n",
       "            This will enable completion on elements of lists, results of\n",
       "            function calls, etc., but can be unsafe because the code is\n",
       "            actually evaluated on TAB.\n",
       "    \n",
       "    but the real use is in setting values::\n",
       "    \n",
       "        In [3]: %config IPCompleter.greedy = True\n",
       "    \n",
       "    and these values are read from the user_ns if they are variables::\n",
       "    \n",
       "        In [4]: feeling_greedy=False\n",
       "    \n",
       "        In [5]: %config IPCompleter.greedy = feeling_greedy\n",
       "%connect_info:\n",
       "    Print information for connecting other clients to this kernel\n",
       "    \n",
       "    It will print the contents of this session's connection file, as well as\n",
       "    shortcuts for local clients.\n",
       "    \n",
       "    In the simplest case, when called from the most recently launched kernel,\n",
       "    secondary clients can be connected, simply with:\n",
       "    \n",
       "    $> jupyter <app> --existing\n",
       "%cp:\n",
       "    Alias for `!cp`\n",
       "%debug:\n",
       "    ::\n",
       "    \n",
       "      %debug [--breakpoint FILE:LINE] [statement [statement ...]]\n",
       "    \n",
       "    Activate the interactive debugger.\n",
       "    \n",
       "    This magic command support two ways of activating debugger.\n",
       "    One is to activate debugger before executing code.  This way, you\n",
       "    can set a break point, to step through the code from the point.\n",
       "    You can use this mode by giving statements to execute and optionally\n",
       "    a breakpoint.\n",
       "    \n",
       "    The other one is to activate debugger in post-mortem mode.  You can\n",
       "    activate this mode simply running %debug without any argument.\n",
       "    If an exception has just occurred, this lets you inspect its stack\n",
       "    frames interactively.  Note that this will always work only on the last\n",
       "    traceback that occurred, so you must call this quickly after an\n",
       "    exception that you wish to inspect has fired, because if another one\n",
       "    occurs, it clobbers the previous one.\n",
       "    \n",
       "    If you want IPython to automatically do this on every exception, see\n",
       "    the %pdb magic for more details.\n",
       "    \n",
       "    .. versionchanged:: 7.3\n",
       "        When running code, user variables are no longer expanded,\n",
       "        the magic line is always left unmodified.\n",
       "    \n",
       "    positional arguments:\n",
       "      statement             Code to run in debugger. You can omit this in cell magic mode.\n",
       "    \n",
       "    optional arguments:\n",
       "      --breakpoint <FILE:LINE>, -b <FILE:LINE>\n",
       "                            Set break point at LINE in FILE.\n",
       "%dhist:\n",
       "    Print your history of visited directories.\n",
       "    \n",
       "    %dhist       -> print full history\n",
       "    %dhist n     -> print last n entries only\n",
       "    %dhist n1 n2 -> print entries between n1 and n2 (n2 not included)\n",
       "    \n",
       "    This history is automatically maintained by the %cd command, and\n",
       "    always available as the global list variable _dh. You can use %cd -<n>\n",
       "    to go to directory number <n>.\n",
       "    \n",
       "    Note that most of time, you should view directory history by entering\n",
       "    cd -<TAB>.\n",
       "%dirs:\n",
       "    Return the current directory stack.\n",
       "%doctest_mode:\n",
       "    Toggle doctest mode on and off.\n",
       "    \n",
       "    This mode is intended to make IPython behave as much as possible like a\n",
       "    plain Python shell, from the perspective of how its prompts, exceptions\n",
       "    and output look.  This makes it easy to copy and paste parts of a\n",
       "    session into doctests.  It does so by:\n",
       "    \n",
       "    - Changing the prompts to the classic ``>>>`` ones.\n",
       "    - Changing the exception reporting mode to 'Plain'.\n",
       "    - Disabling pretty-printing of output.\n",
       "    \n",
       "    Note that IPython also supports the pasting of code snippets that have\n",
       "    leading '>>>' and '...' prompts in them.  This means that you can paste\n",
       "    doctests from files or docstrings (even if they have leading\n",
       "    whitespace), and the code will execute correctly.  You can then use\n",
       "    '%history -t' to see the translated history; this will give you the\n",
       "    input after removal of all the leading prompts and whitespace, which\n",
       "    can be pasted back into an editor.\n",
       "    \n",
       "    With these features, you can switch into this mode easily whenever you\n",
       "    need to do testing and changes to doctests, without having to leave\n",
       "    your existing IPython session.\n",
       "%ed:\n",
       "    Alias for `%edit`.\n",
       "%edit:\n",
       "    Bring up an editor and execute the resulting code.\n",
       "    \n",
       "    Usage:\n",
       "      %edit [options] [args]\n",
       "    \n",
       "    %edit runs an external text editor. You will need to set the command for\n",
       "    this editor via the ``TerminalInteractiveShell.editor`` option in your\n",
       "    configuration file before it will work.\n",
       "    \n",
       "    This command allows you to conveniently edit multi-line code right in\n",
       "    your IPython session.\n",
       "    \n",
       "    If called without arguments, %edit opens up an empty editor with a\n",
       "    temporary file and will execute the contents of this file when you\n",
       "    close it (don't forget to save it!).\n",
       "    \n",
       "    Options:\n",
       "    \n",
       "    -n <number>\n",
       "      Open the editor at a specified line number. By default, the IPython\n",
       "      editor hook uses the unix syntax 'editor +N filename', but you can\n",
       "      configure this by providing your own modified hook if your favorite\n",
       "      editor supports line-number specifications with a different syntax.\n",
       "    \n",
       "    -p\n",
       "      Call the editor with the same data as the previous time it was used,\n",
       "      regardless of how long ago (in your current session) it was.\n",
       "    \n",
       "    -r\n",
       "      Use 'raw' input. This option only applies to input taken from the\n",
       "      user's history.  By default, the 'processed' history is used, so that\n",
       "      magics are loaded in their transformed version to valid Python.  If\n",
       "      this option is given, the raw input as typed as the command line is\n",
       "      used instead.  When you exit the editor, it will be executed by\n",
       "      IPython's own processor.\n",
       "    \n",
       "    Arguments:\n",
       "    \n",
       "    If arguments are given, the following possibilities exist:\n",
       "    \n",
       "    - The arguments are numbers or pairs of colon-separated numbers (like\n",
       "      1 4:8 9). These are interpreted as lines of previous input to be\n",
       "      loaded into the editor. The syntax is the same of the %macro command.\n",
       "    \n",
       "    - If the argument doesn't start with a number, it is evaluated as a\n",
       "      variable and its contents loaded into the editor. You can thus edit\n",
       "      any string which contains python code (including the result of\n",
       "      previous edits).\n",
       "    \n",
       "    - If the argument is the name of an object (other than a string),\n",
       "      IPython will try to locate the file where it was defined and open the\n",
       "      editor at the point where it is defined. You can use ``%edit function``\n",
       "      to load an editor exactly at the point where 'function' is defined,\n",
       "      edit it and have the file be executed automatically.\n",
       "    \n",
       "      If the object is a macro (see %macro for details), this opens up your\n",
       "      specified editor with a temporary file containing the macro's data.\n",
       "      Upon exit, the macro is reloaded with the contents of the file.\n",
       "    \n",
       "      Note: opening at an exact line is only supported under Unix, and some\n",
       "      editors (like kedit and gedit up to Gnome 2.8) do not understand the\n",
       "      '+NUMBER' parameter necessary for this feature. Good editors like\n",
       "      (X)Emacs, vi, jed, pico and joe all do.\n",
       "    \n",
       "    - If the argument is not found as a variable, IPython will look for a\n",
       "      file with that name (adding .py if necessary) and load it into the\n",
       "      editor. It will execute its contents with execfile() when you exit,\n",
       "      loading any code in the file into your interactive namespace.\n",
       "    \n",
       "    Unlike in the terminal, this is designed to use a GUI editor, and we do\n",
       "    not know when it has closed. So the file you edit will not be\n",
       "    automatically executed or printed.\n",
       "    \n",
       "    Note that %edit is also available through the alias %ed.\n",
       "%env:\n",
       "    Get, set, or list environment variables.\n",
       "    \n",
       "    Usage:\n",
       "    \n",
       "      %env: lists all environment variables/values\n",
       "      %env var: get value for var\n",
       "      %env var val: set value for var\n",
       "      %env var=val: set value for var\n",
       "      %env var=$val: set value for var, using python expansion if possible\n",
       "%gui:\n",
       "    Enable or disable IPython GUI event loop integration.\n",
       "    \n",
       "    %gui [GUINAME]\n",
       "    \n",
       "    This magic replaces IPython's threaded shells that were activated\n",
       "    using the (pylab/wthread/etc.) command line flags.  GUI toolkits\n",
       "    can now be enabled at runtime and keyboard\n",
       "    interrupts should work without any problems.  The following toolkits\n",
       "    are supported:  wxPython, PyQt4, PyGTK, Tk and Cocoa (OSX)::\n",
       "    \n",
       "        %gui wx      # enable wxPython event loop integration\n",
       "        %gui qt4|qt  # enable PyQt4 event loop integration\n",
       "        %gui qt5     # enable PyQt5 event loop integration\n",
       "        %gui gtk     # enable PyGTK event loop integration\n",
       "        %gui gtk3    # enable Gtk3 event loop integration\n",
       "        %gui gtk4    # enable Gtk4 event loop integration\n",
       "        %gui tk      # enable Tk event loop integration\n",
       "        %gui osx     # enable Cocoa event loop integration\n",
       "                     # (requires %matplotlib 1.1)\n",
       "        %gui         # disable all event loop integration\n",
       "    \n",
       "    WARNING:  after any of these has been called you can simply create\n",
       "    an application object, but DO NOT start the event loop yourself, as\n",
       "    we have already handled that.\n",
       "%hist:\n",
       "    Alias for `%history`.\n",
       "%history:\n",
       "    ::\n",
       "    \n",
       "      %history [-n] [-o] [-p] [-t] [-f FILENAME] [-g [PATTERN [PATTERN ...]]] [-l [LIMIT]] [-u] [range [range ...]]\n",
       "    \n",
       "    Print input history (_i<n> variables), with most recent last.\n",
       "    \n",
       "    By default, input history is printed without line numbers so it can be\n",
       "    directly pasted into an editor. Use -n to show them.\n",
       "    \n",
       "    By default, all input history from the current session is displayed.\n",
       "    Ranges of history can be indicated using the syntax:\n",
       "    \n",
       "    ``4``\n",
       "        Line 4, current session\n",
       "    ``4-6``\n",
       "        Lines 4-6, current session\n",
       "    ``243/1-5``\n",
       "        Lines 1-5, session 243\n",
       "    ``~2/7``\n",
       "        Line 7, session 2 before current\n",
       "    ``~8/1-~6/5``\n",
       "        From the first line of 8 sessions ago, to the fifth line of 6\n",
       "        sessions ago.\n",
       "    \n",
       "    Multiple ranges can be entered, separated by spaces\n",
       "    \n",
       "    The same syntax is used by %macro, %save, %edit, %rerun\n",
       "    \n",
       "    Examples\n",
       "    --------\n",
       "    ::\n",
       "    \n",
       "      In [6]: %history -n 4-6\n",
       "      4:a = 12\n",
       "      5:print a**2\n",
       "      6:%history -n 4-6\n",
       "    \n",
       "    positional arguments:\n",
       "      range\n",
       "    \n",
       "    optional arguments:\n",
       "      -n                    print line numbers for each input. This feature is only available if numbered prompts are in use.\n",
       "      -o                    also print outputs for each input.\n",
       "      -p                    print classic '>>>' python prompts before each input. This is useful for making documentation, and in conjunction\n",
       "                            with -o, for producing doctest-ready output.\n",
       "      -t                    print the 'translated' history, as IPython understands it. IPython filters your input and converts it all into valid\n",
       "                            Python source before executing it (things like magics or aliases are turned into function calls, for example). With\n",
       "                            this option, you'll see the native history instead of the user-entered version: '%cd /' will be seen as\n",
       "                            'get_ipython().run_line_magic(\"cd\", \"/\")' instead of '%cd /'.\n",
       "      -f FILENAME           FILENAME: instead of printing the output to the screen, redirect it to the given file. The file is always\n",
       "                            overwritten, though *when it can*, IPython asks for confirmation first. In particular, running the command 'history\n",
       "                            -f FILENAME' from the IPython Notebook interface will replace FILENAME even if it already exists *without*\n",
       "                            confirmation.\n",
       "      -g <[PATTERN [PATTERN ...]]>\n",
       "                            treat the arg as a glob pattern to search for in (full) history. This includes the saved history (almost all\n",
       "                            commands ever written). The pattern may contain '?' to match one unknown character and '*' to match any number of\n",
       "                            unknown characters. Use '%hist -g' to show full saved history (may be very long).\n",
       "      -l <[LIMIT]>          get the last n lines from all sessions. Specify n as a single arg, or the default is the last 10 lines.\n",
       "      -u                    when searching history using `-g`, show only unique history.\n",
       "%killbgscripts:\n",
       "    Kill all BG processes started by %%script and its family.\n",
       "%ldir:\n",
       "    Alias for `!ls -F -G -l %l | grep /$`\n",
       "%less:\n",
       "    Show a file through the pager.\n",
       "    \n",
       "    Files ending in .py are syntax-highlighted.\n",
       "%lf:\n",
       "    Alias for `!ls -F -l -G %l | grep ^-`\n",
       "%lk:\n",
       "    Alias for `!ls -F -l -G %l | grep ^l`\n",
       "%ll:\n",
       "    Alias for `!ls -F -l -G`\n",
       "%load:\n",
       "    Load code into the current frontend.\n",
       "    \n",
       "    Usage:\n",
       "      %load [options] source\n",
       "    \n",
       "      where source can be a filename, URL, input history range, macro, or\n",
       "      element in the user namespace\n",
       "    \n",
       "    Options:\n",
       "    \n",
       "      -r <lines>: Specify lines or ranges of lines to load from the source.\n",
       "      Ranges could be specified as x-y (x..y) or in python-style x:y \n",
       "      (x..(y-1)). Both limits x and y can be left blank (meaning the \n",
       "      beginning and end of the file, respectively).\n",
       "    \n",
       "      -s <symbols>: Specify function or classes to load from python source. \n",
       "    \n",
       "      -y : Don't ask confirmation for loading source above 200 000 characters.\n",
       "    \n",
       "      -n : Include the user's namespace when searching for source code.\n",
       "    \n",
       "    This magic command can either take a local filename, a URL, an history\n",
       "    range (see %history) or a macro as argument, it will prompt for\n",
       "    confirmation before loading source with more than 200 000 characters, unless\n",
       "    -y flag is passed or if the frontend does not support raw_input::\n",
       "    \n",
       "    %load myscript.py\n",
       "    %load 7-27\n",
       "    %load myMacro\n",
       "    %load http://www.example.com/myscript.py\n",
       "    %load -r 5-10 myscript.py\n",
       "    %load -r 10-20,30,40: foo.py\n",
       "    %load -s MyClass,wonder_function myscript.py\n",
       "    %load -n MyClass\n",
       "    %load -n my_module.wonder_function\n",
       "%load_ext:\n",
       "    Load an IPython extension by its module name.\n",
       "%loadpy:\n",
       "    Alias of `%load`\n",
       "    \n",
       "    `%loadpy` has gained some flexibility and dropped the requirement of a `.py`\n",
       "    extension. So it has been renamed simply into %load. You can look at\n",
       "    `%load`'s docstring for more info.\n",
       "%logoff:\n",
       "    Temporarily stop logging.\n",
       "    \n",
       "    You must have previously started logging.\n",
       "%logon:\n",
       "    Restart logging.\n",
       "    \n",
       "    This function is for restarting logging which you've temporarily\n",
       "    stopped with %logoff. For starting logging for the first time, you\n",
       "    must use the %logstart function, which allows you to specify an\n",
       "    optional log filename.\n",
       "%logstart:\n",
       "    Start logging anywhere in a session.\n",
       "    \n",
       "    %logstart [-o|-r|-t|-q] [log_name [log_mode]]\n",
       "    \n",
       "    If no name is given, it defaults to a file named 'ipython_log.py' in your\n",
       "    current directory, in 'rotate' mode (see below).\n",
       "    \n",
       "    '%logstart name' saves to file 'name' in 'backup' mode.  It saves your\n",
       "    history up to that point and then continues logging.\n",
       "    \n",
       "    %logstart takes a second optional parameter: logging mode. This can be one\n",
       "    of (note that the modes are given unquoted):\n",
       "    \n",
       "    append\n",
       "        Keep logging at the end of any existing file.\n",
       "    \n",
       "    backup\n",
       "        Rename any existing file to name~ and start name.\n",
       "    \n",
       "    global\n",
       "        Append to  a single logfile in your home directory.\n",
       "    \n",
       "    over\n",
       "        Overwrite any existing log.\n",
       "    \n",
       "    rotate\n",
       "        Create rotating logs: name.1~, name.2~, etc.\n",
       "    \n",
       "    Options:\n",
       "    \n",
       "      -o\n",
       "        log also IPython's output. In this mode, all commands which\n",
       "        generate an Out[NN] prompt are recorded to the logfile, right after\n",
       "        their corresponding input line. The output lines are always\n",
       "        prepended with a '#[Out]# ' marker, so that the log remains valid\n",
       "        Python code.\n",
       "    \n",
       "      Since this marker is always the same, filtering only the output from\n",
       "      a log is very easy, using for example a simple awk call::\n",
       "    \n",
       "        awk -F'#\\[Out\\]# ' '{if($2) {print $2}}' ipython_log.py\n",
       "    \n",
       "      -r\n",
       "        log 'raw' input.  Normally, IPython's logs contain the processed\n",
       "        input, so that user lines are logged in their final form, converted\n",
       "        into valid Python.  For example, %Exit is logged as\n",
       "        _ip.magic(\"Exit\").  If the -r flag is given, all input is logged\n",
       "        exactly as typed, with no transformations applied.\n",
       "    \n",
       "      -t\n",
       "        put timestamps before each input line logged (these are put in\n",
       "        comments).\n",
       "    \n",
       "      -q \n",
       "        suppress output of logstate message when logging is invoked\n",
       "%logstate:\n",
       "    Print the status of the logging system.\n",
       "%logstop:\n",
       "    Fully stop logging and close log file.\n",
       "    \n",
       "    In order to start logging again, a new %logstart call needs to be made,\n",
       "    possibly (though not necessarily) with a new filename, mode and other\n",
       "    options.\n",
       "%ls:\n",
       "    Alias for `!ls -F -G`\n",
       "%lsmagic:\n",
       "    List currently available magic functions.\n",
       "%lx:\n",
       "    Alias for `!ls -F -l -G %l | grep ^-..x`\n",
       "%macro:\n",
       "    Define a macro for future re-execution. It accepts ranges of history,\n",
       "    filenames or string objects.\n",
       "    \n",
       "    Usage:\n",
       "      %macro [options] name n1-n2 n3-n4 ... n5 .. n6 ...\n",
       "    \n",
       "    Options:\n",
       "    \n",
       "      -r: use 'raw' input.  By default, the 'processed' history is used,\n",
       "      so that magics are loaded in their transformed version to valid\n",
       "      Python.  If this option is given, the raw input as typed at the\n",
       "      command line is used instead.\n",
       "    \n",
       "      -q: quiet macro definition.  By default, a tag line is printed \n",
       "      to indicate the macro has been created, and then the contents of \n",
       "      the macro are printed.  If this option is given, then no printout\n",
       "      is produced once the macro is created.\n",
       "    \n",
       "    This will define a global variable called `name` which is a string\n",
       "    made of joining the slices and lines you specify (n1,n2,... numbers\n",
       "    above) from your input history into a single string. This variable\n",
       "    acts like an automatic function which re-executes those lines as if\n",
       "    you had typed them. You just type 'name' at the prompt and the code\n",
       "    executes.\n",
       "    \n",
       "    The syntax for indicating input ranges is described in %history.\n",
       "    \n",
       "    Note: as a 'hidden' feature, you can also use traditional python slice\n",
       "    notation, where N:M means numbers N through M-1.\n",
       "    \n",
       "    For example, if your history contains (print using %hist -n )::\n",
       "    \n",
       "      44: x=1\n",
       "      45: y=3\n",
       "      46: z=x+y\n",
       "      47: print x\n",
       "      48: a=5\n",
       "      49: print 'x',x,'y',y\n",
       "    \n",
       "    you can create a macro with lines 44 through 47 (included) and line 49\n",
       "    called my_macro with::\n",
       "    \n",
       "      In [55]: %macro my_macro 44-47 49\n",
       "    \n",
       "    Now, typing `my_macro` (without quotes) will re-execute all this code\n",
       "    in one pass.\n",
       "    \n",
       "    You don't need to give the line-numbers in order, and any given line\n",
       "    number can appear multiple times. You can assemble macros with any\n",
       "    lines from your input history in any order.\n",
       "    \n",
       "    The macro is a simple object which holds its value in an attribute,\n",
       "    but IPython's display system checks for macros and executes them as\n",
       "    code instead of printing them when you type their name.\n",
       "    \n",
       "    You can view a macro's contents by explicitly printing it with::\n",
       "    \n",
       "      print macro_name\n",
       "%magic:\n",
       "    Print information about the magic function system.\n",
       "    \n",
       "    Supported formats: -latex, -brief, -rest\n",
       "%man:\n",
       "    Find the man page for the given command and display in pager.\n",
       "%matplotlib:\n",
       "    ::\n",
       "    \n",
       "      %matplotlib [-l] [gui]\n",
       "    \n",
       "    Set up matplotlib to work interactively.\n",
       "    \n",
       "    This function lets you activate matplotlib interactive support\n",
       "    at any point during an IPython session. It does not import anything\n",
       "    into the interactive namespace.\n",
       "    \n",
       "    If you are using the inline matplotlib backend in the IPython Notebook\n",
       "    you can set which figure formats are enabled using the following::\n",
       "    \n",
       "        In [1]: from IPython.display import set_matplotlib_formats\n",
       "    \n",
       "        In [2]: set_matplotlib_formats('pdf', 'svg')\n",
       "    \n",
       "    The default for inline figures sets `bbox_inches` to 'tight'. This can\n",
       "    cause discrepancies between the displayed image and the identical\n",
       "    image created using `savefig`. This behavior can be disabled using the\n",
       "    `%config` magic::\n",
       "    \n",
       "        In [3]: %config InlineBackend.print_figure_kwargs = {'bbox_inches':None}\n",
       "    \n",
       "    In addition, see the docstring of\n",
       "    `IPython.display.set_matplotlib_formats` and\n",
       "    `IPython.display.set_matplotlib_close` for more information on\n",
       "    changing additional behaviors of the inline backend.\n",
       "    \n",
       "    Examples\n",
       "    --------\n",
       "    To enable the inline backend for usage with the IPython Notebook::\n",
       "    \n",
       "        In [1]: %matplotlib inline\n",
       "    \n",
       "    In this case, where the matplotlib default is TkAgg::\n",
       "    \n",
       "        In [2]: %matplotlib\n",
       "        Using matplotlib backend: TkAgg\n",
       "    \n",
       "    But you can explicitly request a different GUI backend::\n",
       "    \n",
       "        In [3]: %matplotlib qt\n",
       "    \n",
       "    You can list the available backends using the -l/--list option::\n",
       "    \n",
       "       In [4]: %matplotlib --list\n",
       "       Available matplotlib backends: ['osx', 'qt4', 'qt5', 'gtk3', 'gtk4', 'notebook', 'wx', 'qt', 'nbagg',\n",
       "       'gtk', 'tk', 'inline']\n",
       "    \n",
       "    positional arguments:\n",
       "      gui         Name of the matplotlib backend to use ('agg', 'gtk', 'gtk3', 'gtk4', 'inline', 'ipympl', 'nbagg', 'notebook', 'osx', 'pdf',\n",
       "                  'ps', 'qt', 'qt4', 'qt5', 'qt6', 'svg', 'tk', 'widget', 'wx'). If given, the corresponding matplotlib backend is used,\n",
       "                  otherwise it will be matplotlib's default (which you can set in your matplotlib config file).\n",
       "    \n",
       "    optional arguments:\n",
       "      -l, --list  Show available matplotlib backends\n",
       "%mkdir:\n",
       "    Alias for `!mkdir`\n",
       "%more:\n",
       "    Show a file through the pager.\n",
       "    \n",
       "    Files ending in .py are syntax-highlighted.\n",
       "%mv:\n",
       "    Alias for `!mv`\n",
       "%notebook:\n",
       "    ::\n",
       "    \n",
       "      %notebook filename\n",
       "    \n",
       "    Export and convert IPython notebooks.\n",
       "    \n",
       "    This function can export the current IPython history to a notebook file.\n",
       "    For example, to export the history to \"foo.ipynb\" do \"%notebook foo.ipynb\".\n",
       "    \n",
       "    The -e or --export flag is deprecated in IPython 5.2, and will be\n",
       "    removed in the future.\n",
       "    \n",
       "    positional arguments:\n",
       "      filename  Notebook name or filename\n",
       "%page:\n",
       "    Pretty print the object and display it through a pager.\n",
       "    \n",
       "    %page [options] OBJECT\n",
       "    \n",
       "    If no object is given, use _ (last output).\n",
       "    \n",
       "    Options:\n",
       "    \n",
       "      -r: page str(object), don't pretty-print it.\n",
       "%pastebin:\n",
       "    Upload code to dpaste.com, returning the URL.\n",
       "    \n",
       "    Usage:\n",
       "      %pastebin [-d \"Custom description\"][-e 24] 1-7\n",
       "    \n",
       "    The argument can be an input history range, a filename, or the name of a\n",
       "    string or macro.\n",
       "    \n",
       "    Options:\n",
       "    \n",
       "      -d: Pass a custom description. The default will say\n",
       "          \"Pasted from IPython\".\n",
       "      -e: Pass number of days for the link to be expired.\n",
       "          The default will be 7 days.\n",
       "%pdb:\n",
       "    Control the automatic calling of the pdb interactive debugger.\n",
       "    \n",
       "    Call as '%pdb on', '%pdb 1', '%pdb off' or '%pdb 0'. If called without\n",
       "    argument it works as a toggle.\n",
       "    \n",
       "    When an exception is triggered, IPython can optionally call the\n",
       "    interactive pdb debugger after the traceback printout. %pdb toggles\n",
       "    this feature on and off.\n",
       "    \n",
       "    The initial state of this feature is set in your configuration\n",
       "    file (the option is ``InteractiveShell.pdb``).\n",
       "    \n",
       "    If you want to just activate the debugger AFTER an exception has fired,\n",
       "    without having to type '%pdb on' and rerunning your code, you can use\n",
       "    the %debug magic.\n",
       "%pdef:\n",
       "    Print the call signature for any callable object.\n",
       "    \n",
       "    If the object is a class, print the constructor information.\n",
       "    \n",
       "    Examples\n",
       "    --------\n",
       "    ::\n",
       "    \n",
       "      In [3]: %pdef urllib.urlopen\n",
       "      urllib.urlopen(url, data=None, proxies=None)\n",
       "%pdoc:\n",
       "    Print the docstring for an object.\n",
       "    \n",
       "    If the given object is a class, it will print both the class and the\n",
       "    constructor docstrings.\n",
       "%pfile:\n",
       "    Print (or run through pager) the file where an object is defined.\n",
       "    \n",
       "    The file opens at the line where the object definition begins. IPython\n",
       "    will honor the environment variable PAGER if set, and otherwise will\n",
       "    do its best to print the file in a convenient form.\n",
       "    \n",
       "    If the given argument is not an object currently defined, IPython will\n",
       "    try to interpret it as a filename (automatically adding a .py extension\n",
       "    if needed). You can thus use %pfile as a syntax highlighting code\n",
       "    viewer.\n",
       "%pinfo:\n",
       "    Provide detailed information about an object.\n",
       "    \n",
       "    '%pinfo object' is just a synonym for object? or ?object.\n",
       "%pinfo2:\n",
       "    Provide extra detailed information about an object.\n",
       "    \n",
       "    '%pinfo2 object' is just a synonym for object?? or ??object.\n",
       "%pip:\n",
       "    Run the pip package manager within the current kernel.\n",
       "    \n",
       "    Usage:\n",
       "      %pip install [pkgs]\n",
       "%popd:\n",
       "    Change to directory popped off the top of the stack.\n",
       "%pprint:\n",
       "    Toggle pretty printing on/off.\n",
       "%precision:\n",
       "    Set floating point precision for pretty printing.\n",
       "    \n",
       "    Can set either integer precision or a format string.\n",
       "    \n",
       "    If numpy has been imported and precision is an int,\n",
       "    numpy display precision will also be set, via ``numpy.set_printoptions``.\n",
       "    \n",
       "    If no argument is given, defaults will be restored.\n",
       "    \n",
       "    Examples\n",
       "    --------\n",
       "    ::\n",
       "    \n",
       "        In [1]: from math import pi\n",
       "    \n",
       "        In [2]: %precision 3\n",
       "        Out[2]: u'%.3f'\n",
       "    \n",
       "        In [3]: pi\n",
       "        Out[3]: 3.142\n",
       "    \n",
       "        In [4]: %precision %i\n",
       "        Out[4]: u'%i'\n",
       "    \n",
       "        In [5]: pi\n",
       "        Out[5]: 3\n",
       "    \n",
       "        In [6]: %precision %e\n",
       "        Out[6]: u'%e'\n",
       "    \n",
       "        In [7]: pi**10\n",
       "        Out[7]: 9.364805e+04\n",
       "    \n",
       "        In [8]: %precision\n",
       "        Out[8]: u'%r'\n",
       "    \n",
       "        In [9]: pi**10\n",
       "        Out[9]: 93648.047476082982\n",
       "%prun:\n",
       "    Run a statement through the python code profiler.\n",
       "    \n",
       "    Usage, in line mode:\n",
       "      %prun [options] statement\n",
       "    \n",
       "    Usage, in cell mode:\n",
       "      %%prun [options] [statement]\n",
       "      code...\n",
       "      code...\n",
       "    \n",
       "    In cell mode, the additional code lines are appended to the (possibly\n",
       "    empty) statement in the first line.  Cell mode allows you to easily\n",
       "    profile multiline blocks without having to put them in a separate\n",
       "    function.\n",
       "    \n",
       "    The given statement (which doesn't require quote marks) is run via the\n",
       "    python profiler in a manner similar to the profile.run() function.\n",
       "    Namespaces are internally managed to work correctly; profile.run\n",
       "    cannot be used in IPython because it makes certain assumptions about\n",
       "    namespaces which do not hold under IPython.\n",
       "    \n",
       "    Options:\n",
       "    \n",
       "    -l <limit>\n",
       "      you can place restrictions on what or how much of the\n",
       "      profile gets printed. The limit value can be:\n",
       "    \n",
       "         * A string: only information for function names containing this string\n",
       "           is printed.\n",
       "    \n",
       "         * An integer: only these many lines are printed.\n",
       "    \n",
       "         * A float (between 0 and 1): this fraction of the report is printed\n",
       "           (for example, use a limit of 0.4 to see the topmost 40% only).\n",
       "    \n",
       "      You can combine several limits with repeated use of the option. For\n",
       "      example, ``-l __init__ -l 5`` will print only the topmost 5 lines of\n",
       "      information about class constructors.\n",
       "    \n",
       "    -r\n",
       "      return the pstats.Stats object generated by the profiling. This\n",
       "      object has all the information about the profile in it, and you can\n",
       "      later use it for further analysis or in other functions.\n",
       "    \n",
       "    -s <key>\n",
       "      sort profile by given key. You can provide more than one key\n",
       "      by using the option several times: '-s key1 -s key2 -s key3...'. The\n",
       "      default sorting key is 'time'.\n",
       "    \n",
       "      The following is copied verbatim from the profile documentation\n",
       "      referenced below:\n",
       "    \n",
       "      When more than one key is provided, additional keys are used as\n",
       "      secondary criteria when the there is equality in all keys selected\n",
       "      before them.\n",
       "    \n",
       "      Abbreviations can be used for any key names, as long as the\n",
       "      abbreviation is unambiguous.  The following are the keys currently\n",
       "      defined:\n",
       "    \n",
       "      ============  =====================\n",
       "      Valid Arg     Meaning\n",
       "      ============  =====================\n",
       "      \"calls\"       call count\n",
       "      \"cumulative\"  cumulative time\n",
       "      \"file\"        file name\n",
       "      \"module\"      file name\n",
       "      \"pcalls\"      primitive call count\n",
       "      \"line\"        line number\n",
       "      \"name\"        function name\n",
       "      \"nfl\"         name/file/line\n",
       "      \"stdname\"     standard name\n",
       "      \"time\"        internal time\n",
       "      ============  =====================\n",
       "    \n",
       "      Note that all sorts on statistics are in descending order (placing\n",
       "      most time consuming items first), where as name, file, and line number\n",
       "      searches are in ascending order (i.e., alphabetical). The subtle\n",
       "      distinction between \"nfl\" and \"stdname\" is that the standard name is a\n",
       "      sort of the name as printed, which means that the embedded line\n",
       "      numbers get compared in an odd way.  For example, lines 3, 20, and 40\n",
       "      would (if the file names were the same) appear in the string order\n",
       "      \"20\" \"3\" and \"40\".  In contrast, \"nfl\" does a numeric compare of the\n",
       "      line numbers.  In fact, sort_stats(\"nfl\") is the same as\n",
       "      sort_stats(\"name\", \"file\", \"line\").\n",
       "    \n",
       "    -T <filename>\n",
       "      save profile results as shown on screen to a text\n",
       "      file. The profile is still shown on screen.\n",
       "    \n",
       "    -D <filename>\n",
       "      save (via dump_stats) profile statistics to given\n",
       "      filename. This data is in a format understood by the pstats module, and\n",
       "      is generated by a call to the dump_stats() method of profile\n",
       "      objects. The profile is still shown on screen.\n",
       "    \n",
       "    -q\n",
       "      suppress output to the pager.  Best used with -T and/or -D above.\n",
       "    \n",
       "    If you want to run complete programs under the profiler's control, use\n",
       "    ``%run -p [prof_opts] filename.py [args to program]`` where prof_opts\n",
       "    contains profiler specific options as described here.\n",
       "    \n",
       "    You can read the complete documentation for the profile module with::\n",
       "    \n",
       "      In [1]: import profile; profile.help()\n",
       "    \n",
       "    .. versionchanged:: 7.3\n",
       "        User variables are no longer expanded,\n",
       "        the magic line is always left unmodified.\n",
       "%psearch:\n",
       "    Search for object in namespaces by wildcard.\n",
       "    \n",
       "    %psearch [options] PATTERN [OBJECT TYPE]\n",
       "    \n",
       "    Note: ? can be used as a synonym for %psearch, at the beginning or at\n",
       "    the end: both a*? and ?a* are equivalent to '%psearch a*'.  Still, the\n",
       "    rest of the command line must be unchanged (options come first), so\n",
       "    for example the following forms are equivalent\n",
       "    \n",
       "    %psearch -i a* function\n",
       "    -i a* function?\n",
       "    ?-i a* function\n",
       "    \n",
       "    Arguments:\n",
       "    \n",
       "      PATTERN\n",
       "    \n",
       "      where PATTERN is a string containing * as a wildcard similar to its\n",
       "      use in a shell.  The pattern is matched in all namespaces on the\n",
       "      search path. By default objects starting with a single _ are not\n",
       "      matched, many IPython generated objects have a single\n",
       "      underscore. The default is case insensitive matching. Matching is\n",
       "      also done on the attributes of objects and not only on the objects\n",
       "      in a module.\n",
       "    \n",
       "      [OBJECT TYPE]\n",
       "    \n",
       "      Is the name of a python type from the types module. The name is\n",
       "      given in lowercase without the ending type, ex. StringType is\n",
       "      written string. By adding a type here only objects matching the\n",
       "      given type are matched. Using all here makes the pattern match all\n",
       "      types (this is the default).\n",
       "    \n",
       "    Options:\n",
       "    \n",
       "      -a: makes the pattern match even objects whose names start with a\n",
       "      single underscore.  These names are normally omitted from the\n",
       "      search.\n",
       "    \n",
       "      -i/-c: make the pattern case insensitive/sensitive.  If neither of\n",
       "      these options are given, the default is read from your configuration\n",
       "      file, with the option ``InteractiveShell.wildcards_case_sensitive``.\n",
       "      If this option is not specified in your configuration file, IPython's\n",
       "      internal default is to do a case sensitive search.\n",
       "    \n",
       "      -e/-s NAMESPACE: exclude/search a given namespace.  The pattern you\n",
       "      specify can be searched in any of the following namespaces:\n",
       "      'builtin', 'user', 'user_global','internal', 'alias', where\n",
       "      'builtin' and 'user' are the search defaults.  Note that you should\n",
       "      not use quotes when specifying namespaces.\n",
       "    \n",
       "      -l: List all available object types for object matching. This function\n",
       "      can be used without arguments.\n",
       "    \n",
       "      'Builtin' contains the python module builtin, 'user' contains all\n",
       "      user data, 'alias' only contain the shell aliases and no python\n",
       "      objects, 'internal' contains objects used by IPython.  The\n",
       "      'user_global' namespace is only used by embedded IPython instances,\n",
       "      and it contains module-level globals.  You can add namespaces to the\n",
       "      search with -s or exclude them with -e (these options can be given\n",
       "      more than once).\n",
       "    \n",
       "    Examples\n",
       "    --------\n",
       "    ::\n",
       "    \n",
       "      %psearch a*            -> objects beginning with an a\n",
       "      %psearch -e builtin a* -> objects NOT in the builtin space starting in a\n",
       "      %psearch a* function   -> all functions beginning with an a\n",
       "      %psearch re.e*         -> objects beginning with an e in module re\n",
       "      %psearch r*.e*         -> objects that start with e in modules starting in r\n",
       "      %psearch r*.* string   -> all strings in modules beginning with r\n",
       "    \n",
       "    Case sensitive search::\n",
       "    \n",
       "      %psearch -c a*         list all object beginning with lower case a\n",
       "    \n",
       "    Show objects beginning with a single _::\n",
       "    \n",
       "      %psearch -a _*         list objects beginning with a single underscore\n",
       "    \n",
       "    List available objects::\n",
       "    \n",
       "      %psearch -l            list all available object types\n",
       "%psource:\n",
       "    Print (or run through pager) the source code for an object.\n",
       "%pushd:\n",
       "    Place the current dir on stack and change directory.\n",
       "    \n",
       "    Usage:\n",
       "      %pushd ['dirname']\n",
       "%pwd:\n",
       "    Return the current working directory path.\n",
       "    \n",
       "    Examples\n",
       "    --------\n",
       "    ::\n",
       "    \n",
       "      In [9]: pwd\n",
       "      Out[9]: '/home/tsuser/sprint/ipython'\n",
       "%pycat:\n",
       "    Show a syntax-highlighted file through a pager.\n",
       "    \n",
       "    This magic is similar to the cat utility, but it will assume the file\n",
       "    to be Python source and will show it with syntax highlighting.\n",
       "    \n",
       "    This magic command can either take a local filename, an url,\n",
       "    an history range (see %history) or a macro as argument ::\n",
       "    \n",
       "    %pycat myscript.py\n",
       "    %pycat 7-27\n",
       "    %pycat myMacro\n",
       "    %pycat http://www.example.com/myscript.py\n",
       "%pylab:\n",
       "    ::\n",
       "    \n",
       "      %pylab [--no-import-all] [gui]\n",
       "    \n",
       "    Load numpy and matplotlib to work interactively.\n",
       "    \n",
       "    This function lets you activate pylab (matplotlib, numpy and\n",
       "    interactive support) at any point during an IPython session.\n",
       "    \n",
       "    %pylab makes the following imports::\n",
       "    \n",
       "        import numpy\n",
       "        import matplotlib\n",
       "        from matplotlib import pylab, mlab, pyplot\n",
       "        np = numpy\n",
       "        plt = pyplot\n",
       "    \n",
       "        from IPython.display import display\n",
       "        from IPython.core.pylabtools import figsize, getfigs\n",
       "    \n",
       "        from pylab import *\n",
       "        from numpy import *\n",
       "    \n",
       "    If you pass `--no-import-all`, the last two `*` imports will be excluded.\n",
       "    \n",
       "    See the %matplotlib magic for more details about activating matplotlib\n",
       "    without affecting the interactive namespace.\n",
       "    \n",
       "    positional arguments:\n",
       "      gui              Name of the matplotlib backend to use ('agg', 'gtk', 'gtk3', 'gtk4', 'inline', 'ipympl', 'nbagg', 'notebook', 'osx',\n",
       "                       'pdf', 'ps', 'qt', 'qt4', 'qt5', 'qt6', 'svg', 'tk', 'widget', 'wx'). If given, the corresponding matplotlib backend is\n",
       "                       used, otherwise it will be matplotlib's default (which you can set in your matplotlib config file).\n",
       "    \n",
       "    optional arguments:\n",
       "      --no-import-all  Prevent IPython from performing ``import *`` into the interactive namespace. You can govern the default behavior of this\n",
       "                       flag with the InteractiveShellApp.pylab_import_all configurable.\n",
       "%qtconsole:\n",
       "    Open a qtconsole connected to this kernel.\n",
       "    \n",
       "    Useful for connecting a qtconsole to running notebooks, for better\n",
       "    debugging.\n",
       "%quickref:\n",
       "    Show a quick reference sheet\n",
       "%recall:\n",
       "    Repeat a command, or get command to input line for editing.\n",
       "    \n",
       "    %recall and %rep are equivalent.\n",
       "    \n",
       "    - %recall (no arguments):\n",
       "    \n",
       "    Place a string version of last computation result (stored in the\n",
       "    special '_' variable) to the next input prompt. Allows you to create\n",
       "    elaborate command lines without using copy-paste::\n",
       "    \n",
       "         In[1]: l = [\"hei\", \"vaan\"]\n",
       "         In[2]: \"\".join(l)\n",
       "        Out[2]: heivaan\n",
       "         In[3]: %recall\n",
       "         In[4]: heivaan_ <== cursor blinking\n",
       "    \n",
       "    %recall 45\n",
       "    \n",
       "    Place history line 45 on the next input prompt. Use %hist to find\n",
       "    out the number.\n",
       "    \n",
       "    %recall 1-4\n",
       "    \n",
       "    Combine the specified lines into one cell, and place it on the next\n",
       "    input prompt. See %history for the slice syntax.\n",
       "    \n",
       "    %recall foo+bar\n",
       "    \n",
       "    If foo+bar can be evaluated in the user namespace, the result is\n",
       "    placed at the next input prompt. Otherwise, the history is searched\n",
       "    for lines which contain that substring, and the most recent one is\n",
       "    placed at the next input prompt.\n",
       "%rehashx:\n",
       "    Update the alias table with all executable files in $PATH.\n",
       "    \n",
       "    rehashx explicitly checks that every entry in $PATH is a file\n",
       "    with execute access (os.X_OK).\n",
       "    \n",
       "    Under Windows, it checks executability as a match against a\n",
       "    '|'-separated string of extensions, stored in the IPython config\n",
       "    variable win_exec_ext.  This defaults to 'exe|com|bat'.\n",
       "    \n",
       "    This function also resets the root module cache of module completer,\n",
       "    used on slow filesystems.\n",
       "%reload_ext:\n",
       "    Reload an IPython extension by its module name.\n",
       "%rep:\n",
       "    Alias for `%recall`.\n",
       "%rerun:\n",
       "    Re-run previous input\n",
       "    \n",
       "    By default, you can specify ranges of input history to be repeated\n",
       "    (as with %history). With no arguments, it will repeat the last line.\n",
       "    \n",
       "    Options:\n",
       "    \n",
       "      -l <n> : Repeat the last n lines of input, not including the\n",
       "      current command.\n",
       "    \n",
       "      -g foo : Repeat the most recent line which contains foo\n",
       "%reset:\n",
       "    Resets the namespace by removing all names defined by the user, if\n",
       "    called without arguments, or by removing some types of objects, such\n",
       "    as everything currently in IPython's In[] and Out[] containers (see\n",
       "    the parameters for details).\n",
       "    \n",
       "    Parameters\n",
       "    ----------\n",
       "    -f : force reset without asking for confirmation.\n",
       "    \n",
       "    -s : 'Soft' reset: Only clears your namespace, leaving history intact.\n",
       "        References to objects may be kept. By default (without this option),\n",
       "        we do a 'hard' reset, giving you a new session and removing all\n",
       "        references to objects from the current session.\n",
       "    \n",
       "    --aggressive: Try to aggressively remove modules from sys.modules ; this\n",
       "        may allow you to reimport Python modules that have been updated and\n",
       "        pick up changes, but can have unattended consequences.\n",
       "    \n",
       "    in : reset input history\n",
       "    \n",
       "    out : reset output history\n",
       "    \n",
       "    dhist : reset directory history\n",
       "    \n",
       "    array : reset only variables that are NumPy arrays\n",
       "    \n",
       "    See Also\n",
       "    --------\n",
       "    reset_selective : invoked as ``%reset_selective``\n",
       "    \n",
       "    Examples\n",
       "    --------\n",
       "    ::\n",
       "    \n",
       "      In [6]: a = 1\n",
       "    \n",
       "      In [7]: a\n",
       "      Out[7]: 1\n",
       "    \n",
       "      In [8]: 'a' in get_ipython().user_ns\n",
       "      Out[8]: True\n",
       "    \n",
       "      In [9]: %reset -f\n",
       "    \n",
       "      In [1]: 'a' in get_ipython().user_ns\n",
       "      Out[1]: False\n",
       "    \n",
       "      In [2]: %reset -f in\n",
       "      Flushing input history\n",
       "    \n",
       "      In [3]: %reset -f dhist in\n",
       "      Flushing directory history\n",
       "      Flushing input history\n",
       "    \n",
       "    Notes\n",
       "    -----\n",
       "    Calling this magic from clients that do not implement standard input,\n",
       "    such as the ipython notebook interface, will reset the namespace\n",
       "    without confirmation.\n",
       "%reset_selective:\n",
       "    Resets the namespace by removing names defined by the user.\n",
       "    \n",
       "    Input/Output history are left around in case you need them.\n",
       "    \n",
       "    %reset_selective [-f] regex\n",
       "    \n",
       "    No action is taken if regex is not included\n",
       "    \n",
       "    Options\n",
       "      -f : force reset without asking for confirmation.\n",
       "    \n",
       "    See Also\n",
       "    --------\n",
       "    reset : invoked as ``%reset``\n",
       "    \n",
       "    Examples\n",
       "    --------\n",
       "    \n",
       "    We first fully reset the namespace so your output looks identical to\n",
       "    this example for pedagogical reasons; in practice you do not need a\n",
       "    full reset::\n",
       "    \n",
       "      In [1]: %reset -f\n",
       "    \n",
       "    Now, with a clean namespace we can make a few variables and use\n",
       "    ``%reset_selective`` to only delete names that match our regexp::\n",
       "    \n",
       "      In [2]: a=1; b=2; c=3; b1m=4; b2m=5; b3m=6; b4m=7; b2s=8\n",
       "    \n",
       "      In [3]: who_ls\n",
       "      Out[3]: ['a', 'b', 'b1m', 'b2m', 'b2s', 'b3m', 'b4m', 'c']\n",
       "    \n",
       "      In [4]: %reset_selective -f b[2-3]m\n",
       "    \n",
       "      In [5]: who_ls\n",
       "      Out[5]: ['a', 'b', 'b1m', 'b2s', 'b4m', 'c']\n",
       "    \n",
       "      In [6]: %reset_selective -f d\n",
       "    \n",
       "      In [7]: who_ls\n",
       "      Out[7]: ['a', 'b', 'b1m', 'b2s', 'b4m', 'c']\n",
       "    \n",
       "      In [8]: %reset_selective -f c\n",
       "    \n",
       "      In [9]: who_ls\n",
       "      Out[9]: ['a', 'b', 'b1m', 'b2s', 'b4m']\n",
       "    \n",
       "      In [10]: %reset_selective -f b\n",
       "    \n",
       "      In [11]: who_ls\n",
       "      Out[11]: ['a']\n",
       "    \n",
       "    Notes\n",
       "    -----\n",
       "    Calling this magic from clients that do not implement standard input,\n",
       "    such as the ipython notebook interface, will reset the namespace\n",
       "    without confirmation.\n",
       "%rm:\n",
       "    Alias for `!rm`\n",
       "%rmdir:\n",
       "    Alias for `!rmdir`\n",
       "%run:\n",
       "    Run the named file inside IPython as a program.\n",
       "    \n",
       "    Usage::\n",
       "    \n",
       "      %run [-n -i -e -G]\n",
       "           [( -t [-N<N>] | -d [-b<N>] | -p [profile options] )]\n",
       "           ( -m mod | file ) [args]\n",
       "    \n",
       "    Parameters after the filename are passed as command-line arguments to\n",
       "    the program (put in sys.argv). Then, control returns to IPython's\n",
       "    prompt.\n",
       "    \n",
       "    This is similar to running at a system prompt ``python file args``,\n",
       "    but with the advantage of giving you IPython's tracebacks, and of\n",
       "    loading all variables into your interactive namespace for further use\n",
       "    (unless -p is used, see below).\n",
       "    \n",
       "    The file is executed in a namespace initially consisting only of\n",
       "    ``__name__=='__main__'`` and sys.argv constructed as indicated. It thus\n",
       "    sees its environment as if it were being run as a stand-alone program\n",
       "    (except for sharing global objects such as previously imported\n",
       "    modules). But after execution, the IPython interactive namespace gets\n",
       "    updated with all variables defined in the program (except for __name__\n",
       "    and sys.argv). This allows for very convenient loading of code for\n",
       "    interactive work, while giving each program a 'clean sheet' to run in.\n",
       "    \n",
       "    Arguments are expanded using shell-like glob match.  Patterns\n",
       "    '*', '?', '[seq]' and '[!seq]' can be used.  Additionally,\n",
       "    tilde '~' will be expanded into user's home directory.  Unlike\n",
       "    real shells, quotation does not suppress expansions.  Use\n",
       "    *two* back slashes (e.g. ``\\\\*``) to suppress expansions.\n",
       "    To completely disable these expansions, you can use -G flag.\n",
       "    \n",
       "    On Windows systems, the use of single quotes `'` when specifying \n",
       "    a file is not supported. Use double quotes `\"`.\n",
       "    \n",
       "    Options:\n",
       "    \n",
       "    -n\n",
       "      __name__ is NOT set to '__main__', but to the running file's name\n",
       "      without extension (as python does under import).  This allows running\n",
       "      scripts and reloading the definitions in them without calling code\n",
       "      protected by an ``if __name__ == \"__main__\"`` clause.\n",
       "    \n",
       "    -i\n",
       "      run the file in IPython's namespace instead of an empty one. This\n",
       "      is useful if you are experimenting with code written in a text editor\n",
       "      which depends on variables defined interactively.\n",
       "    \n",
       "    -e\n",
       "      ignore sys.exit() calls or SystemExit exceptions in the script\n",
       "      being run.  This is particularly useful if IPython is being used to\n",
       "      run unittests, which always exit with a sys.exit() call.  In such\n",
       "      cases you are interested in the output of the test results, not in\n",
       "      seeing a traceback of the unittest module.\n",
       "    \n",
       "    -t\n",
       "      print timing information at the end of the run.  IPython will give\n",
       "      you an estimated CPU time consumption for your script, which under\n",
       "      Unix uses the resource module to avoid the wraparound problems of\n",
       "      time.clock().  Under Unix, an estimate of time spent on system tasks\n",
       "      is also given (for Windows platforms this is reported as 0.0).\n",
       "    \n",
       "    If -t is given, an additional ``-N<N>`` option can be given, where <N>\n",
       "    must be an integer indicating how many times you want the script to\n",
       "    run.  The final timing report will include total and per run results.\n",
       "    \n",
       "    For example (testing the script uniq_stable.py)::\n",
       "    \n",
       "        In [1]: run -t uniq_stable\n",
       "    \n",
       "        IPython CPU timings (estimated):\n",
       "          User  :    0.19597 s.\n",
       "          System:        0.0 s.\n",
       "    \n",
       "        In [2]: run -t -N5 uniq_stable\n",
       "    \n",
       "        IPython CPU timings (estimated):\n",
       "        Total runs performed: 5\n",
       "          Times :      Total       Per run\n",
       "          User  :   0.910862 s,  0.1821724 s.\n",
       "          System:        0.0 s,        0.0 s.\n",
       "    \n",
       "    -d\n",
       "      run your program under the control of pdb, the Python debugger.\n",
       "      This allows you to execute your program step by step, watch variables,\n",
       "      etc.  Internally, what IPython does is similar to calling::\n",
       "    \n",
       "          pdb.run('execfile(\"YOURFILENAME\")')\n",
       "    \n",
       "      with a breakpoint set on line 1 of your file.  You can change the line\n",
       "      number for this automatic breakpoint to be <N> by using the -bN option\n",
       "      (where N must be an integer). For example::\n",
       "    \n",
       "          %run -d -b40 myscript\n",
       "    \n",
       "      will set the first breakpoint at line 40 in myscript.py.  Note that\n",
       "      the first breakpoint must be set on a line which actually does\n",
       "      something (not a comment or docstring) for it to stop execution.\n",
       "    \n",
       "      Or you can specify a breakpoint in a different file::\n",
       "    \n",
       "          %run -d -b myotherfile.py:20 myscript\n",
       "    \n",
       "      When the pdb debugger starts, you will see a (Pdb) prompt.  You must\n",
       "      first enter 'c' (without quotes) to start execution up to the first\n",
       "      breakpoint.\n",
       "    \n",
       "      Entering 'help' gives information about the use of the debugger.  You\n",
       "      can easily see pdb's full documentation with \"import pdb;pdb.help()\"\n",
       "      at a prompt.\n",
       "    \n",
       "    -p\n",
       "      run program under the control of the Python profiler module (which\n",
       "      prints a detailed report of execution times, function calls, etc).\n",
       "    \n",
       "      You can pass other options after -p which affect the behavior of the\n",
       "      profiler itself. See the docs for %prun for details.\n",
       "    \n",
       "      In this mode, the program's variables do NOT propagate back to the\n",
       "      IPython interactive namespace (because they remain in the namespace\n",
       "      where the profiler executes them).\n",
       "    \n",
       "      Internally this triggers a call to %prun, see its documentation for\n",
       "      details on the options available specifically for profiling.\n",
       "    \n",
       "    There is one special usage for which the text above doesn't apply:\n",
       "    if the filename ends with .ipy[nb], the file is run as ipython script,\n",
       "    just as if the commands were written on IPython prompt.\n",
       "    \n",
       "    -m\n",
       "      specify module name to load instead of script path. Similar to\n",
       "      the -m option for the python interpreter. Use this option last if you\n",
       "      want to combine with other %run options. Unlike the python interpreter\n",
       "      only source modules are allowed no .pyc or .pyo files.\n",
       "      For example::\n",
       "    \n",
       "          %run -m example\n",
       "    \n",
       "      will run the example module.\n",
       "    \n",
       "    -G\n",
       "      disable shell-like glob expansion of arguments.\n",
       "%save:\n",
       "    Save a set of lines or a macro to a given filename.\n",
       "    \n",
       "    Usage:\n",
       "      %save [options] filename n1-n2 n3-n4 ... n5 .. n6 ...\n",
       "    \n",
       "    Options:\n",
       "    \n",
       "      -r: use 'raw' input.  By default, the 'processed' history is used,\n",
       "      so that magics are loaded in their transformed version to valid\n",
       "      Python.  If this option is given, the raw input as typed as the\n",
       "      command line is used instead.\n",
       "    \n",
       "      -f: force overwrite.  If file exists, %save will prompt for overwrite\n",
       "      unless -f is given.\n",
       "    \n",
       "      -a: append to the file instead of overwriting it.\n",
       "    \n",
       "    This function uses the same syntax as %history for input ranges,\n",
       "    then saves the lines to the filename you specify.\n",
       "    \n",
       "    It adds a '.py' extension to the file if you don't do so yourself, and\n",
       "    it asks for confirmation before overwriting existing files.\n",
       "    \n",
       "    If `-r` option is used, the default extension is `.ipy`.\n",
       "%sc:\n",
       "    Shell capture - run shell command and capture output (DEPRECATED use !).\n",
       "    \n",
       "    DEPRECATED. Suboptimal, retained for backwards compatibility.\n",
       "    \n",
       "    You should use the form 'var = !command' instead. Example:\n",
       "    \n",
       "     \"%sc -l myfiles = ls ~\" should now be written as\n",
       "    \n",
       "     \"myfiles = !ls ~\"\n",
       "    \n",
       "    myfiles.s, myfiles.l and myfiles.n still apply as documented\n",
       "    below.\n",
       "    \n",
       "    --\n",
       "    %sc [options] varname=command\n",
       "    \n",
       "    IPython will run the given command using commands.getoutput(), and\n",
       "    will then update the user's interactive namespace with a variable\n",
       "    called varname, containing the value of the call.  Your command can\n",
       "    contain shell wildcards, pipes, etc.\n",
       "    \n",
       "    The '=' sign in the syntax is mandatory, and the variable name you\n",
       "    supply must follow Python's standard conventions for valid names.\n",
       "    \n",
       "    (A special format without variable name exists for internal use)\n",
       "    \n",
       "    Options:\n",
       "    \n",
       "      -l: list output.  Split the output on newlines into a list before\n",
       "      assigning it to the given variable.  By default the output is stored\n",
       "      as a single string.\n",
       "    \n",
       "      -v: verbose.  Print the contents of the variable.\n",
       "    \n",
       "    In most cases you should not need to split as a list, because the\n",
       "    returned value is a special type of string which can automatically\n",
       "    provide its contents either as a list (split on newlines) or as a\n",
       "    space-separated string.  These are convenient, respectively, either\n",
       "    for sequential processing or to be passed to a shell command.\n",
       "    \n",
       "    For example::\n",
       "    \n",
       "        # Capture into variable a\n",
       "        In [1]: sc a=ls *py\n",
       "    \n",
       "        # a is a string with embedded newlines\n",
       "        In [2]: a\n",
       "        Out[2]: 'setup.py\\nwin32_manual_post_install.py'\n",
       "    \n",
       "        # which can be seen as a list:\n",
       "        In [3]: a.l\n",
       "        Out[3]: ['setup.py', 'win32_manual_post_install.py']\n",
       "    \n",
       "        # or as a whitespace-separated string:\n",
       "        In [4]: a.s\n",
       "        Out[4]: 'setup.py win32_manual_post_install.py'\n",
       "    \n",
       "        # a.s is useful to pass as a single command line:\n",
       "        In [5]: !wc -l $a.s\n",
       "          146 setup.py\n",
       "          130 win32_manual_post_install.py\n",
       "          276 total\n",
       "    \n",
       "        # while the list form is useful to loop over:\n",
       "        In [6]: for f in a.l:\n",
       "          ...:      !wc -l $f\n",
       "          ...:\n",
       "        146 setup.py\n",
       "        130 win32_manual_post_install.py\n",
       "    \n",
       "    Similarly, the lists returned by the -l option are also special, in\n",
       "    the sense that you can equally invoke the .s attribute on them to\n",
       "    automatically get a whitespace-separated string from their contents::\n",
       "    \n",
       "        In [7]: sc -l b=ls *py\n",
       "    \n",
       "        In [8]: b\n",
       "        Out[8]: ['setup.py', 'win32_manual_post_install.py']\n",
       "    \n",
       "        In [9]: b.s\n",
       "        Out[9]: 'setup.py win32_manual_post_install.py'\n",
       "    \n",
       "    In summary, both the lists and strings used for output capture have\n",
       "    the following special attributes::\n",
       "    \n",
       "        .l (or .list) : value as list.\n",
       "        .n (or .nlstr): value as newline-separated string.\n",
       "        .s (or .spstr): value as space-separated string.\n",
       "%set_env:\n",
       "    Set environment variables.  Assumptions are that either \"val\" is a\n",
       "    name in the user namespace, or val is something that evaluates to a\n",
       "    string.\n",
       "    \n",
       "    Usage:\n",
       "      %set_env var val: set value for var\n",
       "      %set_env var=val: set value for var\n",
       "      %set_env var=$val: set value for var, using python expansion if possible\n",
       "%store:\n",
       "    Lightweight persistence for python variables.\n",
       "    \n",
       "    Example::\n",
       "    \n",
       "      In [1]: l = ['hello',10,'world']\n",
       "      In [2]: %store l\n",
       "      In [3]: exit\n",
       "    \n",
       "      (IPython session is closed and started again...)\n",
       "    \n",
       "      ville@badger:~$ ipython\n",
       "      In [1]: l\n",
       "      NameError: name 'l' is not defined\n",
       "      In [2]: %store -r\n",
       "      In [3]: l\n",
       "      Out[3]: ['hello', 10, 'world']\n",
       "    \n",
       "    Usage:\n",
       "    \n",
       "    * ``%store``          - Show list of all variables and their current\n",
       "                            values\n",
       "    * ``%store spam bar`` - Store the *current* value of the variables spam\n",
       "                            and bar to disk\n",
       "    * ``%store -d spam``  - Remove the variable and its value from storage\n",
       "    * ``%store -z``       - Remove all variables from storage\n",
       "    * ``%store -r``       - Refresh all variables, aliases and directory history\n",
       "                            from store (overwrite current vals)\n",
       "    * ``%store -r spam bar`` - Refresh specified variables and aliases from store\n",
       "                               (delete current val)\n",
       "    * ``%store foo >a.txt``  - Store value of foo to new file a.txt\n",
       "    * ``%store foo >>a.txt`` - Append value of foo to file a.txt\n",
       "    \n",
       "    It should be noted that if you change the value of a variable, you\n",
       "    need to %store it again if you want to persist the new value.\n",
       "    \n",
       "    Note also that the variables will need to be pickleable; most basic\n",
       "    python types can be safely %store'd.\n",
       "    \n",
       "    Also aliases can be %store'd across sessions.\n",
       "    To remove an alias from the storage, use the %unalias magic.\n",
       "%sx:\n",
       "    Shell execute - run shell command and capture output (!! is short-hand).\n",
       "    \n",
       "    %sx command\n",
       "    \n",
       "    IPython will run the given command using commands.getoutput(), and\n",
       "    return the result formatted as a list (split on '\\n').  Since the\n",
       "    output is _returned_, it will be stored in ipython's regular output\n",
       "    cache Out[N] and in the '_N' automatic variables.\n",
       "    \n",
       "    Notes:\n",
       "    \n",
       "    1) If an input line begins with '!!', then %sx is automatically\n",
       "    invoked.  That is, while::\n",
       "    \n",
       "      !ls\n",
       "    \n",
       "    causes ipython to simply issue system('ls'), typing::\n",
       "    \n",
       "      !!ls\n",
       "    \n",
       "    is a shorthand equivalent to::\n",
       "    \n",
       "      %sx ls\n",
       "    \n",
       "    2) %sx differs from %sc in that %sx automatically splits into a list,\n",
       "    like '%sc -l'.  The reason for this is to make it as easy as possible\n",
       "    to process line-oriented shell output via further python commands.\n",
       "    %sc is meant to provide much finer control, but requires more\n",
       "    typing.\n",
       "    \n",
       "    3) Just like %sc -l, this is a list with special attributes:\n",
       "    ::\n",
       "    \n",
       "      .l (or .list) : value as list.\n",
       "      .n (or .nlstr): value as newline-separated string.\n",
       "      .s (or .spstr): value as whitespace-separated string.\n",
       "    \n",
       "    This is very useful when trying to use such lists as arguments to\n",
       "    system commands.\n",
       "%system:\n",
       "    Shell execute - run shell command and capture output (!! is short-hand).\n",
       "    \n",
       "    %sx command\n",
       "    \n",
       "    IPython will run the given command using commands.getoutput(), and\n",
       "    return the result formatted as a list (split on '\\n').  Since the\n",
       "    output is _returned_, it will be stored in ipython's regular output\n",
       "    cache Out[N] and in the '_N' automatic variables.\n",
       "    \n",
       "    Notes:\n",
       "    \n",
       "    1) If an input line begins with '!!', then %sx is automatically\n",
       "    invoked.  That is, while::\n",
       "    \n",
       "      !ls\n",
       "    \n",
       "    causes ipython to simply issue system('ls'), typing::\n",
       "    \n",
       "      !!ls\n",
       "    \n",
       "    is a shorthand equivalent to::\n",
       "    \n",
       "      %sx ls\n",
       "    \n",
       "    2) %sx differs from %sc in that %sx automatically splits into a list,\n",
       "    like '%sc -l'.  The reason for this is to make it as easy as possible\n",
       "    to process line-oriented shell output via further python commands.\n",
       "    %sc is meant to provide much finer control, but requires more\n",
       "    typing.\n",
       "    \n",
       "    3) Just like %sc -l, this is a list with special attributes:\n",
       "    ::\n",
       "    \n",
       "      .l (or .list) : value as list.\n",
       "      .n (or .nlstr): value as newline-separated string.\n",
       "      .s (or .spstr): value as whitespace-separated string.\n",
       "    \n",
       "    This is very useful when trying to use such lists as arguments to\n",
       "    system commands.\n",
       "%tb:\n",
       "    Print the last traceback.\n",
       "    \n",
       "    Optionally, specify an exception reporting mode, tuning the\n",
       "    verbosity of the traceback. By default the currently-active exception\n",
       "    mode is used. See %xmode for changing exception reporting modes.\n",
       "    \n",
       "    Valid modes: Plain, Context, Verbose, and Minimal.\n",
       "%time:\n",
       "    Time execution of a Python statement or expression.\n",
       "    \n",
       "    The CPU and wall clock times are printed, and the value of the\n",
       "    expression (if any) is returned.  Note that under Win32, system time\n",
       "    is always reported as 0, since it can not be measured.\n",
       "    \n",
       "    This function can be used both as a line and cell magic:\n",
       "    \n",
       "    - In line mode you can time a single-line statement (though multiple\n",
       "      ones can be chained with using semicolons).\n",
       "    \n",
       "    - In cell mode, you can time the cell body (a directly\n",
       "      following statement raises an error).\n",
       "    \n",
       "    This function provides very basic timing functionality.  Use the timeit\n",
       "    magic for more control over the measurement.\n",
       "    \n",
       "    .. versionchanged:: 7.3\n",
       "        User variables are no longer expanded,\n",
       "        the magic line is always left unmodified.\n",
       "    \n",
       "    Examples\n",
       "    --------\n",
       "    ::\n",
       "    \n",
       "      In [1]: %time 2**128\n",
       "      CPU times: user 0.00 s, sys: 0.00 s, total: 0.00 s\n",
       "      Wall time: 0.00\n",
       "      Out[1]: 340282366920938463463374607431768211456L\n",
       "    \n",
       "      In [2]: n = 1000000\n",
       "    \n",
       "      In [3]: %time sum(range(n))\n",
       "      CPU times: user 1.20 s, sys: 0.05 s, total: 1.25 s\n",
       "      Wall time: 1.37\n",
       "      Out[3]: 499999500000L\n",
       "    \n",
       "      In [4]: %time print 'hello world'\n",
       "      hello world\n",
       "      CPU times: user 0.00 s, sys: 0.00 s, total: 0.00 s\n",
       "      Wall time: 0.00\n",
       "    \n",
       "    \n",
       "    .. note::\n",
       "        The time needed by Python to compile the given expression will be\n",
       "        reported if it is more than 0.1s.\n",
       "    \n",
       "        In the example below, the actual exponentiation is done by Python\n",
       "        at compilation time, so while the expression can take a noticeable\n",
       "        amount of time to compute, that time is purely due to the\n",
       "        compilation::\n",
       "    \n",
       "            In [5]: %time 3**9999;\n",
       "            CPU times: user 0.00 s, sys: 0.00 s, total: 0.00 s\n",
       "            Wall time: 0.00 s\n",
       "    \n",
       "            In [6]: %time 3**999999;\n",
       "            CPU times: user 0.00 s, sys: 0.00 s, total: 0.00 s\n",
       "            Wall time: 0.00 s\n",
       "            Compiler : 0.78 s\n",
       "%timeit:\n",
       "    Time execution of a Python statement or expression\n",
       "    \n",
       "    Usage, in line mode:\n",
       "      %timeit [-n<N> -r<R> [-t|-c] -q -p<P> -o] statement\n",
       "    or in cell mode:\n",
       "      %%timeit [-n<N> -r<R> [-t|-c] -q -p<P> -o] setup_code\n",
       "      code\n",
       "      code...\n",
       "    \n",
       "    Time execution of a Python statement or expression using the timeit\n",
       "    module.  This function can be used both as a line and cell magic:\n",
       "    \n",
       "    - In line mode you can time a single-line statement (though multiple\n",
       "      ones can be chained with using semicolons).\n",
       "    \n",
       "    - In cell mode, the statement in the first line is used as setup code\n",
       "      (executed but not timed) and the body of the cell is timed.  The cell\n",
       "      body has access to any variables created in the setup code.\n",
       "    \n",
       "    Options:\n",
       "    -n<N>: execute the given statement <N> times in a loop. If <N> is not\n",
       "    provided, <N> is determined so as to get sufficient accuracy.\n",
       "    \n",
       "    -r<R>: number of repeats <R>, each consisting of <N> loops, and take the\n",
       "    best result.\n",
       "    Default: 7\n",
       "    \n",
       "    -t: use time.time to measure the time, which is the default on Unix.\n",
       "    This function measures wall time.\n",
       "    \n",
       "    -c: use time.clock to measure the time, which is the default on\n",
       "    Windows and measures wall time. On Unix, resource.getrusage is used\n",
       "    instead and returns the CPU user time.\n",
       "    \n",
       "    -p<P>: use a precision of <P> digits to display the timing result.\n",
       "    Default: 3\n",
       "    \n",
       "    -q: Quiet, do not print result.\n",
       "    \n",
       "    -o: return a TimeitResult that can be stored in a variable to inspect\n",
       "        the result in more details.\n",
       "    \n",
       "    .. versionchanged:: 7.3\n",
       "        User variables are no longer expanded,\n",
       "        the magic line is always left unmodified.\n",
       "    \n",
       "    Examples\n",
       "    --------\n",
       "    ::\n",
       "    \n",
       "      In [1]: %timeit pass\n",
       "      8.26 ns ± 0.12 ns per loop (mean ± std. dev. of 7 runs, 100000000 loops each)\n",
       "    \n",
       "      In [2]: u = None\n",
       "    \n",
       "      In [3]: %timeit u is None\n",
       "      29.9 ns ± 0.643 ns per loop (mean ± std. dev. of 7 runs, 10000000 loops each)\n",
       "    \n",
       "      In [4]: %timeit -r 4 u == None\n",
       "    \n",
       "      In [5]: import time\n",
       "    \n",
       "      In [6]: %timeit -n1 time.sleep(2)\n",
       "    \n",
       "    \n",
       "    The times reported by %timeit will be slightly higher than those\n",
       "    reported by the timeit.py script when variables are accessed. This is\n",
       "    due to the fact that %timeit executes the statement in the namespace\n",
       "    of the shell, compared with timeit.py, which uses a single setup\n",
       "    statement to import function or create variables. Generally, the bias\n",
       "    does not matter as long as results from timeit.py are not mixed with\n",
       "    those from %timeit.\n",
       "%unalias:\n",
       "    Remove an alias\n",
       "%unload_ext:\n",
       "    Unload an IPython extension by its module name.\n",
       "    \n",
       "    Not all extensions can be unloaded, only those which define an\n",
       "    ``unload_ipython_extension`` function.\n",
       "%who:\n",
       "    Print all interactive variables, with some minimal formatting.\n",
       "    \n",
       "    If any arguments are given, only variables whose type matches one of\n",
       "    these are printed.  For example::\n",
       "    \n",
       "      %who function str\n",
       "    \n",
       "    will only list functions and strings, excluding all other types of\n",
       "    variables.  To find the proper type names, simply use type(var) at a\n",
       "    command line to see how python prints type names.  For example:\n",
       "    \n",
       "    ::\n",
       "    \n",
       "      In [1]: type('hello')\n",
       "      Out[1]: <type 'str'>\n",
       "    \n",
       "    indicates that the type name for strings is 'str'.\n",
       "    \n",
       "    ``%who`` always excludes executed names loaded through your configuration\n",
       "    file and things which are internal to IPython.\n",
       "    \n",
       "    This is deliberate, as typically you may load many modules and the\n",
       "    purpose of %who is to show you only what you've manually defined.\n",
       "    \n",
       "    Examples\n",
       "    --------\n",
       "    \n",
       "    Define two variables and list them with who::\n",
       "    \n",
       "      In [1]: alpha = 123\n",
       "    \n",
       "      In [2]: beta = 'test'\n",
       "    \n",
       "      In [3]: %who\n",
       "      alpha   beta\n",
       "    \n",
       "      In [4]: %who int\n",
       "      alpha\n",
       "    \n",
       "      In [5]: %who str\n",
       "      beta\n",
       "%who_ls:\n",
       "    Return a sorted list of all interactive variables.\n",
       "    \n",
       "    If arguments are given, only variables of types matching these\n",
       "    arguments are returned.\n",
       "    \n",
       "    Examples\n",
       "    --------\n",
       "    \n",
       "    Define two variables and list them with who_ls::\n",
       "    \n",
       "      In [1]: alpha = 123\n",
       "    \n",
       "      In [2]: beta = 'test'\n",
       "    \n",
       "      In [3]: %who_ls\n",
       "      Out[3]: ['alpha', 'beta']\n",
       "    \n",
       "      In [4]: %who_ls int\n",
       "      Out[4]: ['alpha']\n",
       "    \n",
       "      In [5]: %who_ls str\n",
       "      Out[5]: ['beta']\n",
       "%whos:\n",
       "    Like %who, but gives some extra information about each variable.\n",
       "    \n",
       "    The same type filtering of %who can be applied here.\n",
       "    \n",
       "    For all variables, the type is printed. Additionally it prints:\n",
       "    \n",
       "      - For {},[],(): their length.\n",
       "    \n",
       "      - For numpy arrays, a summary with shape, number of\n",
       "        elements, typecode and size in memory.\n",
       "    \n",
       "      - Everything else: a string representation, snipping their middle if\n",
       "        too long.\n",
       "    \n",
       "    Examples\n",
       "    --------\n",
       "    \n",
       "    Define two variables and list them with whos::\n",
       "    \n",
       "      In [1]: alpha = 123\n",
       "    \n",
       "      In [2]: beta = 'test'\n",
       "    \n",
       "      In [3]: %whos\n",
       "      Variable   Type        Data/Info\n",
       "      --------------------------------\n",
       "      alpha      int         123\n",
       "      beta       str         test\n",
       "%xdel:\n",
       "    Delete a variable, trying to clear it from anywhere that\n",
       "    IPython's machinery has references to it. By default, this uses\n",
       "    the identity of the named object in the user namespace to remove\n",
       "    references held under other names. The object is also removed\n",
       "    from the output history.\n",
       "    \n",
       "    Options\n",
       "      -n : Delete the specified name from all namespaces, without\n",
       "      checking their identity.\n",
       "%xmode:\n",
       "    Switch modes for the exception handlers.\n",
       "    \n",
       "    Valid modes: Plain, Context, Verbose, and Minimal.\n",
       "    \n",
       "    If called without arguments, acts as a toggle.\n",
       "    \n",
       "    When in verbose mode the value --show (and --hide) \n",
       "    will respectively show (or hide) frames with ``__tracebackhide__ =\n",
       "    True`` value set.\n",
       "%%!:\n",
       "    Shell execute - run shell command and capture output (!! is short-hand).\n",
       "    \n",
       "    %sx command\n",
       "    \n",
       "    IPython will run the given command using commands.getoutput(), and\n",
       "    return the result formatted as a list (split on '\\n').  Since the\n",
       "    output is _returned_, it will be stored in ipython's regular output\n",
       "    cache Out[N] and in the '_N' automatic variables.\n",
       "    \n",
       "    Notes:\n",
       "    \n",
       "    1) If an input line begins with '!!', then %sx is automatically\n",
       "    invoked.  That is, while::\n",
       "    \n",
       "      !ls\n",
       "    \n",
       "    causes ipython to simply issue system('ls'), typing::\n",
       "    \n",
       "      !!ls\n",
       "    \n",
       "    is a shorthand equivalent to::\n",
       "    \n",
       "      %sx ls\n",
       "    \n",
       "    2) %sx differs from %sc in that %sx automatically splits into a list,\n",
       "    like '%sc -l'.  The reason for this is to make it as easy as possible\n",
       "    to process line-oriented shell output via further python commands.\n",
       "    %sc is meant to provide much finer control, but requires more\n",
       "    typing.\n",
       "    \n",
       "    3) Just like %sc -l, this is a list with special attributes:\n",
       "    ::\n",
       "    \n",
       "      .l (or .list) : value as list.\n",
       "      .n (or .nlstr): value as newline-separated string.\n",
       "      .s (or .spstr): value as whitespace-separated string.\n",
       "    \n",
       "    This is very useful when trying to use such lists as arguments to\n",
       "    system commands.\n",
       "%%HTML:\n",
       "    Alias for `%%html`.\n",
       "%%SVG:\n",
       "    Alias for `%%svg`.\n",
       "%%bash:\n",
       "    %%bash script magic\n",
       "    \n",
       "    Run cells with bash in a subprocess.\n",
       "    \n",
       "    This is a shortcut for `%%script bash`\n",
       "%%capture:\n",
       "    ::\n",
       "    \n",
       "      %capture [--no-stderr] [--no-stdout] [--no-display] [output]\n",
       "    \n",
       "    run the cell, capturing stdout, stderr, and IPython's rich display() calls.\n",
       "    \n",
       "    positional arguments:\n",
       "      output        The name of the variable in which to store output. This is a utils.io.CapturedIO object with stdout/err attributes for the\n",
       "                    text of the captured output. CapturedOutput also has a show() method for displaying the output, and __call__ as well, so you\n",
       "                    can use that to quickly display the output. If unspecified, captured output is discarded.\n",
       "    \n",
       "    optional arguments:\n",
       "      --no-stderr   Don't capture stderr.\n",
       "      --no-stdout   Don't capture stdout.\n",
       "      --no-display  Don't capture IPython's rich display.\n",
       "%%debug:\n",
       "    ::\n",
       "    \n",
       "      %debug [--breakpoint FILE:LINE] [statement [statement ...]]\n",
       "    \n",
       "    Activate the interactive debugger.\n",
       "    \n",
       "    This magic command support two ways of activating debugger.\n",
       "    One is to activate debugger before executing code.  This way, you\n",
       "    can set a break point, to step through the code from the point.\n",
       "    You can use this mode by giving statements to execute and optionally\n",
       "    a breakpoint.\n",
       "    \n",
       "    The other one is to activate debugger in post-mortem mode.  You can\n",
       "    activate this mode simply running %debug without any argument.\n",
       "    If an exception has just occurred, this lets you inspect its stack\n",
       "    frames interactively.  Note that this will always work only on the last\n",
       "    traceback that occurred, so you must call this quickly after an\n",
       "    exception that you wish to inspect has fired, because if another one\n",
       "    occurs, it clobbers the previous one.\n",
       "    \n",
       "    If you want IPython to automatically do this on every exception, see\n",
       "    the %pdb magic for more details.\n",
       "    \n",
       "    .. versionchanged:: 7.3\n",
       "        When running code, user variables are no longer expanded,\n",
       "        the magic line is always left unmodified.\n",
       "    \n",
       "    positional arguments:\n",
       "      statement             Code to run in debugger. You can omit this in cell magic mode.\n",
       "    \n",
       "    optional arguments:\n",
       "      --breakpoint <FILE:LINE>, -b <FILE:LINE>\n",
       "                            Set break point at LINE in FILE.\n",
       "%%file:\n",
       "    Alias for `%%writefile`.\n",
       "%%html:\n",
       "    ::\n",
       "    \n",
       "      %html [--isolated]\n",
       "    \n",
       "    Render the cell as a block of HTML\n",
       "    \n",
       "    optional arguments:\n",
       "      --isolated  Annotate the cell as 'isolated'. Isolated cells are rendered inside their own <iframe> tag\n",
       "%%javascript:\n",
       "    Run the cell block of Javascript code\n",
       "%%js:\n",
       "    Run the cell block of Javascript code\n",
       "    \n",
       "    Alias of `%%javascript`\n",
       "%%latex:\n",
       "    Render the cell as a block of latex\n",
       "    \n",
       "    The subset of latex which is support depends on the implementation in\n",
       "    the client.  In the Jupyter Notebook, this magic only renders the subset\n",
       "    of latex defined by MathJax\n",
       "    [here](https://docs.mathjax.org/en/v2.5-latest/tex.html).\n",
       "%%markdown:\n",
       "    Render the cell as Markdown text block\n",
       "%%perl:\n",
       "    %%perl script magic\n",
       "    \n",
       "    Run cells with perl in a subprocess.\n",
       "    \n",
       "    This is a shortcut for `%%script perl`\n",
       "%%prun:\n",
       "    Run a statement through the python code profiler.\n",
       "    \n",
       "    Usage, in line mode:\n",
       "      %prun [options] statement\n",
       "    \n",
       "    Usage, in cell mode:\n",
       "      %%prun [options] [statement]\n",
       "      code...\n",
       "      code...\n",
       "    \n",
       "    In cell mode, the additional code lines are appended to the (possibly\n",
       "    empty) statement in the first line.  Cell mode allows you to easily\n",
       "    profile multiline blocks without having to put them in a separate\n",
       "    function.\n",
       "    \n",
       "    The given statement (which doesn't require quote marks) is run via the\n",
       "    python profiler in a manner similar to the profile.run() function.\n",
       "    Namespaces are internally managed to work correctly; profile.run\n",
       "    cannot be used in IPython because it makes certain assumptions about\n",
       "    namespaces which do not hold under IPython.\n",
       "    \n",
       "    Options:\n",
       "    \n",
       "    -l <limit>\n",
       "      you can place restrictions on what or how much of the\n",
       "      profile gets printed. The limit value can be:\n",
       "    \n",
       "         * A string: only information for function names containing this string\n",
       "           is printed.\n",
       "    \n",
       "         * An integer: only these many lines are printed.\n",
       "    \n",
       "         * A float (between 0 and 1): this fraction of the report is printed\n",
       "           (for example, use a limit of 0.4 to see the topmost 40% only).\n",
       "    \n",
       "      You can combine several limits with repeated use of the option. For\n",
       "      example, ``-l __init__ -l 5`` will print only the topmost 5 lines of\n",
       "      information about class constructors.\n",
       "    \n",
       "    -r\n",
       "      return the pstats.Stats object generated by the profiling. This\n",
       "      object has all the information about the profile in it, and you can\n",
       "      later use it for further analysis or in other functions.\n",
       "    \n",
       "    -s <key>\n",
       "      sort profile by given key. You can provide more than one key\n",
       "      by using the option several times: '-s key1 -s key2 -s key3...'. The\n",
       "      default sorting key is 'time'.\n",
       "    \n",
       "      The following is copied verbatim from the profile documentation\n",
       "      referenced below:\n",
       "    \n",
       "      When more than one key is provided, additional keys are used as\n",
       "      secondary criteria when the there is equality in all keys selected\n",
       "      before them.\n",
       "    \n",
       "      Abbreviations can be used for any key names, as long as the\n",
       "      abbreviation is unambiguous.  The following are the keys currently\n",
       "      defined:\n",
       "    \n",
       "      ============  =====================\n",
       "      Valid Arg     Meaning\n",
       "      ============  =====================\n",
       "      \"calls\"       call count\n",
       "      \"cumulative\"  cumulative time\n",
       "      \"file\"        file name\n",
       "      \"module\"      file name\n",
       "      \"pcalls\"      primitive call count\n",
       "      \"line\"        line number\n",
       "      \"name\"        function name\n",
       "      \"nfl\"         name/file/line\n",
       "      \"stdname\"     standard name\n",
       "      \"time\"        internal time\n",
       "      ============  =====================\n",
       "    \n",
       "      Note that all sorts on statistics are in descending order (placing\n",
       "      most time consuming items first), where as name, file, and line number\n",
       "      searches are in ascending order (i.e., alphabetical). The subtle\n",
       "      distinction between \"nfl\" and \"stdname\" is that the standard name is a\n",
       "      sort of the name as printed, which means that the embedded line\n",
       "      numbers get compared in an odd way.  For example, lines 3, 20, and 40\n",
       "      would (if the file names were the same) appear in the string order\n",
       "      \"20\" \"3\" and \"40\".  In contrast, \"nfl\" does a numeric compare of the\n",
       "      line numbers.  In fact, sort_stats(\"nfl\") is the same as\n",
       "      sort_stats(\"name\", \"file\", \"line\").\n",
       "    \n",
       "    -T <filename>\n",
       "      save profile results as shown on screen to a text\n",
       "      file. The profile is still shown on screen.\n",
       "    \n",
       "    -D <filename>\n",
       "      save (via dump_stats) profile statistics to given\n",
       "      filename. This data is in a format understood by the pstats module, and\n",
       "      is generated by a call to the dump_stats() method of profile\n",
       "      objects. The profile is still shown on screen.\n",
       "    \n",
       "    -q\n",
       "      suppress output to the pager.  Best used with -T and/or -D above.\n",
       "    \n",
       "    If you want to run complete programs under the profiler's control, use\n",
       "    ``%run -p [prof_opts] filename.py [args to program]`` where prof_opts\n",
       "    contains profiler specific options as described here.\n",
       "    \n",
       "    You can read the complete documentation for the profile module with::\n",
       "    \n",
       "      In [1]: import profile; profile.help()\n",
       "    \n",
       "    .. versionchanged:: 7.3\n",
       "        User variables are no longer expanded,\n",
       "        the magic line is always left unmodified.\n",
       "%%pypy:\n",
       "    %%pypy script magic\n",
       "    \n",
       "    Run cells with pypy in a subprocess.\n",
       "    \n",
       "    This is a shortcut for `%%script pypy`\n",
       "%%python:\n",
       "    %%python script magic\n",
       "    \n",
       "    Run cells with python in a subprocess.\n",
       "    \n",
       "    This is a shortcut for `%%script python`\n",
       "%%python2:\n",
       "    %%python2 script magic\n",
       "    \n",
       "    Run cells with python2 in a subprocess.\n",
       "    \n",
       "    This is a shortcut for `%%script python2`\n",
       "%%python3:\n",
       "    %%python3 script magic\n",
       "    \n",
       "    Run cells with python3 in a subprocess.\n",
       "    \n",
       "    This is a shortcut for `%%script python3`\n",
       "%%ruby:\n",
       "    %%ruby script magic\n",
       "    \n",
       "    Run cells with ruby in a subprocess.\n",
       "    \n",
       "    This is a shortcut for `%%script ruby`\n",
       "%%script:\n",
       "    ::\n",
       "    \n",
       "      %shebang [--no-raise-error] [--proc PROC] [--bg] [--err ERR] [--out OUT]\n",
       "    \n",
       "    Run a cell via a shell command\n",
       "    \n",
       "    The `%%script` line is like the #! line of script,\n",
       "    specifying a program (bash, perl, ruby, etc.) with which to run.\n",
       "    \n",
       "    The rest of the cell is run by that program.\n",
       "    \n",
       "    Examples\n",
       "    --------\n",
       "    ::\n",
       "    \n",
       "        In [1]: %%script bash\n",
       "           ...: for i in 1 2 3; do\n",
       "           ...:   echo $i\n",
       "           ...: done\n",
       "        1\n",
       "        2\n",
       "        3\n",
       "    \n",
       "    optional arguments:\n",
       "      --no-raise-error  Whether you should raise an error message in addition to a stream on stderr if you get a nonzero exit code.\n",
       "      --proc PROC       The variable in which to store Popen instance. This is used only when --bg option is given.\n",
       "      --bg              Whether to run the script in the background. If given, the only way to see the output of the command is with --out/err.\n",
       "      --err ERR         The variable in which to store stderr from the script. If the script is backgrounded, this will be the stderr *pipe*,\n",
       "                        instead of the stderr text itself and will not be autoclosed.\n",
       "      --out OUT         The variable in which to store stdout from the script. If the script is backgrounded, this will be the stdout *pipe*,\n",
       "                        instead of the stderr text itself and will not be auto closed.\n",
       "%%sh:\n",
       "    %%sh script magic\n",
       "    \n",
       "    Run cells with sh in a subprocess.\n",
       "    \n",
       "    This is a shortcut for `%%script sh`\n",
       "%%svg:\n",
       "    Render the cell as an SVG literal\n",
       "%%sx:\n",
       "    Shell execute - run shell command and capture output (!! is short-hand).\n",
       "    \n",
       "    %sx command\n",
       "    \n",
       "    IPython will run the given command using commands.getoutput(), and\n",
       "    return the result formatted as a list (split on '\\n').  Since the\n",
       "    output is _returned_, it will be stored in ipython's regular output\n",
       "    cache Out[N] and in the '_N' automatic variables.\n",
       "    \n",
       "    Notes:\n",
       "    \n",
       "    1) If an input line begins with '!!', then %sx is automatically\n",
       "    invoked.  That is, while::\n",
       "    \n",
       "      !ls\n",
       "    \n",
       "    causes ipython to simply issue system('ls'), typing::\n",
       "    \n",
       "      !!ls\n",
       "    \n",
       "    is a shorthand equivalent to::\n",
       "    \n",
       "      %sx ls\n",
       "    \n",
       "    2) %sx differs from %sc in that %sx automatically splits into a list,\n",
       "    like '%sc -l'.  The reason for this is to make it as easy as possible\n",
       "    to process line-oriented shell output via further python commands.\n",
       "    %sc is meant to provide much finer control, but requires more\n",
       "    typing.\n",
       "    \n",
       "    3) Just like %sc -l, this is a list with special attributes:\n",
       "    ::\n",
       "    \n",
       "      .l (or .list) : value as list.\n",
       "      .n (or .nlstr): value as newline-separated string.\n",
       "      .s (or .spstr): value as whitespace-separated string.\n",
       "    \n",
       "    This is very useful when trying to use such lists as arguments to\n",
       "    system commands.\n",
       "%%system:\n",
       "    Shell execute - run shell command and capture output (!! is short-hand).\n",
       "    \n",
       "    %sx command\n",
       "    \n",
       "    IPython will run the given command using commands.getoutput(), and\n",
       "    return the result formatted as a list (split on '\\n').  Since the\n",
       "    output is _returned_, it will be stored in ipython's regular output\n",
       "    cache Out[N] and in the '_N' automatic variables.\n",
       "    \n",
       "    Notes:\n",
       "    \n",
       "    1) If an input line begins with '!!', then %sx is automatically\n",
       "    invoked.  That is, while::\n",
       "    \n",
       "      !ls\n",
       "    \n",
       "    causes ipython to simply issue system('ls'), typing::\n",
       "    \n",
       "      !!ls\n",
       "    \n",
       "    is a shorthand equivalent to::\n",
       "    \n",
       "      %sx ls\n",
       "    \n",
       "    2) %sx differs from %sc in that %sx automatically splits into a list,\n",
       "    like '%sc -l'.  The reason for this is to make it as easy as possible\n",
       "    to process line-oriented shell output via further python commands.\n",
       "    %sc is meant to provide much finer control, but requires more\n",
       "    typing.\n",
       "    \n",
       "    3) Just like %sc -l, this is a list with special attributes:\n",
       "    ::\n",
       "    \n",
       "      .l (or .list) : value as list.\n",
       "      .n (or .nlstr): value as newline-separated string.\n",
       "      .s (or .spstr): value as whitespace-separated string.\n",
       "    \n",
       "    This is very useful when trying to use such lists as arguments to\n",
       "    system commands.\n",
       "%%time:\n",
       "    Time execution of a Python statement or expression.\n",
       "    \n",
       "    The CPU and wall clock times are printed, and the value of the\n",
       "    expression (if any) is returned.  Note that under Win32, system time\n",
       "    is always reported as 0, since it can not be measured.\n",
       "    \n",
       "    This function can be used both as a line and cell magic:\n",
       "    \n",
       "    - In line mode you can time a single-line statement (though multiple\n",
       "      ones can be chained with using semicolons).\n",
       "    \n",
       "    - In cell mode, you can time the cell body (a directly\n",
       "      following statement raises an error).\n",
       "    \n",
       "    This function provides very basic timing functionality.  Use the timeit\n",
       "    magic for more control over the measurement.\n",
       "    \n",
       "    .. versionchanged:: 7.3\n",
       "        User variables are no longer expanded,\n",
       "        the magic line is always left unmodified.\n",
       "    \n",
       "    Examples\n",
       "    --------\n",
       "    ::\n",
       "    \n",
       "      In [1]: %time 2**128\n",
       "      CPU times: user 0.00 s, sys: 0.00 s, total: 0.00 s\n",
       "      Wall time: 0.00\n",
       "      Out[1]: 340282366920938463463374607431768211456L\n",
       "    \n",
       "      In [2]: n = 1000000\n",
       "    \n",
       "      In [3]: %time sum(range(n))\n",
       "      CPU times: user 1.20 s, sys: 0.05 s, total: 1.25 s\n",
       "      Wall time: 1.37\n",
       "      Out[3]: 499999500000L\n",
       "    \n",
       "      In [4]: %time print 'hello world'\n",
       "      hello world\n",
       "      CPU times: user 0.00 s, sys: 0.00 s, total: 0.00 s\n",
       "      Wall time: 0.00\n",
       "    \n",
       "    \n",
       "    .. note::\n",
       "        The time needed by Python to compile the given expression will be\n",
       "        reported if it is more than 0.1s.\n",
       "    \n",
       "        In the example below, the actual exponentiation is done by Python\n",
       "        at compilation time, so while the expression can take a noticeable\n",
       "        amount of time to compute, that time is purely due to the\n",
       "        compilation::\n",
       "    \n",
       "            In [5]: %time 3**9999;\n",
       "            CPU times: user 0.00 s, sys: 0.00 s, total: 0.00 s\n",
       "            Wall time: 0.00 s\n",
       "    \n",
       "            In [6]: %time 3**999999;\n",
       "            CPU times: user 0.00 s, sys: 0.00 s, total: 0.00 s\n",
       "            Wall time: 0.00 s\n",
       "            Compiler : 0.78 s\n",
       "%%timeit:\n",
       "    Time execution of a Python statement or expression\n",
       "    \n",
       "    Usage, in line mode:\n",
       "      %timeit [-n<N> -r<R> [-t|-c] -q -p<P> -o] statement\n",
       "    or in cell mode:\n",
       "      %%timeit [-n<N> -r<R> [-t|-c] -q -p<P> -o] setup_code\n",
       "      code\n",
       "      code...\n",
       "    \n",
       "    Time execution of a Python statement or expression using the timeit\n",
       "    module.  This function can be used both as a line and cell magic:\n",
       "    \n",
       "    - In line mode you can time a single-line statement (though multiple\n",
       "      ones can be chained with using semicolons).\n",
       "    \n",
       "    - In cell mode, the statement in the first line is used as setup code\n",
       "      (executed but not timed) and the body of the cell is timed.  The cell\n",
       "      body has access to any variables created in the setup code.\n",
       "    \n",
       "    Options:\n",
       "    -n<N>: execute the given statement <N> times in a loop. If <N> is not\n",
       "    provided, <N> is determined so as to get sufficient accuracy.\n",
       "    \n",
       "    -r<R>: number of repeats <R>, each consisting of <N> loops, and take the\n",
       "    best result.\n",
       "    Default: 7\n",
       "    \n",
       "    -t: use time.time to measure the time, which is the default on Unix.\n",
       "    This function measures wall time.\n",
       "    \n",
       "    -c: use time.clock to measure the time, which is the default on\n",
       "    Windows and measures wall time. On Unix, resource.getrusage is used\n",
       "    instead and returns the CPU user time.\n",
       "    \n",
       "    -p<P>: use a precision of <P> digits to display the timing result.\n",
       "    Default: 3\n",
       "    \n",
       "    -q: Quiet, do not print result.\n",
       "    \n",
       "    -o: return a TimeitResult that can be stored in a variable to inspect\n",
       "        the result in more details.\n",
       "    \n",
       "    .. versionchanged:: 7.3\n",
       "        User variables are no longer expanded,\n",
       "        the magic line is always left unmodified.\n",
       "    \n",
       "    Examples\n",
       "    --------\n",
       "    ::\n",
       "    \n",
       "      In [1]: %timeit pass\n",
       "      8.26 ns ± 0.12 ns per loop (mean ± std. dev. of 7 runs, 100000000 loops each)\n",
       "    \n",
       "      In [2]: u = None\n",
       "    \n",
       "      In [3]: %timeit u is None\n",
       "      29.9 ns ± 0.643 ns per loop (mean ± std. dev. of 7 runs, 10000000 loops each)\n",
       "    \n",
       "      In [4]: %timeit -r 4 u == None\n",
       "    \n",
       "      In [5]: import time\n",
       "    \n",
       "      In [6]: %timeit -n1 time.sleep(2)\n",
       "    \n",
       "    \n",
       "    The times reported by %timeit will be slightly higher than those\n",
       "    reported by the timeit.py script when variables are accessed. This is\n",
       "    due to the fact that %timeit executes the statement in the namespace\n",
       "    of the shell, compared with timeit.py, which uses a single setup\n",
       "    statement to import function or create variables. Generally, the bias\n",
       "    does not matter as long as results from timeit.py are not mixed with\n",
       "    those from %timeit.\n",
       "%%writefile:\n",
       "    ::\n",
       "    \n",
       "      %writefile [-a] filename\n",
       "    \n",
       "    Write the contents of the cell to a file.\n",
       "    \n",
       "    The file will be overwritten unless the -a (--append) flag is specified.\n",
       "    \n",
       "    positional arguments:\n",
       "      filename      file to write\n",
       "    \n",
       "    optional arguments:\n",
       "      -a, --append  Append contents of the cell to an existing file. The file will be created if it does not exist.\n",
       "\n",
       "Summary of magic functions (from %lsmagic):\n",
       "Available line magics:\n",
       "%alias  %alias_magic  %autoawait  %autocall  %automagic  %autosave  %bookmark  %cat  %cd  %clear  %colors  %conda  %config  %connect_info  %cp  %debug  %dhist  %dirs  %doctest_mode  %ed  %edit  %env  %gui  %hist  %history  %killbgscripts  %ldir  %less  %lf  %lk  %ll  %load  %load_ext  %loadpy  %logoff  %logon  %logstart  %logstate  %logstop  %ls  %lsmagic  %lx  %macro  %magic  %man  %matplotlib  %mkdir  %more  %mv  %notebook  %page  %pastebin  %pdb  %pdef  %pdoc  %pfile  %pinfo  %pinfo2  %pip  %popd  %pprint  %precision  %prun  %psearch  %psource  %pushd  %pwd  %pycat  %pylab  %qtconsole  %quickref  %recall  %rehashx  %reload_ext  %rep  %rerun  %reset  %reset_selective  %rm  %rmdir  %run  %save  %sc  %set_env  %store  %sx  %system  %tb  %time  %timeit  %unalias  %unload_ext  %who  %who_ls  %whos  %xdel  %xmode\n",
       "\n",
       "Available cell magics:\n",
       "%%!  %%HTML  %%SVG  %%bash  %%capture  %%debug  %%file  %%html  %%javascript  %%js  %%latex  %%markdown  %%perl  %%prun  %%pypy  %%python  %%python2  %%python3  %%ruby  %%script  %%sh  %%svg  %%sx  %%system  %%time  %%timeit  %%writefile\n",
       "\n",
       "Automagic is ON, % prefix IS NOT needed for line magics."
      ]
     },
     "metadata": {},
     "output_type": "display_data"
    }
   ],
   "source": [
    "%magic"
   ]
  },
  {
   "cell_type": "code",
   "execution_count": 21,
   "metadata": {
    "colab": {
     "base_uri": "https://localhost:8080/",
     "height": 0
    },
    "id": "im8myIz49OkA",
    "outputId": "add7257c-1135-4212-fac0-924212f3841f"
   },
   "outputs": [
    {
     "data": {
      "application/json": {
       "cell": {
        "!": "OSMagics",
        "HTML": "Other",
        "SVG": "Other",
        "bash": "Other",
        "capture": "ExecutionMagics",
        "debug": "ExecutionMagics",
        "file": "Other",
        "html": "DisplayMagics",
        "javascript": "DisplayMagics",
        "js": "DisplayMagics",
        "latex": "DisplayMagics",
        "markdown": "DisplayMagics",
        "perl": "Other",
        "prun": "ExecutionMagics",
        "pypy": "Other",
        "python": "Other",
        "python2": "Other",
        "python3": "Other",
        "ruby": "Other",
        "script": "ScriptMagics",
        "sh": "Other",
        "svg": "DisplayMagics",
        "sx": "OSMagics",
        "system": "OSMagics",
        "time": "ExecutionMagics",
        "timeit": "ExecutionMagics",
        "writefile": "OSMagics"
       },
       "line": {
        "alias": "OSMagics",
        "alias_magic": "BasicMagics",
        "autoawait": "AsyncMagics",
        "autocall": "AutoMagics",
        "automagic": "AutoMagics",
        "autosave": "KernelMagics",
        "bookmark": "OSMagics",
        "cat": "Other",
        "cd": "OSMagics",
        "clear": "KernelMagics",
        "colors": "BasicMagics",
        "conda": "PackagingMagics",
        "config": "ConfigMagics",
        "connect_info": "KernelMagics",
        "cp": "Other",
        "debug": "ExecutionMagics",
        "dhist": "OSMagics",
        "dirs": "OSMagics",
        "doctest_mode": "BasicMagics",
        "ed": "Other",
        "edit": "KernelMagics",
        "env": "OSMagics",
        "gui": "BasicMagics",
        "hist": "Other",
        "history": "HistoryMagics",
        "killbgscripts": "ScriptMagics",
        "ldir": "Other",
        "less": "KernelMagics",
        "lf": "Other",
        "lk": "Other",
        "ll": "Other",
        "load": "CodeMagics",
        "load_ext": "ExtensionMagics",
        "loadpy": "CodeMagics",
        "logoff": "LoggingMagics",
        "logon": "LoggingMagics",
        "logstart": "LoggingMagics",
        "logstate": "LoggingMagics",
        "logstop": "LoggingMagics",
        "ls": "Other",
        "lsmagic": "BasicMagics",
        "lx": "Other",
        "macro": "ExecutionMagics",
        "magic": "BasicMagics",
        "man": "KernelMagics",
        "matplotlib": "PylabMagics",
        "mkdir": "Other",
        "more": "KernelMagics",
        "mv": "Other",
        "notebook": "BasicMagics",
        "page": "BasicMagics",
        "pastebin": "CodeMagics",
        "pdb": "ExecutionMagics",
        "pdef": "NamespaceMagics",
        "pdoc": "NamespaceMagics",
        "pfile": "NamespaceMagics",
        "pinfo": "NamespaceMagics",
        "pinfo2": "NamespaceMagics",
        "pip": "PackagingMagics",
        "popd": "OSMagics",
        "pprint": "BasicMagics",
        "precision": "BasicMagics",
        "prun": "ExecutionMagics",
        "psearch": "NamespaceMagics",
        "psource": "NamespaceMagics",
        "pushd": "OSMagics",
        "pwd": "OSMagics",
        "pycat": "OSMagics",
        "pylab": "PylabMagics",
        "qtconsole": "KernelMagics",
        "quickref": "BasicMagics",
        "recall": "HistoryMagics",
        "rehashx": "OSMagics",
        "reload_ext": "ExtensionMagics",
        "rep": "Other",
        "rerun": "HistoryMagics",
        "reset": "NamespaceMagics",
        "reset_selective": "NamespaceMagics",
        "rm": "Other",
        "rmdir": "Other",
        "run": "ExecutionMagics",
        "save": "CodeMagics",
        "sc": "OSMagics",
        "set_env": "OSMagics",
        "store": "StoreMagics",
        "sx": "OSMagics",
        "system": "OSMagics",
        "tb": "ExecutionMagics",
        "time": "ExecutionMagics",
        "timeit": "ExecutionMagics",
        "unalias": "OSMagics",
        "unload_ext": "ExtensionMagics",
        "who": "NamespaceMagics",
        "who_ls": "NamespaceMagics",
        "whos": "NamespaceMagics",
        "xdel": "NamespaceMagics",
        "xmode": "BasicMagics"
       }
      },
      "text/plain": [
       "Available line magics:\n",
       "%alias  %alias_magic  %autoawait  %autocall  %automagic  %autosave  %bookmark  %cat  %cd  %clear  %colors  %conda  %config  %connect_info  %cp  %debug  %dhist  %dirs  %doctest_mode  %ed  %edit  %env  %gui  %hist  %history  %killbgscripts  %ldir  %less  %lf  %lk  %ll  %load  %load_ext  %loadpy  %logoff  %logon  %logstart  %logstate  %logstop  %ls  %lsmagic  %lx  %macro  %magic  %man  %matplotlib  %mkdir  %more  %mv  %notebook  %page  %pastebin  %pdb  %pdef  %pdoc  %pfile  %pinfo  %pinfo2  %pip  %popd  %pprint  %precision  %prun  %psearch  %psource  %pushd  %pwd  %pycat  %pylab  %qtconsole  %quickref  %recall  %rehashx  %reload_ext  %rep  %rerun  %reset  %reset_selective  %rm  %rmdir  %run  %save  %sc  %set_env  %store  %sx  %system  %tb  %time  %timeit  %unalias  %unload_ext  %who  %who_ls  %whos  %xdel  %xmode\n",
       "\n",
       "Available cell magics:\n",
       "%%!  %%HTML  %%SVG  %%bash  %%capture  %%debug  %%file  %%html  %%javascript  %%js  %%latex  %%markdown  %%perl  %%prun  %%pypy  %%python  %%python2  %%python3  %%ruby  %%script  %%sh  %%svg  %%sx  %%system  %%time  %%timeit  %%writefile\n",
       "\n",
       "Automagic is ON, % prefix IS NOT needed for line magics."
      ]
     },
     "execution_count": 21,
     "metadata": {},
     "output_type": "execute_result"
    }
   ],
   "source": [
    "%lsmagic"
   ]
  },
  {
   "cell_type": "code",
   "execution_count": 22,
   "metadata": {
    "id": "kISP4wWe-R5q"
   },
   "outputs": [
    {
     "data": {
      "text/plain": [
       "\u001b[0;31mDocstring:\u001b[0m\n",
       "::\n",
       "\n",
       "  %writefile [-a] filename\n",
       "\n",
       "Write the contents of the cell to a file.\n",
       "\n",
       "The file will be overwritten unless the -a (--append) flag is specified.\n",
       "\n",
       "positional arguments:\n",
       "  filename      file to write\n",
       "\n",
       "optional arguments:\n",
       "  -a, --append  Append contents of the cell to an existing file. The file will be created if it does not exist.\n",
       "\u001b[0;31mFile:\u001b[0m      /opt/homebrew/Caskroom/miniforge/base/envs/env3.8/lib/python3.8/site-packages/IPython/core/magics/osm.py\n"
      ]
     },
     "metadata": {},
     "output_type": "display_data"
    }
   ],
   "source": [
    "%%writefile?"
   ]
  },
  {
   "cell_type": "code",
   "execution_count": 23,
   "metadata": {
    "colab": {
     "base_uri": "https://localhost:8080/"
    },
    "id": "k3v-HUml-xC5",
    "outputId": "79c63abe-574c-427c-c971-8e0f35529712"
   },
   "outputs": [
    {
     "name": "stdout",
     "output_type": "stream",
     "text": [
      "Writing script.py\n"
     ]
    }
   ],
   "source": [
    "%%writefile script.py\n",
    "\n",
    "def hello_printer():\n",
    "    print('one more hello world')\n",
    "\n",
    "\n",
    "hello_printer()"
   ]
  },
  {
   "cell_type": "markdown",
   "metadata": {
    "id": "MEpc8QQFABmH"
   },
   "source": [
    "You can run external code with the %run magic:"
   ]
  },
  {
   "cell_type": "markdown",
   "metadata": {
    "id": "SXcJoFmu9UPE"
   },
   "source": [
    "Automagic is ON, % prefix IS NOT needed for line magics!"
   ]
  },
  {
   "cell_type": "code",
   "execution_count": 24,
   "metadata": {
    "colab": {
     "base_uri": "https://localhost:8080/"
    },
    "id": "kAxnDPKu-DKM",
    "outputId": "79e35522-1101-4875-f324-aec83759bc8a"
   },
   "outputs": [
    {
     "name": "stdout",
     "output_type": "stream",
     "text": [
      "one more hello world\n"
     ]
    }
   ],
   "source": [
    "run script.py"
   ]
  },
  {
   "cell_type": "code",
   "execution_count": 25,
   "metadata": {
    "colab": {
     "base_uri": "https://localhost:8080/"
    },
    "id": "hZTmoJRz_2Gf",
    "outputId": "193d4741-8435-4208-e4b0-9dcd194d2fb4"
   },
   "outputs": [
    {
     "name": "stdout",
     "output_type": "stream",
     "text": [
      "one more hello world\n"
     ]
    }
   ],
   "source": [
    "hello_printer()"
   ]
  },
  {
   "cell_type": "code",
   "execution_count": 26,
   "metadata": {
    "colab": {
     "base_uri": "https://localhost:8080/"
    },
    "id": "6tNwHmLhAxvs",
    "outputId": "5f9c037e-5abd-4c80-e91f-e7445ea4b297"
   },
   "outputs": [
    {
     "name": "stdout",
     "output_type": "stream",
     "text": [
      "2.78 s ± 123 ms per loop (mean ± std. dev. of 7 runs, 1 loop each)\n"
     ]
    }
   ],
   "source": [
    "%timeit lst = [n ** 2 for n in range(10_000_000)]"
   ]
  },
  {
   "cell_type": "code",
   "execution_count": 27,
   "metadata": {
    "colab": {
     "base_uri": "https://localhost:8080/"
    },
    "id": "L5G-hMQYBurI",
    "outputId": "61ee6a2a-abcf-403c-c36d-a56a1c40d5bd"
   },
   "outputs": [
    {
     "name": "stdout",
     "output_type": "stream",
     "text": [
      "2.99 s ± 94.7 ms per loop (mean ± std. dev. of 7 runs, 1 loop each)\n"
     ]
    }
   ],
   "source": [
    "%%timeit\n",
    "\n",
    "lst = list()\n",
    "for n in range(10_000_000):\n",
    "    lst.append(n ** 2)"
   ]
  },
  {
   "cell_type": "code",
   "execution_count": 28,
   "metadata": {
    "colab": {
     "base_uri": "https://localhost:8080/"
    },
    "id": "98Jdcn4n3No3",
    "outputId": "e4ddf1b9-2aa1-4520-e101-bd836201574c"
   },
   "outputs": [
    {
     "name": "stdout",
     "output_type": "stream",
     "text": [
      "   1: help(vars)\n",
      "   2: 'In' in vars() and \"Out\" in vars()\n",
      "   3: type(In)\n",
      "   4: type(Out)\n"
     ]
    }
   ],
   "source": [
    "history -n 1-4"
   ]
  },
  {
   "cell_type": "code",
   "execution_count": null,
   "metadata": {},
   "outputs": [],
   "source": [
    "%timeit lst = [n ** 2 for n in range(1000_000)];"
   ]
  },
  {
   "cell_type": "code",
   "execution_count": null,
   "metadata": {},
   "outputs": [],
   "source": [
    "%timeit lst = [0 for x in range(int(1e6))]"
   ]
  },
  {
   "cell_type": "code",
   "execution_count": null,
   "metadata": {},
   "outputs": [],
   "source": [
    "%timeit?"
   ]
  },
  {
   "cell_type": "markdown",
   "metadata": {
    "id": "sSQatgNXC8Pg"
   },
   "source": [
    "## Shell Commands"
   ]
  },
  {
   "cell_type": "markdown",
   "metadata": {
    "id": "C40VnNJuHIse"
   },
   "source": [
    "The list of useful commands [here](https://lym.readthedocs.io/en/latest/startingcommands.html)"
   ]
  },
  {
   "cell_type": "code",
   "execution_count": 29,
   "metadata": {
    "colab": {
     "base_uri": "https://localhost:8080/"
    },
    "id": "eHx3WxyUHmam",
    "outputId": "4bc15567-a64e-412b-c7fa-5d9bd75f9ad9"
   },
   "outputs": [
    {
     "name": "stdout",
     "output_type": "stream",
     "text": [
      "/Users/isklonin/Projects/01-teaching/ai_masters/2023/lectures/lecture11\n"
     ]
    }
   ],
   "source": [
    "!pwd                 # print working directory"
   ]
  },
  {
   "cell_type": "code",
   "execution_count": 30,
   "metadata": {
    "colab": {
     "base_uri": "https://localhost:8080/"
    },
    "id": "WxozNgORHwXR",
    "outputId": "dd9a69e5-57bd-446d-d48d-e4a57d566bb4"
   },
   "outputs": [
    {
     "name": "stdout",
     "output_type": "stream",
     "text": [
      "aggregations.png lecture11.ipynb  script.py\n"
     ]
    }
   ],
   "source": [
    "!ls                  # list working directory contents"
   ]
  },
  {
   "cell_type": "code",
   "execution_count": 31,
   "metadata": {
    "colab": {
     "base_uri": "https://localhost:8080/"
    },
    "id": "VHXWTzuLH4yo",
    "outputId": "43b3ba71-6071-4651-985a-b382d8821315"
   },
   "outputs": [
    {
     "name": "stdout",
     "output_type": "stream",
     "text": [
      "hello world\n"
     ]
    }
   ],
   "source": [
    "!echo \"hello world\"  # like python's print"
   ]
  },
  {
   "cell_type": "code",
   "execution_count": 32,
   "metadata": {
    "id": "GEbjYnTf8SYP"
   },
   "outputs": [],
   "source": [
    "lst = !ls"
   ]
  },
  {
   "cell_type": "code",
   "execution_count": 33,
   "metadata": {
    "colab": {
     "base_uri": "https://localhost:8080/"
    },
    "id": "pHZtPnYy8UAF",
    "outputId": "e4d4bec8-ae40-4e0e-8ee4-e66deae66424"
   },
   "outputs": [
    {
     "data": {
      "text/plain": [
       "['aggregations.png', 'lecture11.ipynb', 'script.py']"
      ]
     },
     "execution_count": 33,
     "metadata": {},
     "output_type": "execute_result"
    }
   ],
   "source": [
    "lst"
   ]
  },
  {
   "cell_type": "markdown",
   "metadata": {
    "id": "qJIBdDJBPR04"
   },
   "source": [
    "# Numpy"
   ]
  },
  {
   "cell_type": "code",
   "execution_count": 34,
   "metadata": {
    "id": "EHf8zQ2LPN8A"
   },
   "outputs": [],
   "source": [
    "import numpy as np"
   ]
  },
  {
   "cell_type": "markdown",
   "metadata": {
    "id": "tsxpiP8pPN8A"
   },
   "source": [
    "## N-dimensional Array"
   ]
  },
  {
   "cell_type": "markdown",
   "metadata": {
    "id": "lizaD2KCQuRV"
   },
   "source": [
    "The ``ndarray`` is very useful object of the numpy package.\n",
    "It adds efficient *operations* for working on data."
   ]
  },
  {
   "cell_type": "code",
   "execution_count": 35,
   "metadata": {},
   "outputs": [],
   "source": [
    "import numpy as np"
   ]
  },
  {
   "cell_type": "code",
   "execution_count": 36,
   "metadata": {
    "id": "esl9FWm0PN8A"
   },
   "outputs": [
    {
     "data": {
      "text/plain": [
       "array([1, 2, 3, 4, 5])"
      ]
     },
     "execution_count": 36,
     "metadata": {},
     "output_type": "execute_result"
    }
   ],
   "source": [
    "np.array([1, 2, 3, 4, 5])"
   ]
  },
  {
   "cell_type": "code",
   "execution_count": 37,
   "metadata": {
    "id": "8fMeI9nvPN8A"
   },
   "outputs": [
    {
     "data": {
      "text/plain": [
       "array([3.141592, 4.      , 2.      , 3.      ])"
      ]
     },
     "execution_count": 37,
     "metadata": {},
     "output_type": "execute_result"
    }
   ],
   "source": [
    "np.array([3.141592, 4, 2, 3])"
   ]
  },
  {
   "cell_type": "code",
   "execution_count": 38,
   "metadata": {
    "colab": {
     "base_uri": "https://localhost:8080/"
    },
    "id": "rmQv3MPoPN8A",
    "outputId": "0b0aa2dc-f3d7-498d-f017-ef547f11435a"
   },
   "outputs": [
    {
     "data": {
      "text/plain": [
       "array([1., 2., 3., 4., 5.], dtype=float32)"
      ]
     },
     "execution_count": 38,
     "metadata": {},
     "output_type": "execute_result"
    }
   ],
   "source": [
    "arr = np.array([1, 2, 3, 4, 5], dtype='float32')\n",
    "arr"
   ]
  },
  {
   "cell_type": "code",
   "execution_count": 39,
   "metadata": {
    "colab": {
     "base_uri": "https://localhost:8080/"
    },
    "id": "Z4HCR3C7PN8B",
    "outputId": "71d2dff2-68ad-4a67-b4c6-50bb0ff4e0cb"
   },
   "outputs": [
    {
     "data": {
      "text/plain": [
       "array([[0, 1, 2, 3, 4],\n",
       "       [0, 1, 2, 3, 4],\n",
       "       [0, 1, 2, 3, 4],\n",
       "       [0, 1, 2, 3, 4],\n",
       "       [0, 1, 2, 3, 4]])"
      ]
     },
     "execution_count": 39,
     "metadata": {},
     "output_type": "execute_result"
    }
   ],
   "source": [
    "np.array([range(5) for _ in range(5)])  # nested lists result in multi-dimensional arrays"
   ]
  },
  {
   "cell_type": "markdown",
   "metadata": {
    "id": "nuYidzJGPN8B"
   },
   "source": [
    "### Creating Arrays\n"
   ]
  },
  {
   "cell_type": "code",
   "execution_count": 40,
   "metadata": {
    "colab": {
     "base_uri": "https://localhost:8080/"
    },
    "id": "aKnrzvqtPN8B",
    "outputId": "b5468b14-23c9-4939-c729-53fbd6084aed"
   },
   "outputs": [
    {
     "data": {
      "text/plain": [
       "array([0, 0, 0, 0, 0, 0, 0, 0, 0, 0])"
      ]
     },
     "execution_count": 40,
     "metadata": {},
     "output_type": "execute_result"
    }
   ],
   "source": [
    "np.zeros(10, dtype=int)"
   ]
  },
  {
   "cell_type": "code",
   "execution_count": 41,
   "metadata": {
    "colab": {
     "base_uri": "https://localhost:8080/"
    },
    "id": "vkLyMoSgPN8B",
    "outputId": "38323d89-74bc-4248-bc38-8a1bc0da3e99"
   },
   "outputs": [
    {
     "data": {
      "text/plain": [
       "array([[1., 1., 1., 1., 1.],\n",
       "       [1., 1., 1., 1., 1.],\n",
       "       [1., 1., 1., 1., 1.]])"
      ]
     },
     "execution_count": 41,
     "metadata": {},
     "output_type": "execute_result"
    }
   ],
   "source": [
    "np.ones((3, 5), dtype=float)"
   ]
  },
  {
   "cell_type": "code",
   "execution_count": 42,
   "metadata": {
    "colab": {
     "base_uri": "https://localhost:8080/"
    },
    "id": "KNUdphcCPN8B",
    "outputId": "59b7e953-4037-4673-fdcb-f4425c349b8a"
   },
   "outputs": [
    {
     "data": {
      "text/plain": [
       "array([[3.141592, 3.141592, 3.141592, 3.141592, 3.141592],\n",
       "       [3.141592, 3.141592, 3.141592, 3.141592, 3.141592],\n",
       "       [3.141592, 3.141592, 3.141592, 3.141592, 3.141592]])"
      ]
     },
     "execution_count": 42,
     "metadata": {},
     "output_type": "execute_result"
    }
   ],
   "source": [
    "np.full((3, 5), 3.141592)"
   ]
  },
  {
   "cell_type": "code",
   "execution_count": 43,
   "metadata": {
    "colab": {
     "base_uri": "https://localhost:8080/"
    },
    "id": "-45Mp0_-PN8B",
    "outputId": "2c016752-7b7a-4089-d1d7-8357704131d2"
   },
   "outputs": [
    {
     "data": {
      "text/plain": [
       "array([ 0,  2,  4,  6,  8, 10, 12, 14, 16, 18])"
      ]
     },
     "execution_count": 43,
     "metadata": {},
     "output_type": "execute_result"
    }
   ],
   "source": [
    "np.arange(0, 20, 2)  # like python range()"
   ]
  },
  {
   "cell_type": "code",
   "execution_count": 44,
   "metadata": {
    "colab": {
     "base_uri": "https://localhost:8080/"
    },
    "id": "QJ-PyvYqPN8B",
    "outputId": "7897400c-17a7-476b-c6bb-97fd3ebf1a79"
   },
   "outputs": [
    {
     "data": {
      "text/plain": [
       "array([-1. , -0.5,  0. ,  0.5,  1. ])"
      ]
     },
     "execution_count": 44,
     "metadata": {},
     "output_type": "execute_result"
    }
   ],
   "source": [
    "np.linspace(-1, 1, 5)"
   ]
  },
  {
   "cell_type": "code",
   "execution_count": 45,
   "metadata": {
    "colab": {
     "base_uri": "https://localhost:8080/"
    },
    "id": "R439h1JyPN8C",
    "outputId": "489a976a-0286-4687-9598-3136e42c09af"
   },
   "outputs": [
    {
     "data": {
      "text/plain": [
       "array([[0.23067893, 0.82627746, 0.74713926],\n",
       "       [0.14961831, 0.80800365, 0.22986489],\n",
       "       [0.75144638, 0.18097008, 0.59887608]])"
      ]
     },
     "execution_count": 45,
     "metadata": {},
     "output_type": "execute_result"
    }
   ],
   "source": [
    "np.random.random((3, 3))"
   ]
  },
  {
   "cell_type": "code",
   "execution_count": 46,
   "metadata": {
    "colab": {
     "base_uri": "https://localhost:8080/"
    },
    "id": "x5A6v_xMPN8C",
    "outputId": "9ab319f8-3560-481d-d8d6-3afb9bac8f89"
   },
   "outputs": [
    {
     "data": {
      "text/plain": [
       "array([[-0.07015707,  0.15641448,  0.68589298],\n",
       "       [-0.34320362, -0.63905591, -0.11077546],\n",
       "       [ 1.30032306, -1.49272682,  0.99823761]])"
      ]
     },
     "execution_count": 46,
     "metadata": {},
     "output_type": "execute_result"
    }
   ],
   "source": [
    "np.random.normal(0, 1, (3, 3))"
   ]
  },
  {
   "cell_type": "code",
   "execution_count": 47,
   "metadata": {
    "colab": {
     "base_uri": "https://localhost:8080/"
    },
    "id": "2TZUWfGUPN8C",
    "outputId": "dbdb8513-70c0-46ad-a808-06dfe14c0abd"
   },
   "outputs": [
    {
     "data": {
      "text/plain": [
       "array([[3, 2, 9],\n",
       "       [0, 5, 1],\n",
       "       [6, 5, 8]])"
      ]
     },
     "execution_count": 47,
     "metadata": {},
     "output_type": "execute_result"
    }
   ],
   "source": [
    "np.random.randint(0, 10, (3, 3))"
   ]
  },
  {
   "cell_type": "code",
   "execution_count": 48,
   "metadata": {
    "colab": {
     "base_uri": "https://localhost:8080/"
    },
    "id": "eJ86Ifg8PN8C",
    "outputId": "6f674c0b-1dd2-4099-e094-fe13069c2a39"
   },
   "outputs": [
    {
     "data": {
      "text/plain": [
       "array([[1., 0., 0.],\n",
       "       [0., 1., 0.],\n",
       "       [0., 0., 1.]])"
      ]
     },
     "execution_count": 48,
     "metadata": {},
     "output_type": "execute_result"
    }
   ],
   "source": [
    "np.eye(3)"
   ]
  },
  {
   "cell_type": "code",
   "execution_count": 49,
   "metadata": {},
   "outputs": [
    {
     "data": {
      "text/plain": [
       "array([[1., 0., 0., 0.],\n",
       "       [0., 1., 0., 0.],\n",
       "       [0., 0., 1., 0.]])"
      ]
     },
     "execution_count": 49,
     "metadata": {},
     "output_type": "execute_result"
    }
   ],
   "source": [
    "np.eye(3, 4)"
   ]
  },
  {
   "cell_type": "code",
   "execution_count": null,
   "metadata": {
    "id": "tPENN-KeENDb"
   },
   "outputs": [],
   "source": [
    "np.empty?"
   ]
  },
  {
   "cell_type": "code",
   "execution_count": 50,
   "metadata": {
    "colab": {
     "base_uri": "https://localhost:8080/"
    },
    "id": "VIDz0XQoPN8C",
    "outputId": "40cf98f5-5aed-46d2-a56f-6eb16722d9cb"
   },
   "outputs": [
    {
     "data": {
      "text/plain": [
       "array([0., 0., 0., 0., 0., 0., 0.])"
      ]
     },
     "execution_count": 50,
     "metadata": {},
     "output_type": "execute_result"
    }
   ],
   "source": [
    "np.empty(7)"
   ]
  },
  {
   "cell_type": "markdown",
   "metadata": {
    "id": "LdyfQBnKPN8C"
   },
   "source": [
    "### Numpy Data Types\n"
   ]
  },
  {
   "cell_type": "markdown",
   "metadata": {
    "id": "lPXjbWZ1PN8C"
   },
   "source": [
    "| Data type\t    | Description |\n",
    "|---------------|-------------|\n",
    "| ``bool_``     | Boolean (True or False) stored as a byte |\n",
    "| ``int_``      | Default integer type (same as C ``long``; normally either ``int64`` or ``int32``)| \n",
    "| ``intc``      | Identical to C ``int`` (normally ``int32`` or ``int64``)| \n",
    "| ``intp``      | Integer used for indexing (same as C ``ssize_t``; normally either ``int32`` or ``int64``)| \n",
    "| ``int8``      | Byte (-128 to 127)| \n",
    "| ``int16``     | Integer (-32768 to 32767)|\n",
    "| ``int32``     | Integer (-2147483648 to 2147483647)|\n",
    "| ``int64``     | Integer (-9223372036854775808 to 9223372036854775807)| \n",
    "| ``uint8``     | Unsigned integer (0 to 255)| \n",
    "| ``uint16``    | Unsigned integer (0 to 65535)| \n",
    "| ``uint32``    | Unsigned integer (0 to 4294967295)| \n",
    "| ``uint64``    | Unsigned integer (0 to 18446744073709551615)| \n",
    "| ``float_``    | Shorthand for ``float64``.| \n",
    "| ``float16``   | Half precision float: sign bit, 5 bits exponent, 10 bits mantissa| \n",
    "| ``float32``   | Single precision float: sign bit, 8 bits exponent, 23 bits mantissa| \n",
    "| ``float64``   | Double precision float: sign bit, 11 bits exponent, 52 bits mantissa| \n",
    "| ``complex_``  | Shorthand for ``complex128``.| \n",
    "| ``complex64`` | Complex number, represented by two 32-bit floats| \n",
    "| ``complex128``| Complex number, represented by two 64-bit floats| "
   ]
  },
  {
   "cell_type": "code",
   "execution_count": 51,
   "metadata": {
    "colab": {
     "base_uri": "https://localhost:8080/"
    },
    "id": "MPU6A7H4WjQc",
    "outputId": "fc9504a3-70d8-4c57-aeb0-1580c6eb1fcf"
   },
   "outputs": [
    {
     "data": {
      "text/plain": [
       "array([0, 0, 0, 0], dtype=int32)"
      ]
     },
     "execution_count": 51,
     "metadata": {},
     "output_type": "execute_result"
    }
   ],
   "source": [
    "np.zeros(4, dtype='int32')"
   ]
  },
  {
   "cell_type": "code",
   "execution_count": 52,
   "metadata": {
    "colab": {
     "base_uri": "https://localhost:8080/"
    },
    "id": "qval___XWrK_",
    "outputId": "fb24fd54-851d-44b5-be16-dbc56e80a613"
   },
   "outputs": [
    {
     "data": {
      "text/plain": [
       "array([0, 0, 0, 0], dtype=int32)"
      ]
     },
     "execution_count": 52,
     "metadata": {},
     "output_type": "execute_result"
    }
   ],
   "source": [
    "np.zeros(4, dtype=np.int32)"
   ]
  },
  {
   "cell_type": "markdown",
   "metadata": {
    "id": "p4QRvrqaPN8C"
   },
   "source": [
    "For more information [NumPy data types](https://numpy.org/doc/stable/user/basics.types.html#).\n"
   ]
  },
  {
   "cell_type": "markdown",
   "metadata": {
    "id": "5su4B06JXuqA"
   },
   "source": [
    "### Attributes"
   ]
  },
  {
   "cell_type": "code",
   "execution_count": 53,
   "metadata": {
    "id": "Sm1eZowwYAFE"
   },
   "outputs": [],
   "source": [
    "def attr_printer(obj):\n",
    "    print(*[name for name in dir(obj) if not (name.startswith('_') or callable(getattr(obj, name)))], sep='\\n')"
   ]
  },
  {
   "cell_type": "code",
   "execution_count": 54,
   "metadata": {
    "colab": {
     "base_uri": "https://localhost:8080/"
    },
    "id": "TAaqy0OKFPWS",
    "outputId": "3e8a0a7d-11ef-481d-a8aa-012a1c757d40"
   },
   "outputs": [
    {
     "data": {
      "text/plain": [
       "numpy.ndarray"
      ]
     },
     "execution_count": 54,
     "metadata": {},
     "output_type": "execute_result"
    }
   ],
   "source": [
    "type(arr)"
   ]
  },
  {
   "cell_type": "code",
   "execution_count": 55,
   "metadata": {
    "colab": {
     "base_uri": "https://localhost:8080/"
    },
    "id": "YFoiu8LQXy4M",
    "outputId": "083a23e2-dd60-4dcf-96fe-07b690f1d49c"
   },
   "outputs": [
    {
     "name": "stdout",
     "output_type": "stream",
     "text": [
      "T\n",
      "base\n",
      "ctypes\n",
      "data\n",
      "dtype\n",
      "flags\n",
      "flat\n",
      "imag\n",
      "itemsize\n",
      "nbytes\n",
      "ndim\n",
      "real\n",
      "shape\n",
      "size\n",
      "strides\n"
     ]
    }
   ],
   "source": [
    "attr_printer(arr)"
   ]
  },
  {
   "cell_type": "code",
   "execution_count": 60,
   "metadata": {
    "id": "ayVAkzxFX1fk"
   },
   "outputs": [
    {
     "name": "stdout",
     "output_type": "stream",
     "text": [
      "[6 3 7 4 6 9]\n",
      "`[[2 6 7 4]\n",
      " [3 7 7 2]\n",
      " [5 4 1 7]]\n",
      "`[[[5 1 4 0 9]\n",
      "  [5 8 0 9 2]\n",
      "  [6 3 8 2 4]\n",
      "  [2 6 4 8 6]]\n",
      "\n",
      " [[1 3 8 1 9]\n",
      "  [8 9 4 1 3]\n",
      "  [6 7 2 0 3]\n",
      "  [1 7 3 1 5]]\n",
      "\n",
      " [[5 9 3 5 1]\n",
      "  [9 1 9 3 7]\n",
      "  [6 8 7 4 1]\n",
      "  [4 7 9 8 8]]]\n"
     ]
    }
   ],
   "source": [
    "np.random.seed(42)                            # seed for reproducibility\n",
    "\n",
    "arr1 = np.random.randint(10, size=6)          # 1-d array\n",
    "arr2 = np.random.randint(10, size=(3, 4))     # 2-d array\n",
    "arr3 = np.random.randint(10, size=(3, 4, 5))  # 3-d array\n",
    "print(arr1, arr2, arr3, sep='\\n`')"
   ]
  },
  {
   "cell_type": "code",
   "execution_count": 61,
   "metadata": {
    "colab": {
     "base_uri": "https://localhost:8080/"
    },
    "id": "G3WD2V6TpFxv",
    "outputId": "20c05d0b-1d00-41be-ff86-cb8bee52a1f5"
   },
   "outputs": [
    {
     "data": {
      "text/plain": [
       "3"
      ]
     },
     "execution_count": 61,
     "metadata": {},
     "output_type": "execute_result"
    }
   ],
   "source": [
    "arr3.ndim"
   ]
  },
  {
   "cell_type": "code",
   "execution_count": 62,
   "metadata": {
    "colab": {
     "base_uri": "https://localhost:8080/"
    },
    "id": "nkZVqaYVpqxt",
    "outputId": "74b93895-7f8d-4f10-be97-476889cbc9b4"
   },
   "outputs": [
    {
     "data": {
      "text/plain": [
       "(3, 4, 5)"
      ]
     },
     "execution_count": 62,
     "metadata": {},
     "output_type": "execute_result"
    }
   ],
   "source": [
    "arr3.shape"
   ]
  },
  {
   "cell_type": "code",
   "execution_count": 63,
   "metadata": {
    "colab": {
     "base_uri": "https://localhost:8080/"
    },
    "id": "jtBC1mZmXnmJ",
    "outputId": "4854516c-6e35-4a19-effd-4abe7543625d"
   },
   "outputs": [
    {
     "data": {
      "text/plain": [
       "60"
      ]
     },
     "execution_count": 63,
     "metadata": {},
     "output_type": "execute_result"
    }
   ],
   "source": [
    "arr3.size"
   ]
  },
  {
   "cell_type": "code",
   "execution_count": 64,
   "metadata": {},
   "outputs": [
    {
     "name": "stdout",
     "output_type": "stream",
     "text": [
      "[0 8 6 8 7 0]\n",
      "[[7 7 2 0]\n",
      " [7 2 2 0]\n",
      " [4 9 6 9]]\n",
      "[[[8 6 8 7 1]\n",
      "  [0 6 6 7 4]\n",
      "  [2 7 5 2 0]\n",
      "  [2 4 2 0 4]]\n",
      "\n",
      " [[9 6 6 8 9]\n",
      "  [9 2 6 0 3]\n",
      "  [3 4 6 6 3]\n",
      "  [6 2 5 1 9]]\n",
      "\n",
      " [[8 4 5 3 9]\n",
      "  [6 8 6 0 0]\n",
      "  [8 8 3 8 2]\n",
      "  [6 5 7 8 4]]]\n"
     ]
    }
   ],
   "source": [
    "print(np.random.randint(10, size=6))          # 1-d array\n",
    "print(np.random.randint(10, size=(3, 4)))     # 2-d array\n",
    "print(np.random.randint(10, size=(3, 4, 5)))  # 3-d array"
   ]
  },
  {
   "cell_type": "code",
   "execution_count": 65,
   "metadata": {},
   "outputs": [
    {
     "name": "stdout",
     "output_type": "stream",
     "text": [
      "[6 3 7 4 6 9]\n",
      "[[2 6 7 4]\n",
      " [3 7 7 2]\n",
      " [5 4 1 7]]\n",
      "[[[5 1 4 0 9]\n",
      "  [5 8 0 9 2]\n",
      "  [6 3 8 2 4]\n",
      "  [2 6 4 8 6]]\n",
      "\n",
      " [[1 3 8 1 9]\n",
      "  [8 9 4 1 3]\n",
      "  [6 7 2 0 3]\n",
      "  [1 7 3 1 5]]\n",
      "\n",
      " [[5 9 3 5 1]\n",
      "  [9 1 9 3 7]\n",
      "  [6 8 7 4 1]\n",
      "  [4 7 9 8 8]]]\n"
     ]
    }
   ],
   "source": [
    "np.random.seed(42)\n",
    "\n",
    "print(np.random.randint(10, size=6))          # 1-d array\n",
    "print(np.random.randint(10, size=(3, 4)))     # 2-d array\n",
    "print(np.random.randint(10, size=(3, 4, 5)))  # 3-d array"
   ]
  },
  {
   "cell_type": "markdown",
   "metadata": {
    "id": "Z6F0fLekXnmK"
   },
   "source": [
    "### Accessing Single Elements"
   ]
  },
  {
   "cell_type": "code",
   "execution_count": 66,
   "metadata": {
    "colab": {
     "base_uri": "https://localhost:8080/"
    },
    "id": "zUph--XVXnmK",
    "outputId": "5a28463f-b17f-4d8c-f38c-8c1b086362ea"
   },
   "outputs": [
    {
     "data": {
      "text/plain": [
       "array([6, 3, 7, 4, 6, 9])"
      ]
     },
     "execution_count": 66,
     "metadata": {},
     "output_type": "execute_result"
    }
   ],
   "source": [
    "arr1"
   ]
  },
  {
   "cell_type": "code",
   "execution_count": 67,
   "metadata": {
    "colab": {
     "base_uri": "https://localhost:8080/"
    },
    "id": "Bj27DcA3XnmL",
    "outputId": "64d1d454-6cab-4a06-b53f-527fc48eaf91"
   },
   "outputs": [
    {
     "data": {
      "text/plain": [
       "6"
      ]
     },
     "execution_count": 67,
     "metadata": {},
     "output_type": "execute_result"
    }
   ],
   "source": [
    "arr1[0]"
   ]
  },
  {
   "cell_type": "code",
   "execution_count": 68,
   "metadata": {
    "colab": {
     "base_uri": "https://localhost:8080/"
    },
    "id": "2yq56PLcXnmL",
    "outputId": "7133a651-2139-4a5c-f731-e30a8ef20abf"
   },
   "outputs": [
    {
     "data": {
      "text/plain": [
       "6"
      ]
     },
     "execution_count": 68,
     "metadata": {},
     "output_type": "execute_result"
    }
   ],
   "source": [
    "arr1[4]"
   ]
  },
  {
   "cell_type": "code",
   "execution_count": 69,
   "metadata": {
    "colab": {
     "base_uri": "https://localhost:8080/"
    },
    "id": "uOyo--4cXnmL",
    "outputId": "dba41d4f-8bff-4977-f07b-712f925a416e"
   },
   "outputs": [
    {
     "data": {
      "text/plain": [
       "9"
      ]
     },
     "execution_count": 69,
     "metadata": {},
     "output_type": "execute_result"
    }
   ],
   "source": [
    "arr1[-1]"
   ]
  },
  {
   "cell_type": "code",
   "execution_count": 70,
   "metadata": {
    "colab": {
     "base_uri": "https://localhost:8080/"
    },
    "id": "GSdxjb_QXnmL",
    "outputId": "0735b6a8-4be7-4b93-c334-4c312da7e17f"
   },
   "outputs": [
    {
     "data": {
      "text/plain": [
       "6"
      ]
     },
     "execution_count": 70,
     "metadata": {},
     "output_type": "execute_result"
    }
   ],
   "source": [
    "arr1[-2]"
   ]
  },
  {
   "cell_type": "code",
   "execution_count": 71,
   "metadata": {
    "colab": {
     "base_uri": "https://localhost:8080/"
    },
    "id": "4k2aIr-fXnmL",
    "outputId": "2e2cd794-417b-40e8-84ce-154a292722de"
   },
   "outputs": [
    {
     "data": {
      "text/plain": [
       "array([[2, 6, 7, 4],\n",
       "       [3, 7, 7, 2],\n",
       "       [5, 4, 1, 7]])"
      ]
     },
     "execution_count": 71,
     "metadata": {},
     "output_type": "execute_result"
    }
   ],
   "source": [
    "arr2"
   ]
  },
  {
   "cell_type": "code",
   "execution_count": 72,
   "metadata": {
    "colab": {
     "base_uri": "https://localhost:8080/"
    },
    "id": "AslA198HXnmL",
    "outputId": "6e65ac31-db2a-42b7-a2ba-8f4f52cf37b6"
   },
   "outputs": [
    {
     "data": {
      "text/plain": [
       "2"
      ]
     },
     "execution_count": 72,
     "metadata": {},
     "output_type": "execute_result"
    }
   ],
   "source": [
    "arr2[0, 0]"
   ]
  },
  {
   "cell_type": "code",
   "execution_count": 73,
   "metadata": {
    "colab": {
     "base_uri": "https://localhost:8080/",
     "height": 231
    },
    "id": "IhkinCGAGPRt",
    "outputId": "148eeb4e-36c8-46af-80ff-cb584bbe115c"
   },
   "outputs": [
    {
     "name": "stdout",
     "output_type": "stream",
     "text": [
      "0\n"
     ]
    },
    {
     "ename": "TypeError",
     "evalue": "list indices must be integers or slices, not tuple",
     "output_type": "error",
     "traceback": [
      "\u001b[0;31m---------------------------------------------------------------------------\u001b[0m",
      "\u001b[0;31mTypeError\u001b[0m                                 Traceback (most recent call last)",
      "\u001b[0;32m/var/folders/v8/2cskhqjj0_g0zp3824glf1tm0000gn/T/ipykernel_87972/3732247831.py\u001b[0m in \u001b[0;36m<module>\u001b[0;34m\u001b[0m\n\u001b[1;32m      1\u001b[0m \u001b[0mlst\u001b[0m \u001b[0;34m=\u001b[0m \u001b[0;34m[\u001b[0m\u001b[0;34m[\u001b[0m\u001b[0;36m0\u001b[0m\u001b[0;34m]\u001b[0m\u001b[0;34m]\u001b[0m\u001b[0;34m\u001b[0m\u001b[0;34m\u001b[0m\u001b[0m\n\u001b[1;32m      2\u001b[0m \u001b[0mprint\u001b[0m\u001b[0;34m(\u001b[0m\u001b[0mlst\u001b[0m\u001b[0;34m[\u001b[0m\u001b[0;36m0\u001b[0m\u001b[0;34m]\u001b[0m\u001b[0;34m[\u001b[0m\u001b[0;36m0\u001b[0m\u001b[0;34m]\u001b[0m\u001b[0;34m)\u001b[0m\u001b[0;34m\u001b[0m\u001b[0;34m\u001b[0m\u001b[0m\n\u001b[0;32m----> 3\u001b[0;31m \u001b[0mlst\u001b[0m\u001b[0;34m[\u001b[0m\u001b[0;36m0\u001b[0m\u001b[0;34m,\u001b[0m \u001b[0;36m0\u001b[0m\u001b[0;34m]\u001b[0m\u001b[0;34m\u001b[0m\u001b[0;34m\u001b[0m\u001b[0m\n\u001b[0m",
      "\u001b[0;31mTypeError\u001b[0m: list indices must be integers or slices, not tuple"
     ]
    }
   ],
   "source": [
    "lst = [[0]]\n",
    "print(lst[0][0])\n",
    "lst[0, 0]"
   ]
  },
  {
   "cell_type": "code",
   "execution_count": 74,
   "metadata": {
    "colab": {
     "base_uri": "https://localhost:8080/"
    },
    "id": "Dj0a_aOmXnmM",
    "outputId": "8c5da140-1f57-46d5-cd72-8df33445b746"
   },
   "outputs": [
    {
     "data": {
      "text/plain": [
       "5"
      ]
     },
     "execution_count": 74,
     "metadata": {},
     "output_type": "execute_result"
    }
   ],
   "source": [
    "arr2[2, 0]"
   ]
  },
  {
   "cell_type": "code",
   "execution_count": 75,
   "metadata": {
    "colab": {
     "base_uri": "https://localhost:8080/"
    },
    "id": "OdJfXsgKXnmM",
    "outputId": "064454f4-ee96-4487-f145-04f18fba36d9"
   },
   "outputs": [
    {
     "data": {
      "text/plain": [
       "7"
      ]
     },
     "execution_count": 75,
     "metadata": {},
     "output_type": "execute_result"
    }
   ],
   "source": [
    "arr2[2, -1]"
   ]
  },
  {
   "cell_type": "code",
   "execution_count": 76,
   "metadata": {
    "colab": {
     "base_uri": "https://localhost:8080/"
    },
    "id": "-y2lRK_mXnmM",
    "outputId": "b5a3dc77-4015-4f2a-ea45-ba42fc02fe5a"
   },
   "outputs": [
    {
     "data": {
      "text/plain": [
       "array([[12,  6,  7,  4],\n",
       "       [ 3,  7,  7,  2],\n",
       "       [ 5,  4,  1,  7]])"
      ]
     },
     "execution_count": 76,
     "metadata": {},
     "output_type": "execute_result"
    }
   ],
   "source": [
    "arr2[0, 0] = 12\n",
    "arr2"
   ]
  },
  {
   "cell_type": "code",
   "execution_count": 77,
   "metadata": {
    "colab": {
     "base_uri": "https://localhost:8080/"
    },
    "id": "KPtbH-tdXnmM",
    "outputId": "cac1c1de-9495-4ddf-bce4-f1fc9cc45c8a"
   },
   "outputs": [
    {
     "data": {
      "text/plain": [
       "array([[3, 3, 3, 3],\n",
       "       [3, 7, 7, 2],\n",
       "       [5, 4, 1, 7]])"
      ]
     },
     "execution_count": 77,
     "metadata": {},
     "output_type": "execute_result"
    }
   ],
   "source": [
    "arr2[0] = 3.1415926535  # will be truncated\n",
    "arr2"
   ]
  },
  {
   "cell_type": "markdown",
   "metadata": {
    "id": "4oAx3naCxHFh"
   },
   "source": [
    "## Shape Manipulation"
   ]
  },
  {
   "cell_type": "markdown",
   "metadata": {
    "id": "81ql80ciXnmM"
   },
   "source": [
    "### Slicing"
   ]
  },
  {
   "cell_type": "markdown",
   "metadata": {
    "id": "N1uXFgS1XnmM"
   },
   "source": [
    "Default values ``start=0``, ``stop=``*``size of dimension``*, ``step=1``.\n"
   ]
  },
  {
   "cell_type": "code",
   "execution_count": 78,
   "metadata": {
    "colab": {
     "base_uri": "https://localhost:8080/"
    },
    "id": "PkfRlgSDsPre",
    "outputId": "8d60d490-3848-4130-ce2e-eac313f88dd3"
   },
   "outputs": [
    {
     "data": {
      "text/plain": [
       "(array([0, 1, 2, 3, 4, 5, 6, 7, 8, 9]), array([9, 7, 5, 3, 1]))"
      ]
     },
     "execution_count": 78,
     "metadata": {},
     "output_type": "execute_result"
    }
   ],
   "source": [
    "arr = np.arange(10)\n",
    "arr, arr[::-2]"
   ]
  },
  {
   "cell_type": "markdown",
   "metadata": {
    "id": "XxZopofaXnmN"
   },
   "source": [
    "### Multi-dimensional"
   ]
  },
  {
   "cell_type": "code",
   "execution_count": 79,
   "metadata": {
    "colab": {
     "base_uri": "https://localhost:8080/"
    },
    "id": "VHo1BYpeXnmN",
    "outputId": "a6bc0ca6-14ad-4a6d-e9b6-986066011a80"
   },
   "outputs": [
    {
     "data": {
      "text/plain": [
       "array([[3, 3, 3, 3],\n",
       "       [3, 7, 7, 2],\n",
       "       [5, 4, 1, 7]])"
      ]
     },
     "execution_count": 79,
     "metadata": {},
     "output_type": "execute_result"
    }
   ],
   "source": [
    "arr2"
   ]
  },
  {
   "cell_type": "markdown",
   "metadata": {
    "id": "cT1pkTbtsjU4"
   },
   "source": [
    "two rows, three columns"
   ]
  },
  {
   "cell_type": "code",
   "execution_count": 80,
   "metadata": {
    "colab": {
     "base_uri": "https://localhost:8080/"
    },
    "id": "u9m-4CKMXnmN",
    "outputId": "34f4bf53-3d5e-49a5-d622-d9b75ac4b6e3"
   },
   "outputs": [
    {
     "data": {
      "text/plain": [
       "array([[3, 3, 3],\n",
       "       [3, 7, 7]])"
      ]
     },
     "execution_count": 80,
     "metadata": {},
     "output_type": "execute_result"
    }
   ],
   "source": [
    "arr2[:2, :3]  "
   ]
  },
  {
   "cell_type": "code",
   "execution_count": 81,
   "metadata": {
    "colab": {
     "base_uri": "https://localhost:8080/"
    },
    "id": "N5gw-O7xXnmN",
    "outputId": "f14a7834-9813-40b7-a512-9c3beacd93bc"
   },
   "outputs": [
    {
     "data": {
      "text/plain": [
       "array([[3, 3],\n",
       "       [3, 7],\n",
       "       [5, 1]])"
      ]
     },
     "execution_count": 81,
     "metadata": {},
     "output_type": "execute_result"
    }
   ],
   "source": [
    "arr2[:3, ::2]  "
   ]
  },
  {
   "cell_type": "code",
   "execution_count": 82,
   "metadata": {
    "colab": {
     "base_uri": "https://localhost:8080/"
    },
    "id": "VEnCVRRPXnmN",
    "outputId": "3fedca95-2311-4186-879e-8750bf28386a"
   },
   "outputs": [
    {
     "data": {
      "text/plain": [
       "array([[7, 1, 4, 5],\n",
       "       [2, 7, 7, 3],\n",
       "       [3, 3, 3, 3]])"
      ]
     },
     "execution_count": 82,
     "metadata": {},
     "output_type": "execute_result"
    }
   ],
   "source": [
    "arr2[::-1, ::-1]"
   ]
  },
  {
   "cell_type": "markdown",
   "metadata": {
    "id": "477TD6AYXnmN"
   },
   "source": [
    "### Accessing array rows and columns\n"
   ]
  },
  {
   "cell_type": "code",
   "execution_count": 83,
   "metadata": {
    "colab": {
     "base_uri": "https://localhost:8080/"
    },
    "id": "ZakhH-jZXnmN",
    "outputId": "a15f9e60-dc38-42b6-d0c6-bedf47faf897"
   },
   "outputs": [
    {
     "name": "stdout",
     "output_type": "stream",
     "text": [
      "[3 3 5]\n"
     ]
    },
    {
     "data": {
      "text/plain": [
       "array([3, 3, 5])"
      ]
     },
     "execution_count": 83,
     "metadata": {},
     "output_type": "execute_result"
    }
   ],
   "source": [
    "print(arr2[:, 0])  # column of arr2\n",
    "arr2[:, 0]"
   ]
  },
  {
   "cell_type": "code",
   "execution_count": 84,
   "metadata": {
    "colab": {
     "base_uri": "https://localhost:8080/"
    },
    "id": "iaByBsrtXnmN",
    "outputId": "63e6f2e9-bb5c-45e8-a8d9-0111ae260f39"
   },
   "outputs": [
    {
     "name": "stdout",
     "output_type": "stream",
     "text": [
      "[3 3 3 3]\n"
     ]
    }
   ],
   "source": [
    "print(arr2[0, :])  # row of arr2"
   ]
  },
  {
   "cell_type": "code",
   "execution_count": 85,
   "metadata": {
    "colab": {
     "base_uri": "https://localhost:8080/"
    },
    "id": "BxoEhuItXnmN",
    "outputId": "e93ca716-1bb6-49dc-fee9-b55e184dc5ee"
   },
   "outputs": [
    {
     "name": "stdout",
     "output_type": "stream",
     "text": [
      "[3 3 3 3]\n"
     ]
    }
   ],
   "source": [
    "print(arr2[0])  # equivalent to arr2[0, :]"
   ]
  },
  {
   "cell_type": "markdown",
   "metadata": {
    "id": "8OWeZx1OXnmN"
   },
   "source": [
    "### Views\n"
   ]
  },
  {
   "cell_type": "code",
   "execution_count": 86,
   "metadata": {
    "colab": {
     "base_uri": "https://localhost:8080/"
    },
    "id": "TbL44A9UXnmO",
    "outputId": "2e857c9d-4245-424a-ff51-5c6e728dc53e"
   },
   "outputs": [
    {
     "name": "stdout",
     "output_type": "stream",
     "text": [
      "[[3 3 3 3]\n",
      " [3 7 7 2]\n",
      " [5 4 1 7]]\n"
     ]
    }
   ],
   "source": [
    "print(arr2)"
   ]
  },
  {
   "cell_type": "code",
   "execution_count": 87,
   "metadata": {
    "colab": {
     "base_uri": "https://localhost:8080/"
    },
    "id": "G0N1q_ZQXnmO",
    "outputId": "26bd9d38-cccb-4ebb-ea7f-d682398cad47"
   },
   "outputs": [
    {
     "name": "stdout",
     "output_type": "stream",
     "text": [
      "[[3 3]\n",
      " [3 7]]\n"
     ]
    }
   ],
   "source": [
    "arr2_sub = arr2[:2, :2]\n",
    "print(arr2_sub)"
   ]
  },
  {
   "cell_type": "code",
   "execution_count": 88,
   "metadata": {
    "colab": {
     "base_uri": "https://localhost:8080/"
    },
    "id": "trhD7BpwXnmO",
    "outputId": "5be9911b-ad2b-44d9-ab0a-556b3d1110b4"
   },
   "outputs": [
    {
     "name": "stdout",
     "output_type": "stream",
     "text": [
      "[[ 3  3]\n",
      " [ 3 42]]\n"
     ]
    }
   ],
   "source": [
    "arr2_sub[1, 1] = 42\n",
    "print(arr2_sub)"
   ]
  },
  {
   "cell_type": "code",
   "execution_count": 89,
   "metadata": {
    "colab": {
     "base_uri": "https://localhost:8080/"
    },
    "id": "hOLI4htxXnmO",
    "outputId": "f5c6a6aa-5f13-493f-ba35-04805342fec7"
   },
   "outputs": [
    {
     "name": "stdout",
     "output_type": "stream",
     "text": [
      "[[ 3  3  3  3]\n",
      " [ 3 42  7  2]\n",
      " [ 5  4  1  7]]\n"
     ]
    }
   ],
   "source": [
    "print(arr2)"
   ]
  },
  {
   "cell_type": "markdown",
   "metadata": {
    "id": "0PsM7VCEXnmO"
   },
   "source": [
    "### Copies\n",
    "\n",
    "This can be done with the ``copy()`` method:"
   ]
  },
  {
   "cell_type": "code",
   "execution_count": 90,
   "metadata": {
    "colab": {
     "base_uri": "https://localhost:8080/"
    },
    "id": "ugXFhtrsXnmO",
    "outputId": "4d02cb07-b8e2-444d-cbd9-4f3855994beb"
   },
   "outputs": [
    {
     "name": "stdout",
     "output_type": "stream",
     "text": [
      "[[ 3  3]\n",
      " [ 3 42]]\n"
     ]
    }
   ],
   "source": [
    "arr2_sub_copy = arr2[:2, :2].copy()\n",
    "print(arr2_sub_copy)"
   ]
  },
  {
   "cell_type": "code",
   "execution_count": 91,
   "metadata": {
    "colab": {
     "base_uri": "https://localhost:8080/"
    },
    "id": "jz9IBo05XnmO",
    "outputId": "d0dbae37-aa70-4e67-9844-1f60198d2ce6"
   },
   "outputs": [
    {
     "name": "stdout",
     "output_type": "stream",
     "text": [
      "[[42  3]\n",
      " [ 3 42]]\n"
     ]
    }
   ],
   "source": [
    "arr2_sub_copy[0, 0] = 42\n",
    "print(arr2_sub_copy)"
   ]
  },
  {
   "cell_type": "code",
   "execution_count": 92,
   "metadata": {
    "colab": {
     "base_uri": "https://localhost:8080/"
    },
    "id": "AGCljcwqXnmO",
    "outputId": "508f41ab-0401-4abb-ff4a-ae09997c6534"
   },
   "outputs": [
    {
     "name": "stdout",
     "output_type": "stream",
     "text": [
      "[[ 3  3  3  3]\n",
      " [ 3 42  7  2]\n",
      " [ 5  4  1  7]]\n"
     ]
    }
   ],
   "source": [
    "print(arr2)"
   ]
  },
  {
   "cell_type": "markdown",
   "metadata": {
    "id": "IM49pzlCXnmO"
   },
   "source": [
    "### Reshaping"
   ]
  },
  {
   "cell_type": "code",
   "execution_count": 93,
   "metadata": {
    "id": "TJFxonf-JJ_B"
   },
   "outputs": [],
   "source": [
    "def methods_printer(obj):\n",
    "    print(len([name for name in dir(obj) if not ((name.startswith('_') or not callable(getattr(obj, name))))]))\n",
    "    print(*[name for name in dir(obj) if not ((name.startswith('_') or not callable(getattr(obj, name))))], sep='\\n')"
   ]
  },
  {
   "cell_type": "code",
   "execution_count": 94,
   "metadata": {
    "colab": {
     "base_uri": "https://localhost:8080/"
    },
    "id": "YZhsii-DJR9O",
    "outputId": "f9296f06-2c42-40fa-abde-d23382c06d8a"
   },
   "outputs": [
    {
     "name": "stdout",
     "output_type": "stream",
     "text": [
      "56\n",
      "all\n",
      "any\n",
      "argmax\n",
      "argmin\n",
      "argpartition\n",
      "argsort\n",
      "astype\n",
      "byteswap\n",
      "choose\n",
      "clip\n",
      "compress\n",
      "conj\n",
      "conjugate\n",
      "copy\n",
      "cumprod\n",
      "cumsum\n",
      "diagonal\n",
      "dot\n",
      "dump\n",
      "dumps\n",
      "fill\n",
      "flatten\n",
      "getfield\n",
      "item\n",
      "itemset\n",
      "max\n",
      "mean\n",
      "min\n",
      "newbyteorder\n",
      "nonzero\n",
      "partition\n",
      "prod\n",
      "ptp\n",
      "put\n",
      "ravel\n",
      "repeat\n",
      "reshape\n",
      "resize\n",
      "round\n",
      "searchsorted\n",
      "setfield\n",
      "setflags\n",
      "sort\n",
      "squeeze\n",
      "std\n",
      "sum\n",
      "swapaxes\n",
      "take\n",
      "tobytes\n",
      "tofile\n",
      "tolist\n",
      "tostring\n",
      "trace\n",
      "transpose\n",
      "var\n",
      "view\n"
     ]
    }
   ],
   "source": [
    "methods_printer(arr)"
   ]
  },
  {
   "cell_type": "code",
   "execution_count": 95,
   "metadata": {
    "colab": {
     "base_uri": "https://localhost:8080/"
    },
    "id": "dd0ugRsnKHE8",
    "outputId": "d0d5dfe8-589d-4994-9217-c32cb7c039e9"
   },
   "outputs": [
    {
     "data": {
      "text/plain": [
       "array([ 0,  1,  2,  3,  4,  5,  6,  7,  8,  9, 10, 11, 12, 13, 14, 15, 16,\n",
       "       17, 18, 19, 20, 21, 22, 23, 24, 25, 26, 27, 28, 29, 30, 31, 32, 33,\n",
       "       34, 35, 36, 37, 38, 39, 40, 41])"
      ]
     },
     "execution_count": 95,
     "metadata": {},
     "output_type": "execute_result"
    }
   ],
   "source": [
    "np.arange(42)"
   ]
  },
  {
   "cell_type": "code",
   "execution_count": 96,
   "metadata": {
    "colab": {
     "base_uri": "https://localhost:8080/"
    },
    "id": "CeqXZ2hKXnmO",
    "outputId": "005b0052-4b18-4225-f73e-24f9c771c93e"
   },
   "outputs": [
    {
     "name": "stdout",
     "output_type": "stream",
     "text": [
      "[[ 0  1  2  3  4  5  6]\n",
      " [ 7  8  9 10 11 12 13]\n",
      " [14 15 16 17 18 19 20]\n",
      " [21 22 23 24 25 26 27]\n",
      " [28 29 30 31 32 33 34]\n",
      " [35 36 37 38 39 40 41]]\n"
     ]
    }
   ],
   "source": [
    "grid = np.arange(42).reshape((6, 7))\n",
    "print(grid)"
   ]
  },
  {
   "cell_type": "code",
   "execution_count": 97,
   "metadata": {
    "colab": {
     "base_uri": "https://localhost:8080/"
    },
    "id": "Eva1eog8XnmO",
    "outputId": "67502745-9b8e-4380-9d7e-bdcd13edea27"
   },
   "outputs": [
    {
     "data": {
      "text/plain": [
       "2"
      ]
     },
     "execution_count": 97,
     "metadata": {},
     "output_type": "execute_result"
    }
   ],
   "source": [
    "arr = np.array([1, 2, 3, 4, 5])\n",
    "\n",
    "arr.reshape((1, 5)).ndim"
   ]
  },
  {
   "cell_type": "markdown",
   "metadata": {
    "id": "wi_oO3H4vNDX"
   },
   "source": [
    "row vector via newaxis"
   ]
  },
  {
   "cell_type": "code",
   "execution_count": 98,
   "metadata": {
    "colab": {
     "base_uri": "https://localhost:8080/"
    },
    "id": "s0rwiABuKvE2",
    "outputId": "cb11e38a-74e1-48d4-9a5b-0d8d755e0f93"
   },
   "outputs": [
    {
     "data": {
      "text/plain": [
       "array([1, 2, 3, 4, 5])"
      ]
     },
     "execution_count": 98,
     "metadata": {},
     "output_type": "execute_result"
    }
   ],
   "source": [
    "arr"
   ]
  },
  {
   "cell_type": "code",
   "execution_count": 99,
   "metadata": {
    "colab": {
     "base_uri": "https://localhost:8080/"
    },
    "id": "ljuF95lhXnmP",
    "outputId": "fda09bf3-d1ae-430c-d0f8-15fb4b972dcc"
   },
   "outputs": [
    {
     "data": {
      "text/plain": [
       "array([[1, 2, 3, 4, 5]])"
      ]
     },
     "execution_count": 99,
     "metadata": {},
     "output_type": "execute_result"
    }
   ],
   "source": [
    "arr[np.newaxis, :]"
   ]
  },
  {
   "cell_type": "code",
   "execution_count": 100,
   "metadata": {},
   "outputs": [
    {
     "data": {
      "text/plain": [
       "(1, 5)"
      ]
     },
     "execution_count": 100,
     "metadata": {},
     "output_type": "execute_result"
    }
   ],
   "source": [
    "arr[np.newaxis, :].shape"
   ]
  },
  {
   "cell_type": "code",
   "execution_count": 101,
   "metadata": {
    "colab": {
     "base_uri": "https://localhost:8080/"
    },
    "id": "MQTVwH2IXnmP",
    "outputId": "6ad4bcf5-fe6b-4312-94b4-b46d14090e3a"
   },
   "outputs": [
    {
     "data": {
      "text/plain": [
       "array([[1],\n",
       "       [2],\n",
       "       [3],\n",
       "       [4],\n",
       "       [5]])"
      ]
     },
     "execution_count": 101,
     "metadata": {},
     "output_type": "execute_result"
    }
   ],
   "source": [
    "arr[:, np.newaxis]"
   ]
  },
  {
   "cell_type": "code",
   "execution_count": 102,
   "metadata": {},
   "outputs": [
    {
     "data": {
      "text/plain": [
       "array([[1, 2, 3, 4, 5]])"
      ]
     },
     "execution_count": 102,
     "metadata": {},
     "output_type": "execute_result"
    }
   ],
   "source": [
    "arr[None, :]"
   ]
  },
  {
   "cell_type": "code",
   "execution_count": 103,
   "metadata": {},
   "outputs": [
    {
     "data": {
      "text/plain": [
       "array([[1],\n",
       "       [2],\n",
       "       [3],\n",
       "       [4],\n",
       "       [5]])"
      ]
     },
     "execution_count": 103,
     "metadata": {},
     "output_type": "execute_result"
    }
   ],
   "source": [
    "arr[:, None]"
   ]
  },
  {
   "cell_type": "code",
   "execution_count": 104,
   "metadata": {
    "colab": {
     "base_uri": "https://localhost:8080/"
    },
    "id": "i9vvDkCnXnmP",
    "outputId": "45cb6ac3-a32f-4122-a61e-70c7ceb0457b"
   },
   "outputs": [
    {
     "data": {
      "text/plain": [
       "array([[1],\n",
       "       [2],\n",
       "       [3],\n",
       "       [4],\n",
       "       [5]])"
      ]
     },
     "execution_count": 104,
     "metadata": {},
     "output_type": "execute_result"
    }
   ],
   "source": [
    "arr.reshape((5, 1))"
   ]
  },
  {
   "cell_type": "code",
   "execution_count": 105,
   "metadata": {},
   "outputs": [
    {
     "data": {
      "text/plain": [
       "array([[[1., 1., 1., 1., 1.],\n",
       "        [1., 1., 1., 1., 1.],\n",
       "        [1., 1., 1., 1., 1.],\n",
       "        [1., 1., 1., 1., 1.]],\n",
       "\n",
       "       [[1., 1., 1., 1., 1.],\n",
       "        [1., 1., 1., 1., 1.],\n",
       "        [1., 1., 1., 1., 1.],\n",
       "        [1., 1., 1., 1., 1.]],\n",
       "\n",
       "       [[1., 1., 1., 1., 1.],\n",
       "        [1., 1., 1., 1., 1.],\n",
       "        [1., 1., 1., 1., 1.],\n",
       "        [1., 1., 1., 1., 1.]]])"
      ]
     },
     "execution_count": 105,
     "metadata": {},
     "output_type": "execute_result"
    }
   ],
   "source": [
    "arr_n = np.ones((3, 4, 5))\n",
    "arr_n"
   ]
  },
  {
   "cell_type": "code",
   "execution_count": 106,
   "metadata": {},
   "outputs": [
    {
     "data": {
      "text/plain": [
       "array([[[1., 1.],\n",
       "        [1., 1.],\n",
       "        [1., 1.],\n",
       "        [1., 1.],\n",
       "        [1., 1.],\n",
       "        [1., 1.]],\n",
       "\n",
       "       [[1., 1.],\n",
       "        [1., 1.],\n",
       "        [1., 1.],\n",
       "        [1., 1.],\n",
       "        [1., 1.],\n",
       "        [1., 1.]],\n",
       "\n",
       "       [[1., 1.],\n",
       "        [1., 1.],\n",
       "        [1., 1.],\n",
       "        [1., 1.],\n",
       "        [1., 1.],\n",
       "        [1., 1.]],\n",
       "\n",
       "       [[1., 1.],\n",
       "        [1., 1.],\n",
       "        [1., 1.],\n",
       "        [1., 1.],\n",
       "        [1., 1.],\n",
       "        [1., 1.]],\n",
       "\n",
       "       [[1., 1.],\n",
       "        [1., 1.],\n",
       "        [1., 1.],\n",
       "        [1., 1.],\n",
       "        [1., 1.],\n",
       "        [1., 1.]]])"
      ]
     },
     "execution_count": 106,
     "metadata": {},
     "output_type": "execute_result"
    }
   ],
   "source": [
    "arr_n.reshape(5, -1, 2)"
   ]
  },
  {
   "cell_type": "markdown",
   "metadata": {
    "id": "epFY9tdeXnmP"
   },
   "source": [
    "### Array Concatenation and Splitting\n"
   ]
  },
  {
   "cell_type": "markdown",
   "metadata": {
    "id": "4jIWX85ZXnmP"
   },
   "source": [
    "### Concatenation\n",
    "\n"
   ]
  },
  {
   "cell_type": "code",
   "execution_count": 107,
   "metadata": {
    "colab": {
     "base_uri": "https://localhost:8080/"
    },
    "id": "9l_nvFaSXnmP",
    "outputId": "0b518d64-ed86-4811-fdf9-095059cf7754"
   },
   "outputs": [
    {
     "data": {
      "text/plain": [
       "array([1, 2, 3, 4, 4, 3, 2, 1])"
      ]
     },
     "execution_count": 107,
     "metadata": {},
     "output_type": "execute_result"
    }
   ],
   "source": [
    "arr1 = np.array([1, 2, 3, 4])\n",
    "arr2 = np.array([4, 3, 2, 1])\n",
    "np.concatenate([arr1, arr2])"
   ]
  },
  {
   "cell_type": "code",
   "execution_count": 108,
   "metadata": {
    "colab": {
     "base_uri": "https://localhost:8080/"
    },
    "id": "mYBTqLFcXnmP",
    "outputId": "cdf420eb-1a5a-41ff-ff35-123dfa15583d"
   },
   "outputs": [
    {
     "data": {
      "text/plain": [
       "array([ 1,  2,  3,  4,  4,  3,  2,  1, 42, 42, 42, 42])"
      ]
     },
     "execution_count": 108,
     "metadata": {},
     "output_type": "execute_result"
    }
   ],
   "source": [
    "arr3 = [42, 42, 42, 42]\n",
    "np.concatenate([arr1, arr2, arr3])"
   ]
  },
  {
   "cell_type": "code",
   "execution_count": 109,
   "metadata": {
    "id": "qBHbn7rHXnmP"
   },
   "outputs": [],
   "source": [
    "grid = np.array([[1, 2, 3, 4],\n",
    "                 [5, 6, 7, 8]])  # axis=0"
   ]
  },
  {
   "cell_type": "code",
   "execution_count": 110,
   "metadata": {
    "colab": {
     "base_uri": "https://localhost:8080/"
    },
    "id": "mNBB4PK8XnmP",
    "outputId": "fe058f58-8acc-4680-e5dc-d9ed60d08142"
   },
   "outputs": [
    {
     "data": {
      "text/plain": [
       "array([[1, 2, 3, 4],\n",
       "       [5, 6, 7, 8],\n",
       "       [1, 2, 3, 4],\n",
       "       [5, 6, 7, 8]])"
      ]
     },
     "execution_count": 110,
     "metadata": {},
     "output_type": "execute_result"
    }
   ],
   "source": [
    "np.concatenate([grid, grid])"
   ]
  },
  {
   "cell_type": "code",
   "execution_count": 111,
   "metadata": {
    "colab": {
     "base_uri": "https://localhost:8080/"
    },
    "id": "TShQpIUFXnmP",
    "outputId": "d30e517e-963d-4ec7-c287-29f3f1784088"
   },
   "outputs": [
    {
     "data": {
      "text/plain": [
       "array([[1, 2, 3, 4, 1, 2, 3, 4],\n",
       "       [5, 6, 7, 8, 5, 6, 7, 8]])"
      ]
     },
     "execution_count": 111,
     "metadata": {},
     "output_type": "execute_result"
    }
   ],
   "source": [
    "np.concatenate([grid, grid], axis=1)"
   ]
  },
  {
   "cell_type": "code",
   "execution_count": 112,
   "metadata": {
    "colab": {
     "base_uri": "https://localhost:8080/"
    },
    "id": "oMwMIZu5XnmP",
    "outputId": "a4ca71a9-3f0f-47bf-c14d-a160af98a89c"
   },
   "outputs": [
    {
     "name": "stdout",
     "output_type": "stream",
     "text": [
      "[[42 42 42 42]\n",
      " [ 1  2  3  4]\n",
      " [ 5  6  7  8]]\n",
      "[[42 42]\n",
      " [42 42]]\n",
      "[[ 1  2  3  4 42 42]\n",
      " [ 5  6  7  8 42 42]]\n"
     ]
    }
   ],
   "source": [
    "arr = np.array([42, 42, 42, 42])\n",
    "grid = np.array([[1, 2, 3, 4],\n",
    "                 [5, 6, 7, 8]])\n",
    "\n",
    "# v\n",
    "print(np.vstack([arr, grid]))\n",
    "\n",
    "# h\n",
    "# but firstly:\n",
    "print(arr.reshape(2, -1))\n",
    "\n",
    "print(np.hstack([grid, arr.reshape(2, -1)]))\n",
    "\n",
    "\n",
    "# d - np.dstack - along the 3d axis."
   ]
  },
  {
   "cell_type": "markdown",
   "metadata": {
    "id": "BQmhsxAMXnmP"
   },
   "source": [
    "### Splitting\n"
   ]
  },
  {
   "cell_type": "code",
   "execution_count": 113,
   "metadata": {
    "colab": {
     "base_uri": "https://localhost:8080/"
    },
    "id": "493WBZ99XnmP",
    "outputId": "6a50d99c-fd02-49f9-c424-c87f4b2bdc46"
   },
   "outputs": [
    {
     "name": "stdout",
     "output_type": "stream",
     "text": [
      "[0]\n",
      "[1 2 3]\n",
      "[4 5 6 7 8 9]\n",
      "[10 11]\n"
     ]
    }
   ],
   "source": [
    "arr = np.arange(12)\n",
    "arr1, arr2, arr3, arr4 = np.split(arr, [1, 4, 10])  # N split-points to N + 1 subarrays\n",
    "print(arr1, arr2, arr3, arr4, sep='\\n')  \n",
    "\n",
    "# np.hsplit\n",
    "# np.vsplit"
   ]
  },
  {
   "cell_type": "code",
   "execution_count": 116,
   "metadata": {},
   "outputs": [
    {
     "data": {
      "text/plain": [
       "[array([0, 1, 2, 3, 4]), array([5, 6, 7, 8]), array([ 9, 10, 11, 12])]"
      ]
     },
     "execution_count": 116,
     "metadata": {},
     "output_type": "execute_result"
    }
   ],
   "source": [
    "x = np.arange(13)\n",
    "np.array_split(x, 3)"
   ]
  },
  {
   "cell_type": "markdown",
   "metadata": {
    "id": "NJkexq_P066e"
   },
   "source": [
    "## Universal Functions"
   ]
  },
  {
   "cell_type": "code",
   "execution_count": 117,
   "metadata": {
    "colab": {
     "base_uri": "https://localhost:8080/"
    },
    "id": "1CDsdEBY066j",
    "outputId": "854d5b85-cc22-441c-9215-a14ea5597f46"
   },
   "outputs": [
    {
     "data": {
      "text/plain": [
       "array([0.        , 0.5       , 0.66666667, 0.75      , 0.8       ])"
      ]
     },
     "execution_count": 117,
     "metadata": {},
     "output_type": "execute_result"
    }
   ],
   "source": [
    "np.arange(5) / np.arange(1, 6)"
   ]
  },
  {
   "cell_type": "code",
   "execution_count": 118,
   "metadata": {
    "colab": {
     "base_uri": "https://localhost:8080/"
    },
    "id": "BO6mMTas066k",
    "outputId": "a4f655eb-8407-468f-d905-b14aafc25f8a"
   },
   "outputs": [
    {
     "name": "stdout",
     "output_type": "stream",
     "text": [
      "[[0 1 2]\n",
      " [3 4 5]\n",
      " [6 7 8]]\n"
     ]
    },
    {
     "data": {
      "text/plain": [
       "array([[  1,   2,   4],\n",
       "       [  8,  16,  32],\n",
       "       [ 64, 128, 256]])"
      ]
     },
     "execution_count": 118,
     "metadata": {},
     "output_type": "execute_result"
    }
   ],
   "source": [
    "x = np.arange(9).reshape((3, 3))\n",
    "print(x)\n",
    "2 ** x"
   ]
  },
  {
   "cell_type": "markdown",
   "metadata": {
    "id": "LhNaRNyL066k"
   },
   "source": [
    "### Array arithmetic\n"
   ]
  },
  {
   "cell_type": "code",
   "execution_count": 119,
   "metadata": {
    "colab": {
     "base_uri": "https://localhost:8080/"
    },
    "id": "UF0vyzMN066k",
    "outputId": "577f37c3-b2a9-4e5c-de98-a24ec6c2b6d2"
   },
   "outputs": [
    {
     "name": "stdout",
     "output_type": "stream",
     "text": [
      "x      = [0 1 2 3]\n",
      "-x     = [ 0 -1 -2 -3]\n",
      "x + 5  = [5 6 7 8]\n",
      "x - 5  = [-5 -4 -3 -2]\n",
      "x * 2  = [0 2 4 6]\n",
      "x / 2  = [0.  0.5 1.  1.5]\n",
      "x // 2 = [0 0 1 1]\n",
      "x ** 2 = [0 1 4 9]\n",
      "x % 2  = [0 1 0 1]\n",
      "~x     = [-1 -2 -3 -4]\n"
     ]
    }
   ],
   "source": [
    "x = np.arange(4)\n",
    "print(\"x      =\", x)\n",
    "print(\"-x     =\", -x)\n",
    "print(\"x + 5  =\", x + 5)\n",
    "print(\"x - 5  =\", x - 5)\n",
    "print(\"x * 2  =\", x * 2)\n",
    "print(\"x / 2  =\", x / 2)\n",
    "print(\"x // 2 =\", x // 2)  # floor division\n",
    "print(\"x ** 2 =\", x ** 2)\n",
    "print(\"x % 2  =\", x % 2)\n",
    "print(\"~x     =\", ~x)"
   ]
  },
  {
   "cell_type": "code",
   "execution_count": 120,
   "metadata": {
    "colab": {
     "base_uri": "https://localhost:8080/"
    },
    "id": "C5x3wGfN066l",
    "outputId": "ed89ec78-fc35-423f-ebd3-f10c51316cdf"
   },
   "outputs": [
    {
     "data": {
      "text/plain": [
       "array([2, 3, 4, 5])"
      ]
     },
     "execution_count": 120,
     "metadata": {},
     "output_type": "execute_result"
    }
   ],
   "source": [
    "np.add(x, 2)"
   ]
  },
  {
   "cell_type": "markdown",
   "metadata": {
    "id": "eHn4nS4p066l"
   },
   "source": [
    "The following table lists the arithmetic operators implemented in NumPy:\n",
    "\n",
    "| Operator\t    | Equivalent ufunc    | Description                           |\n",
    "|---------------|---------------------|---------------------------------------|\n",
    "|``+``          |``np.add``           |Addition (e.g., ``1 + 1 = 2``)         |\n",
    "|``-``          |``np.subtract``      |Subtraction (e.g., ``3 - 2 = 1``)      |\n",
    "|``-``          |``np.negative``      |Unary negation (e.g., ``-2``)          |\n",
    "|``*``          |``np.multiply``      |Multiplication (e.g., ``2 * 3 = 6``)   |\n",
    "|``/``          |``np.divide``        |Division (e.g., ``3 / 2 = 1.5``)       |\n",
    "|``//``         |``np.floor_divide``  |Floor division (e.g., ``3 // 2 = 1``)  |\n",
    "|``**``         |``np.power``         |Exponentiation (e.g., ``2 ** 3 = 8``)  |\n",
    "|``%``          |``np.mod``           |Modulus/remainder (e.g., ``9 % 4 = 1``)|\n"
   ]
  },
  {
   "cell_type": "code",
   "execution_count": 123,
   "metadata": {
    "colab": {
     "base_uri": "https://localhost:8080/"
    },
    "id": "f48lyyTr066m",
    "outputId": "5f753a1c-a77d-4169-b02b-ccb204493931"
   },
   "outputs": [
    {
     "name": "stdout",
     "output_type": "stream",
     "text": [
      "theta       =  [0.         1.57079633 3.14159265]\n",
      "sin(theta)  =  [0.0000000e+00 1.0000000e+00 1.2246468e-16]\n",
      "cos(theta)  =  [ 1.000000e+00  6.123234e-17 -1.000000e+00]\n",
      "tan(theta)  =  [ 0.00000000e+00  1.63312394e+16 -1.22464680e-16]\n",
      "arr         =  [-1.  0.  1.]\n",
      "arcsin(arr) =  [-1.57079633  0.          1.57079633]\n",
      "arccos(arr) =  [3.14159265 1.57079633 0.        ]\n",
      "arctan(arr) =  [-0.78539816  0.          0.78539816]\n",
      "arr         = [0, 1, 2, 3]\n",
      "e^arr       = [ 1.          2.71828183  7.3890561  20.08553692]\n",
      "2^arr       = [1. 2. 4. 8.]\n",
      "3^arr       = [ 1  3  9 27]\n",
      "arr         = [1, 2, 4, 10]\n",
      "ln(arr)     = [0.         0.69314718 1.38629436 2.30258509]\n",
      "log2(arr)   = [0.         1.         2.         3.32192809]\n",
      "log10(arr)  = [0.         0.30103    0.60205999 1.        ]\n",
      "exp(x) - 1  = [0.         0.0010005  0.01005017 0.10517092]\n",
      "log(1 + x)  = [0.         0.0009995  0.00995033 0.09531018]\n"
     ]
    }
   ],
   "source": [
    "arr = np.array([-42, -1, 0, -3.141592, 42])\n",
    "np.absolute(arr)\n",
    "theta = np.linspace(0, np.pi, 3)  # trigonometric functions\n",
    "print(\"theta       = \", theta)\n",
    "print(\"sin(theta)  = \", np.sin(theta))\n",
    "print(\"cos(theta)  = \", np.cos(theta))\n",
    "print(\"tan(theta)  = \", np.tan(theta))\n",
    "arr = np.linspace(-1, 1, 3)  \n",
    "print(\"arr         = \", arr)\n",
    "print(\"arcsin(arr) = \", np.arcsin(arr))\n",
    "print(\"arccos(arr) = \", np.arccos(arr))\n",
    "print(\"arctan(arr) = \", np.arctan(arr))\n",
    "arr = [0, 1, 2, 3]                # exp\n",
    "print(\"arr         =\", arr)\n",
    "print(\"e^arr       =\", np.exp(arr))\n",
    "print(\"2^arr       =\", np.exp2(arr))\n",
    "print(\"3^arr       =\", np.power(3, arr))\n",
    "arr = [1, 2, 4, 10]               # log\n",
    "print(\"arr         =\", arr)\n",
    "print(\"ln(arr)     =\", np.log(arr))\n",
    "print(\"log2(arr)   =\", np.log2(arr))\n",
    "print(\"log10(arr)  =\", np.log10(arr))\n",
    "x = [0, 0.001, 0.01, 0.1]         # for small values\n",
    "print(\"exp(x) - 1  =\", np.expm1(x))\n",
    "print(\"log(1 + x)  =\", np.log1p(x))"
   ]
  },
  {
   "cell_type": "markdown",
   "metadata": {
    "id": "Irc2uniD_gbn"
   },
   "source": [
    "## Broadcasting"
   ]
  },
  {
   "cell_type": "markdown",
   "metadata": {},
   "source": [
    "https://numpy.org/doc/stable/user/basics.broadcasting.html"
   ]
  },
  {
   "cell_type": "code",
   "execution_count": 124,
   "metadata": {
    "colab": {
     "base_uri": "https://localhost:8080/"
    },
    "id": "WyG9rV_v_gbo",
    "outputId": "3c00e253-6990-4566-c3fd-1abe07c7ce0b"
   },
   "outputs": [
    {
     "name": "stdout",
     "output_type": "stream",
     "text": [
      "[0 1 2]\n"
     ]
    },
    {
     "data": {
      "text/plain": [
       "array([5, 6, 7])"
      ]
     },
     "execution_count": 124,
     "metadata": {},
     "output_type": "execute_result"
    }
   ],
   "source": [
    "a = np.arange(3)\n",
    "print(a)\n",
    "b = np.array([5, 5, 5])\n",
    "a + b"
   ]
  },
  {
   "cell_type": "code",
   "execution_count": 125,
   "metadata": {
    "colab": {
     "base_uri": "https://localhost:8080/"
    },
    "id": "YPfnYWj3_gbp",
    "outputId": "cdf0e874-1cc8-49d5-dca9-862a45439878",
    "scrolled": true
   },
   "outputs": [
    {
     "data": {
      "text/plain": [
       "array([5, 6, 7])"
      ]
     },
     "execution_count": 125,
     "metadata": {},
     "output_type": "execute_result"
    }
   ],
   "source": [
    "a + 5"
   ]
  },
  {
   "cell_type": "code",
   "execution_count": 126,
   "metadata": {
    "colab": {
     "base_uri": "https://localhost:8080/"
    },
    "id": "u6inZAof_gbq",
    "outputId": "e5820f8c-b0c6-4fe1-c977-dc9a31165216"
   },
   "outputs": [
    {
     "data": {
      "text/plain": [
       "array([[1., 1., 1.],\n",
       "       [1., 1., 1.],\n",
       "       [1., 1., 1.]])"
      ]
     },
     "execution_count": 126,
     "metadata": {},
     "output_type": "execute_result"
    }
   ],
   "source": [
    "M = np.ones((3, 3))\n",
    "M"
   ]
  },
  {
   "cell_type": "code",
   "execution_count": 127,
   "metadata": {
    "colab": {
     "base_uri": "https://localhost:8080/"
    },
    "id": "76EW0KR__gbr",
    "outputId": "4f959c93-2798-4f65-8850-346f99423a9c"
   },
   "outputs": [
    {
     "data": {
      "text/plain": [
       "array([[1., 2., 3.],\n",
       "       [1., 2., 3.],\n",
       "       [1., 2., 3.]])"
      ]
     },
     "execution_count": 127,
     "metadata": {},
     "output_type": "execute_result"
    }
   ],
   "source": [
    "M + a"
   ]
  },
  {
   "cell_type": "code",
   "execution_count": 128,
   "metadata": {
    "id": "j2yi655V_gbr"
   },
   "outputs": [
    {
     "name": "stdout",
     "output_type": "stream",
     "text": [
      "[[0]\n",
      " [1]\n",
      " [2]]\n",
      "[0 1 2]\n"
     ]
    }
   ],
   "source": [
    "a = np.arange(3).reshape((3, 1))\n",
    "b = np.arange(3)\n",
    "\n",
    "print(a)\n",
    "print(b)"
   ]
  },
  {
   "cell_type": "code",
   "execution_count": 129,
   "metadata": {
    "id": "znxs13uT_gbr"
   },
   "outputs": [
    {
     "data": {
      "text/plain": [
       "array([[0, 1, 2],\n",
       "       [1, 2, 3],\n",
       "       [2, 3, 4]])"
      ]
     },
     "execution_count": 129,
     "metadata": {},
     "output_type": "execute_result"
    }
   ],
   "source": [
    "a + b"
   ]
  },
  {
   "cell_type": "markdown",
   "metadata": {
    "id": "pF8kng6v_gbs"
   },
   "source": [
    "![Broadcasting Visual](https://www.kukuxiaai.com/images/blog/tensorflow/course/broadcasting.png)"
   ]
  },
  {
   "cell_type": "markdown",
   "metadata": {
    "id": "5XyZSihx_gbs",
    "jp-MarkdownHeadingCollapsed": true
   },
   "source": [
    "### Rules of Broadcasting\n",
    "\n",
    "Broadcasting in NumPy follows a strict set of rules to determine the interaction between the two arrays:\n",
    "\n",
    "- Rule 1: If the two arrays differ in their number of dimensions, the shape of the one with fewer dimensions is *padded* with ones on its leading (left) side.\n",
    "- Rule 2: If the shape of the two arrays does not match in any dimension, the array with shape equal to 1 in that dimension is stretched to match the other shape.\n",
    "- Rule 3: If in any dimension the sizes disagree and neither is equal to 1, an error is raised."
   ]
  },
  {
   "cell_type": "code",
   "execution_count": 130,
   "metadata": {
    "colab": {
     "base_uri": "https://localhost:8080/"
    },
    "id": "1zcDLYeHPM0O",
    "outputId": "dbc5a1bd-ce01-4776-9283-a82ebbd46aa0"
   },
   "outputs": [
    {
     "data": {
      "text/plain": [
       "array([5, 6, 7])"
      ]
     },
     "execution_count": 130,
     "metadata": {},
     "output_type": "execute_result"
    }
   ],
   "source": [
    "a = np.arange(3)\n",
    "a + 5"
   ]
  },
  {
   "cell_type": "markdown",
   "metadata": {
    "id": "NcF8KBRyPNsu"
   },
   "source": [
    "a.shape = (3,)\n",
    "\n",
    "5.shape = (,) --> (1,) --> (3,)"
   ]
  },
  {
   "cell_type": "code",
   "execution_count": 131,
   "metadata": {
    "colab": {
     "base_uri": "https://localhost:8080/"
    },
    "id": "dyjK9aNeP4Vk",
    "outputId": "dab9420f-0ecc-4e3e-a257-303caf671fe1"
   },
   "outputs": [
    {
     "name": "stdout",
     "output_type": "stream",
     "text": [
      "[[0]\n",
      " [1]\n",
      " [2]]\n",
      "[0 1 2]\n"
     ]
    },
    {
     "data": {
      "text/plain": [
       "array([[0, 1, 2],\n",
       "       [1, 2, 3],\n",
       "       [2, 3, 4]])"
      ]
     },
     "execution_count": 131,
     "metadata": {},
     "output_type": "execute_result"
    }
   ],
   "source": [
    "a = np.arange(3).reshape((3, 1))\n",
    "b = np.arange(3)\n",
    "print(a)\n",
    "print(b)\n",
    "a + b"
   ]
  },
  {
   "cell_type": "markdown",
   "metadata": {
    "id": "r5CW9SBdQJ9i"
   },
   "source": [
    "a.shape = (3, 1)          --> (3, 3)\n",
    "\n",
    "b.shape = (3,) --> (1, 3) --> (3, 3)"
   ]
  },
  {
   "cell_type": "code",
   "execution_count": null,
   "metadata": {},
   "outputs": [],
   "source": [
    "# 3, 3\n",
    "#    3"
   ]
  },
  {
   "cell_type": "markdown",
   "metadata": {},
   "source": [
    "## Aggregation "
   ]
  },
  {
   "cell_type": "markdown",
   "metadata": {},
   "source": [
    "<img src=\"aggregations.png\" width=600px>"
   ]
  },
  {
   "cell_type": "code",
   "execution_count": 132,
   "metadata": {},
   "outputs": [],
   "source": [
    "import random"
   ]
  },
  {
   "cell_type": "code",
   "execution_count": 133,
   "metadata": {},
   "outputs": [
    {
     "name": "stdout",
     "output_type": "stream",
     "text": [
      "195 ms ± 11.9 ms per loop (mean ± std. dev. of 7 runs, 1 loop each)\n"
     ]
    }
   ],
   "source": [
    "data = [random.random() for _ in range(10_000_000)]\n",
    "%timeit min(data)"
   ]
  },
  {
   "cell_type": "code",
   "execution_count": 134,
   "metadata": {},
   "outputs": [
    {
     "name": "stdout",
     "output_type": "stream",
     "text": [
      "34.1 ms ± 2.79 ms per loop (mean ± std. dev. of 7 runs, 10 loops each)\n"
     ]
    }
   ],
   "source": [
    "np_data = np.array(data)\n",
    "%timeit np.min(np_data)"
   ]
  },
  {
   "cell_type": "markdown",
   "metadata": {},
   "source": [
    "## Masking"
   ]
  },
  {
   "cell_type": "code",
   "execution_count": 135,
   "metadata": {},
   "outputs": [
    {
     "data": {
      "text/plain": [
       "array([ 9, 16, 25, 36, 49])"
      ]
     },
     "execution_count": 135,
     "metadata": {},
     "output_type": "execute_result"
    }
   ],
   "source": [
    "a = np.arange(8) ** 2\n",
    "a[a > 8]"
   ]
  },
  {
   "cell_type": "code",
   "execution_count": 136,
   "metadata": {},
   "outputs": [
    {
     "data": {
      "text/plain": [
       "array([False, False, False,  True,  True,  True,  True,  True])"
      ]
     },
     "execution_count": 136,
     "metadata": {},
     "output_type": "execute_result"
    }
   ],
   "source": [
    "a > 8"
   ]
  },
  {
   "cell_type": "code",
   "execution_count": 137,
   "metadata": {},
   "outputs": [
    {
     "name": "stdout",
     "output_type": "stream",
     "text": [
      "[0 2 4 6]\n"
     ]
    },
    {
     "data": {
      "text/plain": [
       "array([6, 6, 4, 4, 0, 0, 2, 2])"
      ]
     },
     "execution_count": 137,
     "metadata": {},
     "output_type": "execute_result"
    }
   ],
   "source": [
    "a = np.arange(4) * 2\n",
    "print(a)\n",
    "a[[3, 3, 2, 2, 0, 0, 1, 1]]"
   ]
  },
  {
   "cell_type": "code",
   "execution_count": null,
   "metadata": {},
   "outputs": [],
   "source": [
    "np.ix_()"
   ]
  }
 ],
 "metadata": {
  "colab": {
   "provenance": []
  },
  "gpuClass": "standard",
  "kernelspec": {
   "display_name": "Python [conda env:env3.8]",
   "language": "python",
   "name": "conda-env-env3.8-py"
  },
  "language_info": {
   "codemirror_mode": {
    "name": "ipython",
    "version": 3
   },
   "file_extension": ".py",
   "mimetype": "text/x-python",
   "name": "python",
   "nbconvert_exporter": "python",
   "pygments_lexer": "ipython3",
   "version": "3.8.12"
  }
 },
 "nbformat": 4,
 "nbformat_minor": 4
}
