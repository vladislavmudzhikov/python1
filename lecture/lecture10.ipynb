{
 "cells": [
  {
   "cell_type": "markdown",
   "id": "37c20297",
   "metadata": {},
   "source": [
    "# Содержание\n",
    "\n",
    "1. python data model\n",
    "2. statements and expressions \n",
    "3. keywords\n",
    "4. built-in\n",
    "5. try-except-else-finally\n",
    "6. decorators"
   ]
  },
  {
   "cell_type": "markdown",
   "id": "72280085",
   "metadata": {},
   "source": [
    "# python data  model"
   ]
  },
  {
   "cell_type": "markdown",
   "id": "690901a9",
   "metadata": {},
   "source": [
    "[python data model link](https://docs.python.org/3/reference/datamodel.html)"
   ]
  },
  {
   "cell_type": "code",
   "execution_count": 1,
   "id": "0b4c7786",
   "metadata": {},
   "outputs": [
    {
     "name": "stdout",
     "output_type": "stream",
     "text": [
      "value: 10 \n",
      "type:  <class 'int'> \n",
      "memory addr: 4333872960\n"
     ]
    }
   ],
   "source": [
    "obj = 10\n",
    "print(f'value: {obj} \\n'\n",
    "      f'type:  {type(obj)} \\n'\n",
    "      f'memory addr: {id(obj)}')"
   ]
  },
  {
   "cell_type": "markdown",
   "id": "1d10e7b4",
   "metadata": {},
   "source": [
    "# statements and expressions"
   ]
  },
  {
   "cell_type": "markdown",
   "id": "1b2dc129-9456-468d-adaa-f778c5971bac",
   "metadata": {},
   "source": [
    "- [BNF Notation](https://www.geeksforgeeks.org/bnf-notation-in-compiler-design/)\n",
    "- [expressions](https://docs.python.org/3/reference/expressions.html)\n",
    "- [simple statements](https://docs.python.org/3/reference/simple_stmts.html)\n",
    "- [compound statements](https://docs.python.org/3/reference/compound_stmts.html)"
   ]
  },
  {
   "cell_type": "markdown",
   "id": "7c6cafc2",
   "metadata": {},
   "source": [
    "## expression"
   ]
  },
  {
   "cell_type": "markdown",
   "id": "06e77266",
   "metadata": {},
   "source": [
    "An expression in a programming language is a syntactic entity that may be evaluated to determine its value. It is a combination of one or more constants, variables, functions, and operators that the programming language interprets (according to its particular rules of precedence and of association) and computes to produce (\"to return\", in a stateful environment) another value.\n",
    "This process, for mathematical expressions, is called evaluation."
   ]
  },
  {
   "cell_type": "code",
   "execution_count": 8,
   "id": "f455a913",
   "metadata": {},
   "outputs": [
    {
     "data": {
      "text/plain": [
       "-8.7"
      ]
     },
     "execution_count": 8,
     "metadata": {},
     "output_type": "execute_result"
    }
   ],
   "source": [
    "3 / 10 - 3 ** 2"
   ]
  },
  {
   "cell_type": "code",
   "execution_count": 9,
   "id": "148199bb",
   "metadata": {},
   "outputs": [
    {
     "data": {
      "text/plain": [
       "[3, 4, 5]"
      ]
     },
     "execution_count": 9,
     "metadata": {},
     "output_type": "execute_result"
    }
   ],
   "source": [
    "[1, 2, 3, 4, 5][-3:]"
   ]
  },
  {
   "cell_type": "code",
   "execution_count": 10,
   "id": "de717aed",
   "metadata": {},
   "outputs": [
    {
     "data": {
      "text/plain": [
       "112"
      ]
     },
     "execution_count": 10,
     "metadata": {},
     "output_type": "execute_result"
    }
   ],
   "source": [
    "one(111)"
   ]
  },
  {
   "cell_type": "code",
   "execution_count": 11,
   "id": "4c62c531",
   "metadata": {},
   "outputs": [
    {
     "data": {
      "text/plain": [
       "True"
      ]
     },
     "execution_count": 11,
     "metadata": {},
     "output_type": "execute_result"
    }
   ],
   "source": [
    "1 in [1, 2, 3]"
   ]
  },
  {
   "cell_type": "code",
   "execution_count": 12,
   "id": "182cc5d8",
   "metadata": {},
   "outputs": [
    {
     "data": {
      "text/plain": [
       "True"
      ]
     },
     "execution_count": 12,
     "metadata": {},
     "output_type": "execute_result"
    }
   ],
   "source": [
    "True or False"
   ]
  },
  {
   "cell_type": "code",
   "execution_count": 13,
   "id": "83919f93",
   "metadata": {},
   "outputs": [
    {
     "data": {
      "text/plain": [
       "1"
      ]
     },
     "execution_count": 13,
     "metadata": {},
     "output_type": "execute_result"
    }
   ],
   "source": [
    "1 if 1 else 0"
   ]
  },
  {
   "cell_type": "code",
   "execution_count": 14,
   "id": "f09d327e",
   "metadata": {},
   "outputs": [
    {
     "data": {
      "text/plain": [
       "<function __main__.<lambda>(x)>"
      ]
     },
     "execution_count": 14,
     "metadata": {},
     "output_type": "execute_result"
    }
   ],
   "source": [
    "lambda x: x"
   ]
  },
  {
   "cell_type": "code",
   "execution_count": 15,
   "id": "fdab1260",
   "metadata": {},
   "outputs": [
    {
     "data": {
      "text/plain": [
       "True"
      ]
     },
     "execution_count": 15,
     "metadata": {},
     "output_type": "execute_result"
    }
   ],
   "source": [
    "1 < 2 < 3"
   ]
  },
  {
   "cell_type": "code",
   "execution_count": 16,
   "id": "49734776",
   "metadata": {},
   "outputs": [
    {
     "data": {
      "text/plain": [
       "<generator object <genexpr> at 0x10569f040>"
      ]
     },
     "execution_count": 16,
     "metadata": {},
     "output_type": "execute_result"
    }
   ],
   "source": [
    "(i for i in range(5))"
   ]
  },
  {
   "cell_type": "markdown",
   "id": "41c9952d",
   "metadata": {},
   "source": [
    "Rule: if you can print it, or assign it to a variable, it is an expression. If you can’t, it’s a statement."
   ]
  },
  {
   "cell_type": "markdown",
   "id": "c64e25ae",
   "metadata": {},
   "source": [
    "## statement"
   ]
  },
  {
   "cell_type": "markdown",
   "id": "bfb2dd01",
   "metadata": {},
   "source": [
    "In computer programming, a statement is a syntactic unit of an imperative programming language that expresses some action to be carried out. A program written in such a language is formed by a sequence of one or more statements.\n",
    "A statement may have internal components (e.g., expressions)."
   ]
  },
  {
   "cell_type": "code",
   "execution_count": 2,
   "id": "25e1bbf4",
   "metadata": {},
   "outputs": [],
   "source": [
    "value = 22"
   ]
  },
  {
   "cell_type": "code",
   "execution_count": 3,
   "id": "ff26fcd9",
   "metadata": {},
   "outputs": [],
   "source": [
    "value = value + 1"
   ]
  },
  {
   "cell_type": "code",
   "execution_count": 4,
   "id": "1c4db217",
   "metadata": {},
   "outputs": [],
   "source": [
    "value += 1"
   ]
  },
  {
   "cell_type": "code",
   "execution_count": 5,
   "id": "fb3a13b5",
   "metadata": {},
   "outputs": [],
   "source": [
    "def foo(): pass"
   ]
  },
  {
   "cell_type": "code",
   "execution_count": 6,
   "id": "fc171631",
   "metadata": {},
   "outputs": [],
   "source": [
    "for i in range(6): break"
   ]
  },
  {
   "cell_type": "code",
   "execution_count": 7,
   "id": "73fd2b99",
   "metadata": {},
   "outputs": [],
   "source": [
    "def one(x):\n",
    "    return x + 1"
   ]
  },
  {
   "cell_type": "markdown",
   "id": "aa307a7d",
   "metadata": {},
   "source": [
    "# keywords"
   ]
  },
  {
   "cell_type": "code",
   "execution_count": null,
   "id": "db6b29d6",
   "metadata": {},
   "outputs": [],
   "source": [
    "# Keyword Description\n",
    "and       # A logical operator\n",
    "as        # To create an alias\n",
    "assert    # For debugging\n",
    "break     # To break out of a loop\n",
    "class     # To define a class\n",
    "continue  # To continue to the next iteration of a loop\n",
    "def       # To define a function\n",
    "del       # To delete an object\n",
    "elif      # Used in conditional statements, same as else if\n",
    "else      # Used in conditional statements\n",
    "except    # Used with exceptions, what to do when an exception occurs\n",
    "False     # Boolean value, result of comparison operations\n",
    "finally   # Used with exceptions, a block of code that will be executed no matter if there is an exception or not\n",
    "for       # To create a for loop\n",
    "from      # To import specific parts of a module\n",
    "global    # To declare a global variable\n",
    "if        # To make a conditional statement\n",
    "import    # To import a module\n",
    "in        # To check if a value is present in a list, tuple, etc.\n",
    "is        # To test if two variables are equal\n",
    "lambda    # To create an anonymous function\n",
    "None      # Represents a null value\n",
    "nonlocal  # To declare a non-local variable\n",
    "not       # A logical operator\n",
    "or        # A logical operator\n",
    "pass      # A null statement, a statement that will do nothing\n",
    "raise     # To raise an exception\n",
    "return    # To exit a function and return a value\n",
    "True      # Boolean value, result of comparison operations\n",
    "try       # To make a try...except statement\n",
    "while     # To create a while loop\n",
    "with      # Used to simplify exception handling\n",
    "yield     # To end a function, returns a generator"
   ]
  },
  {
   "cell_type": "markdown",
   "id": "912fb0e5",
   "metadata": {},
   "source": [
    "# built-in"
   ]
  },
  {
   "cell_type": "markdown",
   "id": "744f46c7",
   "metadata": {},
   "source": [
    "[The Python Standard Library](https://docs.python.org/3/library/index.html#the-python-standard-library)"
   ]
  },
  {
   "cell_type": "markdown",
   "id": "e96282e8",
   "metadata": {},
   "source": [
    "## Errors and Exceptions"
   ]
  },
  {
   "cell_type": "markdown",
   "id": "18d61459",
   "metadata": {},
   "source": [
    "Существует два вида ошибок: синтаксические и исключения"
   ]
  },
  {
   "cell_type": "markdown",
   "id": "d2c2ce7a",
   "metadata": {},
   "source": [
    "Parsing errors"
   ]
  },
  {
   "cell_type": "code",
   "execution_count": 17,
   "id": "c16849ca",
   "metadata": {},
   "outputs": [
    {
     "ename": "SyntaxError",
     "evalue": "invalid syntax (2884618176.py, line 1)",
     "output_type": "error",
     "traceback": [
      "\u001b[0;36m  File \u001b[0;32m\"/var/folders/v8/2cskhqjj0_g0zp3824glf1tm0000gn/T/ipykernel_68615/2884618176.py\"\u001b[0;36m, line \u001b[0;32m1\u001b[0m\n\u001b[0;31m    while True print('Hello world')\u001b[0m\n\u001b[0m               ^\u001b[0m\n\u001b[0;31mSyntaxError\u001b[0m\u001b[0;31m:\u001b[0m invalid syntax\n"
     ]
    }
   ],
   "source": [
    "while True print('Hello world')"
   ]
  },
  {
   "cell_type": "markdown",
   "id": "8ab808c8",
   "metadata": {},
   "source": [
    "Exceptions"
   ]
  },
  {
   "cell_type": "code",
   "execution_count": 20,
   "id": "565a34cc",
   "metadata": {},
   "outputs": [
    {
     "ename": "TypeError",
     "evalue": "can only concatenate str (not \"int\") to str",
     "output_type": "error",
     "traceback": [
      "\u001b[0;31m---------------------------------------------------------------------------\u001b[0m",
      "\u001b[0;31mTypeError\u001b[0m                                 Traceback (most recent call last)",
      "\u001b[0;32m/var/folders/v8/2cskhqjj0_g0zp3824glf1tm0000gn/T/ipykernel_68615/3877355252.py\u001b[0m in \u001b[0;36m<module>\u001b[0;34m\u001b[0m\n\u001b[1;32m      3\u001b[0m \u001b[0;31m# 42 + variable_404 * 0      # NameError\u001b[0m\u001b[0;34m\u001b[0m\u001b[0;34m\u001b[0m\u001b[0;34m\u001b[0m\u001b[0m\n\u001b[1;32m      4\u001b[0m \u001b[0;34m\u001b[0m\u001b[0m\n\u001b[0;32m----> 5\u001b[0;31m \u001b[0;34m'2'\u001b[0m \u001b[0;34m+\u001b[0m \u001b[0;36m2\u001b[0m                    \u001b[0;31m# TypeError\u001b[0m\u001b[0;34m\u001b[0m\u001b[0;34m\u001b[0m\u001b[0m\n\u001b[0m",
      "\u001b[0;31mTypeError\u001b[0m: can only concatenate str (not \"int\") to str"
     ]
    }
   ],
   "source": [
    "10 * (1 / 0)               # ZeroDivisionError\n",
    "\n",
    "42 + variable_404 * 0      # NameError\n",
    "\n",
    "'2' + 2                    # TypeError"
   ]
  },
  {
   "cell_type": "markdown",
   "id": "10d0d853",
   "metadata": {},
   "source": [
    "[built-in exceptions](https://docs.python.org/3/library/exceptions.html#built-in-exceptions)"
   ]
  },
  {
   "cell_type": "code",
   "execution_count": null,
   "id": "58b62055",
   "metadata": {},
   "outputs": [],
   "source": [
    "# python3.11 exception's tree\n",
    "\n",
    "# BaseException\n",
    "#  ├── BaseExceptionGroup\n",
    "#  ├── GeneratorExit\n",
    "#  ├── KeyboardInterrupt\n",
    "#  ├── SystemExit\n",
    "#  └── Exception\n",
    "#       ├── ArithmeticError\n",
    "#       │    ├── FloatingPointError\n",
    "#       │    ├── OverflowError\n",
    "#       │    └── ZeroDivisionError\n",
    "#       ├── AssertionError\n",
    "#       ├── AttributeError\n",
    "#       ├── BufferError\n",
    "#       ├── EOFError\n",
    "#       ├── ExceptionGroup [BaseExceptionGroup]\n",
    "#       ├── ImportError\n",
    "#       │    └── ModuleNotFoundError\n",
    "#       ├── LookupError\n",
    "#       │    ├── IndexError\n",
    "#       │    └── KeyError\n",
    "#       ├── MemoryError\n",
    "#       ├── NameError\n",
    "#       │    └── UnboundLocalError\n",
    "#       ├── OSError\n",
    "#       │    ├── BlockingIOError\n",
    "#       │    ├── ChildProcessError\n",
    "#       │    ├── ConnectionError\n",
    "#       │    │    ├── BrokenPipeError\n",
    "#       │    │    ├── ConnectionAbortedError\n",
    "#       │    │    ├── ConnectionRefusedError\n",
    "#       │    │    └── ConnectionResetError\n",
    "#       │    ├── FileExistsError\n",
    "#       │    ├── FileNotFoundError\n",
    "#       │    ├── InterruptedError\n",
    "#       │    ├── IsADirectoryError\n",
    "#       │    ├── NotADirectoryError\n",
    "#       │    ├── PermissionError\n",
    "#       │    ├── ProcessLookupError\n",
    "#       │    └── TimeoutError\n",
    "#       ├── ReferenceError\n",
    "#       ├── RuntimeError\n",
    "#       │    ├── NotImplementedError\n",
    "#       │    └── RecursionError\n",
    "#       ├── StopAsyncIteration\n",
    "#       ├── StopIteration\n",
    "#       ├── SyntaxError\n",
    "#       │    └── IndentationError\n",
    "#       │         └── TabError\n",
    "#       ├── SystemError\n",
    "#       ├── TypeError\n",
    "#       ├── ValueError\n",
    "#       │    └── UnicodeError\n",
    "#       │         ├── UnicodeDecodeError\n",
    "#       │         ├── UnicodeEncodeError\n",
    "#       │         └── UnicodeTranslateError\n",
    "#       └── Warning\n",
    "#            ├── BytesWarning\n",
    "#            ├── DeprecationWarning\n",
    "#            ├── EncodingWarning\n",
    "#            ├── FutureWarning\n",
    "#            ├── ImportWarning\n",
    "#            ├── PendingDeprecationWarning\n",
    "#            ├── ResourceWarning\n",
    "#            ├── RuntimeWarning\n",
    "#            ├── SyntaxWarning\n",
    "#            ├── UnicodeWarning\n",
    "#            └── UserWarning"
   ]
  },
  {
   "cell_type": "markdown",
   "id": "afe60a2d",
   "metadata": {},
   "source": [
    "Естественно, можно определять свои классы исключений, наследуя от Exception или от какого-нибудь его потомка, подходящего по смыслу. Именно так и нужно делать, чтобы Ваши исключения не путались с системными."
   ]
  },
  {
   "cell_type": "code",
   "execution_count": 21,
   "id": "5aead00d",
   "metadata": {},
   "outputs": [],
   "source": [
    "class MyError(Exception):\n",
    "    \n",
    "    def __init__(self, value):\n",
    "        self.value = value\n",
    "        \n",
    "    def __str__(self):\n",
    "        return str(self.value)\n",
    "\n",
    "def f(x):\n",
    "    if x < 0:\n",
    "        raise MyError(x)\n",
    "    else:\n",
    "        return x"
   ]
  },
  {
   "cell_type": "code",
   "execution_count": 22,
   "id": "41f44d19",
   "metadata": {},
   "outputs": [
    {
     "ename": "MyError",
     "evalue": "-2",
     "output_type": "error",
     "traceback": [
      "\u001b[0;31m---------------------------------------------------------------------------\u001b[0m",
      "\u001b[0;31mMyError\u001b[0m                                   Traceback (most recent call last)",
      "\u001b[0;32m/var/folders/v8/2cskhqjj0_g0zp3824glf1tm0000gn/T/ipykernel_68615/2317839144.py\u001b[0m in \u001b[0;36m<module>\u001b[0;34m\u001b[0m\n\u001b[1;32m      1\u001b[0m \u001b[0mx\u001b[0m \u001b[0;34m=\u001b[0m \u001b[0mf\u001b[0m\u001b[0;34m(\u001b[0m\u001b[0;36m2\u001b[0m\u001b[0;34m)\u001b[0m\u001b[0;34m\u001b[0m\u001b[0;34m\u001b[0m\u001b[0m\n\u001b[0;32m----> 2\u001b[0;31m \u001b[0mx\u001b[0m \u001b[0;34m=\u001b[0m \u001b[0mf\u001b[0m\u001b[0;34m(\u001b[0m\u001b[0;34m-\u001b[0m\u001b[0;36m2\u001b[0m\u001b[0;34m)\u001b[0m\u001b[0;34m\u001b[0m\u001b[0;34m\u001b[0m\u001b[0m\n\u001b[0m",
      "\u001b[0;32m/var/folders/v8/2cskhqjj0_g0zp3824glf1tm0000gn/T/ipykernel_68615/203342627.py\u001b[0m in \u001b[0;36mf\u001b[0;34m(x)\u001b[0m\n\u001b[1;32m      9\u001b[0m \u001b[0;32mdef\u001b[0m \u001b[0mf\u001b[0m\u001b[0;34m(\u001b[0m\u001b[0mx\u001b[0m\u001b[0;34m)\u001b[0m\u001b[0;34m:\u001b[0m\u001b[0;34m\u001b[0m\u001b[0;34m\u001b[0m\u001b[0m\n\u001b[1;32m     10\u001b[0m     \u001b[0;32mif\u001b[0m \u001b[0mx\u001b[0m \u001b[0;34m<\u001b[0m \u001b[0;36m0\u001b[0m\u001b[0;34m:\u001b[0m\u001b[0;34m\u001b[0m\u001b[0;34m\u001b[0m\u001b[0m\n\u001b[0;32m---> 11\u001b[0;31m         \u001b[0;32mraise\u001b[0m \u001b[0mMyError\u001b[0m\u001b[0;34m(\u001b[0m\u001b[0mx\u001b[0m\u001b[0;34m)\u001b[0m\u001b[0;34m\u001b[0m\u001b[0;34m\u001b[0m\u001b[0m\n\u001b[0m\u001b[1;32m     12\u001b[0m     \u001b[0;32melse\u001b[0m\u001b[0;34m:\u001b[0m\u001b[0;34m\u001b[0m\u001b[0;34m\u001b[0m\u001b[0m\n\u001b[1;32m     13\u001b[0m         \u001b[0;32mreturn\u001b[0m \u001b[0mx\u001b[0m\u001b[0;34m\u001b[0m\u001b[0;34m\u001b[0m\u001b[0m\n",
      "\u001b[0;31mMyError\u001b[0m: -2"
     ]
    }
   ],
   "source": [
    "x = f(2)\n",
    "x = f(-2)"
   ]
  },
  {
   "cell_type": "markdown",
   "id": "8d55f889",
   "metadata": {},
   "source": [
    "### raise"
   ]
  },
  {
   "cell_type": "markdown",
   "id": "eda25e63",
   "metadata": {},
   "source": [
    "Чтобы бросить исключение и прервать выполнение программы, достаточно использовать оператор `raise`:"
   ]
  },
  {
   "cell_type": "code",
   "execution_count": 26,
   "id": "ff667c17",
   "metadata": {
    "ExecuteTime": {
     "end_time": "2019-10-29T16:43:04.438910Z",
     "start_time": "2019-10-29T16:43:03.055385Z"
    }
   },
   "outputs": [],
   "source": [
    "def test(x):\n",
    "    if not x.isdigit() or int(x) > 5 or int(x) < 1:\n",
    "        raise Exception(f\"Ошибка ввода: нужно ввести число от 1 до 5\\n\"\n",
    "                        f\"введено число: {x}\")\n",
    "    print(\"Все правильно!\")"
   ]
  },
  {
   "cell_type": "code",
   "execution_count": 28,
   "id": "0a8f4e63",
   "metadata": {},
   "outputs": [
    {
     "name": "stdin",
     "output_type": "stream",
     "text": [
      "Введите число от 1 до 5:  42\n"
     ]
    }
   ],
   "source": [
    "x = input(\"Введите число от 1 до 5: \")"
   ]
  },
  {
   "cell_type": "code",
   "execution_count": 29,
   "id": "da63c752",
   "metadata": {},
   "outputs": [
    {
     "ename": "Exception",
     "evalue": "Ошибка ввода: нужно ввести число от 1 до 5\nвведено число: 42",
     "output_type": "error",
     "traceback": [
      "\u001b[0;31m---------------------------------------------------------------------------\u001b[0m",
      "\u001b[0;31mException\u001b[0m                                 Traceback (most recent call last)",
      "\u001b[0;32m/var/folders/v8/2cskhqjj0_g0zp3824glf1tm0000gn/T/ipykernel_68615/3272648983.py\u001b[0m in \u001b[0;36m<module>\u001b[0;34m\u001b[0m\n\u001b[0;32m----> 1\u001b[0;31m \u001b[0mtest\u001b[0m\u001b[0;34m(\u001b[0m\u001b[0mx\u001b[0m\u001b[0;34m)\u001b[0m\u001b[0;34m\u001b[0m\u001b[0;34m\u001b[0m\u001b[0m\n\u001b[0m",
      "\u001b[0;32m/var/folders/v8/2cskhqjj0_g0zp3824glf1tm0000gn/T/ipykernel_68615/4203798024.py\u001b[0m in \u001b[0;36mtest\u001b[0;34m(x)\u001b[0m\n\u001b[1;32m      1\u001b[0m \u001b[0;32mdef\u001b[0m \u001b[0mtest\u001b[0m\u001b[0;34m(\u001b[0m\u001b[0mx\u001b[0m\u001b[0;34m)\u001b[0m\u001b[0;34m:\u001b[0m\u001b[0;34m\u001b[0m\u001b[0;34m\u001b[0m\u001b[0m\n\u001b[1;32m      2\u001b[0m     \u001b[0;32mif\u001b[0m \u001b[0;32mnot\u001b[0m \u001b[0mx\u001b[0m\u001b[0;34m.\u001b[0m\u001b[0misdigit\u001b[0m\u001b[0;34m(\u001b[0m\u001b[0;34m)\u001b[0m \u001b[0;32mor\u001b[0m \u001b[0mint\u001b[0m\u001b[0;34m(\u001b[0m\u001b[0mx\u001b[0m\u001b[0;34m)\u001b[0m \u001b[0;34m>\u001b[0m \u001b[0;36m5\u001b[0m \u001b[0;32mor\u001b[0m \u001b[0mint\u001b[0m\u001b[0;34m(\u001b[0m\u001b[0mx\u001b[0m\u001b[0;34m)\u001b[0m \u001b[0;34m<\u001b[0m \u001b[0;36m1\u001b[0m\u001b[0;34m:\u001b[0m\u001b[0;34m\u001b[0m\u001b[0;34m\u001b[0m\u001b[0m\n\u001b[0;32m----> 3\u001b[0;31m         raise Exception(f\"Ошибка ввода: нужно ввести число от 1 до 5\\n\"\n\u001b[0m\u001b[1;32m      4\u001b[0m                         f\"введено число: {x}\")\n\u001b[1;32m      5\u001b[0m     \u001b[0mprint\u001b[0m\u001b[0;34m(\u001b[0m\u001b[0;34m\"Все правильно!\"\u001b[0m\u001b[0;34m)\u001b[0m\u001b[0;34m\u001b[0m\u001b[0;34m\u001b[0m\u001b[0m\n",
      "\u001b[0;31mException\u001b[0m: Ошибка ввода: нужно ввести число от 1 до 5\nвведено число: 42"
     ]
    }
   ],
   "source": [
    "test(x)"
   ]
  },
  {
   "cell_type": "markdown",
   "id": "1e0ad2f6",
   "metadata": {},
   "source": [
    "### assert"
   ]
  },
  {
   "cell_type": "code",
   "execution_count": 30,
   "id": "db896e68",
   "metadata": {
    "ExecuteTime": {
     "end_time": "2019-10-29T16:49:34.746048Z",
     "start_time": "2019-10-29T16:49:33.146490Z"
    }
   },
   "outputs": [
    {
     "name": "stdin",
     "output_type": "stream",
     "text": [
      "Введите число от 1 до 5:  42\n"
     ]
    },
    {
     "ename": "AssertionError",
     "evalue": "",
     "output_type": "error",
     "traceback": [
      "\u001b[0;31m---------------------------------------------------------------------------\u001b[0m",
      "\u001b[0;31mAssertionError\u001b[0m                            Traceback (most recent call last)",
      "\u001b[0;32m/var/folders/v8/2cskhqjj0_g0zp3824glf1tm0000gn/T/ipykernel_68615/3598014462.py\u001b[0m in \u001b[0;36m<module>\u001b[0;34m\u001b[0m\n\u001b[1;32m      1\u001b[0m \u001b[0mx\u001b[0m \u001b[0;34m=\u001b[0m \u001b[0minput\u001b[0m\u001b[0;34m(\u001b[0m\u001b[0;34m\"Введите число от 1 до 5: \"\u001b[0m\u001b[0;34m)\u001b[0m\u001b[0;34m\u001b[0m\u001b[0;34m\u001b[0m\u001b[0m\n\u001b[1;32m      2\u001b[0m \u001b[0;34m\u001b[0m\u001b[0m\n\u001b[0;32m----> 3\u001b[0;31m \u001b[0;32massert\u001b[0m \u001b[0;34m(\u001b[0m\u001b[0mx\u001b[0m\u001b[0;34m.\u001b[0m\u001b[0misdigit\u001b[0m\u001b[0;34m(\u001b[0m\u001b[0;34m)\u001b[0m \u001b[0;32mand\u001b[0m  \u001b[0mint\u001b[0m\u001b[0;34m(\u001b[0m\u001b[0mx\u001b[0m\u001b[0;34m)\u001b[0m \u001b[0;34m<=\u001b[0m \u001b[0;36m5\u001b[0m \u001b[0;32mand\u001b[0m \u001b[0mint\u001b[0m\u001b[0;34m(\u001b[0m\u001b[0mx\u001b[0m\u001b[0;34m)\u001b[0m\u001b[0;34m>=\u001b[0m\u001b[0;36m1\u001b[0m\u001b[0;34m)\u001b[0m  \u001b[0;31m# , \"Ошибка ввода: нужно ввести число от 1 до 5\"\u001b[0m\u001b[0;34m\u001b[0m\u001b[0;34m\u001b[0m\u001b[0m\n\u001b[0m\u001b[1;32m      4\u001b[0m \u001b[0;34m\u001b[0m\u001b[0m\n\u001b[1;32m      5\u001b[0m \u001b[0mprint\u001b[0m\u001b[0;34m(\u001b[0m\u001b[0;34m\"Все правильно!\"\u001b[0m\u001b[0;34m)\u001b[0m\u001b[0;34m\u001b[0m\u001b[0;34m\u001b[0m\u001b[0m\n",
      "\u001b[0;31mAssertionError\u001b[0m: "
     ]
    }
   ],
   "source": [
    "x = input(\"Введите число от 1 до 5: \")\n",
    "\n",
    "assert (x.isdigit() and  int(x) <= 5 and int(x)>=1)  # , \"Ошибка ввода: нужно ввести число от 1 до 5\"\n",
    "\n",
    "print(\"Все правильно!\")"
   ]
  },
  {
   "cell_type": "code",
   "execution_count": 31,
   "id": "f5026349-acd5-4ebd-8ac5-c7de091ee3e4",
   "metadata": {},
   "outputs": [
    {
     "name": "stdin",
     "output_type": "stream",
     "text": [
      "Введите число от 1 до 5:  42\n"
     ]
    },
    {
     "ename": "AssertionError",
     "evalue": "Ошибка ввода: нужно ввести число от 1 до 5",
     "output_type": "error",
     "traceback": [
      "\u001b[0;31m---------------------------------------------------------------------------\u001b[0m",
      "\u001b[0;31mAssertionError\u001b[0m                            Traceback (most recent call last)",
      "\u001b[0;32m/var/folders/v8/2cskhqjj0_g0zp3824glf1tm0000gn/T/ipykernel_68615/2397317575.py\u001b[0m in \u001b[0;36m<module>\u001b[0;34m\u001b[0m\n\u001b[1;32m      1\u001b[0m \u001b[0mx\u001b[0m \u001b[0;34m=\u001b[0m \u001b[0minput\u001b[0m\u001b[0;34m(\u001b[0m\u001b[0;34m\"Введите число от 1 до 5: \"\u001b[0m\u001b[0;34m)\u001b[0m\u001b[0;34m\u001b[0m\u001b[0;34m\u001b[0m\u001b[0m\n\u001b[1;32m      2\u001b[0m \u001b[0;34m\u001b[0m\u001b[0m\n\u001b[0;32m----> 3\u001b[0;31m \u001b[0;32massert\u001b[0m \u001b[0;34m(\u001b[0m\u001b[0mx\u001b[0m\u001b[0;34m.\u001b[0m\u001b[0misdigit\u001b[0m\u001b[0;34m(\u001b[0m\u001b[0;34m)\u001b[0m \u001b[0;32mand\u001b[0m  \u001b[0mint\u001b[0m\u001b[0;34m(\u001b[0m\u001b[0mx\u001b[0m\u001b[0;34m)\u001b[0m \u001b[0;34m<=\u001b[0m \u001b[0;36m5\u001b[0m \u001b[0;32mand\u001b[0m \u001b[0mint\u001b[0m\u001b[0;34m(\u001b[0m\u001b[0mx\u001b[0m\u001b[0;34m)\u001b[0m\u001b[0;34m>=\u001b[0m\u001b[0;36m1\u001b[0m\u001b[0;34m)\u001b[0m  \u001b[0;34m,\u001b[0m \u001b[0;34m\"Ошибка ввода: нужно ввести число от 1 до 5\"\u001b[0m\u001b[0;34m\u001b[0m\u001b[0;34m\u001b[0m\u001b[0m\n\u001b[0m\u001b[1;32m      4\u001b[0m \u001b[0;34m\u001b[0m\u001b[0m\n\u001b[1;32m      5\u001b[0m \u001b[0mprint\u001b[0m\u001b[0;34m(\u001b[0m\u001b[0;34m\"Все правильно!\"\u001b[0m\u001b[0;34m)\u001b[0m\u001b[0;34m\u001b[0m\u001b[0;34m\u001b[0m\u001b[0m\n",
      "\u001b[0;31mAssertionError\u001b[0m: Ошибка ввода: нужно ввести число от 1 до 5"
     ]
    }
   ],
   "source": [
    "x = input(\"Введите число от 1 до 5: \")\n",
    "\n",
    "assert (x.isdigit() and  int(x) <= 5 and int(x)>=1)  , \"Ошибка ввода: нужно ввести число от 1 до 5\"\n",
    "\n",
    "print(\"Все правильно!\")"
   ]
  },
  {
   "cell_type": "markdown",
   "id": "edaf6ff9",
   "metadata": {},
   "source": [
    "### try/except"
   ]
  },
  {
   "cell_type": "code",
   "execution_count": 47,
   "id": "f078fd10-f6c3-48de-8db4-e2d3a45e5281",
   "metadata": {},
   "outputs": [
    {
     "ename": "ZeroDivisionError",
     "evalue": "division by zero",
     "output_type": "error",
     "traceback": [
      "\u001b[0;31m---------------------------------------------------------------------------\u001b[0m",
      "\u001b[0;31mZeroDivisionError\u001b[0m                         Traceback (most recent call last)",
      "\u001b[0;32m/var/folders/v8/2cskhqjj0_g0zp3824glf1tm0000gn/T/ipykernel_68615/1455669704.py\u001b[0m in \u001b[0;36m<module>\u001b[0;34m\u001b[0m\n\u001b[0;32m----> 1\u001b[0;31m \u001b[0;36m1\u001b[0m \u001b[0;34m/\u001b[0m \u001b[0;36m0\u001b[0m\u001b[0;34m\u001b[0m\u001b[0;34m\u001b[0m\u001b[0m\n\u001b[0m",
      "\u001b[0;31mZeroDivisionError\u001b[0m: division by zero"
     ]
    }
   ],
   "source": [
    "1 / 0"
   ]
  },
  {
   "cell_type": "code",
   "execution_count": 32,
   "id": "94437b23",
   "metadata": {},
   "outputs": [],
   "source": [
    "def numbers_1_5():\n",
    "    \n",
    "    x = input(\"Введите число от 1 до 5: \")\n",
    "\n",
    "    assert (x.isdigit() and  int(x) <= 5 and int(x)>=1), \"Ошибка ввода: нужно ввести число от 1 до 5\"\n",
    "    print(\"Все правильно!\")"
   ]
  },
  {
   "cell_type": "code",
   "execution_count": 34,
   "id": "e2ea66b1",
   "metadata": {
    "ExecuteTime": {
     "start_time": "2019-10-29T16:46:40.514Z"
    }
   },
   "outputs": [
    {
     "name": "stdin",
     "output_type": "stream",
     "text": [
      "Введите число от 1 до 5:  42\n"
     ]
    },
    {
     "name": "stdout",
     "output_type": "stream",
     "text": [
      "Программа не может быть выполнена!\n"
     ]
    }
   ],
   "source": [
    "try:\n",
    "    numbers_1_5()\n",
    "except:\n",
    "    print(\"Программа не может быть выполнена!\")"
   ]
  },
  {
   "cell_type": "markdown",
   "id": "f10fd15f",
   "metadata": {},
   "source": [
    "Но, синтаксические ошибки не перехватываются:"
   ]
  },
  {
   "cell_type": "code",
   "execution_count": 35,
   "id": "36a177bb",
   "metadata": {
    "ExecuteTime": {
     "end_time": "2019-10-29T16:48:00.755945Z",
     "start_time": "2019-10-29T16:48:00.747374Z"
    }
   },
   "outputs": [
    {
     "ename": "SyntaxError",
     "evalue": "unmatched ')' (1676606663.py, line 2)",
     "output_type": "error",
     "traceback": [
      "\u001b[0;36m  File \u001b[0;32m\"/var/folders/v8/2cskhqjj0_g0zp3824glf1tm0000gn/T/ipykernel_68615/1676606663.py\"\u001b[0;36m, line \u001b[0;32m2\u001b[0m\n\u001b[0;31m    numbers_1_5())\u001b[0m\n\u001b[0m                 ^\u001b[0m\n\u001b[0;31mSyntaxError\u001b[0m\u001b[0;31m:\u001b[0m unmatched ')'\n"
     ]
    }
   ],
   "source": [
    "try:\n",
    "    numbers_1_5())\n",
    "except:\n",
    "    print(\"Программа не может быть выполнена!\")"
   ]
  },
  {
   "cell_type": "markdown",
   "id": "388e47d9",
   "metadata": {},
   "source": [
    "Добавим еще ошибку:"
   ]
  },
  {
   "cell_type": "code",
   "execution_count": 45,
   "id": "407512e3",
   "metadata": {
    "ExecuteTime": {
     "end_time": "2019-10-29T16:49:49.727287Z",
     "start_time": "2019-10-29T16:49:47.089465Z"
    },
    "scrolled": true
   },
   "outputs": [
    {
     "name": "stdin",
     "output_type": "stream",
     "text": [
      "Введите число от 1 до 5:  42\n"
     ]
    },
    {
     "name": "stdout",
     "output_type": "stream",
     "text": [
      "Программа не может быть выполнена!\n"
     ]
    }
   ],
   "source": [
    "try:\n",
    "    numbers_1_5()\n",
    "except AssertionError:\n",
    "    print(\"Программа не может быть выполнена!\")"
   ]
  },
  {
   "cell_type": "code",
   "execution_count": 46,
   "id": "5d8f4a1e-e626-449c-b058-38345f79cb14",
   "metadata": {},
   "outputs": [
    {
     "ename": "ZeroDivisionError",
     "evalue": "division by zero",
     "output_type": "error",
     "traceback": [
      "\u001b[0;31m---------------------------------------------------------------------------\u001b[0m",
      "\u001b[0;31mZeroDivisionError\u001b[0m                         Traceback (most recent call last)",
      "\u001b[0;32m/var/folders/v8/2cskhqjj0_g0zp3824glf1tm0000gn/T/ipykernel_68615/324080010.py\u001b[0m in \u001b[0;36m<module>\u001b[0;34m\u001b[0m\n\u001b[1;32m      1\u001b[0m \u001b[0;32mtry\u001b[0m\u001b[0;34m:\u001b[0m\u001b[0;34m\u001b[0m\u001b[0;34m\u001b[0m\u001b[0m\n\u001b[0;32m----> 2\u001b[0;31m     \u001b[0mx\u001b[0m \u001b[0;34m=\u001b[0m \u001b[0;36m1\u001b[0m \u001b[0;34m/\u001b[0m \u001b[0;36m0\u001b[0m\u001b[0;34m\u001b[0m\u001b[0;34m\u001b[0m\u001b[0m\n\u001b[0m\u001b[1;32m      3\u001b[0m \u001b[0;32mexcept\u001b[0m \u001b[0mAssertionError\u001b[0m\u001b[0;34m:\u001b[0m\u001b[0;34m\u001b[0m\u001b[0;34m\u001b[0m\u001b[0m\n\u001b[1;32m      4\u001b[0m     \u001b[0mprint\u001b[0m\u001b[0;34m(\u001b[0m\u001b[0;34m\"Программа не может быть выполнена!\"\u001b[0m\u001b[0;34m)\u001b[0m\u001b[0;34m\u001b[0m\u001b[0;34m\u001b[0m\u001b[0m\n",
      "\u001b[0;31mZeroDivisionError\u001b[0m: division by zero"
     ]
    }
   ],
   "source": [
    "try:\n",
    "    x = 1 / 0\n",
    "except AssertionError:\n",
    "    print(\"Программа не может быть выполнена!\")"
   ]
  },
  {
   "cell_type": "code",
   "execution_count": 39,
   "id": "8c4ccbf9",
   "metadata": {
    "ExecuteTime": {
     "end_time": "2019-10-29T16:51:41.729531Z",
     "start_time": "2019-10-29T16:51:40.084296Z"
    },
    "scrolled": true
   },
   "outputs": [
    {
     "name": "stdin",
     "output_type": "stream",
     "text": [
      "Введите число от 1 до 5:  42\n"
     ]
    },
    {
     "name": "stdout",
     "output_type": "stream",
     "text": [
      "Программа не может быть выполнена!\n"
     ]
    }
   ],
   "source": [
    "try:\n",
    "    numbers_1_5()\n",
    "except AssertionError:\n",
    "    print(\"Программа не может быть выполнена!\")\n",
    "else:\n",
    "    print(\"Я всегда выполняюсь в конце, если все хорошо!\")"
   ]
  },
  {
   "cell_type": "code",
   "execution_count": 43,
   "id": "46b338d6",
   "metadata": {
    "ExecuteTime": {
     "end_time": "2019-10-29T16:52:33.824109Z",
     "start_time": "2019-10-29T16:52:32.349832Z"
    }
   },
   "outputs": [
    {
     "name": "stdin",
     "output_type": "stream",
     "text": [
      "Введите число от 1 до 5:  3\n"
     ]
    },
    {
     "name": "stdout",
     "output_type": "stream",
     "text": [
      "Все правильно!\n",
      "Программа не может быть выполнена ArithmeticError!\n",
      "Я всегда выполняюсь в конце!\n"
     ]
    }
   ],
   "source": [
    "try:\n",
    "    numbers_1_5()\n",
    "    1 / 0\n",
    "except AssertionError:\n",
    "    print(\"Программа не может быть выполнена AssertionError!\")\n",
    "except ArithmeticError:\n",
    "    print(\"Программа не может быть выполнена ArithmeticError!\")\n",
    "except Exception as e:\n",
    "    var = e\n",
    "    print(dir(e))\n",
    "else:\n",
    "    print(\"Я всегда выполняюсь в конце, если все хорошо!\")\n",
    "finally:\n",
    "    print(\"Я всегда выполняюсь в конце!\")"
   ]
  },
  {
   "cell_type": "code",
   "execution_count": null,
   "id": "45f36580",
   "metadata": {},
   "outputs": [],
   "source": [
    "var.args[0]"
   ]
  },
  {
   "cell_type": "markdown",
   "id": "723c8265",
   "metadata": {},
   "source": [
    "### Линтеры"
   ]
  },
  {
   "cell_type": "markdown",
   "id": "8f58ac9c",
   "metadata": {},
   "source": [
    "Линтеры нужны для того, чтобы автоматически проверять ваш код на соблюдение стиля и даже не логические ошибки (до исполнения).\n",
    "Популярные линтеры:\n",
    "* pycodestyle\n",
    "* pydocstyle\n",
    "* PyFlakes\n",
    "* Pylint\n",
    "* Isort\n",
    "\n",
    "Большинство IDE имеют встроенные линтеры."
   ]
  },
  {
   "cell_type": "markdown",
   "id": "e0be81d8",
   "metadata": {},
   "source": [
    "`conda (or pip) install pycodestyle flake8`\n",
    "\n",
    "`pip install pycodestyle_magic` - нет в conda"
   ]
  },
  {
   "cell_type": "code",
   "execution_count": 49,
   "id": "633d5fc4",
   "metadata": {},
   "outputs": [],
   "source": [
    "%load_ext pycodestyle_magic"
   ]
  },
  {
   "cell_type": "code",
   "execution_count": 51,
   "id": "c6d95292",
   "metadata": {
    "scrolled": true
   },
   "outputs": [
    {
     "name": "stderr",
     "output_type": "stream",
     "text": [
      "2:2: E225 missing whitespace around operator\n",
      "4:1: E124 closing bracket does not match visual indentation\n",
      "5:80: E501 line too long (95 > 79 characters)\n",
      "5:94: E231 missing whitespace after ','\n",
      "6:1: W391 blank line at end of file\n"
     ]
    }
   ],
   "source": [
    "%%pycodestyle\n",
    "a=1\n",
    "b = [1, 2, 3]\n",
    "c = [0, 0, 0, 0, 0, 0, 0, 0, 0, 0, 0, 0, 0, 0, 0, 0, 0, 0, 0, 0, 0, 0, 0, 0, 0, 0, 0, 0, 0, 0,]"
   ]
  },
  {
   "cell_type": "markdown",
   "id": "b557c37e",
   "metadata": {},
   "source": [
    "### itertools"
   ]
  },
  {
   "cell_type": "code",
   "execution_count": 53,
   "id": "bf883b35",
   "metadata": {},
   "outputs": [],
   "source": [
    "import itertools\n",
    "\n",
    "# Product: можно \"разворачивать\" циклы\n",
    "\n",
    "def do_something():\n",
    "    pass\n",
    "\n",
    "for i in range(5):\n",
    "    for j in range(6):\n",
    "        for k in range(7):\n",
    "            for l in range(8):\n",
    "                do_something()\n",
    "                do_something()\n",
    "                do_something()\n",
    "\n",
    "# Лучше так:\n",
    "for i, j, k, l in itertools.product(range(5), range(6), range(7), range(8)):\n",
    "    do_something()\n",
    "    do_something()\n",
    "    do_something()"
   ]
  },
  {
   "cell_type": "markdown",
   "id": "dd898370",
   "metadata": {},
   "source": [
    "Прочая комбинаторика: перестановки, комбинации, комбинации с повторениями"
   ]
  },
  {
   "cell_type": "code",
   "execution_count": null,
   "id": "c4473385",
   "metadata": {},
   "outputs": [],
   "source": [
    "list(itertools.permutations([1, 2, 3]))"
   ]
  },
  {
   "cell_type": "code",
   "execution_count": null,
   "id": "83f6994d",
   "metadata": {},
   "outputs": [],
   "source": [
    "list(itertools.combinations([1, 2, 3], 2))"
   ]
  },
  {
   "cell_type": "code",
   "execution_count": null,
   "id": "a986f684",
   "metadata": {},
   "outputs": [],
   "source": [
    "list(itertools.combinations_with_replacement([1, 2, 3], 2))"
   ]
  },
  {
   "cell_type": "code",
   "execution_count": 54,
   "id": "25f44e61",
   "metadata": {},
   "outputs": [
    {
     "data": {
      "text/plain": [
       "['__doc__',\n",
       " '__loader__',\n",
       " '__name__',\n",
       " '__package__',\n",
       " '__spec__',\n",
       " '_grouper',\n",
       " '_tee',\n",
       " '_tee_dataobject',\n",
       " 'accumulate',\n",
       " 'chain',\n",
       " 'combinations',\n",
       " 'combinations_with_replacement',\n",
       " 'compress',\n",
       " 'count',\n",
       " 'cycle',\n",
       " 'dropwhile',\n",
       " 'filterfalse',\n",
       " 'groupby',\n",
       " 'islice',\n",
       " 'permutations',\n",
       " 'product',\n",
       " 'repeat',\n",
       " 'starmap',\n",
       " 'takewhile',\n",
       " 'tee',\n",
       " 'zip_longest']"
      ]
     },
     "execution_count": 54,
     "metadata": {},
     "output_type": "execute_result"
    }
   ],
   "source": [
    "dir(itertools)"
   ]
  },
  {
   "cell_type": "markdown",
   "id": "040d3882",
   "metadata": {},
   "source": [
    "Бесконечные генераторы: count, cycle, repeat"
   ]
  },
  {
   "cell_type": "code",
   "execution_count": 55,
   "id": "afb62ba0",
   "metadata": {},
   "outputs": [
    {
     "name": "stdout",
     "output_type": "stream",
     "text": [
      "(0, 1, 'oak', 0)\n",
      "(1, 2, 'oak', 1)\n",
      "(2, 3, 'oak', 2)\n",
      "(3, 1, 'oak', 3)\n",
      "(4, 2, 'oak', 4)\n",
      "(5, 3, 'oak', 5)\n",
      "(6, 1, 'oak', 6)\n"
     ]
    }
   ],
   "source": [
    "for elems in zip(itertools.count(), \n",
    "                 itertools.cycle([1, 2, 3]), \n",
    "                 itertools.repeat(\"oak\"), \n",
    "                 range(7)):\n",
    "    print(elems)"
   ]
  },
  {
   "cell_type": "markdown",
   "id": "c66ac572",
   "metadata": {},
   "source": [
    "первые N элементов"
   ]
  },
  {
   "cell_type": "code",
   "execution_count": 56,
   "id": "651e0aa6",
   "metadata": {},
   "outputs": [
    {
     "data": {
      "text/plain": [
       "[42, 47, 52, 57, 62]"
      ]
     },
     "execution_count": 56,
     "metadata": {},
     "output_type": "execute_result"
    }
   ],
   "source": [
    "list(itertools.islice(itertools.count(42, 5), 5))"
   ]
  },
  {
   "cell_type": "markdown",
   "id": "b82f5c1a-5ce3-4763-8952-12d3f78719db",
   "metadata": {},
   "source": [
    "## Вспомним, что пространства имен в питоне статические"
   ]
  },
  {
   "cell_type": "code",
   "execution_count": 58,
   "id": "8d096ece-c6cd-4e76-9619-ed2f3df22b8f",
   "metadata": {},
   "outputs": [
    {
     "ename": "UnboundLocalError",
     "evalue": "local variable 'value' referenced before assignment",
     "output_type": "error",
     "traceback": [
      "\u001b[0;31m---------------------------------------------------------------------------\u001b[0m",
      "\u001b[0;31mUnboundLocalError\u001b[0m                         Traceback (most recent call last)",
      "\u001b[0;32m/var/folders/v8/2cskhqjj0_g0zp3824glf1tm0000gn/T/ipykernel_68615/1467139201.py\u001b[0m in \u001b[0;36m<module>\u001b[0;34m\u001b[0m\n\u001b[1;32m     11\u001b[0m     \u001b[0mvalue\u001b[0m \u001b[0;34m=\u001b[0m \u001b[0;36m2\u001b[0m\u001b[0;34m\u001b[0m\u001b[0;34m\u001b[0m\u001b[0m\n\u001b[1;32m     12\u001b[0m \u001b[0;34m\u001b[0m\u001b[0m\n\u001b[0;32m---> 13\u001b[0;31m \u001b[0mfoo\u001b[0m\u001b[0;34m(\u001b[0m\u001b[0;34m)\u001b[0m\u001b[0;34m\u001b[0m\u001b[0;34m\u001b[0m\u001b[0m\n\u001b[0m",
      "\u001b[0;32m/var/folders/v8/2cskhqjj0_g0zp3824glf1tm0000gn/T/ipykernel_68615/1467139201.py\u001b[0m in \u001b[0;36mfoo\u001b[0;34m()\u001b[0m\n\u001b[1;32m      3\u001b[0m \u001b[0;32mdef\u001b[0m \u001b[0mfoo\u001b[0m\u001b[0;34m(\u001b[0m\u001b[0;34m)\u001b[0m\u001b[0;34m:\u001b[0m\u001b[0;34m\u001b[0m\u001b[0;34m\u001b[0m\u001b[0m\n\u001b[1;32m      4\u001b[0m \u001b[0;34m\u001b[0m\u001b[0m\n\u001b[0;32m----> 5\u001b[0;31m     \u001b[0mprint\u001b[0m\u001b[0;34m(\u001b[0m\u001b[0mvalue\u001b[0m\u001b[0;34m)\u001b[0m\u001b[0;34m\u001b[0m\u001b[0;34m\u001b[0m\u001b[0m\n\u001b[0m\u001b[1;32m      6\u001b[0m \u001b[0;34m\u001b[0m\u001b[0m\n\u001b[1;32m      7\u001b[0m     \u001b[0;32mdef\u001b[0m \u001b[0mbar\u001b[0m\u001b[0;34m(\u001b[0m\u001b[0;34m)\u001b[0m\u001b[0;34m:\u001b[0m\u001b[0;34m\u001b[0m\u001b[0;34m\u001b[0m\u001b[0m\n",
      "\u001b[0;31mUnboundLocalError\u001b[0m: local variable 'value' referenced before assignment"
     ]
    }
   ],
   "source": [
    "value = 1\n",
    "\n",
    "def foo():\n",
    "    \n",
    "    print(value)\n",
    "    \n",
    "    def bar():\n",
    "        print(value)\n",
    "    \n",
    "    bar()\n",
    "    value = 2\n",
    "    \n",
    "foo()"
   ]
  },
  {
   "cell_type": "markdown",
   "id": "bea348cb-b9d1-43e3-bc79-940c4dabceb5",
   "metadata": {
    "slideshow": {
     "slide_type": "slide"
    }
   },
   "source": [
    "# Замыкания [Closures]\n",
    "*In computer programming languages, a closure is a function together with a referencing environment of that function. A closure function is any function that uses a variable that is defined in an environment (or scope) that is external to that function, and is accessible within the function when invoked from a scope in which that free variable is not defined.*\n",
    "\n",
    "Существования замыканий следует из правила LEGB, возможности оперировать с функциями как обьектами и того что области видимости в Питоне - статические."
   ]
  },
  {
   "cell_type": "code",
   "execution_count": 59,
   "id": "71c9c1e8-7fac-4352-905b-27421132320f",
   "metadata": {
    "slideshow": {
     "slide_type": "subslide"
    }
   },
   "outputs": [
    {
     "name": "stdout",
     "output_type": "stream",
     "text": [
      "4\n",
      "[20, 20, 20, 20, 20]\n"
     ]
    }
   ],
   "source": [
    "multipliers = []\n",
    "\n",
    "for m in range(5):\n",
    "    multipliers.append(lambda x: x * m)\n",
    "\n",
    "print(m)\n",
    "\n",
    "print([multipliers[i](5) for i in range(5)])"
   ]
  },
  {
   "cell_type": "code",
   "execution_count": 60,
   "id": "9f2c3183-2e80-4402-9276-fafdcff550fa",
   "metadata": {
    "slideshow": {
     "slide_type": "subslide"
    }
   },
   "outputs": [
    {
     "name": "stdout",
     "output_type": "stream",
     "text": [
      "5\n",
      "5\n"
     ]
    }
   ],
   "source": [
    "def foo():\n",
    "    x = 3\n",
    "    def bar():\n",
    "        print(x)\n",
    "    x = 5\n",
    "    return bar\n",
    "\n",
    "bar_global = foo()\n",
    "bar_global()\n",
    "\n",
    "x = 9\n",
    "bar_global()"
   ]
  },
  {
   "cell_type": "code",
   "execution_count": 62,
   "id": "dec55892-c376-469a-aeaa-6cae315cdb22",
   "metadata": {
    "slideshow": {
     "slide_type": "subslide"
    }
   },
   "outputs": [
    {
     "name": "stdout",
     "output_type": "stream",
     "text": [
      "7\n",
      "9\n"
     ]
    }
   ],
   "source": [
    "def make_adder(x):\n",
    "    def adder(y):\n",
    "        return x + y\n",
    "    return adder\n",
    "\n",
    "add_two = make_adder(2)\n",
    "\n",
    "print(add_two(5))\n",
    "print(add_two(7))"
   ]
  },
  {
   "cell_type": "code",
   "execution_count": 63,
   "id": "aa019171-8c3f-443e-a00b-8149c2928ca4",
   "metadata": {},
   "outputs": [
    {
     "data": {
      "text/plain": [
       "42"
      ]
     },
     "execution_count": 63,
     "metadata": {},
     "output_type": "execute_result"
    }
   ],
   "source": [
    "make_adder(10)(32)"
   ]
  },
  {
   "cell_type": "markdown",
   "id": "84bcbd75-033f-4229-9242-10918b9f8379",
   "metadata": {
    "slideshow": {
     "slide_type": "subslide"
    }
   },
   "source": [
    "#### Функции могут замыкать одинаковые переменные"
   ]
  },
  {
   "cell_type": "code",
   "execution_count": 64,
   "id": "0840114f-aa44-489e-839c-41d79cda9197",
   "metadata": {
    "slideshow": {
     "slide_type": "-"
    }
   },
   "outputs": [
    {
     "name": "stdout",
     "output_type": "stream",
     "text": [
      "10\n",
      "20\n"
     ]
    }
   ],
   "source": [
    "def cell(value=0):\n",
    "    def Get():\n",
    "        return value\n",
    "    \n",
    "    def Set(new_value):\n",
    "        nonlocal value\n",
    "        value = new_value\n",
    "        return value\n",
    "    \n",
    "    return Get, Set\n",
    "\n",
    "Get, Set = cell(10)\n",
    "print(Get())\n",
    "\n",
    "Set(20)\n",
    "print(Get())"
   ]
  },
  {
   "cell_type": "markdown",
   "id": "88462887-4324-427c-8c4e-6762f989e2b5",
   "metadata": {
    "slideshow": {
     "slide_type": "subslide"
    }
   },
   "source": [
    "#### Посмотрим, что внутри замыкания"
   ]
  },
  {
   "cell_type": "code",
   "execution_count": 65,
   "id": "a10c6147-845b-4ca5-b29d-128e54a94b99",
   "metadata": {},
   "outputs": [
    {
     "name": "stdout",
     "output_type": "stream",
     "text": [
      "(<cell at 0x10598d790: int object at 0x10251a880>,)\n",
      "20\n"
     ]
    }
   ],
   "source": [
    "print(Get.__closure__)\n",
    "print(Get.__closure__[0].cell_contents)"
   ]
  },
  {
   "cell_type": "markdown",
   "id": "cb86c7da-4bd5-4aba-9fd6-5f95a6b598dd",
   "metadata": {},
   "source": [
    "**\\_\\_closure\\_\\_** &mdash; список замкнутых переменных.<br>\n",
    "Переменная представлена в виде класса **cell** с единственным полем **cell_contents**"
   ]
  },
  {
   "cell_type": "code",
   "execution_count": 66,
   "id": "4710ee3b-6428-4820-bc73-8ca56cb5a7d1",
   "metadata": {},
   "outputs": [
    {
     "name": "stdout",
     "output_type": "stream",
     "text": [
      "True\n",
      "True\n"
     ]
    }
   ],
   "source": [
    "print(Get.__closure__ == Set.__closure__)\n",
    "print(Get.__closure__[0] is Set.__closure__[0])"
   ]
  },
  {
   "cell_type": "markdown",
   "id": "62c1e9b8-32b5-4b80-b842-45b129225902",
   "metadata": {
    "slideshow": {
     "slide_type": "slide"
    }
   },
   "source": [
    "# Декораторы"
   ]
  },
  {
   "cell_type": "markdown",
   "id": "aa0915e2-36fb-45a2-b7e5-6e91f5e21895",
   "metadata": {
    "slideshow": {
     "slide_type": "slide"
    }
   },
   "source": [
    "Замыкания как способ быстро изменить поведение функции"
   ]
  },
  {
   "cell_type": "code",
   "execution_count": 68,
   "id": "90c9a62c",
   "metadata": {},
   "outputs": [
    {
     "name": "stdout",
     "output_type": "stream",
     "text": [
      "[1, 2, 3]\n"
     ]
    },
    {
     "name": "stderr",
     "output_type": "stream",
     "text": [
      "print is deprecated\n"
     ]
    }
   ],
   "source": [
    "import sys\n",
    "\n",
    "def deprecate(func):\n",
    "    def inner(*args, **kwargs):\n",
    "        print('{} is deprecated'.format(func.__name__), file=sys.stderr)\n",
    "        return func(*args, **kwargs)\n",
    "    return inner\n",
    "\n",
    "pprint = deprecate(print)\n",
    "\n",
    "pprint([1, 2, 3])"
   ]
  },
  {
   "cell_type": "markdown",
   "id": "a02e4a0e",
   "metadata": {
    "slideshow": {
     "slide_type": "subslide"
    }
   },
   "source": [
    "### Наблюдение"
   ]
  },
  {
   "cell_type": "code",
   "execution_count": 73,
   "id": "f983a050",
   "metadata": {},
   "outputs": [
    {
     "name": "stdout",
     "output_type": "stream",
     "text": [
      "[1, 2, 3]\n"
     ]
    },
    {
     "name": "stderr",
     "output_type": "stream",
     "text": [
      "show is deprecated\n"
     ]
    }
   ],
   "source": [
    "import sys\n",
    "\n",
    "def deprecated(func):\n",
    "    def wrapper(*args, **kwargs):\n",
    "        print('{} is deprecated'.format(func.__name__), file=sys.stderr)\n",
    "        return func(*args, **kwargs)\n",
    "    return wrapper\n",
    "\n",
    "\n",
    "@deprecated\n",
    "def show(x):\n",
    "    print(x)\n",
    "\n",
    "# show = deprecated(show)\n",
    "\n",
    "show([1, 2, 3])"
   ]
  },
  {
   "cell_type": "markdown",
   "id": "4d197d71",
   "metadata": {
    "slideshow": {
     "slide_type": "subslide"
    }
   },
   "source": [
    "### Проблема"
   ]
  },
  {
   "cell_type": "code",
   "execution_count": 70,
   "id": "969695b8",
   "metadata": {},
   "outputs": [
    {
     "name": "stdout",
     "output_type": "stream",
     "text": [
      "wrapper\n",
      "None\n"
     ]
    }
   ],
   "source": [
    "@deprecated\n",
    "def show(x):\n",
    "    'This is a really nice looking docstring'\n",
    "    print(x)\n",
    "\n",
    "print(show.__name__)\n",
    "print(show.__doc__)"
   ]
  },
  {
   "cell_type": "markdown",
   "id": "68887bc4",
   "metadata": {
    "slideshow": {
     "slide_type": "subslide"
    }
   },
   "source": [
    "### Решение 1"
   ]
  },
  {
   "cell_type": "code",
   "execution_count": 74,
   "id": "0d965438",
   "metadata": {},
   "outputs": [
    {
     "name": "stdout",
     "output_type": "stream",
     "text": [
      "show\n",
      "This is a really nice looking docstring\n"
     ]
    }
   ],
   "source": [
    "def deprecated(func):\n",
    "    def wrapper(*args, **kwargs):\n",
    "        print('{} is deprecated!'.format(func.__name__), file=sys.stderr)\n",
    "        return func(*args, **kwargs)\n",
    "    wrapper.__name__ = func.__name__\n",
    "    wrapper.__doc__ = func.__doc__\n",
    "    wrapper.__module__ = func.__module__\n",
    "    return wrapper\n",
    "\n",
    "@deprecated\n",
    "def show(x):\n",
    "    'This is a really nice looking docstring'\n",
    "    print(x)\n",
    "\n",
    "print(show.__name__)\n",
    "print(show.__doc__)"
   ]
  },
  {
   "cell_type": "markdown",
   "id": "0578f717",
   "metadata": {
    "slideshow": {
     "slide_type": "subslide"
    }
   },
   "source": [
    "### Решение 2"
   ]
  },
  {
   "cell_type": "code",
   "execution_count": 75,
   "id": "98d36950",
   "metadata": {},
   "outputs": [
    {
     "name": "stdout",
     "output_type": "stream",
     "text": [
      "show\n",
      "This is a really nice looking docstring\n"
     ]
    }
   ],
   "source": [
    "import functools\n",
    "\n",
    "def deprecated(func):\n",
    "    @functools.wraps(func) \n",
    "    def wrapper(*args, **kwargs):\n",
    "        print('{} is deprecated!'.format(func.__name__), file=sys.stderr)\n",
    "        return func(*args, **kwargs)\n",
    "    return wrapper\n",
    "\n",
    "@deprecated\n",
    "def show(x):\n",
    "    'This is a really nice looking docstring'\n",
    "    print(x)\n",
    "\n",
    "print(show.__name__)\n",
    "print(show.__doc__)"
   ]
  },
  {
   "cell_type": "markdown",
   "id": "46015f7c",
   "metadata": {
    "slideshow": {
     "slide_type": "slide"
    }
   },
   "source": [
    "### Декораторы с аргументами"
   ]
  },
  {
   "cell_type": "code",
   "execution_count": 80,
   "id": "dd369469-18de-41d6-bff3-1d04cd8b7923",
   "metadata": {},
   "outputs": [
    {
     "name": "stdout",
     "output_type": "stream",
     "text": [
      "f called with args ('Hi!',), kwargs {'test': 42}!\n",
      "f called with args ('Hi!', 21.0), kwargs {}!\n",
      "f called with args ('Hi!', 10.5), kwargs {}!\n",
      "f called with args ('Hi!', 5.25), kwargs {}!\n",
      "f called with args ('Hi!', 2.625), kwargs {}!\n",
      "f called with args ('Hi!', 1.3125), kwargs {}!\n",
      "f called with args ('Hi!', 0.65625), kwargs {}!\n"
     ]
    }
   ],
   "source": [
    "def trace(dest=sys.stderr):\n",
    "    def wraps(func):\n",
    "        @functools.wraps(func)\n",
    "        def wrapper(*args, **kwargs):\n",
    "            print('{} called with args {}, kwargs {}!'.format(func.__name__, args, kwargs), file=dest)\n",
    "            return func(*args, **kwargs)\n",
    "        return wrapper\n",
    "    return wraps\n",
    "\n",
    "@trace(sys.stdout)\n",
    "def f(x, test):\n",
    "    if test > 1:\n",
    "        return f(x, test / 2)\n",
    "\n",
    "f('Hi!', test=42)"
   ]
  },
  {
   "cell_type": "code",
   "execution_count": 79,
   "id": "0835837d",
   "metadata": {
    "slideshow": {
     "slide_type": "-"
    }
   },
   "outputs": [
    {
     "name": "stderr",
     "output_type": "stream",
     "text": [
      "f called with args ('Hi!',), kwargs {'test': 42}!\n",
      "f called with args ('Hi!', 21.0), kwargs {}!\n",
      "f called with args ('Hi!', 10.5), kwargs {}!\n",
      "f called with args ('Hi!', 5.25), kwargs {}!\n",
      "f called with args ('Hi!', 2.625), kwargs {}!\n",
      "f called with args ('Hi!', 1.3125), kwargs {}!\n",
      "f called with args ('Hi!', 0.65625), kwargs {}!\n"
     ]
    }
   ],
   "source": [
    "def trace(dest=sys.stderr):\n",
    "    def wraps(func):\n",
    "        @functools.wraps(func)\n",
    "        def wrapper(*args, **kwargs):\n",
    "            print('{} called with args {}, kwargs {}!'.format(func.__name__, args, kwargs), file=dest)\n",
    "            return func(*args, **kwargs)\n",
    "        return wrapper\n",
    "    return wraps\n",
    "\n",
    "@trace()\n",
    "def f(x, test):\n",
    "    if test > 1:\n",
    "        return f(x, test / 2)\n",
    "\n",
    "f('Hi!', test=42)"
   ]
  },
  {
   "cell_type": "markdown",
   "id": "f0b89089",
   "metadata": {
    "slideshow": {
     "slide_type": "slide"
    }
   },
   "source": [
    "### Декораторам необязательно быть функциями"
   ]
  },
  {
   "cell_type": "code",
   "execution_count": 81,
   "id": "0395655f",
   "metadata": {
    "slideshow": {
     "slide_type": "-"
    }
   },
   "outputs": [],
   "source": [
    "from collections import Counter \n",
    "\n",
    "class Register(object):\n",
    "    def __init__(self):\n",
    "        self.stat = Counter()\n",
    "        \n",
    "    def __call__(self, func):\n",
    "        nm = func.__name__\n",
    "        def wrapper(*args, **kwrags):\n",
    "            self.stat[nm] += 1\n",
    "            return func(*args, **kwrags)\n",
    "        return wrapper\n",
    "    \n",
    "    def __str__(self):\n",
    "        result = 'fname\\tcallcount\\n'\n",
    "        for name, count in self.stat.items():\n",
    "            result += '{}:\\t{}\\n'.format(name, count)\n",
    "        return result\n",
    "    \n",
    "register = Register()"
   ]
  },
  {
   "cell_type": "code",
   "execution_count": 82,
   "id": "4155591a",
   "metadata": {
    "slideshow": {
     "slide_type": "subslide"
    }
   },
   "outputs": [
    {
     "name": "stdout",
     "output_type": "stream",
     "text": [
      "fname\tcallcount\n",
      "f:\t2\n",
      "q:\t3\n",
      "\n"
     ]
    }
   ],
   "source": [
    "@register\n",
    "def f(x):\n",
    "    return x \n",
    "\n",
    "@register\n",
    "def q(x):\n",
    "    return q\n",
    "\n",
    "f(1), q(2), q(4)\n",
    "q(2), f(5)\n",
    "print(register)"
   ]
  },
  {
   "cell_type": "markdown",
   "id": "3b88fc07-3323-44e2-bc81-ce561362b04e",
   "metadata": {},
   "source": [
    "https://wiki.python.org/moin/PythonDecoratorLibrary"
   ]
  }
 ],
 "metadata": {
  "kernelspec": {
   "display_name": "Python [conda env:env3.8]",
   "language": "python",
   "name": "conda-env-env3.8-py"
  },
  "language_info": {
   "codemirror_mode": {
    "name": "ipython",
    "version": 3
   },
   "file_extension": ".py",
   "mimetype": "text/x-python",
   "name": "python",
   "nbconvert_exporter": "python",
   "pygments_lexer": "ipython3",
   "version": "3.8.12"
  }
 },
 "nbformat": 4,
 "nbformat_minor": 5
}
